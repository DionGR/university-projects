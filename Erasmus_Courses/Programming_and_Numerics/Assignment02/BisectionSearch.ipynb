{
 "cells": [
  {
   "cell_type": "markdown",
   "metadata": {},
   "source": [
    "> Dionysios Rigatos <br />\n",
    "> dionysir@stud.ntnu.no <br />"
   ]
  },
  {
   "cell_type": "markdown",
   "metadata": {
    "deletable": false,
    "editable": false,
    "run_control": {
     "frozen": true
    }
   },
   "source": [
    "# Bisection search\n",
    "**Learning goals:**\n",
    "- Conditional statements\n",
    "- Pseudocode\n",
    "\n",
    "**Starting Out with Python:**\n",
    "- Ch. 3.4"
   ]
  },
  {
   "cell_type": "markdown",
   "metadata": {
    "deletable": false,
    "editable": false,
    "heading_collapsed": true,
    "run_control": {
     "frozen": true
    }
   },
   "source": [
    "### Bisection search theory"
   ]
  },
  {
   "cell_type": "markdown",
   "metadata": {
    "hidden": true
   },
   "source": [
    "\n",
    "Bisection search is a basic algorithm for finding zeroes of [continuous functions](https://en.wikipedia.org/wiki/Continuous_function). Given a function f we first look for an interval $[a,b]$ such that either $f(a) < 0 \\textrm{ and } f(b) > 0,$ or $f(a) > 0 \\textrm{ and } f(b) < 0.$\n",
    "\n",
    "Then, since $f$ is continuous, there must be a solution point $x$ in $[a,b]$ such that $f(x)=0.$\n",
    "To make the interval tighter around $x$, we check the value at the midpoint $c = \\frac{a + b}{2}.$\n",
    "\n",
    "For simplicity, let us assume that $f(a)<0,$ and $f(b)>0.$ If the opposite is true, we can just switch the roles of $a$ and $b$ in the following.\n",
    "\n",
    "If $f(c)<0$ then we can exchange $a$ for $c$ and start over with the smaller interval $[c,b]$. Likewise, if $f(c)>0$ then we can exchange $b$ for $c$ and start over with $[a,c]$.\n",
    "\n",
    "In both cases, we end up with an interval of length $\\frac{b-a}{2},$ half of the original search interval. Crucially, $f$ has values of opposite signs at the endpoints of this interval, so the interval still contains an $x$ such that $f(x)=0.$  \n",
    "\n",
    "\n",
    "\n",
    "We can summarize the algorithm in the following pseudocode:\n",
    "\n",
    "- 1:   Pick a starting interval $[a, b]$\n",
    "- 2:   If $f(a)$ and $f(b)$ have the same sign, stop the program and report an error with the starting interval.\n",
    "- 3:   Compute the midpoint $c = \\frac{a+b}{2} \\, \\mathrm{and} \\, f(c).$\n",
    "- 4:   Replace either $a$ or $b$ with $c$ according to the rules above.\n",
    "- 5:   If the interval is small enough, stop. Otherwise, start over from step 3 with the smaller interval.\n",
    " \n",
    "In this exercise, you will use `if-elif-else` statements to answer input from the user. Consider the use of bisection search to find a zero of the function  $f(x)=(x−1)(x−3)$ with starting interval $[-1,2]$.\n",
    "\n"
   ]
  },
  {
   "cell_type": "markdown",
   "metadata": {
    "deletable": false,
    "editable": false,
    "run_control": {
     "frozen": true
    }
   },
   "source": [
    "### Task a) "
   ]
  },
  {
   "cell_type": "markdown",
   "metadata": {
    "deletable": false,
    "editable": false,
    "run_control": {
     "frozen": true
    }
   },
   "source": [
    "Make a program that asks the user which number the method converges to. If the user answers 1, *print* `Great! Correct answer `. Otherwise, *print* `Wrong.`\n",
    "\n",
    "Example run:\n",
    "```\n",
    "Which number does the method converge to? 1\n",
    "Great! Correct answer.\n",
    "  \n",
    "Which number does the method converge to? 3\n",
    "Wrong.\n",
    "```\n",
    "**Write code in the block below**"
   ]
  },
  {
   "cell_type": "code",
   "execution_count": 95,
   "metadata": {},
   "outputs": [],
   "source": [
    "interval = [-1, 2]\n",
    "f = lambda x: (x-1)*(x-3)"
   ]
  },
  {
   "cell_type": "code",
   "execution_count": 96,
   "metadata": {},
   "outputs": [],
   "source": [
    "def convergence_check(number, interval, function):\n",
    "    assert len(interval) == 2\n",
    "    assert interval[0] < interval[1]\n",
    "    \n",
    "    if not interval[0] <= number <= interval[1]:\n",
    "        return False\n",
    "\n",
    "    return function(number) == 0"
   ]
  },
  {
   "cell_type": "code",
   "execution_count": 97,
   "metadata": {},
   "outputs": [
    {
     "name": "stdout",
     "output_type": "stream",
     "text": [
      "Great! Correct answer.\n"
     ]
    }
   ],
   "source": [
    "answer = float(input(\"Which number does the method converge to?\"))\n",
    "\n",
    "converges = convergence_check(answer, interval, f)\n",
    "\n",
    "if converges:\n",
    "    print(\"Great! Correct answer.\")\n",
    "else:\n",
    "    print(\"Wrong.\")"
   ]
  },
  {
   "cell_type": "markdown",
   "metadata": {
    "deletable": false,
    "editable": false,
    "run_control": {
     "frozen": true
    }
   },
   "source": [
    "### Task b)"
   ]
  },
  {
   "cell_type": "markdown",
   "metadata": {
    "deletable": false,
    "editable": false,
    "run_control": {
     "frozen": true
    }
   },
   "source": [
    "The two zeroes of $f$ are clearly 1 and 3. Make a program that asks the user for a lower and upper limit for the starting interval and checks if the interval contains none, one or both of the zeroes.\n",
    "\n",
    "Example run:\n",
    "```\n",
    "Lower limit of interval: -1000\n",
    "Upper limit of interval: 0.5\n",
    "There is no zero between -1000 and 0.5.\n",
    "  \n",
    "Lower limit of interval: 2\n",
    "Upper limit of interval: 4\n",
    "There is one zero between 2 and 4.\n",
    "  \n",
    "Lower limit of interval: 0\n",
    "Upper limit of interval: 3.5\n",
    "There are two zeroes between 0 and 3.5.\n",
    "```\n",
    "**Write code in the block below**"
   ]
  },
  {
   "cell_type": "code",
   "execution_count": 98,
   "metadata": {},
   "outputs": [],
   "source": [
    "roots = [1, 3]"
   ]
  },
  {
   "cell_type": "code",
   "execution_count": 99,
   "metadata": {},
   "outputs": [],
   "source": [
    "def interval_checker(roots):\n",
    "    low = float(input(\"Lower limit of interval: \"))\n",
    "    high = float(input(\"Upper limit of interval: \"))\n",
    "    \n",
    "    if low >= high:\n",
    "        print(\"Bad interval. Try again later.\")\n",
    "        \n",
    "    contained_zeroes = 0\n",
    "    \n",
    "    for root in roots:\n",
    "        if low <= root <= high:\n",
    "            contained_zeroes += 1\n",
    "    \n",
    "    print(f\"There are {contained_zeroes} zeroes between {low} and {high}.\")"
   ]
  },
  {
   "cell_type": "code",
   "execution_count": 100,
   "metadata": {},
   "outputs": [
    {
     "name": "stdout",
     "output_type": "stream",
     "text": [
      "There are 0 zeroes between -1000.0 and 0.5.\n"
     ]
    }
   ],
   "source": [
    "interval_checker(roots)"
   ]
  },
  {
   "cell_type": "code",
   "execution_count": 101,
   "metadata": {},
   "outputs": [
    {
     "name": "stdout",
     "output_type": "stream",
     "text": [
      "There are 1 zeroes between 2.0 and 4.0.\n"
     ]
    }
   ],
   "source": [
    "interval_checker(roots)"
   ]
  },
  {
   "cell_type": "code",
   "execution_count": 102,
   "metadata": {},
   "outputs": [
    {
     "name": "stdout",
     "output_type": "stream",
     "text": [
      "There are 2 zeroes between 0.0 and 3.5.\n"
     ]
    }
   ],
   "source": [
    "interval_checker(roots)"
   ]
  },
  {
   "cell_type": "markdown",
   "metadata": {
    "deletable": false,
    "editable": false,
    "run_control": {
     "frozen": true
    }
   },
   "source": [
    "### Task c)"
   ]
  },
  {
   "cell_type": "markdown",
   "metadata": {
    "deletable": false,
    "editable": false,
    "run_control": {
     "frozen": true
    }
   },
   "source": [
    "We will now work toward making an implementation of bisection search.\n",
    "Make a program that asks the user for a lower and upper limit for the starting interval. Make a variable $\\mathtt{f1} = (x_{\\mathrm{low}}-1)(x_{\\mathrm{low}}-3)$ and a variable $\\mathtt{f2} = (x_{\\mathrm{high}}-1)(x_{\\mathrm{high}}-3)$  where $x_{low}$ is the lower limit and $x_{high}$ the upper limit.\n",
    "\n",
    "If `f1*f2 < 0`, the interval is a valid starting interval. If this is the case, do **one** iteration of bisection search (i.e. points 3 and 4 of the pseudoalgorithm) and print the new interval. Otherwise, print `Invalid starting interval`. "
   ]
  },
  {
   "cell_type": "markdown",
   "metadata": {
    "deletable": false,
    "editable": false,
    "run_control": {
     "frozen": true
    }
   },
   "source": [
    "Run example:\n",
    "```\n",
    "Lower limit of interval: 2\n",
    "Upper limit of interval: 5\n",
    "There is a zero between 2 and 3.5.\n",
    "  \n",
    "Lower limit of interval: 0\n",
    "Upper limit of interval: 5\n",
    "Invalid starting interval.\n",
    "```\n",
    "\n",
    "**Write code in the block below**"
   ]
  },
  {
   "cell_type": "code",
   "execution_count": 103,
   "metadata": {},
   "outputs": [],
   "source": [
    "def interval_input():\n",
    "    low = float(input(\"Lower limit of interval: \"))\n",
    "    high = float(input(\"Upper limit of interval: \"))\n",
    "    \n",
    "    if low >= high:\n",
    "        print(\"Bad interval. Try again later.\")\n",
    "        \n",
    "    return low, high"
   ]
  },
  {
   "cell_type": "code",
   "execution_count": 104,
   "metadata": {},
   "outputs": [],
   "source": [
    "def bisection(function, a, b, max_iterations=10e5, tolerance=1e-6):\n",
    "    f_a = function(a)\n",
    "    f_b = function(b)\n",
    "\n",
    "    if f_a * f_b >= 0:\n",
    "        print(\"Invalid starting interval.\")\n",
    "        return None\n",
    "    \n",
    "    iterations = 0\n",
    "    \n",
    "    while abs (b-a) > tolerance and iterations < max_iterations:\n",
    "        print(f\"Lower limit of interval: {a}\")\n",
    "        print(f\"Upper limit of interval: {b}\")\n",
    "        \n",
    "        c = (a+b)/2\n",
    "        f_c = function(c)\n",
    "        \n",
    "        if f_c * f_a < 0:\n",
    "            b = c\n",
    "        else:\n",
    "            a = c\n",
    "            \n",
    "        iterations += 1\n",
    "        print(f\"There is a zero between {a} and {b}.\")\n",
    "\n",
    "    return a, b"
   ]
  },
  {
   "cell_type": "code",
   "execution_count": 105,
   "metadata": {},
   "outputs": [],
   "source": [
    "max_iterations = 1"
   ]
  },
  {
   "cell_type": "code",
   "execution_count": 106,
   "metadata": {},
   "outputs": [
    {
     "name": "stdout",
     "output_type": "stream",
     "text": [
      "Lower limit of interval: 2.0\n",
      "Upper limit of interval: 5.0\n",
      "There is a zero between 2.0 and 3.5.\n"
     ]
    },
    {
     "data": {
      "text/plain": [
       "(2.0, 3.5)"
      ]
     },
     "execution_count": 106,
     "metadata": {},
     "output_type": "execute_result"
    }
   ],
   "source": [
    "a, b = interval_input()\n",
    "bisection(f, a, b, max_iterations)"
   ]
  },
  {
   "cell_type": "code",
   "execution_count": 107,
   "metadata": {},
   "outputs": [
    {
     "name": "stdout",
     "output_type": "stream",
     "text": [
      "Invalid starting interval.\n"
     ]
    }
   ],
   "source": [
    "a, b = interval_input()\n",
    "bisection(f, a, b, max_iterations)"
   ]
  },
  {
   "cell_type": "markdown",
   "metadata": {
    "deletable": false,
    "editable": false,
    "heading_collapsed": true,
    "run_control": {
     "frozen": true
    }
   },
   "source": [
    "#### Hint"
   ]
  },
  {
   "cell_type": "markdown",
   "metadata": {
    "deletable": false,
    "editable": false,
    "hidden": true,
    "run_control": {
     "frozen": true
    }
   },
   "source": [
    "To do you one iteration of bisection search, you should first compute the point `c = (x_low+x_high)/2` , then compute `f3 = (c-1)*(c-3)`.\n",
    "\n",
    "Then, you can either use a double `if` statement, splitting into two cases (`f3 < 0` and `f3 > 0`) and for each of these working out what values to swap (e.g. if f3 < 0 and f1 < 0, swap xlow and c), OR you can check four cases (i.e. check the cases: `if f3 < 0 and f1 < 0` ; `if f3 < 0 and f2 < 0`, `if f3 > 0 and f1 > 0`, and `if f3 > 0 and f2 > 0`). If you are clever, you can reduce this to just checking two conditions!"
   ]
  },
  {
   "cell_type": "markdown",
   "metadata": {},
   "source": [
    "### Task d)"
   ]
  },
  {
   "cell_type": "markdown",
   "metadata": {
    "deletable": false,
    "editable": false,
    "run_control": {
     "frozen": true
    }
   },
   "source": [
    "So far, we have only considered the function $f(x)=(x−1)(x−3)$ but we can, of course, apply the algorithm to other functions. Check if the program works by testing on the function  $g(x)=x^2−2$. The only variables you need to change are `f1`, `f2` and `f3=f(c)`. \n",
    "\n",
    "\n",
    "Example run:\n",
    "```\n",
    "Lower limit of interval: 0\n",
    "Upper limit of interval: 4\n",
    "There is a zero between 0 and 2.0.\n",
    " \n",
    "Lower limit of interval: 0\n",
    "Upper limit of interval: 2\n",
    "There is a zero between 1.0 and 2.0.\n",
    " \n",
    "Lower limit of interval: 1\n",
    "Upper limit of interval: 2\n",
    "There is a zero between 1.0 and 1.5.\n",
    " \n",
    "Lower limit of interval: 1\n",
    "Upper limit of interval: 1.5\n",
    "There is a zero between 1.25 and 1.5.\n",
    ".\n",
    ".\n",
    ".\n",
    "Lower limit of interval: 1.4140625\n",
    "Upper limit of interval: 1.421875\n",
    "There is a zero between 1.4140625 and 1.41796875.\n",
    "```\n",
    "Observe that the zero of g in this interval is   x=2√≈1.4142, which lies between 1.414 and 1.418. \n",
    "\n",
    "**Write code in the block below**"
   ]
  },
  {
   "cell_type": "markdown",
   "metadata": {},
   "source": [
    "The problem should work, as I have created a function for it anyways."
   ]
  },
  {
   "cell_type": "code",
   "execution_count": 108,
   "metadata": {},
   "outputs": [],
   "source": [
    "g = lambda x: x**2 - 2\n",
    "max_iterations = 10 "
   ]
  },
  {
   "cell_type": "code",
   "execution_count": 109,
   "metadata": {},
   "outputs": [
    {
     "name": "stdout",
     "output_type": "stream",
     "text": [
      "Lower limit of interval: 0.0\n",
      "Upper limit of interval: 4.0\n",
      "There is a zero between 0.0 and 2.0.\n",
      "Lower limit of interval: 0.0\n",
      "Upper limit of interval: 2.0\n",
      "There is a zero between 1.0 and 2.0.\n",
      "Lower limit of interval: 1.0\n",
      "Upper limit of interval: 2.0\n",
      "There is a zero between 1.0 and 1.5.\n",
      "Lower limit of interval: 1.0\n",
      "Upper limit of interval: 1.5\n",
      "There is a zero between 1.25 and 1.5.\n",
      "Lower limit of interval: 1.25\n",
      "Upper limit of interval: 1.5\n",
      "There is a zero between 1.375 and 1.5.\n",
      "Lower limit of interval: 1.375\n",
      "Upper limit of interval: 1.5\n",
      "There is a zero between 1.375 and 1.4375.\n",
      "Lower limit of interval: 1.375\n",
      "Upper limit of interval: 1.4375\n",
      "There is a zero between 1.40625 and 1.4375.\n",
      "Lower limit of interval: 1.40625\n",
      "Upper limit of interval: 1.4375\n",
      "There is a zero between 1.40625 and 1.421875.\n",
      "Lower limit of interval: 1.40625\n",
      "Upper limit of interval: 1.421875\n",
      "There is a zero between 1.4140625 and 1.421875.\n",
      "Lower limit of interval: 1.4140625\n",
      "Upper limit of interval: 1.421875\n",
      "There is a zero between 1.4140625 and 1.41796875.\n"
     ]
    }
   ],
   "source": [
    "a, b = interval_input()\n",
    "res_low, res_high = bisection(g, a, b, max_iterations)"
   ]
  },
  {
   "cell_type": "code",
   "execution_count": 110,
   "metadata": {},
   "outputs": [
    {
     "name": "stdout",
     "output_type": "stream",
     "text": [
      "Final interval: [1.4140625, 1.41796875]\n"
     ]
    }
   ],
   "source": [
    "print(f\"Final interval: [{res_low}, {res_high}]\")"
   ]
  }
 ],
 "metadata": {
  "kernelspec": {
   "display_name": "Python 3",
   "language": "python",
   "name": "python3"
  },
  "language_info": {
   "codemirror_mode": {
    "name": "ipython",
    "version": 3
   },
   "file_extension": ".py",
   "mimetype": "text/x-python",
   "name": "python",
   "nbconvert_exporter": "python",
   "pygments_lexer": "ipython3",
   "version": "3.10.4"
  }
 },
 "nbformat": 4,
 "nbformat_minor": 2
}
