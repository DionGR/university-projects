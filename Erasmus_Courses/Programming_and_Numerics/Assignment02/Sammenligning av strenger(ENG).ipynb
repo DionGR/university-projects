{
 "cells": [
  {
   "cell_type": "markdown",
   "metadata": {},
   "source": [
    "> Dionysios Rigatos <br />\n",
    "> dionysir@stud.ntnu.no <br />"
   ]
  },
  {
   "cell_type": "markdown",
   "metadata": {
    "deletable": false,
    "editable": false,
    "run_control": {
     "frozen": true
    }
   },
   "source": [
    "# Comparison of strings\n",
    "\n",
    "**Learning goals:**\n",
    "- Conditions\n",
    "- Understanding code\n",
    "\n",
    "**Starting Out with Python:**\n",
    "- Chapt. 3.2-3.3\n"
   ]
  },
  {
   "cell_type": "markdown",
   "metadata": {
    "deletable": false,
    "editable": false,
    "heading_collapsed": true,
    "run_control": {
     "frozen": true
    }
   },
   "source": [
    "## About comparing strings\n",
    "\n",
    "Click on the arrow on the left to read"
   ]
  },
  {
   "cell_type": "markdown",
   "metadata": {
    "deletable": false,
    "editable": false,
    "hidden": true,
    "run_control": {
     "frozen": true
    }
   },
   "source": [
    "When you compare two strings in Python, the strings will be compared character by character. For instance, a program that is comparing the strings `\"Ola\"` and `\"Ole\"` to check whether they are equal, will first compare `'O'` with `'O'`, then `'l'` with `'l'`, and finally `'a'` with `'e'`. It is not until the comparison of `'a'` with `'e'` that False will be returned."
   ]
  },
  {
   "cell_type": "code",
   "execution_count": 17,
   "metadata": {
    "ExecuteTime": {
     "end_time": "2019-07-01T13:28:36.030253Z",
     "start_time": "2019-07-01T13:28:36.020435Z"
    },
    "hidden": true
   },
   "outputs": [
    {
     "name": "stdout",
     "output_type": "stream",
     "text": [
      "Comparing Ola and Ole\n",
      "Names are not equal\n"
     ]
    }
   ],
   "source": [
    "a = \"Ola\"\n",
    "b = \"Ole\"\n",
    "  \n",
    "print(\"Comparing\", a, \"and\", b)\n",
    "if a == b:\n",
    "    print(\"Names are equal\")\n",
    "else:\n",
    "    print(\"Names are not equal\")"
   ]
  },
  {
   "cell_type": "markdown",
   "metadata": {
    "deletable": false,
    "editable": false,
    "hidden": true,
    "run_control": {
     "frozen": true
    }
   },
   "source": [
    "In a different case where the names \"Markus\" and \"Marcus\" are compared, the test will only return `False` when `'k'` is compared with `'c'`. I.e. `'u'` is not compared with `'u'`, nor is `'s'` compared with `'s'`."
   ]
  },
  {
   "cell_type": "code",
   "execution_count": 18,
   "metadata": {
    "ExecuteTime": {
     "end_time": "2019-07-01T13:30:06.268914Z",
     "start_time": "2019-07-01T13:30:06.261563Z"
    },
    "hidden": true
   },
   "outputs": [
    {
     "name": "stdout",
     "output_type": "stream",
     "text": [
      "Comparing Markus and Marcus\n",
      "Names are not equal\n"
     ]
    }
   ],
   "source": [
    "a = \"Markus\"\n",
    "b = \"Marcus\"\n",
    "  \n",
    "print(\"Comparing\", a, \"and\", b)\n",
    "if a == b:\n",
    "    print(\"Names are equal\")\n",
    "else:\n",
    "    print(\"Names are not equal\")"
   ]
  },
  {
   "cell_type": "markdown",
   "metadata": {
    "deletable": false,
    "editable": false,
    "hidden": true,
    "run_control": {
     "frozen": true
    }
   },
   "source": [
    "Feel free to try out the code above with different values.\n",
    "Other examples of executions could be:\n",
    "```python\n",
    "# a = \"Ann\", b = \"Anne\"\n",
    "Comparing Ann and Anne\n",
    "Names are not equal\n",
    "```\n",
    "```python  \n",
    "# a = \"Anders\", b = \"Anders\"\n",
    "Comparing Anders and Anders\n",
    "Names are equal\n",
    "```\n",
    "  \n",
    "```python\n",
    "# a = \"Anders\", b = \"anders\"\n",
    "Comparing Anders and anders\n",
    "Names are not equal\n",
    "```\n",
    "\n",
    "As you can see from the last run, Python differentiates between upper and lower case letters, i.e. a capital A is not the same as a lower case a. This is due to the fact that the characters of strings are represented as numbers, and these numbers are the actual values being compared. In ASCII, the characters A to Z are represented with the numbers 65 to 90, and the characters a to z are represented with the numbers 97 to 122."
   ]
  },
  {
   "cell_type": "markdown",
   "metadata": {
    "deletable": false,
    "editable": false,
    "run_control": {
     "frozen": true
    }
   },
   "source": [
    "## a)"
   ]
  },
  {
   "cell_type": "markdown",
   "metadata": {
    "deletable": false,
    "editable": false,
    "run_control": {
     "frozen": true
    }
   },
   "source": [
    "You are now going to create a program which compares two foods, and checks whether they are the same. It should not matter whether the inputs are upper or lower case, i.e. `\"grapes\"` and `\"GrApes\"` are considered the same food (see Hint). You do not have to take in to consideration plural or singular, i.e. `\"grapes\"` and `\"grape\"` are considered two different foods.\n",
    "\n",
    "**Example run:**\n",
    "\n",
    "```\n",
    "Comparing grapes and grAPes\n",
    "They are the same food\n",
    "```\n",
    "\n",
    "```\n",
    "Comparing grapes and grape\n",
    "They are two different foods\n",
    "```\n",
    "\n",
    "```\n",
    "Comparing TomATO and ToMato\n",
    "They are the same food\n",
    "```  \n",
    "\n",
    "```\n",
    "Comparing tomato and potato\n",
    "They are two different foods\n",
    "```\n",
    "\n",
    "___Write code in the block below:___"
   ]
  },
  {
   "cell_type": "code",
   "execution_count": 19,
   "metadata": {},
   "outputs": [],
   "source": [
    "def compare_foods(a, b):\n",
    "    print(f\"Comparing {a} and {b}\")\n",
    "    if a.lower() == b.lower():\n",
    "        print(\"They are the same food.\")\n",
    "    else:\n",
    "        print(\"They are two different foods.\")"
   ]
  },
  {
   "cell_type": "code",
   "execution_count": 20,
   "metadata": {},
   "outputs": [
    {
     "name": "stdout",
     "output_type": "stream",
     "text": [
      "Comparing grapes and grAPes\n",
      "They are the same food.\n",
      "Comparing grapes and grape\n",
      "They are two different foods.\n",
      "Comparing TomATO and ToMato\n",
      "They are the same food.\n",
      "Comparing tomato and potato\n",
      "They are two different foods.\n"
     ]
    }
   ],
   "source": [
    "compare_foods(\"grapes\", \"grAPes\")\n",
    "compare_foods(\"grapes\", \"grape\")\n",
    "compare_foods(\"TomATO\", \"ToMato\")\n",
    "compare_foods(\"tomato\", \"potato\")"
   ]
  },
  {
   "cell_type": "markdown",
   "metadata": {
    "ExecuteTime": {
     "end_time": "2019-07-01T13:52:20.851486Z",
     "start_time": "2019-07-01T13:52:20.846135Z"
    },
    "deletable": false,
    "editable": false,
    "heading_collapsed": true,
    "run_control": {
     "frozen": true
    }
   },
   "source": [
    "#### Hint\n",
    "Press the arrow on the left."
   ]
  },
  {
   "cell_type": "markdown",
   "metadata": {
    "deletable": false,
    "editable": false,
    "hidden": true,
    "run_control": {
     "frozen": true
    }
   },
   "source": [
    "`str.lower()` returns a copy of the string containing only lower case letters.\n",
    "\n",
    "I.e., if you have a variable `a = \"GrApes\"`, `a.lower()` will return the string `\"grapes\"`. However, remember that `a.lower()` does not change the variable `a`, therefore you have to create a new variable `b = a.lower()` and use variable `b` in the test, or you can use `a.lower()` directly in the test instead of `a`.\n",
    "\n",
    "Example usage of `str.lower()`:"
   ]
  },
  {
   "cell_type": "code",
   "execution_count": 21,
   "metadata": {
    "hidden": true
   },
   "outputs": [
    {
     "name": "stdout",
     "output_type": "stream",
     "text": [
      "GrApes\n",
      "GrApes\n",
      "grapes\n"
     ]
    }
   ],
   "source": [
    "a = \"GrApes\"\n",
    "  \n",
    "print(a)        #Output: \"GrApes\"\n",
    "a.lower()       #returns the string \"grapes\", but does not modify the variable a.\n",
    "print(a)        #Output: \"GrApes\"\n",
    "print(a.lower())    #Output: \"grapes\""
   ]
  },
  {
   "cell_type": "markdown",
   "metadata": {
    "deletable": false,
    "editable": false,
    "heading_collapsed": true,
    "run_control": {
     "frozen": true
    }
   },
   "source": [
    "#### Approach\n",
    "Press the arrow on the left."
   ]
  },
  {
   "cell_type": "markdown",
   "metadata": {
    "deletable": false,
    "editable": false,
    "hidden": true,
    "run_control": {
     "frozen": true
    }
   },
   "source": [
    "1. Create two variables (`a` and `b`) which represent two strings.\n",
    "2. Print out which variables are being compared.\n",
    "3. Use an if-else-statement with the condition `a.lower() == b.lower()` in order to compare the strings, and print out whether they are the same food or two different foods."
   ]
  },
  {
   "cell_type": "markdown",
   "metadata": {
    "deletable": false,
    "editable": false,
    "run_control": {
     "frozen": true
    }
   },
   "source": [
    "## b)"
   ]
  },
  {
   "cell_type": "markdown",
   "metadata": {
    "deletable": false,
    "editable": false,
    "run_control": {
     "frozen": true
    }
   },
   "source": [
    "In this task you are going to create a program which takes in two names and sorts them in alphabetical order. You do not need to take lower or upper case letters into consideration in this task.\n",
    "\n",
    "\n",
    "**Example run:**\n",
    "```\n",
    "First name: Ole\n",
    "Second name: Ola\n",
    "The names in alphabetical order:\n",
    "Ola\n",
    "Ole\n",
    "```\n",
    "\n",
    "```\n",
    "First name: Bob Bernt\n",
    "Second name: Bob Arne\n",
    "The names in alphabetical order:\n",
    "Bob Arne\n",
    "Bob Bernt\n",
    "```\n",
    "\n",
    "___Input your code here:___"
   ]
  },
  {
   "cell_type": "code",
   "execution_count": 22,
   "metadata": {},
   "outputs": [],
   "source": [
    "def sort_names(*names):\n",
    "    print(\"The names in alphabetical order:\")\n",
    "    for name in sorted(names):\n",
    "        print(name)"
   ]
  },
  {
   "cell_type": "code",
   "execution_count": 23,
   "metadata": {},
   "outputs": [
    {
     "name": "stdout",
     "output_type": "stream",
     "text": [
      "The names in alphabetical order:\n",
      "Ola\n",
      "Ole\n",
      "The names in alphabetical order:\n",
      "Bob Arne\n",
      "Bob Bernt\n"
     ]
    }
   ],
   "source": [
    "sort_names(\"Ole\", \"Ola\")\n",
    "sort_names(\"Bob Bernt\", \"Bob Arne\")"
   ]
  },
  {
   "cell_type": "markdown",
   "metadata": {
    "heading_collapsed": true
   },
   "source": [
    "#### Hint"
   ]
  },
  {
   "cell_type": "markdown",
   "metadata": {
    "hidden": true
   },
   "source": [
    "In order to sort names alphabetically, you may use `<` or `>`. For the names Ola and Ole, Ole will be seen as \"greater\" than Ola, because `'e'` is represented by a larger number than `a`."
   ]
  },
  {
   "cell_type": "markdown",
   "metadata": {
    "deletable": false,
    "editable": false,
    "run_control": {
     "frozen": true
    }
   },
   "source": [
    "## c)"
   ]
  },
  {
   "cell_type": "markdown",
   "metadata": {
    "deletable": false,
    "editable": false,
    "run_control": {
     "frozen": true
    }
   },
   "source": [
    "What is the output of the following code snippets.\n",
    "\n",
    "```python\n",
    "#Snippet 1:\n",
    "if 'k' < 'b':\n",
    "    print('k is less than b')\n",
    "else:\n",
    "    print('k is greater than b')\n",
    "  \n",
    "  \n",
    "#Snippet 2:\n",
    "ny = \"New York\"\n",
    "la = \"Los Angeles\"\n",
    "  \n",
    "if ny < la:\n",
    "    print(ny)\n",
    "    print(la)\n",
    "else:\n",
    "    print(la)\n",
    "    print(ny)\n",
    "  \n",
    "  \n",
    "#Snippet 3:\n",
    "d1 = \"GRapEs\"\n",
    "d2 = \"grApes\"\n",
    "if d1.lower() < d2.lower():\n",
    "    print(d1)\n",
    "    print(d2)\n",
    "else:\n",
    "    print(d2.lower())\n",
    "```\n",
    "\n",
    "**Answer to snippet 1 (Double click on the text below):**"
   ]
  },
  {
   "cell_type": "markdown",
   "metadata": {},
   "source": [
    "Answer 1: k is greater than b"
   ]
  },
  {
   "cell_type": "markdown",
   "metadata": {
    "deletable": false,
    "editable": false,
    "run_control": {
     "frozen": true
    }
   },
   "source": [
    "___Answer to snippet 2:___"
   ]
  },
  {
   "cell_type": "markdown",
   "metadata": {},
   "source": [
    "Answer 2: \n",
    "Los Angeles\n",
    "New York"
   ]
  },
  {
   "cell_type": "markdown",
   "metadata": {
    "deletable": false,
    "editable": false,
    "run_control": {
     "frozen": true
    }
   },
   "source": [
    "___Answer to snippet 3:___"
   ]
  },
  {
   "cell_type": "markdown",
   "metadata": {},
   "source": [
    "Answer 3: grapes"
   ]
  }
 ],
 "metadata": {
  "kernelspec": {
   "display_name": "Python 3",
   "language": "python",
   "name": "python3"
  },
  "language_info": {
   "codemirror_mode": {
    "name": "ipython",
    "version": 3
   },
   "file_extension": ".py",
   "mimetype": "text/x-python",
   "name": "python",
   "nbconvert_exporter": "python",
   "pygments_lexer": "ipython3",
   "version": "3.10.4"
  },
  "toc": {
   "base_numbering": 1,
   "nav_menu": {},
   "number_sections": false,
   "sideBar": true,
   "skip_h1_title": false,
   "title_cell": "Table of Contents",
   "title_sidebar": "Contents",
   "toc_cell": false,
   "toc_position": {},
   "toc_section_display": true,
   "toc_window_display": false
  }
 },
 "nbformat": 4,
 "nbformat_minor": 2
}
