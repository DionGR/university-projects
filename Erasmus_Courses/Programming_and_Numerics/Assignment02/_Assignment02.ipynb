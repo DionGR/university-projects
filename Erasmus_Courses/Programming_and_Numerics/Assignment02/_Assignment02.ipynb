{
 "cells": [
  {
   "attachments": {},
   "cell_type": "markdown",
   "metadata": {
    "deletable": false,
    "editable": false,
    "run_control": {
     "frozen": true
    }
   },
   "source": [
    "# Assignment 2\n",
    "\n",
    "**Learning goals:**\n",
    "\n",
    "- If-statements, why and how\n",
    "- Conditions, logical expressions\n",
    "- rounding errors\n",
    "\n",
    "**Starting Out with Python:**\n",
    "\n",
    "- Ch 3 - Decision Structures and Boolean Logic\n",
    "\n",
    "**Additional theory in drop-down menus in the mandatory numerics exercises is part of the curriculum.**\n",
    "\n",
    " \n",
    "\n",
    "## Approval:\n",
    "\n",
    "You must do the two mandatory exercises for TDT4127 (Programming and Numerics), in addition to three exercises of your own choice from the table of regular programming exercises. Some of the regular python exercises has been translated to english, marked with (ENG) at the end of the task name. \n",
    "\n",
    "Tasks that are a little extra difficult are marked with a star. Tasks that go beyond what has been lectured are marked with two stars.\n",
    "\n",
    "All assignments (you have done) must be uploaded as .py or .ipynb file to Blackboard. Good luck!\n",
    "\n",
    "\n",
    "\n",
    "\n",
    "Task | Theme | Difficulty | TDT4127 \n",
    "--- | --- | --- | ---\n",
    "[Bisection Search (ENG)](BisectionSearch.ipynb) | Conditionals | - | Mandatory |\n",
    "[Ulike typer if-setninger](Ulike%20typer%20if-setninger.ipynb) , [Different types of if statements(ENG)](Ulike%20typer%20if-setninger(ENG).ipynb) | Valg, forgreninger | - | - |\n",
    "[Sammenligning av strenger](Sammenligning%20av%20strenger.ipynb) , [String comparison(ENG)](Sammenligning%20av%20strenger(ENG).ipynb)|Betingelser| - | - |\n",
    "[Logiske operatorer og logiske uttrykk](Logiske%20operatorer%20og%20logiske%20uttrykk.ipynb) , [Logic operators and logic expressions(ENG)](Logiske%20operatorer%20og%20logiske%20uttrykk(ENG).ipynb)|Betingelser, logiske uttrykk| - | - |\n",
    "[Forbrytelse og straff](Forbrytelse%20og%20straff.ipynb)|Kodeforståelse, feilretting| - | - |\n",
    "[Årstider](Aarstider.ipynb) , [Seasons(ENG)](Aarstider(ENG).ipynb)|Betingelser, logiske uttrykk| - | - |\n",
    "[Tekstbasert spill](Tekstbasert%20spill.ipynb)|Betingelser|![img](./../Resources/Images/star_yellow.svg) | - | \n",
    "[Sjakkbrett](Sjakkbrett.ipynb) , [Chess(ENG)](Sjakkbrett(ENG).ipynb)|Betingelser, logiske uttrykk|![img](./../Resources/Images/star_yellow.svg)| - | \n",
    "[Billettpriser og rabatter](Billettpriser%20og%20rabatter.ipynb) , [Ticket Prices and Discounts(ENG)](Billettpriser%20og%20rabatter(ENG).ipynb)|Betingelser|![img](./../Resources/Images/star_yellow.svg)| - | \n",
    "[Skatteetaten](Skatteetaten.ipynb)|Betingelser|![img](./../Resources/Images/star_yellow.svg)| - | \n",
    "[Datamaskinen som tigget epler](Epletigging.ipynb)|Feilretting, betingelser|![img](./../Resources/Images/star_yellow.svg)| - | \n",
    "[Andregradsligning](Andregradsligning.ipynb) ,  [Second Degree Equations(ENG)](Andregradsligning(ENG).ipynb)|Conditions, rounding errors|![img](./../Resources/Images/star_yellow.svg)| Mandatory |"
   ]
  }
 ],
 "metadata": {
  "kernelspec": {
   "display_name": "Python 3",
   "language": "python",
   "name": "python3"
  },
  "language_info": {
   "codemirror_mode": {
    "name": "ipython",
    "version": 3
   },
   "file_extension": ".py",
   "mimetype": "text/x-python",
   "name": "python",
   "nbconvert_exporter": "python",
   "pygments_lexer": "ipython3",
   "version": "3.10.6 (main, Nov 14 2022, 16:10:14) [GCC 11.3.0]"
  },
  "toc": {
   "base_numbering": 1,
   "nav_menu": {},
   "number_sections": false,
   "sideBar": true,
   "skip_h1_title": false,
   "title_cell": "Table of Contents",
   "title_sidebar": "Contents",
   "toc_cell": false,
   "toc_position": {},
   "toc_section_display": true,
   "toc_window_display": false
  },
  "vscode": {
   "interpreter": {
    "hash": "916dbcbb3f70747c44a77c7bcd40155683ae19c65e1c03b4aa3499c5328201f1"
   }
  }
 },
 "nbformat": 4,
 "nbformat_minor": 2
}
