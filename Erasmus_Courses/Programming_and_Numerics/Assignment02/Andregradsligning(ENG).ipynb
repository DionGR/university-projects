{
 "cells": [
  {
   "cell_type": "markdown",
   "metadata": {},
   "source": [
    "> Dionysios Rigatos <br />\n",
    "> dionysir@stud.ntnu.no <br />"
   ]
  },
  {
   "cell_type": "markdown",
   "metadata": {
    "Collapsed": "false",
    "deletable": false,
    "editable": false,
    "run_control": {
     "frozen": true
    }
   },
   "source": [
    "# Second Degree Equations\n",
    "\n",
    "**Learning goals:**\n",
    "- Conditions\n",
    "\n",
    "**Starting Out with Python:**\n",
    "- Ch. 3.4"
   ]
  },
  {
   "cell_type": "markdown",
   "metadata": {
    "Collapsed": "false",
    "deletable": false,
    "editable": false,
    "run_control": {
     "frozen": true
    }
   },
   "source": [
    "In this assignment, you will create a program that takes input from the user about the numbers in a second-degree equation, and returns whether the equation has two real solutions, two imaginary solutions or one real double root. In addition, the program should return the solutions if they are real.\n",
    "\n",
    "The general form of a second-degree equation is\n",
    "\n",
    "\\begin{equation*}\n",
    "ax^2 + bx + c = 0\n",
    "\\end{equation*}\n",
    "\n",
    "To find out how many solutions and what solution area a second degree equation has, you can use the *discriminant*\n",
    "\n",
    "\\begin{equation*}\n",
    "d = b^2 - 4ac\n",
    "\\end{equation*}\n",
    "\n",
    "And the table\n",
    "\n",
    "Case|Solution Area|Amount of roots\n",
    "---|---|---\n",
    "d < 0|Imaginary|2\n",
    "d > 0|Real|2\n",
    "d = 0|Real\t1|(double root)"
   ]
  },
  {
   "cell_type": "markdown",
   "metadata": {
    "Collapsed": "false",
    "deletable": false,
    "editable": false,
    "run_control": {
     "frozen": true
    }
   },
   "source": [
    "## a) Find the correct type of solution"
   ]
  },
  {
   "cell_type": "markdown",
   "metadata": {
    "Collapsed": "false",
    "deletable": false,
    "editable": false,
    "run_control": {
     "frozen": true
    }
   },
   "source": [
    "***Create a program that asks for the three values a, b and c, calculates d, and tells the user whether the equation has two imaginary solutions, two real solutions, or one real double root.***\n",
    "\n",
    "Check for all three possible outcoumes:\n",
    "\n",
    "- Two imaginary solutions\n",
    "  - example : a = 2, b = 4, c = 9\n",
    "- Two real solutions\n",
    "  - example : a = 2, b = -5, c = 0\n",
    "- One real double root\n",
    "  - example: a = 2, b = 4, c = 2\n",
    "  \n",
    "***Write code below***"
   ]
  },
  {
   "cell_type": "code",
   "execution_count": 29,
   "metadata": {},
   "outputs": [],
   "source": [
    "def get_inputs():\n",
    "    a = float(input(\"Give me a:\"))\n",
    "    b = float(input(\"Give me b:\"))\n",
    "    c = float(input(\"Give me c:\"))\n",
    "    \n",
    "    return a, b, c"
   ]
  },
  {
   "cell_type": "code",
   "execution_count": 30,
   "metadata": {},
   "outputs": [],
   "source": [
    "def get_discriminant(a, b, c):\n",
    "    return b**2 - 4*a*c"
   ]
  },
  {
   "cell_type": "code",
   "execution_count": 31,
   "metadata": {},
   "outputs": [],
   "source": [
    "def solution_check(a, b, c):\n",
    "    discriminant = get_discriminant(a, b, c)\n",
    "    \n",
    "    print(\"For equation {}x^2 + {}x + {} = 0\".format(a, b, c))\n",
    "    print(\"Discriminant is {}\".format(discriminant))\n",
    "    \n",
    "    if discriminant > 0:\n",
    "        return \"Two real solutions.\"\n",
    "    elif discriminant == 0:\n",
    "        return \"One real double root.\"\n",
    "    else:\n",
    "        return \"Two imaginary solutions.\""
   ]
  },
  {
   "cell_type": "code",
   "execution_count": 32,
   "metadata": {},
   "outputs": [
    {
     "name": "stdout",
     "output_type": "stream",
     "text": [
      "For equation 2.0x^2 + 4.0x + 9.0 = 0\n",
      "Discriminant is -56.0\n"
     ]
    },
    {
     "data": {
      "text/plain": [
       "'Two imaginary solutions.'"
      ]
     },
     "execution_count": 32,
     "metadata": {},
     "output_type": "execute_result"
    }
   ],
   "source": [
    "solution_check(*get_inputs())"
   ]
  },
  {
   "cell_type": "code",
   "execution_count": 33,
   "metadata": {},
   "outputs": [
    {
     "name": "stdout",
     "output_type": "stream",
     "text": [
      "For equation 2.0x^2 + -5.0x + 0.0 = 0\n",
      "Discriminant is 25.0\n"
     ]
    },
    {
     "data": {
      "text/plain": [
       "'Two real solutions.'"
      ]
     },
     "execution_count": 33,
     "metadata": {},
     "output_type": "execute_result"
    }
   ],
   "source": [
    "solution_check(*get_inputs())"
   ]
  },
  {
   "cell_type": "code",
   "execution_count": 34,
   "metadata": {},
   "outputs": [
    {
     "name": "stdout",
     "output_type": "stream",
     "text": [
      "For equation 2.0x^2 + 4.0x + 2.0 = 0\n",
      "Discriminant is 0.0\n"
     ]
    },
    {
     "data": {
      "text/plain": [
       "'One real double root.'"
      ]
     },
     "execution_count": 34,
     "metadata": {},
     "output_type": "execute_result"
    }
   ],
   "source": [
    "solution_check(*get_inputs())"
   ]
  },
  {
   "cell_type": "markdown",
   "metadata": {
    "Collapsed": "false"
   },
   "source": [
    "## b) Real solutions"
   ]
  },
  {
   "cell_type": "markdown",
   "metadata": {
    "Collapsed": "false",
    "deletable": false,
    "editable": false,
    "run_control": {
     "frozen": true
    }
   },
   "source": [
    "***Expand the program from a) such that the user can get the solution(s) if it(they) is(are) real. ***\n",
    "\n",
    "The second degree formula to find the solution(s):\n",
    "\n",
    "\\begin{equation*}\n",
    "x=\\frac{-b±\\sqrt{d}}{2a}\n",
    "\\end{equation*}\n",
    "\n",
    "**Example run:**\n",
    "\n",
    "```python\n",
    "#Example 1: imaginary solutions  \n",
    "a: 2  \n",
    "b: 4  \n",
    "c: 9  \n",
    "The second degree equation 2.00*x^2 + 4.00*x + 9.00 has two imaginary solutions\n",
    "```\n",
    "\n",
    "```python\n",
    "#Example 2: real løsninger\n",
    "a: 2\n",
    "b: -5\n",
    "c: 0\n",
    "The second degree equation 2.00*x^2 -5.00*x + 0.00 has the two real solutions 2.50 and 0.00\n",
    "```\n",
    "\n",
    "```python\n",
    "#Example 3: real double root\n",
    "a: 2\n",
    "b: 4\n",
    "c: 2\n",
    "The second degree equation 2.00*x^2 + 4.00*x + 2.00 has a real double root -1.00\n",
    "```\n",
    "\n",
    "**Write code below**"
   ]
  },
  {
   "cell_type": "code",
   "execution_count": 35,
   "metadata": {},
   "outputs": [],
   "source": [
    "def solve_equation(a, b, c):\n",
    "    discriminant = get_discriminant(a, b, c)\n",
    "\n",
    "    print(f\"a: {a}, b: {b}, c: {c}\")    \n",
    "    equation_str = \"{}x^2 + {}x + {} = 0\".format(a, b, c)\n",
    "    \n",
    "    if discriminant > 0:\n",
    "        x_1 = (-b + discriminant**0.5) / (2*a)\n",
    "        x_2 = (-b - discriminant**0.5) / (2*a)\n",
    "        return \"The second degree equation {} has two real solutions: {} and {}\".format(equation_str, x_1, x_2)\n",
    "    elif discriminant == 0:\n",
    "        x = -b / (2*a)\n",
    "        return \"The second degree equation {} has a real double root: {}\".format(equation_str, x)\n",
    "    else:\n",
    "        return \"The second degree equation {} has two imaginary solutions.\".format(equation_str)"
   ]
  },
  {
   "cell_type": "code",
   "execution_count": 36,
   "metadata": {},
   "outputs": [
    {
     "name": "stdout",
     "output_type": "stream",
     "text": [
      "a: 2.0, b: 4.0, c: 9.0\n"
     ]
    },
    {
     "data": {
      "text/plain": [
       "'The second degree equation 2.0x^2 + 4.0x + 9.0 = 0 has two imaginary solutions.'"
      ]
     },
     "execution_count": 36,
     "metadata": {},
     "output_type": "execute_result"
    }
   ],
   "source": [
    "solve_equation(*get_inputs())"
   ]
  },
  {
   "cell_type": "code",
   "execution_count": 37,
   "metadata": {},
   "outputs": [
    {
     "name": "stdout",
     "output_type": "stream",
     "text": [
      "a: 2.0, b: -5.0, c: 0.0\n"
     ]
    },
    {
     "data": {
      "text/plain": [
       "'The second degree equation 2.0x^2 + -5.0x + 0.0 = 0 has two real solutions: 2.5 and 0.0'"
      ]
     },
     "execution_count": 37,
     "metadata": {},
     "output_type": "execute_result"
    }
   ],
   "source": [
    "solve_equation(*get_inputs())"
   ]
  },
  {
   "cell_type": "code",
   "execution_count": 38,
   "metadata": {},
   "outputs": [
    {
     "name": "stdout",
     "output_type": "stream",
     "text": [
      "a: 2.0, b: 4.0, c: 2.0\n"
     ]
    },
    {
     "data": {
      "text/plain": [
       "'The second degree equation 2.0x^2 + 4.0x + 2.0 = 0 has a real double root: -1.0'"
      ]
     },
     "execution_count": 38,
     "metadata": {},
     "output_type": "execute_result"
    }
   ],
   "source": [
    "solve_equation(*get_inputs())"
   ]
  },
  {
   "cell_type": "markdown",
   "metadata": {
    "Collapsed": "false",
    "deletable": false,
    "editable": false,
    "run_control": {
     "frozen": true
    }
   },
   "source": [
    "## C) (voluntary) Loss of significance"
   ]
  },
  {
   "cell_type": "markdown",
   "metadata": {
    "Collapsed": "false",
    "deletable": false,
    "editable": false,
    "run_control": {
     "frozen": true
    }
   },
   "source": [
    "The second degree formula can in some cases give the wrong answer. One such case is when using it on the equation  $x^2+9^{12}x−3=0$ . If you want to find the roots of this equation, the standard formula gives the following result:\n",
    "\n",
    "```python\n",
    "The second degree equation 1.00*x^2 + 282429536481.00*x -3.00 has two real solutions 0.000e+00 and -2.824e+11\n",
    "```\n",
    "\n",
    "Here only the last of the roots is correct. The first root has been incorrectly zero due to rounding errord because of a loss of precision in the calculation, correct answer would have been:\n",
    "\n",
    "```python\n",
    "The second degree equation 1.00*x^2 + 282429536481.00*x -3.00 has two real solutions 1.062e-11 og -2.824e+11\n",
    "```\n",
    "What causes this error? ***Rewrite the program to take such cases into account.***\n",
    "\n",
    "**Example**\n",
    "```python\n",
    "#a = 0.25, b = 18000, c = 1\n",
    "#Old code giving wrong answer:\n",
    "The second degree equation  0.25*x^2 + 18000.00*x + 1.00 has two real solution -0.00 and -72000.00\n",
    "#Correct answer:\n",
    "The second degree equation  0.25*x^2 + 18000.00*x + 1.00 has two real solution -5.556e-05 and -7.200e+04\n",
    "  \n",
    "#a = 10, b = 25000, c = 0.015\n",
    "#Old code giving wrong answer:\n",
    "The second degree equation  10.00*x^2 + 25000.00*x + 0.01 has two real solution -0.00 and -2500.00\n",
    "#Correct answer:\n",
    "The second degree equation  10.00*x^2 + 25000.00*x + 0.01 has two real solution -6.000e-07 and -2.500e+03\n",
    "```"
   ]
  },
  {
   "cell_type": "markdown",
   "metadata": {
    "Collapsed": "false",
    "deletable": false,
    "editable": false,
    "heading_collapsed": true,
    "run_control": {
     "frozen": true
    }
   },
   "source": [
    "#### Hint"
   ]
  },
  {
   "cell_type": "markdown",
   "metadata": {
    "Collapsed": "false",
    "deletable": false,
    "editable": false,
    "hidden": true,
    "run_control": {
     "frozen": true
    }
   },
   "source": [
    "If you are having problems, these resources might help you:\n",
    "\n",
    "- [NumericallyStableSolutionForTheQuadraticEquations](http://www.solipsys.co.uk/cgi-bin/sews.py?NumericallyStableSolutionForTheQuadraticEquation)\n",
    "- [Numerically Stable Method for Solving Quadratic Equations](https://people.csail.mit.edu/bkph/articles/Quadratics.pdf)"
   ]
  },
  {
   "cell_type": "code",
   "execution_count": 66,
   "metadata": {},
   "outputs": [],
   "source": [
    "def improved_solve_equation(a, b, c):\n",
    "    discriminant = get_discriminant(a, b, c)\n",
    "\n",
    "    print(f\"a: {a}, b: {b}, c: {c}\")    \n",
    "    equation_str = \"{}x^2 + {}x + {} = 0\".format(a, b, c)\n",
    "    \n",
    "    if discriminant > 0:\n",
    "        if b >= 0:\n",
    "            x_1 = (-b - discriminant**0.5) / (2*a)\n",
    "            x_2 = 2*c / (-b - discriminant**0.5)\n",
    "        else:\n",
    "            x_1 = 2*c / (-b + discriminant**0.5)\n",
    "            x_2 = (-b + discriminant**0.5) / (2*a)\n",
    "        return \"The second degree equation {} has two real solutions: {} and {}\".format(equation_str, x_2, x_1)\n",
    "    elif discriminant == 0:\n",
    "        x = -b / (2*a)\n",
    "        return \"The second degree equation {} has a real double root: {}\".format(equation_str, x)\n",
    "    else:\n",
    "        return \"The second degree equation {} has two imaginary solutions.\".format(equation_str)"
   ]
  },
  {
   "cell_type": "code",
   "execution_count": 67,
   "metadata": {},
   "outputs": [
    {
     "name": "stdout",
     "output_type": "stream",
     "text": [
      "Bad solution:\n",
      "a: 1.0, b: 282429536481.0, c: -3.0\n",
      "The second degree equation 1.0x^2 + 282429536481.0x + -3.0 = 0 has two real solutions: 0.0 and -282429536481.0\n",
      "Good solution:\n",
      "a: 1.0, b: 282429536481.0, c: -3.0\n",
      "The second degree equation 1.0x^2 + 282429536481.0x + -3.0 = 0 has two real solutions: 1.062211848441645e-11 and -282429536481.0\n"
     ]
    }
   ],
   "source": [
    "inputs_1 = get_inputs()\n",
    "\n",
    "print(\"Bad solution:\")\n",
    "print(solve_equation(*inputs_1))\n",
    "print(\"Good solution:\")\n",
    "print(improved_solve_equation(*inputs_1))"
   ]
  },
  {
   "cell_type": "markdown",
   "metadata": {},
   "source": [
    "### NOTE: For the two \"examples\", the simple formula also gives the correct answer, so it has not been included in the answer. Only the first example is included in the answer, as it has a true difference between the two formulas."
   ]
  }
 ],
 "metadata": {
  "kernelspec": {
   "display_name": "Python 3",
   "language": "python",
   "name": "python3"
  },
  "language_info": {
   "codemirror_mode": {
    "name": "ipython",
    "version": 3
   },
   "file_extension": ".py",
   "mimetype": "text/x-python",
   "name": "python",
   "nbconvert_exporter": "python",
   "pygments_lexer": "ipython3",
   "version": "3.10.4"
  },
  "toc": {
   "base_numbering": 1,
   "nav_menu": {},
   "number_sections": false,
   "sideBar": true,
   "skip_h1_title": false,
   "title_cell": "Table of Contents",
   "title_sidebar": "Contents",
   "toc_cell": false,
   "toc_position": {},
   "toc_section_display": true,
   "toc_window_display": false
  }
 },
 "nbformat": 4,
 "nbformat_minor": 4
}
