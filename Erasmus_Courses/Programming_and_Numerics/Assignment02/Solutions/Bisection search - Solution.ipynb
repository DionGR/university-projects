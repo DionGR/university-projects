{
 "cells": [
  {
   "cell_type": "markdown",
   "metadata": {},
   "source": [
    "a)"
   ]
  },
  {
   "cell_type": "code",
   "execution_count": null,
   "metadata": {},
   "outputs": [],
   "source": [
    "guess = int(input('Which number does the method converge to? '))\n",
    "if guess == 1:\n",
    "    print('Great! Correct answer.')\n",
    "else:\n",
    "    print('Wrong.')"
   ]
  },
  {
   "cell_type": "markdown",
   "metadata": {},
   "source": [
    "b)"
   ]
  },
  {
   "cell_type": "code",
   "execution_count": 5,
   "metadata": {},
   "outputs": [
    {
     "name": "stdout",
     "output_type": "stream",
     "text": [
      "There are two zeroes between 1.4 and 1.5\n"
     ]
    }
   ],
   "source": [
    "ll = float(input('Lower limit of interval: ')) # Lower limit of interval / ll of interval\n",
    "ul = float(input('Upper limit of interval: ')) # Upper limi of interval / end of interval\n",
    " \n",
    "if ll > 3 or ul < 1: \n",
    "    print(f'There is no zero between {ll} and {ul}')\n",
    "elif ll > 1 and ul < 3:\n",
    "    print(f'There are two zeroes between {ll} and {ul}')\n",
    "elif ul < 3 or ll > 1:\n",
    "    print(f'There is one zero between {ll} and {ul}')\n",
    "else:\n",
    "    print(f'There are two zeroes between {ll} and {ul}')"
   ]
  },
  {
   "cell_type": "markdown",
   "metadata": {},
   "source": [
    "c)"
   ]
  },
  {
   "cell_type": "code",
   "execution_count": null,
   "metadata": {},
   "outputs": [],
   "source": [
    "ll = float(input('Enter lower limit of interval: '))\n",
    "ul = float(input('Enter upper limit of interval: '))\n",
    "\n",
    "f1 = (ll-1)*(ll -3)\n",
    "f2 = (ul-1)*(ul-3)\n",
    "\n",
    "if f1*f2 <0:\n",
    "    c = (ll+ul)/2\n",
    "    f3 = (c-1)*(c-3)\n",
    "    if f1*f3<0:\n",
    "        ul = c\n",
    "    elif f2*f3<0:\n",
    "        ll = c\n",
    "    print(f'There is a zero between {ll} and {ul}')\n",
    "\n",
    "else:\n",
    "    print('Invalid starting interval -- f1*f2 is greater than zero')"
   ]
  },
  {
   "cell_type": "markdown",
   "metadata": {},
   "source": [
    "d)"
   ]
  },
  {
   "cell_type": "code",
   "execution_count": 6,
   "metadata": {},
   "outputs": [
    {
     "name": "stdout",
     "output_type": "stream",
     "text": [
      "There is a zero between 1.414 and 1.4175\n"
     ]
    }
   ],
   "source": [
    "ll = float(input('Lower limit of interval: '))\n",
    "ul = float(input('Upper limit of interval: '))\n",
    "f1 = ll**2-2\n",
    "f2 = ul**2-2\n",
    "  \n",
    "if f1*f2<0:\n",
    "    c = (ll + ul)/2\n",
    "    f3 = c**2-2\n",
    "    if f1*f3<0:\n",
    "        ul = c\n",
    "    elif f2*f3<0:\n",
    "        ll = c\n",
    "    print('There is a zero between',ll,'and',ul)\n",
    " \n",
    "else:\n",
    "    print('Invalid lling interval.')"
   ]
  }
 ],
 "metadata": {
  "kernelspec": {
   "display_name": "Python 3",
   "language": "python",
   "name": "python3"
  },
  "language_info": {
   "codemirror_mode": {
    "name": "ipython",
    "version": 3
   },
   "file_extension": ".py",
   "mimetype": "text/x-python",
   "name": "python",
   "nbconvert_exporter": "python",
   "pygments_lexer": "ipython3",
   "version": "3.9.7"
  }
 },
 "nbformat": 4,
 "nbformat_minor": 2
}
