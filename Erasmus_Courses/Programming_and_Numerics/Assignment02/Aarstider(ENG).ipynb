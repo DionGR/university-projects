{
 "cells": [
  {
   "cell_type": "markdown",
   "metadata": {},
   "source": [
    "> Dionysios Rigatos <br />\n",
    "> dionysir@stud.ntnu.no <br />"
   ]
  },
  {
   "cell_type": "markdown",
   "metadata": {
    "deletable": false,
    "editable": false,
    "run_control": {
     "frozen": true
    }
   },
   "source": [
    "<nav class=\"navbar navbar-default\">\n",
    "  <div class=\"container-fluid\">\n",
    "    <div class=\"navbar-header\">\n",
    "      <a class=\"navbar-brand\" href=\"_Oving2.ipynb\">Assignment 2</a>\n",
    "    </div>\n",
    "  </div>\n",
    "</nav>\n",
    "\n",
    "# Seasons\n",
    "\n",
    "**Learning goals**\n",
    "- Conditions\n",
    "- Logical expressions\n",
    "\n",
    "**Starting Out with Python:**\n",
    "- Kap. 3.3-3.5\n",
    "\n",
    "In this assignment, a user must enter the day and month and find out what season the date belongs to.\n",
    "\n",
    "One year has (officially) four seasons, and in this assignment we assume that the season changes follow the table below. \n",
    "**(Note the dates) **\n",
    "\n",
    "\n",
    "Season | First day\n",
    "--- | ---\n",
    "Spring | 20. mar\n",
    "Summer | 21. jun\n",
    "Autumn | 22. sep\n",
    "Winter | 21. dec"
   ]
  },
  {
   "cell_type": "markdown",
   "metadata": {
    "deletable": false,
    "editable": false,
    "run_control": {
     "frozen": true
    }
   },
   "source": [
    "**Task:** Create a program that takes in a month as a string and a day in that month as a number from the user. The program will then print out the season associated with this date.\n",
    "\n",
    "You can assume that the input is a valid date.\n",
    "\n",
    "**Example run:**\n",
    "```\n",
    "Month: mar\n",
    "Day: 20\n",
    "Spring\n",
    "```  \n",
    "  \n",
    "```\n",
    "Month: mar\n",
    "Day: 19\n",
    "Winter\n",
    "```  \n",
    "  \n",
    "```\n",
    "Month: nov\n",
    "Day: 20\n",
    "Autumn\n",
    "```\n",
    "\n",
    "___Write your code here:___"
   ]
  },
  {
   "cell_type": "code",
   "execution_count": 12,
   "metadata": {},
   "outputs": [],
   "source": [
    "def date_input():\n",
    "    month = input(\"Month: \")\n",
    "    day = int(input(\"Day: \"))\n",
    "    return month.lower(), day"
   ]
  },
  {
   "cell_type": "code",
   "execution_count": 13,
   "metadata": {},
   "outputs": [],
   "source": [
    "def season_checker(month, day):\n",
    "    month_mapper = {\"jan\": 1, \"feb\": 2, \"mar\": 3, \"apr\": 4, \"may\": 5, \"jun\": 6, \"jul\": 7, \"aug\": 8, \"sep\": 9, \"oct\": 10, \"nov\": 11, \"dec\": 12}\n",
    "   \n",
    "    print(f\"Month: {month}\")\n",
    "    print(f\"Day: {day}\")\n",
    "    \n",
    "    if month_mapper[month] < 3 or (month_mapper[month] == 3 and day < 20) or (month_mapper[month] == 12 and day >= 21):\n",
    "        return \"Winter\"\n",
    "    elif month_mapper[month] < 6 or (month_mapper[month] == 6 and day < 21):\n",
    "        return \"Spring\"\n",
    "    elif month_mapper[month] < 9 or (month_mapper[month] == 9 and day < 23):\n",
    "        return \"Summer\"\n",
    "    elif month_mapper[month] < 12 or (month_mapper[month] == 12 and day < 21):\n",
    "        return \"Autumn\"\n",
    "    else:\n",
    "        return None  "
   ]
  },
  {
   "cell_type": "code",
   "execution_count": 14,
   "metadata": {},
   "outputs": [
    {
     "name": "stdout",
     "output_type": "stream",
     "text": [
      "Month: mar\n",
      "Day: 20\n"
     ]
    },
    {
     "data": {
      "text/plain": [
       "'Spring'"
      ]
     },
     "execution_count": 14,
     "metadata": {},
     "output_type": "execute_result"
    }
   ],
   "source": [
    "season_checker(*date_input())"
   ]
  },
  {
   "cell_type": "code",
   "execution_count": 15,
   "metadata": {},
   "outputs": [
    {
     "name": "stdout",
     "output_type": "stream",
     "text": [
      "Month: mar\n",
      "Day: 19\n"
     ]
    },
    {
     "data": {
      "text/plain": [
       "'Winter'"
      ]
     },
     "execution_count": 15,
     "metadata": {},
     "output_type": "execute_result"
    }
   ],
   "source": [
    "season_checker(*date_input())"
   ]
  },
  {
   "cell_type": "code",
   "execution_count": 16,
   "metadata": {},
   "outputs": [
    {
     "name": "stdout",
     "output_type": "stream",
     "text": [
      "Month: nov\n",
      "Day: 20\n"
     ]
    },
    {
     "data": {
      "text/plain": [
       "'Autumn'"
      ]
     },
     "execution_count": 16,
     "metadata": {},
     "output_type": "execute_result"
    }
   ],
   "source": [
    "season_checker(*date_input())"
   ]
  }
 ],
 "metadata": {
  "kernelspec": {
   "display_name": "Python 3",
   "language": "python",
   "name": "python3"
  },
  "language_info": {
   "codemirror_mode": {
    "name": "ipython",
    "version": 3
   },
   "file_extension": ".py",
   "mimetype": "text/x-python",
   "name": "python",
   "nbconvert_exporter": "python",
   "pygments_lexer": "ipython3",
   "version": "3.10.4"
  },
  "toc": {
   "base_numbering": 1,
   "nav_menu": {},
   "number_sections": false,
   "sideBar": true,
   "skip_h1_title": false,
   "title_cell": "Table of Contents",
   "title_sidebar": "Contents",
   "toc_cell": false,
   "toc_position": {},
   "toc_section_display": true,
   "toc_window_display": false
  }
 },
 "nbformat": 4,
 "nbformat_minor": 2
}
