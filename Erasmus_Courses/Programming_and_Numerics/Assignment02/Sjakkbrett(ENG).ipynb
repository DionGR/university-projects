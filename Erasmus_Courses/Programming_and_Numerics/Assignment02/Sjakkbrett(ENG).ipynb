{
 "cells": [
  {
   "cell_type": "markdown",
   "metadata": {},
   "source": [
    "> Dionysios Rigatos <br />\n",
    "> dionysir@stud.ntnu.no <br />"
   ]
  },
  {
   "cell_type": "markdown",
   "metadata": {},
   "source": [
    "<nav class=\"navbar navbar-default\">\n",
    "  <div class=\"container-fluid\">\n",
    "    <div class=\"navbar-header\">\n",
    "      <a class=\"navbar-brand\" href=\"_Oving2.ipynb\">Assignment 2</a>\n",
    "    </div>\n",
    "  </div>\n",
    "</nav>\n",
    "\n",
    "# Chess\n",
    "\n",
    "**Learning goals:**\n",
    "\n",
    "* Conditions\n",
    "* Logical expressions\n",
    "* Nested if-conditions\n",
    "\n",
    "**Starting Out with Python:**\n",
    "\n",
    "* Kap. 2.7\n",
    "* Kap. 3.2-3.3\n",
    "* Kap. 3.5\n",
    " \n",
    "Chessboard positions can be identified by a letter and a number. The letter identifies the column (called the \"line\" in chess), and the number identifies the row.\n",
    "\n",
    "\n",
    "![img](../Resources/Images/chessboard.png)\n"
   ]
  },
  {
   "cell_type": "markdown",
   "metadata": {
    "deletable": false,
    "editable": false,
    "run_control": {
     "frozen": true
    }
   },
   "source": [
    "### a)"
   ]
  },
  {
   "cell_type": "markdown",
   "metadata": {
    "deletable": false,
    "editable": false,
    "run_control": {
     "frozen": true
    }
   },
   "source": [
    "**In this task, create a program that takes a position from the user and uses if statements to determine the color of the route for that position.**\n",
    "\n",
    "Take a look at the three code lines below, which will help you along the way. These show how to use indexing of a string variable (named `pos`) to find single characters.\n",
    "\n",
    "Index 0 is the first character of the string, when `pos = 'a5'`, `pos[0]` will be `'a'` and `pos[1]` will be`'5'`.\n",
    "\n",
    "In your code you will need to\n",
    "\n",
    "* Change the line with `position = 'a5'` with a line of code which asks the user to input a position\n",
    "* add more code below the line `number = ...` in order to make a decision whether the given position is a white or black square.\n",
    "\n",
    "Example run:\n",
    "\n",
    "  \n",
    "```\n",
    "Position: a5  \n",
    "Black \n",
    "```\n",
    "  \n",
    "```\n",
    "Position: d3  \n",
    "White\n",
    "```\n",
    "  \n",
    "```\n",
    "Position: f6\n",
    "Black\n",
    "```"
   ]
  },
  {
   "cell_type": "code",
   "execution_count": 16,
   "metadata": {},
   "outputs": [],
   "source": [
    "def board_block_colour(pos):\n",
    "    letter = pos[0]\n",
    "    number = int(pos[1])\n",
    "    if letter in 'aceg':\n",
    "        if number % 2 == 0:\n",
    "            return 'White'\n",
    "        else:\n",
    "            return 'Black'\n",
    "    else:\n",
    "        if number % 2 == 0:\n",
    "            return 'Black'\n",
    "        else:\n",
    "            return 'White'"
   ]
  },
  {
   "cell_type": "code",
   "execution_count": 17,
   "metadata": {
    "ExecuteTime": {
     "end_time": "2019-07-02T08:14:18.283300Z",
     "start_time": "2019-07-02T08:14:18.272588Z"
    }
   },
   "outputs": [
    {
     "data": {
      "text/plain": [
       "'Black'"
      ]
     },
     "execution_count": 17,
     "metadata": {},
     "output_type": "execute_result"
    }
   ],
   "source": [
    "pos = input(\"Position: \")\n",
    "board_block_colour(pos)"
   ]
  },
  {
   "cell_type": "code",
   "execution_count": 18,
   "metadata": {},
   "outputs": [
    {
     "data": {
      "text/plain": [
       "'White'"
      ]
     },
     "execution_count": 18,
     "metadata": {},
     "output_type": "execute_result"
    }
   ],
   "source": [
    "pos = input(\"Position: \")\n",
    "board_block_colour(pos)"
   ]
  },
  {
   "cell_type": "code",
   "execution_count": 19,
   "metadata": {},
   "outputs": [
    {
     "data": {
      "text/plain": [
       "'Black'"
      ]
     },
     "execution_count": 19,
     "metadata": {},
     "output_type": "execute_result"
    }
   ],
   "source": [
    "pos = input(\"Position: \")\n",
    "board_block_colour(pos)"
   ]
  },
  {
   "cell_type": "markdown",
   "metadata": {
    "deletable": false,
    "editable": false,
    "heading_collapsed": true,
    "run_control": {
     "frozen": true
    }
   },
   "source": [
    "#### Hint"
   ]
  },
  {
   "cell_type": "markdown",
   "metadata": {
    "deletable": false,
    "editable": false,
    "hidden": true,
    "run_control": {
     "frozen": true
    }
   },
   "source": [
    "Modulo (`%`)"
   ]
  },
  {
   "cell_type": "markdown",
   "metadata": {
    "deletable": false,
    "editable": false,
    "run_control": {
     "frozen": true
    }
   },
   "source": [
    "## b) Voluntary(!) challenging task"
   ]
  },
  {
   "cell_type": "markdown",
   "metadata": {
    "deletable": false,
    "editable": false,
    "run_control": {
     "frozen": true
    }
   },
   "source": [
    "You do not need to have this task (b) approved for the assignment.\n",
    "\n",
    "**Expand the program so that it also handles possible incorrect user input, as follows**:\n",
    "* If the user writes a string with length other than two characters (shorter or longer), the program should print `\"Wrong input, you need to input exactly two characters\"`, then stop.\n",
    "* If the given input is 2 characters long but not \"belonging\" to a square in a chess board, the program should output as shown below. To clarify, this should happen if the first character is NOT a letter in the range A to H (a to h) and/or the second sign is NOT a number in the range 1 to 8.\n",
    "\n",
    "  \n",
    "```\n",
    "Position: A9\n",
    "Wrong input.\n",
    "First character needs to be a letter A-H or a-h\n",
    "Second character needs to be a number 1-8\n",
    "```\n",
    "\n",
    "If the input is in the correct format and inside the allowed ranges, the program should output the same as in task a)"
   ]
  },
  {
   "cell_type": "code",
   "execution_count": null,
   "metadata": {},
   "outputs": [],
   "source": []
  }
 ],
 "metadata": {
  "kernelspec": {
   "display_name": "Python 3",
   "language": "python",
   "name": "python3"
  },
  "language_info": {
   "codemirror_mode": {
    "name": "ipython",
    "version": 3
   },
   "file_extension": ".py",
   "mimetype": "text/x-python",
   "name": "python",
   "nbconvert_exporter": "python",
   "pygments_lexer": "ipython3",
   "version": "3.10.4"
  },
  "toc": {
   "base_numbering": 1,
   "nav_menu": {},
   "number_sections": false,
   "sideBar": true,
   "skip_h1_title": false,
   "title_cell": "Table of Contents",
   "title_sidebar": "Contents",
   "toc_cell": false,
   "toc_position": {},
   "toc_section_display": true,
   "toc_window_display": false
  }
 },
 "nbformat": 4,
 "nbformat_minor": 2
}
