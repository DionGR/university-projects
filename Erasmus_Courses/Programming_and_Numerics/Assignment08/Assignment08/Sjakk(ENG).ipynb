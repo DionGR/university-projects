{
 "cells": [
  {
   "cell_type": "markdown",
   "metadata": {
    "deletable": false,
    "editable": false,
    "run_control": {
     "frozen": true
    }
   },
   "source": [
    "# Chess\n",
    "\n",
    "**Learning goals:**\n",
    "\n",
    "* Big problems\n",
    "\n",
    "**In this task you are going to write a bigger prorgram. For this type of tasks, it might be more practical to download python and an IDE (An environment in which you program on your own machine). As such, have a look [here](https://docs.google.com/document/d/17tS0maWyzORUsIjmCVEszfqrl2X4By-Cy2Sw3ENG5lA/edit?usp=sharing) before you start.\n",
    "It is still possible to do the task in Jupyter if you do not wish to work locally, even if it is unadvised.**\n",
    "\n",
    "In this task you are going to implement chess. Begin working on the task as soon as possible, and work on it regularly (this task requires a lot of work).\n",
    "\n",
    "Use teaching assistans when you have the opportunity.\n",
    "\n",
    "Below is a suggested approach, but you are free to do it the way you want. However, the program needs to fulfill the following requirements:\n",
    "\n",
    "1. The players must give the program their moves (text based).\n",
    "2. The program must prevent players from making illegal moves.*\n",
    "3. The program must detect and signal when a player is in check.\n",
    "4. The program must detect and signal it is checkmate.\n",
    "5. If a pawn reaches the other side of the board, it will be promoted to an officer (queen, rook, bishop or knight).\n",
    "\n",
    "***You do NOT need to take into consideration stalemate, draw, en passant, castling or time control.**\n",
    "\n",
    "The rules of chess and how the pieces can move, can be found here: http://en.wikipedia.org/wiki/Chess\n",
    "\n",
    "**Suggested approach**\n",
    "\n",
    "\n",
    "Here you will find a suggested approach, it is instructional, but can be of help if you do not know where to begin.\n",
    "\n",
    "\n",
    "**a)** Choose a way to represent a chess board. We recommend a two-dimensional list. Also choose how you will represent an empty cell and cells that contain pieces.\n",
    "\n",
    " \n",
    "\n",
    "**b)** Initialize the board with all the pieces in their correct starting position.\n",
    "\n",
    " \n",
    "\n",
    "**c)** Make it possible to see the pieces on the screen. I.e. write a function that prints out the board in a nice manner.\n",
    "\n",
    "For a prettier design, copy and paste these symbols in your code: ♖, ♜, ♗, ♝, ♘, ♞, ♕, ♛, ♔, ♚, ♙, ♟\n",
    "\n",
    " \n",
    "\n",
    "**d)** Make it possible for a player to move a piece. How do you implement a piece beating another?\n",
    " \n",
    "\n",
    "**e)** Implement functionality that checks whether a move is legal. Do this for several cases:\n",
    "1. Is the move of legal form? ('L' shaped for knight, diagonal for bishop, etc.)\n",
    "2. Is the move blocked by another piece?\n",
    "3. Beware that it is not possible to knock out a piece of your own color.\n",
    " \n",
    "\n",
    "**f)** Write functionality that tests whether the king is in check. Remember that it is illegal to put your own king in check, extend the tests above so that this is accounted for.\n",
    "\n",
    " \n",
    "\n",
    "**g)** Write functionality that checks whether a king is in checkmate (Here you may re-use the code from the check-test).\n",
    " \n",
    "\n",
    "**h)** Write functionality that detects that a pawn has been moved to do the other side of the board and let the player promote it to a queen/rook/bishop/knight."
   ]
  },
  {
   "cell_type": "code",
   "execution_count": 2,
   "metadata": {},
   "outputs": [],
   "source": [
    "#write your code here if you decide to code in jupyter, we recommend to code this task in idle or pycharm."
   ]
  }
 ],
 "metadata": {
  "kernelspec": {
   "display_name": "Python 3",
   "language": "python",
   "name": "python3"
  },
  "language_info": {
   "codemirror_mode": {
    "name": "ipython",
    "version": 3
   },
   "file_extension": ".py",
   "mimetype": "text/x-python",
   "name": "python",
   "nbconvert_exporter": "python",
   "pygments_lexer": "ipython3",
   "version": "3.7.1"
  }
 },
 "nbformat": 4,
 "nbformat_minor": 2
}
