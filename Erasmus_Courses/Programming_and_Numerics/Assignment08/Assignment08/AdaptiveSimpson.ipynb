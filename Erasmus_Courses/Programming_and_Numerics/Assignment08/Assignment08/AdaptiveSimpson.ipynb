{
 "cells": [
  {
   "cell_type": "markdown",
   "metadata": {},
   "source": [
    "# Adaptive Simpson's Rule\n",
    "\n",
    "**Learning goals**\n",
    "- Recursion\n",
    "- Adaptive Simpson's rule\n",
    "\n",
    "Simpson's method is an algorithm for computing approximate integrals of functions, defined as \n",
    "$$ \\int_{a}^{b} f(x) dx \\approx S(a,b) = \\frac{h}{3}(f(a) + 4f(c) + f(b)), $$\n",
    "where\n",
    "$$ h = \\frac{b-a}{2}, \\qquad c = \\frac{a+b}{2}. $$\n",
    "\n",
    "\n",
    "Note: It is worth specifying that this is not the composite Simpson's rule."
   ]
  },
  {
   "cell_type": "markdown",
   "metadata": {},
   "source": [
    "### a)\n",
    "\n",
    "Make a function `simpsons_method(f, a, b)` that takes as input a function `f`, a starting point `a`, and a stopping point `b` and returns the Simpson's method approximation to the integral of $f$ from $a$ to $b$.\n",
    "\n",
    "***Example run***\n",
    "```python\n",
    "import math\n",
    "def f(x):\n",
    "    return math.log(x)\n",
    "print(simpsons_method(f,1,2))\n",
    "  \n",
    "#output:\n",
    "0.3858346021654338\n",
    "```\n",
    "\n",
    "**Write your code in the block below**"
   ]
  },
  {
   "cell_type": "code",
   "execution_count": null,
   "metadata": {},
   "outputs": [],
   "source": []
  },
  {
   "cell_type": "markdown",
   "metadata": {},
   "source": [
    "## b)\n",
    "To compute the integral more accurately we can either use the composite Simpson's rule, or the more economical adaptive Simpson's rule which is able to compute integrals with a guaranteed error of less than or equal to epsilon. This algorithm is formulated recursively through the following steps:\n",
    "\n",
    "1. Given f and an interval `[a,b]`, compute the regular Simpson's approximation `whole = simpsons_method(f,a,b)` on the whole interval\n",
    "2. Find the midpoint `c = (a+b)/2` and compute the Simpson's approximations on the left and right halves of the interval:  `left = simpsons_method(f,a,c)`, `right = simpsons_method(f,c,b)`. \n",
    "3. If `|left + right - whole| > 15*epsilon`, use recursive Simpson's method on the intervals `[a,c]` and `[c,b]` with halved tolerance `epsilon/2`, then return the two approximation added together. \n",
    " * Otherwise, the approximation is accurate enough, so return the improved value `(16*(left + right) - whole)/15`\n",
    " \n",
    " Make a function `recursive_simpson(f,a,b,tol)` that uses the adaptive Simpson's rule *recursively* to compute the integral of $f$ from $a$ to $b$. The inputs `f`, `a` and `b` are as defined in *a)* and `tol` is the error tolerance. The function should return an estimate of the integral.\n",
    " \n",
    "**example run**\n",
    "```python\n",
    "import math\n",
    "def f(x):\n",
    "    return math.log(x)\n",
    "print(recursive(f, 1 , 2, 0.00001))\n",
    "  \n",
    "#output:\n",
    "0.386294208843096\n",
    "```\n",
    "The exact value is 0.3862943611198906. \n",
    "\n",
    "**Write your code in the block below**\n"
   ]
  },
  {
   "cell_type": "code",
   "execution_count": null,
   "metadata": {},
   "outputs": [],
   "source": []
  }
 ],
 "metadata": {
  "kernelspec": {
   "display_name": "Python 3",
   "language": "python",
   "name": "python3"
  },
  "language_info": {
   "codemirror_mode": {
    "name": "ipython",
    "version": 3
   },
   "file_extension": ".py",
   "mimetype": "text/x-python",
   "name": "python",
   "nbconvert_exporter": "python",
   "pygments_lexer": "ipython3",
   "version": "3.7.1"
  }
 },
 "nbformat": 4,
 "nbformat_minor": 2
}
