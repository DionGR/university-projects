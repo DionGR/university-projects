{
 "cells": [
  {
   "cell_type": "markdown",
   "metadata": {
    "deletable": false,
    "editable": false,
    "run_control": {
     "frozen": true
    }
   },
   "source": [
    " <nav class=\"navbar navbar-default\">\n",
    "  <div class=\"container-fluid\">\n",
    "    <div class=\"navbar-header\">\n",
    "      <a class=\"navbar-brand\" href=\"_Oving10.ipynb\">Øving 10</a>\n",
    "    </div>\n",
    "    <ul class=\"nav navbar-nav\">\n",
    "    <li class=\"active\"><a href=\"Rekursjon.ipynb\">Rekursjon (Obligatorisk TDT4109)</a></li>\n",
    "    <li ><a href=\"Matplotlib.ipynb\">Matplotlib (Obligatorisk TDT4110)</a></li>\n",
    "    <li ><a href=\"Eksamen%202012.ipynb\">Eksamen Python 2012</a></li>\n",
    "    <li ><a href=\"Sudoku.ipynb\">Sudoku</a></li>\n",
    "    <li ><a href=\"numpy-arrays%20og%20matplotlib.ipynb\">Numpy-arrays og matplotlib (TDT4110)</a></li>\n",
    "    <li ><a href=\"Bokanalyse%20med%20plotting.ipynb\">Bokanalyse med plotting (TDT4110)</a></li>\n",
    "    <li ><a href=\"Sjakk.ipynb\">Sjakk</a></li>\n",
    "    </ul>\n",
    "  </div>\n",
    "</nav>\n",
    "\n",
    "\n",
    "# Sudoku\n",
    "\n",
    "**Læringsmål.**\n",
    "\n",
    "* Store problemstillinger\n",
    "\n",
    "**I denne oppgaven skal du skrive et større program. For denne typen oppgaver kan det være mer praktisk å laste ned python og eventuelt en IDE (Et område man programmerer i på sin egen maskin). Ta derfor en kikk [her](https://docs.google.com/document/d/17tS0maWyzORUsIjmCVEszfqrl2X4By-Cy2Sw3ENG5lA/edit?usp=sharing) før du begynner. Det er fortsatt mulig å gjøre oppgaven i Jupyter dersom du ikke ønsker å jobbe lokalt, selv om det ikke er anbefalt.**\n",
    " \n",
    "I denne oppgaven skal vi først lage et sudoku-spill (før vi lager en sudoku-løser om noen år). Om du ikke kjenner reglene til sudoku kan du lese deg opp på de selv [her](https://no.wikipedia.org/wiki/Sudoku). Del 1 tar seg av å lage et spillbart sudoku-brett.\n",
    "\n",
    "Du står fritt til å bygge opp brettet slik som du vil, men brettet skal oppfylle følgende krav:\n",
    "\n",
    "* Brukeren skal kunne skrive inn et tall i en valgfri celle. Dersom tallet ikke er gyldig, dvs. ikke mellom 1 og 9, skal en feilmelding skrives ut.\n",
    "* Brukeren skal ikke kunne fylle inn et tall som allerede finnes i den samme raden, kolonnen eller kvadratet.\n",
    "* Brukeren skal kunne slette et tall fra en celle.\n",
    "* Hver gang brukeren fyller inn eller sletter et tall skal det nye brettet skrives ut på en fin måte. Et eksempel kan være som vist under (tallene over og ved siden av brettet angir her henholdsvis kolonne- og radnummer).\n",
    "* Brukeren skal kunne laste inn et brett fra en tekstfil.\n",
    "* Et halvutfylt brett skal kunne lagres til fil, slik at man kan fullføre det senere.\n",
    "* Spillet skal skrive ut en hyggelig gratulasjonsmelding dersom man har klart brettet.\n",
    "* Alt skal utføres gjennom et brukervennlig grensesnitt. Det vil si at brukeren ikke skal trenge å kalle på funksjonene selv, men at alt gjøres via input eller ved å lese fra/skrive til fil.\n",
    "\n",
    "Eksempel på brett:\n",
    ">```python\n",
    "    0 1 2   3 4 5   6 7 8 \n",
    "  +-------+-------+-------+\n",
    "0 | 0 0 6 | 9 0 5 | 0 1 0 |\n",
    "1 | 9 7 0 | 0 1 2 | 3 0 5 |\n",
    "2 | 0 2 0 | 0 0 4 | 8 6 0 |\n",
    "  +-------+-------+-------+\n",
    "3 | 5 0 3 | 8 0 0 | 0 2 0 |\n",
    "4 | 0 0 0 | 0 0 0 | 0 0 0 |\n",
    "5 | 0 8 0 | 0 0 1 | 9 0 7 |\n",
    "  +-------+-------+-------+\n",
    "6 | 0 5 4 | 1 0 0 | 0 7 0 |\n",
    "7 | 2 0 7 | 4 5 0 | 0 9 3 |\n",
    "8 | 0 6 0 | 7 0 3 | 1 0 0 |\n",
    "  +-------+-------+-------+\n",
    "```"
   ]
  },
  {
   "cell_type": "code",
   "execution_count": null,
   "metadata": {},
   "outputs": [],
   "source": [
    "#skriv koden din her"
   ]
  }
 ],
 "metadata": {
  "kernelspec": {
   "display_name": "Python 3",
   "language": "python",
   "name": "python3"
  },
  "language_info": {
   "codemirror_mode": {
    "name": "ipython",
    "version": 3
   },
   "file_extension": ".py",
   "mimetype": "text/x-python",
   "name": "python",
   "nbconvert_exporter": "python",
   "pygments_lexer": "ipython3",
   "version": "3.7.4"
  }
 },
 "nbformat": 4,
 "nbformat_minor": 2
}
