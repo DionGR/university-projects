{
 "cells": [
  {
   "cell_type": "markdown",
   "metadata": {
    "deletable": false,
    "editable": false,
    "run_control": {
     "frozen": true
    }
   },
   "source": [
    "<nav class=\"navbar navbar-default\">\n",
    "  <div class=\"container-fluid\">\n",
    "    <div class=\"navbar-header\">\n",
    "      <a class=\"navbar-brand\" href=\"_Oving10.ipynb\">Øving 10</a>\n",
    "    </div>\n",
    "    <ul class=\"nav navbar-nav\">\n",
    "    <li ><a href=\"Rekursjon.ipynb\">Rekursjon (Obligatorisk TDT4109)</a></li>\n",
    "    <li ><a href=\"Matplotlib.ipynb\">Matplotlib (Obligatorisk TDT4110)</a></li>\n",
    "    <li ><a href=\"Eksamen%202012.ipynb\">Eksamen Python 2012</a></li>\n",
    "    <li ><a href=\"Sudoku.ipynb\">Sudoku</a></li>\n",
    "    <li ><a href=\"numpy-arrays%20og%20matplotlib.ipynb\">Numpy-arrays og matplotlib (TDT4110)</a></li>\n",
    "    <li ><a href=\"Bokanalyse%20med%20plotting.ipynb\">Bokanalyse med plotting (TDT4110)</a></li>\n",
    "    <li class=\"active\"><a href=\"Sjakk.ipynb\">Sjakk</a></li>\n",
    "    </ul>\n",
    "  </div>\n",
    "</nav>\n",
    "\n",
    "\n",
    "# Sjakk\n",
    "\n",
    "**Læringsmål:**\n",
    "\n",
    "* Store problemstillinger\n",
    "\n",
    "**I denne oppgaven skal du skrive et større program. For denne typen oppgaver kan det være mer praktisk å laste ned python og eventuelt en IDE (Et område man programmerer i på sin egen maskin). Ta derfor en kikk [her](https://docs.google.com/document/d/17tS0maWyzORUsIjmCVEszfqrl2X4By-Cy2Sw3ENG5lA/edit?usp=sharing) før du begynner. Det er fortsatt mulig å gjøre oppgaven i Jupyter dersom du ikke ønsker å jobbe lokalt, selv om det ikke er anbefalt.**\n",
    "\n",
    "I denne øvingen skal du implementere sjakk. Begynn med den så fort som mulig, og jobb med den kontinuerlig (les: denne oppgaven krever mye arbeid).\n",
    "\n",
    "Bruk læringsassistent på sal når du har muligheten.\n",
    "\n",
    "Under er forslag til fremgangsmåte, men du kan gjøre det som du vil. Det som kreves av programmet er:\n",
    "\n",
    "1. Programmet må kunne ta inn trekk fra spillerne (tekstbasert).\n",
    "2. Programmet skal hindre spillerne i å gjøre ulovlige trekk.*\n",
    "3. Programmet skal oppdage og si ifra når en spiller er i sjakk.\n",
    "4. Programmet skal oppdage og si ifra når det er sjakkmatt.\n",
    "5. Hvis en bonde når andre siden av brettet skal den bli forfremmet til en offiser (dronning, løper, springer eller tårn).\n",
    "\n",
    "**Du trenger IKKE ta hensyn til patt, remis, en passant, rokering eller tidskontroll.**\n",
    "\n",
    "Regler for sjakk og hvordan brikkene kan bevege seg finnes her: http://no.wikipedia.org/wiki/Sjakk\n",
    "\n",
    "**Forslag til framgangsmåte:**\n",
    "\n",
    "Her finner du et forslag til fremgangsmåte, den er veiledende, men kan være til hjelp hvis du ikke helt vet hvor du skal begynne.\n",
    "\n",
    "**a)** Velg en måte å representere et sjakkbrett. Vi anbefaler en todimensjonal liste. Velg også hvordan du skal representere en tom rute og at en rute er opptatt av en bestemt brikke.\n",
    "\n",
    " \n",
    "\n",
    "**b)** Initialiser brettet med alle brikkene i sin korrekte startposisjon.\n",
    "\n",
    " \n",
    "\n",
    "**c)** Gjør det mulig å se brikkene på skjermen. Med andre ord skriv en funksjon som printer ut brettet fint til skjermen.\n",
    "\n",
    "For et penere design, kopier og lim inn disse symbolene i koden din: ♖, ♜, ♗, ♝, ♘, ♞, ♕, ♛, ♔, ♚, ♙, ♟\n",
    "\n",
    " \n",
    "\n",
    "**d)** Gjør det mulig for en spiller å flytte på en brikke. Hvordan kan du implementere at en brikke tar en annen?\n",
    "\n",
    " \n",
    "\n",
    "**e)** Legg til funksjonalitet som sjekker om trekket er lovlig. Gjør dette i flere omganger:\n",
    "\n",
    "1. Er trekket av en gyldig form? (’L’ fasong for springer, diagonalt for løper etc.)\n",
    "2. Er trekket blokkert av en annen brikke?\n",
    "3. Pass på at det ikke er mulig å ta en brikke av din egen farge.\n",
    " \n",
    "\n",
    "**f)** Skriv funksjonalitet som tester om kongen er i sjakk. Husk også at det er et ulovlig trekk å sette sin egen konge i sjakk, utvid testene over slik at dette også blir et ugyldig trekk.\n",
    "\n",
    " \n",
    "\n",
    "**g)** Skriv funksjonalitet for å sjekke om kongen er i sjakk-matt. (Her kan du gjenbruke kode fra sjakk-testen)\n",
    "\n",
    " \n",
    "\n",
    "**h)** Skriv funksjonalitet som oppdager at en bonde er flyttet til andre siden av brettet og la spilleren forfremme bonden til en dronning/tårn/løper/springer."
   ]
  },
  {
   "cell_type": "code",
   "execution_count": null,
   "metadata": {},
   "outputs": [],
   "source": [
    "#skriv koden din her om du velger å kode i jupyter, vi anbefaler å kode denne oppgaven i idle eller pycharm"
   ]
  }
 ],
 "metadata": {
  "kernelspec": {
   "display_name": "Python 3",
   "language": "python",
   "name": "python3"
  },
  "language_info": {
   "codemirror_mode": {
    "name": "ipython",
    "version": 3
   },
   "file_extension": ".py",
   "mimetype": "text/x-python",
   "name": "python",
   "nbconvert_exporter": "python",
   "pygments_lexer": "ipython3",
   "version": "3.7.4"
  }
 },
 "nbformat": 4,
 "nbformat_minor": 2
}
