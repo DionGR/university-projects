{
 "cells": [
  {
   "cell_type": "markdown",
   "metadata": {
    "deletable": false,
    "editable": false,
    "run_control": {
     "frozen": true
    }
   },
   "source": [
    "# Sudoku\n",
    "\n",
    "**Learning goals.**\n",
    "\n",
    "* Big problems\n",
    "\n",
    "**In this task you are going to write a bigger program. For this type of tasks, it might be more practical to download python and an IDE (An environment in which you program on your own machine). As such, have a look [here](https://docs.google.com/document/d/17tS0maWyzORUsIjmCVEszfqrl2X4By-Cy2Sw3ENG5lA/edit?usp=sharing) before you start.\n",
    "It is still possible to do the task in Jupyter if you do not wish to work locally, even if it is unadvised.**\n",
    "\n",
    "In this task we are going go create a sudoku game (before we create a sudoku solver in a few years). If you do not know the rules of sudoku, you can read them [here](https://en.wikipedia.org/wiki/Sudoku). Part 1 consists of creating a playable sudoku board.\n",
    "\n",
    "You are free to build the game the way you want, but the game must fulfill the following requirements:\n",
    "\n",
    "* The user must be able to write a number in a cell of their choice. If the number is invalid, i.e. not between 1 and 9, an error message will be printed.\n",
    "* The user must not be able to fill in a number that already exists in the same row, column, or square.\n",
    "* The user must be able to delete a number from a cell.\n",
    "* Every time the user fills in or deletes a number, the new board will be printed in a nice manner. An example is given below (numbers above and next to the board that indicate column- and rownumber, respectively).\n",
    "* The user must be able to load a board from a text file.\n",
    "* It must be possible to save an incomplete board to a file, so that it can be finished later.\n",
    "* The must print a nice congratulations in case the user succesfully completes the board.\n",
    "* Everything shall be done through a user friendly interface. I.e. the user will not have to call the functions themselves, but everything is done through input or reading from/writing to file.\n",
    "\n",
    "Example board:\n",
    ">```python\n",
    "    0 1 2   3 4 5   6 7 8 \n",
    "  +-------+-------+-------+\n",
    "0 | 0 0 6 | 9 0 5 | 0 1 0 |\n",
    "1 | 9 7 0 | 0 1 2 | 3 0 5 |\n",
    "2 | 0 2 0 | 0 0 4 | 8 6 0 |\n",
    "  +-------+-------+-------+\n",
    "3 | 5 0 3 | 8 0 0 | 0 2 0 |\n",
    "4 | 0 0 0 | 0 0 0 | 0 0 0 |\n",
    "5 | 0 8 0 | 0 0 1 | 9 0 7 |\n",
    "  +-------+-------+-------+\n",
    "6 | 0 5 4 | 1 0 0 | 0 7 0 |\n",
    "7 | 2 0 7 | 4 5 0 | 0 9 3 |\n",
    "8 | 0 6 0 | 7 0 3 | 1 0 0 |\n",
    "  +-------+-------+-------+\n",
    "```"
   ]
  },
  {
   "cell_type": "code",
   "execution_count": null,
   "metadata": {},
   "outputs": [],
   "source": [
    "#input your code here"
   ]
  }
 ],
 "metadata": {
  "kernelspec": {
   "display_name": "Python 3",
   "language": "python",
   "name": "python3"
  },
  "language_info": {
   "codemirror_mode": {
    "name": "ipython",
    "version": 3
   },
   "file_extension": ".py",
   "mimetype": "text/x-python",
   "name": "python",
   "nbconvert_exporter": "python",
   "pygments_lexer": "ipython3",
   "version": "3.7.1"
  }
 },
 "nbformat": 4,
 "nbformat_minor": 2
}
