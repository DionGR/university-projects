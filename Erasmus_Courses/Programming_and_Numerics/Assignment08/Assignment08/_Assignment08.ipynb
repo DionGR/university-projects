{
 "cells": [
  {
   "attachments": {},
   "cell_type": "markdown",
   "metadata": {
    "deletable": false,
    "editable": false,
    "run_control": {
     "frozen": true
    }
   },
   "source": [
    "# Assignment 8\n",
    "\n",
    "**Learning goals:**\n",
    "\n",
    "- Recursion\n",
    "- Adaptive Simpson's method\n",
    "- Large, complex coding tasks\n",
    "\n",
    "**Starting Out with Python:**\n",
    "\n",
    "- Ch. 12: Recursion\n",
    " \n",
    "\n",
    "## Approval\n",
    "\n",
    "See blackboard for delivery deadline.\n",
    "\n",
    "**To get this assignment approved you need to do the mandatory task for TDT4127, and at least one other task (or summer 2019 exam) in addition to the mandatory.** \n",
    "\n",
    "**Note: If you do two other tasks completely, or complete the whole chess task correctly, in addition to the mandatory, this will account for *two* approved assignments**. \n",
    "\n",
    "**Note 2:** The TDT4127 Summer 2019 exam counts for one task, similar to Recursion, Sudoku or Chess. It can be found in blackboard under \"Tidligere eksamensoppgaver / Previous exams\". It is only available in Norwegian.\n",
    "\n",
    "Tasks that are a little extra difficult are marked with a star. Tasks that go beyond what has been lectured are marked with two stars. Tasks translated to english are marked with (ENG).\n",
    "\n",
    "Task | Theme | Difficulty | TDT4127 \n",
    "--- | --- | --- | ---\n",
    "[Adative Simpson's Rule(ENG)](AdaptiveSimpson.ipynb) | Recursion, Numerical Methods | - | Mandatory\n",
    "[Rekursjon](Rekursjon.ipynb) , [Recursion(ENG)](Rekursjon(ENG).ipynb) | Recursion, Algorithms| - |\n",
    "[Sudoku](Sudoku.ipynb) , [Sudoku(ENG)](Sudoku(ENG).ipynb) |Repetition, Complex problems| - |\n",
    "[Sjakk](Sjakk.ipynb) , [Chess(ENG)](Sjakk(ENG).ipynb)|Repetition, Complex problems|![img](./../Resources/Images/star_yellow.svg) ![img](./../Resources/Images/star_yellow.svg)|"
   ]
  }
 ],
 "metadata": {
  "kernelspec": {
   "display_name": "Python 3",
   "language": "python",
   "name": "python3"
  },
  "language_info": {
   "codemirror_mode": {
    "name": "ipython",
    "version": 3
   },
   "file_extension": ".py",
   "mimetype": "text/x-python",
   "name": "python",
   "nbconvert_exporter": "python",
   "pygments_lexer": "ipython3",
   "version": "3.10.6 (main, Nov 14 2022, 16:10:14) [GCC 11.3.0]"
  },
  "vscode": {
   "interpreter": {
    "hash": "916dbcbb3f70747c44a77c7bcd40155683ae19c65e1c03b4aa3499c5328201f1"
   }
  }
 },
 "nbformat": 4,
 "nbformat_minor": 2
}
