{
 "cells": [
  {
   "cell_type": "markdown",
   "metadata": {},
   "source": [
    "> Dionysios Rigatos <br />\n",
    "> dionysir@stud.ntnu.no <br />"
   ]
  },
  {
   "cell_type": "markdown",
   "metadata": {
    "deletable": false,
    "editable": false,
    "run_control": {
     "frozen": true
    }
   },
   "source": [
    "[Back to Assignment 6](_Oving6.ipynb)\n",
    "\n",
    "# Basics of Lists\n",
    "\n",
    "**Learning goals:**\n",
    "\n",
    "* Lists\n",
    "\n",
    "**Starting Out with Python:**\n",
    "\n",
    "* Kap. 7.1-7.3\n",
    "\n",
    "In this assignment, we will get to know how lists work in Python by creating simple lists, modifying them, and printing the lists."
   ]
  },
  {
   "cell_type": "markdown",
   "metadata": {
    "deletable": false,
    "editable": false,
    "heading_collapsed": true,
    "run_control": {
     "frozen": true
    }
   },
   "source": [
    "### Lists intro"
   ]
  },
  {
   "cell_type": "markdown",
   "metadata": {
    "deletable": false,
    "editable": false,
    "hidden": true,
    "run_control": {
     "frozen": true
    }
   },
   "source": [
    "Lists is a widely used data structure that makes it possible to save a multiple values to one variable. Lists can contain numbers, strings, bools and even other lists.\n",
    "\n",
    "To create an empty list named `empty_list` in Python, we write `empty_list = []`. \n",
    "\n",
    "We can create a list of any length, here named `not_empty_list`, by writing `not_empty_list = [a, b, c, ......]`, where `a, b and c` are elements in the list."
   ]
  },
  {
   "cell_type": "code",
   "execution_count": 9,
   "metadata": {
    "ExecuteTime": {
     "end_time": "2019-07-03T07:01:11.287280Z",
     "start_time": "2019-07-03T07:01:11.230243Z"
    },
    "hidden": true
   },
   "outputs": [],
   "source": [
    "# example of how to create  list named my_list with five elements. One is an int and four are strings\n",
    "my_list = [5, 'elements', 'in', 'the', 'list']"
   ]
  },
  {
   "cell_type": "markdown",
   "metadata": {
    "deletable": false,
    "editable": false,
    "hidden": true,
    "run_control": {
     "frozen": true
    }
   },
   "source": [
    "Every element in a list has an **index** which describes the position of the element in the list. This is used to find or change an element in a list.\n",
    "\n",
    "Lists in python are indexed on zero. This means that the first element has index 0, the next has index 1 and so on. \n",
    "By writing `list[index]`, we can find or change elements in a list. \n",
    "\n",
    "From `my_list` in the code box above, we have `my_list[0]` is `5`, `my_list[1]` is `elements`, `my_list[2]` is `in` and so on. \n",
    "\n",
    "Example: (**Feel free to change the code to see what happens**)"
   ]
  },
  {
   "cell_type": "code",
   "execution_count": 10,
   "metadata": {
    "ExecuteTime": {
     "end_time": "2019-07-03T07:01:58.309772Z",
     "start_time": "2019-07-03T07:01:58.301527Z"
    },
    "hidden": true
   },
   "outputs": [
    {
     "name": "stdout",
     "output_type": "stream",
     "text": [
      "5\n",
      "elements\n",
      "stuffs\n"
     ]
    }
   ],
   "source": [
    "my_list = [5, 'elements', 'in', 'the', 'list']\n",
    "print(my_list[0])  # print the element with index 0 in my_list: 5\n",
    "\n",
    "print(my_list[1]) # print the element at index 1 in my_list: 'elements'\n",
    "my_list[1] = 'stuffs' # change the element at index 1 to 'stuffs'\n",
    "print(my_list[1])  # print the newly changed value at index 1."
   ]
  },
  {
   "cell_type": "markdown",
   "metadata": {
    "deletable": false,
    "editable": false,
    "run_control": {
     "frozen": true
    }
   },
   "source": [
    "### a)"
   ]
  },
  {
   "cell_type": "markdown",
   "metadata": {
    "deletable": false,
    "editable": false,
    "run_control": {
     "frozen": true
    }
   },
   "source": [
    "Create a list named **my_first_list** with all the integers from 1 to 6\n",
    "\n",
    "Example run:\n",
    "\n",
    "```python\n",
    "print(my_first_list)\n",
    "[1, 2, 3, 4, 5, 6]\n",
    "```\n",
    "***Write code in block below.***"
   ]
  },
  {
   "cell_type": "code",
   "execution_count": 11,
   "metadata": {
    "ExecuteTime": {
     "end_time": "2019-07-03T07:04:40.859385Z",
     "start_time": "2019-07-03T07:04:40.850440Z"
    }
   },
   "outputs": [
    {
     "data": {
      "text/plain": [
       "[1, 2, 3, 4, 5, 6]"
      ]
     },
     "execution_count": 11,
     "metadata": {},
     "output_type": "execute_result"
    }
   ],
   "source": [
    "my_first_list = [i for i in range(1, 7)]\n",
    "my_first_list"
   ]
  },
  {
   "cell_type": "markdown",
   "metadata": {
    "deletable": false,
    "editable": false,
    "run_control": {
     "frozen": true
    }
   },
   "source": [
    "### List Length"
   ]
  },
  {
   "cell_type": "markdown",
   "metadata": {
    "deletable": false,
    "editable": false,
    "run_control": {
     "frozen": true
    }
   },
   "source": [
    "In order to find the length of a list, you can use the buildt in function `len()`. If we take `len(my_list)` we will get the value 5 if my_list is similar to the one we created in *Lists Intro* . The length equals the number of elements in the list. As lists are zero-indexed, the index of the last element will allways be the lenght of the list - 1. For example, the last element in `my_list` is located at index 4. Another way of getting the last element of the list is by using index -1."
   ]
  },
  {
   "cell_type": "markdown",
   "metadata": {
    "deletable": false,
    "editable": false,
    "run_control": {
     "frozen": true
    }
   },
   "source": [
    "### b)"
   ]
  },
  {
   "cell_type": "markdown",
   "metadata": {
    "deletable": false,
    "editable": false,
    "run_control": {
     "frozen": true
    }
   },
   "source": [
    "Print the last element in the list to the screen. **Rememer that you can us the list from task a) without defining my_first_list again**\n",
    "\n",
    "\n",
    "Example run:\n",
    "```python\n",
    "6\n",
    "```\n",
    "***Write code in the block below.***"
   ]
  },
  {
   "cell_type": "code",
   "execution_count": 12,
   "metadata": {
    "ExecuteTime": {
     "end_time": "2019-07-03T07:08:45.565459Z",
     "start_time": "2019-07-03T07:08:45.558296Z"
    }
   },
   "outputs": [
    {
     "data": {
      "text/plain": [
       "6"
      ]
     },
     "execution_count": 12,
     "metadata": {},
     "output_type": "execute_result"
    }
   ],
   "source": [
    "my_first_list[-1]"
   ]
  },
  {
   "cell_type": "markdown",
   "metadata": {
    "deletable": false,
    "editable": false,
    "run_control": {
     "frozen": true
    }
   },
   "source": [
    "### c)"
   ]
  },
  {
   "cell_type": "markdown",
   "metadata": {
    "deletable": false,
    "editable": false,
    "run_control": {
     "frozen": true
    }
   },
   "source": [
    "c) Change the second to last element (`5`) with the string `'plus'`.\n",
    "\n",
    "Eksempel på kjøring:\n",
    "\n",
    "```python\n",
    "print(my_first_list)\n",
    "[1, 2, 3, 4, 'plus', 6]\n",
    "```\n",
    "\n",
    "***Write the code in the block below.***"
   ]
  },
  {
   "cell_type": "code",
   "execution_count": 13,
   "metadata": {},
   "outputs": [
    {
     "data": {
      "text/plain": [
       "[1, 2, 3, 4, 'plus', 6]"
      ]
     },
     "execution_count": 13,
     "metadata": {},
     "output_type": "execute_result"
    }
   ],
   "source": [
    "my_first_list[-2] = \"plus\"\n",
    "my_first_list"
   ]
  },
  {
   "cell_type": "markdown",
   "metadata": {},
   "source": [
    "### List slicing"
   ]
  },
  {
   "cell_type": "markdown",
   "metadata": {
    "deletable": false,
    "editable": false,
    "run_control": {
     "frozen": true
    }
   },
   "source": [
    "Lets say we have a list containing 5 elements."
   ]
  },
  {
   "cell_type": "code",
   "execution_count": 14,
   "metadata": {
    "ExecuteTime": {
     "end_time": "2019-07-03T07:14:14.588974Z",
     "start_time": "2019-07-03T07:14:14.582646Z"
    }
   },
   "outputs": [],
   "source": [
    "letters = ['a', 'b', 'c', 'd', 'e']"
   ]
  },
  {
   "cell_type": "markdown",
   "metadata": {
    "ExecuteTime": {
     "end_time": "2019-07-03T07:14:21.095731Z",
     "start_time": "2019-07-03T07:14:21.084154Z"
    },
    "deletable": false,
    "editable": false,
    "run_control": {
     "frozen": true
    }
   },
   "source": [
    "We want a new list containing only the first three elements of `lettes`. We want to name it `letters_abc` and it should contain `'a' , 'b'` and `'c'`. This can be done with **slicing**:"
   ]
  },
  {
   "cell_type": "code",
   "execution_count": 15,
   "metadata": {},
   "outputs": [
    {
     "name": "stdout",
     "output_type": "stream",
     "text": [
      "['a', 'b', 'c']\n"
     ]
    }
   ],
   "source": [
    "letters_abc = letters[:3] # [:3] is the slicing. It looks the same as finding one element, but with the added colon.\n",
    "print(letters_abc)"
   ]
  },
  {
   "cell_type": "markdown",
   "metadata": {
    "deletable": false,
    "editable": false,
    "run_control": {
     "frozen": true
    }
   },
   "source": [
    "The general form of slicing is:\n",
    "```python\n",
    "new_list = old_list[start:end]\n",
    "```\n",
    "where `start` is the index of the *first element* you want in new_list, and `end` is the index+1 of the *last element* you want in new_list. The slicing is in the form *from* `start` and *untill but not including* `end`. If you do not write anyting before the colon(`[:end]`), as we did in the example above, python assumes that we want start to be from the beginning of the list. If you do not write anything after the colon (`[start:]`), python assumes that we want end to be the end of the list."
   ]
  },
  {
   "cell_type": "markdown",
   "metadata": {
    "deletable": false,
    "editable": false,
    "run_control": {
     "frozen": true
    }
   },
   "source": [
    "### d)"
   ]
  },
  {
   "cell_type": "markdown",
   "metadata": {
    "deletable": false,
    "editable": false,
    "run_control": {
     "frozen": true
    }
   },
   "source": [
    "Create a new list named **my_second_list** that should include the three last elements of `my_first_list`.\n",
    "\n",
    "Example\n",
    "\n",
    "```python\n",
    "print(my_second_list)\n",
    "[4, 'plus', 6]```\n",
    "\n",
    "***Write code in the block below.***"
   ]
  },
  {
   "cell_type": "code",
   "execution_count": 16,
   "metadata": {
    "ExecuteTime": {
     "end_time": "2019-07-03T07:17:15.542842Z",
     "start_time": "2019-07-03T07:17:15.536871Z"
    }
   },
   "outputs": [
    {
     "data": {
      "text/plain": [
       "[4, 'plus', 6]"
      ]
     },
     "execution_count": 16,
     "metadata": {},
     "output_type": "execute_result"
    }
   ],
   "source": [
    "my_second_list = my_first_list[3:]\n",
    "my_second_list"
   ]
  },
  {
   "cell_type": "markdown",
   "metadata": {
    "deletable": false,
    "editable": false,
    "run_control": {
     "frozen": true
    }
   },
   "source": [
    "### e)"
   ]
  },
  {
   "cell_type": "markdown",
   "metadata": {
    "deletable": false,
    "editable": false,
    "run_control": {
     "frozen": true
    }
   },
   "source": [
    "Print `my_second_list` and the text string `equals 10`to the console.\n",
    "\n",
    "Example:\n",
    "\n",
    "```python\n",
    "[4, 'plus', 6] equals 10\n",
    "```\n",
    "\n",
    "***Write code in the block below***"
   ]
  },
  {
   "cell_type": "code",
   "execution_count": 17,
   "metadata": {},
   "outputs": [
    {
     "name": "stdout",
     "output_type": "stream",
     "text": [
      "[4, 'plus', 6] equals 10\n"
     ]
    }
   ],
   "source": [
    "print(f\"{my_second_list} equals 10\")"
   ]
  }
 ],
 "metadata": {
  "kernelspec": {
   "display_name": "Python 3",
   "language": "python",
   "name": "python3"
  },
  "language_info": {
   "codemirror_mode": {
    "name": "ipython",
    "version": 3
   },
   "file_extension": ".py",
   "mimetype": "text/x-python",
   "name": "python",
   "nbconvert_exporter": "python",
   "pygments_lexer": "ipython3",
   "version": "3.10.4"
  },
  "toc": {
   "base_numbering": 1,
   "nav_menu": {},
   "number_sections": false,
   "sideBar": true,
   "skip_h1_title": false,
   "title_cell": "Table of Contents",
   "title_sidebar": "Contents",
   "toc_cell": false,
   "toc_position": {},
   "toc_section_display": true,
   "toc_window_display": false
  }
 },
 "nbformat": 4,
 "nbformat_minor": 2
}
