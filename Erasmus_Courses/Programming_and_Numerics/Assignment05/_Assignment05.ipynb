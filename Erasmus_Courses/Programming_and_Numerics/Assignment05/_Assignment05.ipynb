{
 "cells": [
  {
   "attachments": {},
   "cell_type": "markdown",
   "metadata": {
    "deletable": false,
    "editable": false,
    "run_control": {
     "frozen": true
    }
   },
   "source": [
    "#  Assignment 5\n",
    "\n",
    "**Læringsmål:**  \n",
    "\n",
    "* Lists\n",
    "* Newton's Method\n",
    "\n",
    "**Starting Out with Python:**\n",
    "\n",
    "* Ch. 7: Lists and Tuples\n",
    "\n",
    "\n",
    "**Approval**\n",
    "\n",
    "See blackboard for delivery deadline.\n",
    "\n",
    "To get this assignment approved you need to do the mandatory task for TDT4127, and three other tasks in addition to the mandatory. We suggest you start with some basic tasks before trying the numerics tasks, as they require some knowledge of functions.\n",
    "\n",
    "Tasks that are a little extra difficult are marked with a star. Tasks that go beyond what has been lectured are marked with two stars. Tasks translated to english are marked with (ENG).\n",
    "\n",
    "We suggest you start with some of the more basic tasks, and that you do the Intro to NumPy-Arrays before doing the mandatory numerics task.\n",
    "\n",
    "Task | Theme | Difficulty | TDT4127 \n",
    "--- | --- | --- | ---\n",
    "[Generelt om lister](Generelt%20om%20lister.ipynb) , [Basics of Lists(ENG)](Generelt%20om%20lister(ENG).ipynb) |Lists| - | \n",
    "[Lett og blandet om lister](Lett%20og%20blandet.ipynb)|Lister| - | \n",
    "[Kodeforståelse](Kodeforstaelse.ipynb)|Kodeforståelse| - | \n",
    "[Vektorer](Vektorer.ipynb)|Lister| - | \n",
    "[Lister og løkker](Lister%20og%20lokker.ipynb) , [Lists and Loops(ENG)](Lister%20og%20lokker(ENG).ipynb)|Lister og løkker| - | \n",
    "[Teoridelen på eksamen](Teoridelen%20paa%20eksamen.ipynb)|Lister|- | \n",
    "[Gangetabell og lister](Gangetabell%20og%20lister.ipynb) , [Multiplication Table and Lists(ENG)](Gangetabell%20og%20lister(ENG).ipynb)|2D-Lister|- | \n",
    "[Lotto](Lotto.ipynb) , [Lottery(ENG)](Lotto(ENG).ipynb)|Lister|![img](./../Resources/Images/star_yellow.svg)| \n",
    "[Tannfeen](Tannfeen.ipynb)|2D-lister, Løkker|![img](./../Resources/Images/star_yellow.svg)|\n",
    "[Chattebot](Chattebot.ipynb)|Lister, Input| ![img](./../Resources/Images/star_yellow.svg)|\n",
    "[Matriseaddisjon](Matriseaddisjon.ipynb)|2D-Lister|![img](./../Resources/Images/star_yellow.svg)|\n",
    "[Intro to NumPy-Arrays(ENG)](Intro%20til%20numpy-arrays(ENG).ipynb)|Numpy og fysikk|![img](./../Resources/Images/star_yellow.svg)| Suggested \n",
    "[Newton's method and systems of ODEs(ENG)](Newton's%20method%20and%20systems%20of%20ODEs.ipynb)|Newton's Method, Numpy|![img](./../Resources/Images/star_yellow.svg)| Mandatory"
   ]
  }
 ],
 "metadata": {
  "kernelspec": {
   "display_name": "Python 3",
   "language": "python",
   "name": "python3"
  },
  "language_info": {
   "codemirror_mode": {
    "name": "ipython",
    "version": 3
   },
   "file_extension": ".py",
   "mimetype": "text/x-python",
   "name": "python",
   "nbconvert_exporter": "python",
   "pygments_lexer": "ipython3",
   "version": "3.10.6 (main, Nov 14 2022, 16:10:14) [GCC 11.3.0]"
  },
  "toc": {
   "base_numbering": 1,
   "nav_menu": {},
   "number_sections": false,
   "sideBar": true,
   "skip_h1_title": false,
   "title_cell": "Table of Contents",
   "title_sidebar": "Contents",
   "toc_cell": false,
   "toc_position": {},
   "toc_section_display": true,
   "toc_window_display": false
  },
  "vscode": {
   "interpreter": {
    "hash": "916dbcbb3f70747c44a77c7bcd40155683ae19c65e1c03b4aa3499c5328201f1"
   }
  }
 },
 "nbformat": 4,
 "nbformat_minor": 2
}
