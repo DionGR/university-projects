{
 "cells": [
  {
   "cell_type": "markdown",
   "metadata": {},
   "source": [
    "[Back to assignment 6](_Oving6.ipynb)\n",
    "\n",
    "# Multiplication Table and Lists\n",
    "\n",
    "**Learning goals**\n",
    "* Loops\n",
    "* Lists\n",
    "\n",
    "**Starting Out with Python:**\n",
    "\n",
    "* Ch. 7: Lists and Tuples\n",
    "\n"
   ]
  },
  {
   "cell_type": "markdown",
   "metadata": {
    "deletable": false,
    "editable": false,
    "run_control": {
     "frozen": true
    }
   },
   "source": [
    "### a)"
   ]
  },
  {
   "cell_type": "markdown",
   "metadata": {},
   "source": [
    "Create a function `separate(numbers, threshold)` that takes two argumentsr:\n",
    "\n",
    "* numbers: a list of integers\n",
    "* threshold: an integer\n",
    "\n",
    "The function should return two lists: the first should include all elements from `numbers` that are less than `threshold`. The second list should include all elements from `numbers`that are greater than or equal `threshold`.\n",
    "\n",
    "A matrix is a rectangular set of elements ordered by rows and columns. The rows are the horisontal lines, and the columns are the vertical lines.\n",
    "\n",
    "Python represents this with lists that contain other lists. The element in the upper left in the example below ( value 1 ) is in row 1, column 1."
   ]
  },
  {
   "cell_type": "code",
   "execution_count": null,
   "metadata": {},
   "outputs": [],
   "source": [
    "matrix = [\n",
    "[1, 2, 3],\n",
    "[4, 5, 6],\n",
    "[7, 8, 9]]"
   ]
  },
  {
   "cell_type": "markdown",
   "metadata": {},
   "source": [
    "The elements in the matrix can be accessed by using indices: `matrix[row][col]`.\n",
    "\n",
    "*Remember that the indices start at 0 in python. So to access the upper left element in the matrix above we need to write *  `matrix[0][0]`. \n",
    "\n",
    "***Write code for a) in the block below***"
   ]
  },
  {
   "cell_type": "code",
   "execution_count": null,
   "metadata": {},
   "outputs": [],
   "source": []
  },
  {
   "cell_type": "markdown",
   "metadata": {
    "deletable": false,
    "editable": false,
    "run_control": {
     "frozen": true
    }
   },
   "source": [
    "### b)"
   ]
  },
  {
   "cell_type": "markdown",
   "metadata": {},
   "source": [
    "Create a function `multiplication_table(n)` which takes an integer `n` as parameter, and returns the multiplication table from *$1$ to $n$* as a matrix with $n$  rows and $n$ columns.\n",
    "\n",
    "***Write code below***"
   ]
  },
  {
   "cell_type": "code",
   "execution_count": null,
   "metadata": {},
   "outputs": [],
   "source": []
  },
  {
   "cell_type": "markdown",
   "metadata": {},
   "source": [
    "Example run\n",
    "\n",
    "```python\n",
    "print(multiplication_table(4))\n",
    "\n",
    "[[1, 2, 3, 4],\n",
    " [2, 4, 6, 8],\n",
    " [3, 6, 9, 12],\n",
    " [4, 8, 12, 16]]\n",
    " ```"
   ]
  },
  {
   "cell_type": "code",
   "execution_count": null,
   "metadata": {},
   "outputs": [],
   "source": [
    "print(multiplication_table(4))"
   ]
  },
  {
   "cell_type": "markdown",
   "metadata": {
    "deletable": false,
    "editable": false,
    "heading_collapsed": true,
    "run_control": {
     "frozen": true
    }
   },
   "source": [
    "#### Hint"
   ]
  },
  {
   "cell_type": "markdown",
   "metadata": {
    "hidden": true
   },
   "source": [
    "Add elements (which can be lists) to the end of a list by using **`liste.append(element)`**."
   ]
  }
 ],
 "metadata": {
  "kernelspec": {
   "display_name": "Python 3",
   "language": "python",
   "name": "python3"
  },
  "language_info": {
   "codemirror_mode": {
    "name": "ipython",
    "version": 3
   },
   "file_extension": ".py",
   "mimetype": "text/x-python",
   "name": "python",
   "nbconvert_exporter": "python",
   "pygments_lexer": "ipython3",
   "version": "3.7.1"
  },
  "toc": {
   "base_numbering": 1,
   "nav_menu": {},
   "number_sections": false,
   "sideBar": true,
   "skip_h1_title": false,
   "title_cell": "Table of Contents",
   "title_sidebar": "Contents",
   "toc_cell": false,
   "toc_position": {},
   "toc_section_display": true,
   "toc_window_display": false
  }
 },
 "nbformat": 4,
 "nbformat_minor": 2
}
