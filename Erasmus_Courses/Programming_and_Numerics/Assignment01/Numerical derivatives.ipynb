{
 "cells": [
  {
   "cell_type": "markdown",
   "metadata": {},
   "source": [
    "> Dionysios Rigatos <br />\n",
    "> dionysir@stud.ntnu.no <br />"
   ]
  },
  {
   "cell_type": "markdown",
   "metadata": {
    "deletable": false,
    "editable": false,
    "run_control": {
     "frozen": true
    }
   },
   "source": [
    "# Numerical Differentiation\n",
    "###### Learning goals:\n",
    "- Functions\n",
    "\n",
    "##### Starting out with python:\n",
    "- Ch. 5.5"
   ]
  },
  {
   "cell_type": "markdown",
   "metadata": {
    "deletable": false,
    "editable": false,
    "heading_collapsed": true,
    "run_control": {
     "frozen": true
    }
   },
   "source": [
    "###  Difference approximations (click arrow to the right to expand)"
   ]
  },
  {
   "cell_type": "markdown",
   "metadata": {
    "deletable": false,
    "editable": false,
    "hidden": true
   },
   "source": [
    "Sometimes, one cannot find the derivative of a function in the usual manner. This can happen if the function is very hard to differentiate, if you don't know exactly how the function is defined (which can be the case with [black box systems](https://en.wikipedia.org/wiki/Black_box), or if you have little time and don't want to bother differentiating the function.\n",
    "\n",
    " \n",
    "\n",
    "In this case, you can approximate the derivative by using difference approximations. The easiest one of these is to choose a small h and using this, approximate the derivative by the value $$f'(x) \\approx \\frac{f(x+h)-f(x)}{h}.$$\n",
    "\n",
    "This approximation is better, the smaller $h$ is. We can see this as following: If we assume that $f$ is twice differentiable, Taylor's theorem states that $$f(x + h) = f(x) + hf'(x) + \\frac{h^2}{2}f''(z)$$\n",
    "\n",
    "where $z$ is between $x$ and $x+h$. If we rearrange the terms, we find that $$f'(x) = \\frac{f(x+h)-f(x)}{h} + \\frac{h}{2}f''(z).$$\n",
    "\n",
    "Thus, only a term multiplied by $h$ separates the actual derivative from the approximation. This means that the smaller $h$ is, the closer to the true value of the derivative we get.\n",
    "\n"
   ]
  },
  {
   "cell_type": "markdown",
   "metadata": {
    "deletable": false,
    "editable": false,
    "run_control": {
     "frozen": true
    }
   },
   "source": [
    "## Programming task"
   ]
  },
  {
   "cell_type": "code",
   "execution_count": 66,
   "metadata": {},
   "outputs": [],
   "source": [
    "import math"
   ]
  },
  {
   "cell_type": "markdown",
   "metadata": {
    "deletable": false,
    "editable": false,
    "run_control": {
     "frozen": true
    }
   },
   "source": [
    " **a)** \n",
    " - Initiate the variables h = 0.001 and x = 3.14. \n",
    " - Make a variable f1 with the value sin(x). You should use the built-in function sin() from the \"math\" Python library.\n",
    " - Make another variable f2 with the value sin(x+h)"
   ]
  },
  {
   "cell_type": "code",
   "execution_count": 67,
   "metadata": {},
   "outputs": [],
   "source": [
    "h = 0.001\n",
    "x = 3.14 "
   ]
  },
  {
   "cell_type": "code",
   "execution_count": 68,
   "metadata": {},
   "outputs": [
    {
     "data": {
      "text/plain": [
       "0.0015926529164868282"
      ]
     },
     "execution_count": 68,
     "metadata": {},
     "output_type": "execute_result"
    }
   ],
   "source": [
    "f1 = math.sin(x) \n",
    "f1"
   ]
  },
  {
   "cell_type": "code",
   "execution_count": 69,
   "metadata": {},
   "outputs": [
    {
     "data": {
      "text/plain": [
       "0.0005926535550994539"
      ]
     },
     "execution_count": 69,
     "metadata": {},
     "output_type": "execute_result"
    }
   ],
   "source": [
    "f2 = math.sin(x + h)\n",
    "f2"
   ]
  },
  {
   "cell_type": "markdown",
   "metadata": {
    "deletable": false,
    "editable": false,
    "run_control": {
     "frozen": true
    }
   },
   "source": [
    "**b)** Expand your program to differentiate sin(x) numerically, by using $$ f'(x) \\approx \\frac{f2-f1}{h}. $$\n",
    "\n",
    "**Example run**: \n",
    "\n",
    "```python\n",
    "The derivative of sin(x) at x = 3.14 , h = 0.001 has the value -0.9999993613873743\n",
    "```"
   ]
  },
  {
   "cell_type": "code",
   "execution_count": 70,
   "metadata": {},
   "outputs": [
    {
     "data": {
      "text/plain": [
       "-0.9999993613873743"
      ]
     },
     "execution_count": 70,
     "metadata": {},
     "output_type": "execute_result"
    }
   ],
   "source": [
    "df = (f2 - f1) / h\n",
    "df"
   ]
  },
  {
   "cell_type": "code",
   "execution_count": 71,
   "metadata": {},
   "outputs": [
    {
     "name": "stdout",
     "output_type": "stream",
     "text": [
      "The derivative of sin(x) at x = 3.14, h = 0.001 has the value -0.9999993613873743\n"
     ]
    }
   ],
   "source": [
    "print(f'The derivative of sin(x) at x = {x}, h = {h} has the value {df}')"
   ]
  },
  {
   "cell_type": "markdown",
   "metadata": {
    "deletable": false,
    "editable": false,
    "run_control": {
     "frozen": true
    }
   },
   "source": [
    "**c)** Expand your program such that $x$ and $h$ are given by the user. $x$ and $h$ are *floats*, so you will need to use float(input(...)) here. Calculate the derivative and print the answer to the screen.\n",
    "\n",
    "**Example run:**\n",
    "```python\n",
    "Enter x: 3.14\n",
    "Enter step length, h: 1\n",
    "    \n",
    "'''\n",
    "Example output:\n",
    "The derivative of sin(x) at x = 3.14 with step length 1.0 is -0.8422020564666818\n",
    "'''\n",
    "```\n",
    "\n",
    "Note that the exact value of the derivative of sin(x) is cos(x). cos(3.14) is approximately equal to -1, but in the above example, the value was approximated to -0.8422. This means that the step length h was probably a bit too large, see the above discussion of step lengths versus correct values."
   ]
  },
  {
   "cell_type": "code",
   "execution_count": 72,
   "metadata": {},
   "outputs": [],
   "source": [
    "def inputs():\n",
    "    x = float(input('Enter x: '))\n",
    "    h = float(input('Enter step length, h: '))\n",
    "    return x, h"
   ]
  },
  {
   "cell_type": "code",
   "execution_count": 73,
   "metadata": {},
   "outputs": [],
   "source": [
    "def df_approximator(f, x=3.14, h=1.0):\n",
    "        \n",
    "    df = (f(x + h) - f(x)) / h\n",
    "    print(f'The derivative of {f.__name__}(x) at x = {x} with step length {h} is {df}')\n",
    "    \n",
    "    return df"
   ]
  },
  {
   "cell_type": "code",
   "execution_count": 74,
   "metadata": {},
   "outputs": [
    {
     "name": "stdout",
     "output_type": "stream",
     "text": [
      "The derivative of sin(x) at x = 3.14 with step length 1.0 is -0.8422020564666818\n"
     ]
    }
   ],
   "source": [
    "_ = df_approximator(math.sin, *inputs())"
   ]
  },
  {
   "cell_type": "markdown",
   "metadata": {
    "deletable": false,
    "editable": false,
    "run_control": {
     "frozen": true
    }
   },
   "source": [
    "**d)** \n",
    "- Introduce the variable $f3$ with the value $cos(x)$ in the point x. \n",
    "- Expand your program to print the difference between $cos(x)$ and the numerical approximation to $f'(x)$. \n",
    "- Try with different step lengths h and see how the approximation improves/degrades with the different choices.\n",
    " **Example run:**\n",
    " \n",
    "```python\n",
    "Enter x: 3.14\n",
    "Enter step length, h: 1\n",
    "\n",
    "'''\n",
    "Example output:    \n",
    "The derivative of sin(x) at x = 3.14 with step length 1.0 is -0.8422020564666818\n",
    "The difference between the exact value of cos(x) in the point 3.14 and the numerical approximation is 0.15779667526085772 when h is 1.0\n",
    "'''\n",
    "\n",
    "Enter x: 3.14\n",
    "Enter step length, h: 0.0001\n",
    "\n",
    "'''\n",
    "Example output: \n",
    "The derivative of sin(x) at x = 3.14 with step length 0.0001 is -0.9999988096956306\n",
    "The difference between the exact value of cos(x) in the point 3.14 and the numerical approximation is 7.796809109450464e-08 when h is 0.0001\n",
    "'''\n",
    "```"
   ]
  },
  {
   "cell_type": "markdown",
   "metadata": {},
   "source": [
    "#### Note:\n",
    "* Instead of introducing f3, I dynamically use any function as input for checking the approximation results in my error calculator function."
   ]
  },
  {
   "cell_type": "code",
   "execution_count": 75,
   "metadata": {},
   "outputs": [],
   "source": [
    "def df_error_calculator(f, approx_func, exact_func, x=3.14, h=1.0):\n",
    "    \n",
    "    approx_df = approx_func(f, x, h)\n",
    "    exact_df = exact_func(x)\n",
    "    \n",
    "    error = abs(approx_df - exact_df)\n",
    "    \n",
    "    print(f'The difference between the exact value of {exact_func.__name__}(x) in the point {x} and the numerical approximation is {error} when h is {h}')\n",
    "    \n",
    "    return error"
   ]
  },
  {
   "cell_type": "code",
   "execution_count": 77,
   "metadata": {},
   "outputs": [
    {
     "name": "stdout",
     "output_type": "stream",
     "text": [
      "The derivative of sin(x) at x = 3.14 with step length 1.0 is -0.8422020564666818\n",
      "The difference between the exact value of cos(x) in the point 3.14 and the numerical approximation is 0.15779667526085772 when h is 1.0\n"
     ]
    }
   ],
   "source": [
    "_ = df_error_calculator(math.sin, df_approximator, math.cos, *inputs())"
   ]
  },
  {
   "cell_type": "code",
   "execution_count": 76,
   "metadata": {},
   "outputs": [
    {
     "name": "stdout",
     "output_type": "stream",
     "text": [
      "The derivative of sin(x) at x = 3.14 with step length 0.0001 is -0.9999988096956306\n",
      "The difference between the exact value of cos(x) in the point 3.14 and the numerical approximation is 7.796809109450464e-08 when h is 0.0001\n"
     ]
    }
   ],
   "source": [
    "_ = df_error_calculator(math.sin, df_approximator, math.cos, *inputs())"
   ]
  }
 ],
 "metadata": {
  "kernelspec": {
   "display_name": "Python 3",
   "language": "python",
   "name": "python3"
  },
  "language_info": {
   "codemirror_mode": {
    "name": "ipython",
    "version": 3
   },
   "file_extension": ".py",
   "mimetype": "text/x-python",
   "name": "python",
   "nbconvert_exporter": "python",
   "pygments_lexer": "ipython3",
   "version": "3.10.4"
  },
  "vscode": {
   "interpreter": {
    "hash": "916dbcbb3f70747c44a77c7bcd40155683ae19c65e1c03b4aa3499c5328201f1"
   }
  }
 },
 "nbformat": 4,
 "nbformat_minor": 2
}
