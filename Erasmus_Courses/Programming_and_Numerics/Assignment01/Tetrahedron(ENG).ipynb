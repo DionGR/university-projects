{
 "cells": [
  {
   "cell_type": "markdown",
   "metadata": {},
   "source": [
    "> Dionysios Rigatos <br />\n",
    "> dionysir@stud.ntnu.no <br />"
   ]
  },
  {
   "cell_type": "markdown",
   "metadata": {},
   "source": [
    "# Tetrahedron\n",
    "\n",
    "**Learning goals:**\n",
    "\n",
    "* Input/output\n",
    "* Formatting printed text\n",
    "* Using built-in functions\n",
    "\n",
    "**Starting Out with Python:**\n",
    "\n",
    "* ch. 2.8\n",
    "\n",
    "![img](Resources/Images/Tetrahedron.jpg)\n",
    "\n",
    "<br><br>In this task you will find the surface area and volume of regular tetrahedrons (also known as triangular pyramids). A regular tetrahedron is a geometrical object consisting of four equilateral triangles.\n",
    "\n",
    "* **The surface area of a tetrahedron is $A=\\sqrt{3}a^{2}$**  \n",
    "* **The volume of a tetrahedron is $V=\\frac{\\sqrt{2}a^{3}}{12}$  Where $a=\\frac{3}{\\sqrt{6}}h$** "
   ]
  },
  {
   "cell_type": "markdown",
   "metadata": {
    "deletable": false,
    "editable": false,
    "run_control": {
     "frozen": true
    }
   },
   "source": [
    "## a)"
   ]
  },
  {
   "cell_type": "markdown",
   "metadata": {
    "deletable": false,
    "editable": false,
    "run_control": {
     "frozen": true
    }
   },
   "source": [
    " Create a program which compute and prints the surface area of a tetrahedron. Verify that the program prints 23.383 when they height is 3 (it doesnt matter if the answer has more digits than this).\n",
    " \n",
    " \n",
    "**Example run** \n",
    "```python\n",
    "A tetrahedron with height 3 has area 23.383\n",
    "```\n",
    "\n",
    "***Write the code in the block below.***"
   ]
  },
  {
   "cell_type": "code",
   "execution_count": 29,
   "metadata": {},
   "outputs": [],
   "source": [
    "import math"
   ]
  },
  {
   "cell_type": "code",
   "execution_count": 30,
   "metadata": {},
   "outputs": [],
   "source": [
    "def tetrahedron_area(height):\n",
    "    a = 3/math.sqrt(6) * height\n",
    "    return math.sqrt(3) * (a ** 2)"
   ]
  },
  {
   "cell_type": "code",
   "execution_count": 35,
   "metadata": {},
   "outputs": [
    {
     "name": "stdout",
     "output_type": "stream",
     "text": [
      "A tetrahedron with height 3 has area 23.383\n"
     ]
    }
   ],
   "source": [
    "x = 3\n",
    "print(f'A tetrahedron with height {x} has area {round(tetrahedron_area(x), 3)}')"
   ]
  },
  {
   "cell_type": "markdown",
   "metadata": {
    "deletable": false,
    "editable": false,
    "heading_collapsed": true,
    "run_control": {
     "frozen": true
    }
   },
   "source": [
    "#### Hint"
   ]
  },
  {
   "cell_type": "markdown",
   "metadata": {
    "deletable": false,
    "editable": false,
    "hidden": true,
    "run_control": {
     "frozen": true
    }
   },
   "source": [
    "Square roots can be computed either by raising the number to the power of 1/2, for example `x ** 0.5`, or by using import `math` and `math.sqrt` to compute the square roots."
   ]
  },
  {
   "cell_type": "markdown",
   "metadata": {
    "deletable": false,
    "editable": false,
    "run_control": {
     "frozen": true
    }
   },
   "source": [
    "## b)"
   ]
  },
  {
   "cell_type": "markdown",
   "metadata": {
    "deletable": false,
    "editable": false,
    "run_control": {
     "frozen": true
    }
   },
   "source": [
    "Expand the program such that it also prints the volume of a tetrahedron. Verify that the program prints 5.846 when the height is 3 (it doesn't matter if the answer has more digits than this).\n",
    "\n",
    "**Example run:**\n",
    "\n",
    "```python\n",
    "A tetrahedron with height 3 has volume 5.846\n",
    "```\n",
    "\n",
    "Write the code in the block below."
   ]
  },
  {
   "cell_type": "code",
   "execution_count": 36,
   "metadata": {},
   "outputs": [],
   "source": [
    "def tetrahedron_volume(height):\n",
    "    a = height * 3 / math.sqrt(6)\n",
    "    return (math.sqrt(2) * a**3) / 12 "
   ]
  },
  {
   "cell_type": "code",
   "execution_count": 37,
   "metadata": {},
   "outputs": [
    {
     "name": "stdout",
     "output_type": "stream",
     "text": [
      "A tetrahedron with height 3 has volume 5.846\n"
     ]
    }
   ],
   "source": [
    "print(f'A tetrahedron with height {x} has volume {round(tetrahedron_volume(x), 3)}')"
   ]
  },
  {
   "cell_type": "markdown",
   "metadata": {
    "deletable": false,
    "editable": false,
    "run_control": {
     "frozen": true
    }
   },
   "source": [
    "## c)"
   ]
  },
  {
   "cell_type": "markdown",
   "metadata": {
    "deletable": false,
    "editable": false,
    "run_control": {
     "frozen": true
    }
   },
   "source": [
    "Expand the program so that the user is asked to provide the value for the height which is used to compute and output the volume and area\n",
    "\n",
    "**Example run:**\n",
    "\n",
    "  \n",
    "```python\n",
    "Enter a height: 3\n",
    "    \n",
    "A tetrahetron with height 3.0 has volume 5.85 and area 23.38.\n",
    "```\n",
    "\n",
    "Write the code in the block below."
   ]
  },
  {
   "cell_type": "code",
   "execution_count": 39,
   "metadata": {},
   "outputs": [
    {
     "name": "stdout",
     "output_type": "stream",
     "text": [
      "A tetrahedron with height 3.0 has volume 5.85 and area 23.38.\n"
     ]
    }
   ],
   "source": [
    "height_inp = float(input('Enter height: '))\n",
    "\n",
    "print(f\"A tetrahedron with height {height_inp} has volume {round(tetrahedron_volume(height_inp), 2)} and area {round(tetrahedron_area(height_inp), 2)}.\")"
   ]
  }
 ],
 "metadata": {
  "kernelspec": {
   "display_name": "Python 3",
   "language": "python",
   "name": "python3"
  },
  "language_info": {
   "codemirror_mode": {
    "name": "ipython",
    "version": 3
   },
   "file_extension": ".py",
   "mimetype": "text/x-python",
   "name": "python",
   "nbconvert_exporter": "python",
   "pygments_lexer": "ipython3",
   "version": "3.10.4"
  },
  "toc": {
   "base_numbering": 1,
   "nav_menu": {},
   "number_sections": false,
   "sideBar": true,
   "skip_h1_title": false,
   "title_cell": "Table of Contents",
   "title_sidebar": "Contents",
   "toc_cell": false,
   "toc_position": {},
   "toc_section_display": true,
   "toc_window_display": false
  }
 },
 "nbformat": 4,
 "nbformat_minor": 2
}
