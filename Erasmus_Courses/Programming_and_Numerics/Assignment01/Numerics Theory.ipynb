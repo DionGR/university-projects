{
 "cells": [
  {
   "cell_type": "markdown",
   "metadata": {},
   "source": [
    "> Dionysios Rigatos <br />\n",
    "> dionysir@stud.ntnu.no <br />"
   ]
  },
  {
   "cell_type": "markdown",
   "metadata": {
    "deletable": false,
    "editable": false,
    "hide_input": true,
    "run_control": {
     "frozen": true
    }
   },
   "source": [
    "# Theory - Numerics exercise 1"
   ]
  },
  {
   "cell_type": "markdown",
   "metadata": {
    "deletable": false,
    "editable": false,
    "heading_collapsed": true,
    "run_control": {
     "frozen": true
    }
   },
   "source": [
    "#### Using floating point numbers in Python (click the arrow to the left to expand)"
   ]
  },
  {
   "attachments": {},
   "cell_type": "markdown",
   "metadata": {
    "deletable": false,
    "editable": false,
    "hidden": true
   },
   "source": [
    "Computers represent numbers, in base 2, as bits. They have a finite amount of bits available, and to keep the number representations equal across programming languages and platforms, standards are made for how a computer is to store numbers internally. To represent decimal numbers, Python uses double precision floating point numbers (doubles). Doubles consist of 8 bytes, i.e. 64 bits $b_0,b_1,...,b_{63}$ that each can take the values 0 or 1. They are used to represent a decimal number $a$ on the form\n",
    "$$\\mathrm{fl}(a) = (-1)^{b_{0}}*2^{e-1023}*1.b_{1}b_{2}b_{3}....b_{52}.$$\n",
    "\n",
    "Here, the exponent is given as $e = b_{53}b_{54}b_{55}b_{56}b_{57}b_{58}b_{59}b_{60}b_{61}b_{62}b_{63},$ a base 2 integer. Note that $e = 00000000000$ and $e=1111111111$ are interpreted as $0$ and $\\infty$ respectively, so e takes values between 1 and 2046. The mantissa $1.b_{1}b_{2}b_{3}....b_{52}$ is a real number in base 2 with values between 1 and 2:\n",
    "$$ 1.b_{1}b_{2}b_{3}....b_{52} = 1 + \\sum_{j = 1}^{52}b_{j}2^{-j}. $$\n",
    "Since this is a finite sum, we have a finite amount of numbers at our disposal. This means we cannot represent all of the infinitely many real numbers *exactly* as doubles. We can, however, guarantee a certain *precision*.\n",
    "\n",
    "An example of a number that can be exactly represented on this format is 1.25. It is represented as \n",
    "\n",
    "$$b_{1} \\quad b_{53}b_{54}b_{55}b_{56}b_{57}b_{58}b_{59}b_{60}b_{61}b_{62}b_{63} \\quad b_{1}b_{2}b_{3}...b_{52}\n",
    "\\quad$$\n",
    "$$= \\quad 0 \\quad 0 1 1 1 1 1 1 1 1 1 1 \\quad 010000000000000000000000000000000000000000000000000.$$\n",
    "\n",
    "An example of a number that cannot be exactly represented on this format is 9.4. It is represented as\n",
    "$$b_{1} \\quad b_{53}b_{54}b_{55}b_{56}b_{57}b_{58}b_{59}b_{60}b_{61}b_{62}b_{63} \\quad b_{1}b_{2}b_{3}...b_{52}\n",
    "\\quad$$\n",
    "$$= \\quad 0 \\quad 1 0 0 0 0 0 0 0 0 1 0 \\quad 0010110011001100110011001100110011001100110011001100.$$\n",
    "\n",
    "If you check closely, you will find that $fl(9.4) = 9.4 + 2^{-49} - 0.4 * 2^{-48} = 9.4 + (1-0.8) * 2^{-49} = 9.4 + 0.2 * 2^{-49}$, i.e. there is an error of $ 0.2 * 2^{-49}$.\n",
    "\n",
    "\n",
    "In general, one can show that for a floating point number the relative truncation error and the absolute truncation error are given by, respectively,\n",
    "$$\\frac{|\\mathrm{fl}(a) - a|}{|a|} \\leq \\epsilon_{mach} \\qquad \\mathrm{ and } \\qquad |\\mathrm{fl}(a) - a| \\leq |a|\\epsilon_{mach}$$\n",
    "where the *machine epsilon* $\\epsilon_{mach}$,  is the smallest unit of precision in the mantissa. For doubles, machine epsilon is $2^{-52} = 2.22*10^{-16}$ since the last decimal spot in the mantissa is $b_{51}$, corresponding to the value $2^{-51}£. For other floating point standard, other precisions apply. If you are interested, you can read more about this [here](https://en.wikipedia.org/wiki/Floating-point_arithmetic)."
   ]
  },
  {
   "cell_type": "markdown",
   "metadata": {
    "deletable": false,
    "editable": false,
    "run_control": {
     "frozen": true
    }
   },
   "source": [
    "#### a) How many bits of computer memory are used when storing a double?"
   ]
  },
  {
   "cell_type": "markdown",
   "metadata": {},
   "source": [
    "64 bits."
   ]
  },
  {
   "cell_type": "markdown",
   "metadata": {
    "deletable": false,
    "editable": false,
    "run_control": {
     "frozen": true
    }
   },
   "source": [
    "#### b) How are these bits distributed among sign, exponent and significand?"
   ]
  },
  {
   "cell_type": "markdown",
   "metadata": {},
   "source": [
    "1 sign bit\n",
    "\n",
    "11 exponent bits\n",
    "\n",
    "52 mantissa bits"
   ]
  },
  {
   "cell_type": "markdown",
   "metadata": {
    "deletable": false,
    "editable": false,
    "run_control": {
     "frozen": true
    }
   },
   "source": [
    "#### c) What are, in absolute value, the largest and smallest numbers representable as doubles?"
   ]
  },
  {
   "cell_type": "markdown",
   "metadata": {},
   "source": [
    "The smallest absolute number is 0.\n",
    "\n",
    "The largest possible value is infinity, but that is not a number.\n",
    "The largest possible finite value is: \n",
    "1. The unbiased largest possible exponent is 2^(2046-1023) = 2^1023.\n",
    "2. The largest possible mantissa is all bits 1, and the mantissa is in the range [1, 2), so the largest possible mantissa is 2-2^-52.\n",
    "3. So, the largest possible number is `M * 2^e` = `(2 - 2^-52) * 2^1023` = `2 * (2^0 - 2^-53) * 2^1023` = `(2^0 - 2^-53) * 2^1024` = `2^1024 - 2^971`."
   ]
  },
  {
   "cell_type": "markdown",
   "metadata": {
    "deletable": false,
    "editable": false,
    "run_control": {
     "frozen": true
    }
   },
   "source": [
    "#### d) Convert the below numbers to doubles, fl(a), and comment for each of them whether it is an exact representation or not. \n",
    "You do not need to find more than the first eight bits of the significand. You are allowed to use an online \"double converter\" if you like.\n",
    "- 0.25\n",
    "- 4.5\n",
    "- 0.1"
   ]
  },
  {
   "cell_type": "markdown",
   "metadata": {},
   "source": [
    "* 0.25 -> 0.01 -> 1.0 * 2^-2 -> 0 01111111101 00000000...0 (Exact)\n",
    "* 4.5 -> 100.1 -> 1.001 * 2^2 -> 0 10000000001 00100000...0 (Exact)\n",
    "* 0.1 -> 0.00011001... -> 1.10011... * 2^-4 -> 0 01111111011 1001100...1100...1100 (Not exact, repeating sequence)"
   ]
  },
  {
   "cell_type": "markdown",
   "metadata": {
    "deletable": false,
    "editable": false,
    "run_control": {
     "frozen": true
    }
   },
   "source": [
    "#### e) Find the absolute round-off error of the numbers below when represented as a double.\n",
    "\n",
    "- 3.1415\n",
    "- 6.022140857*10^23\n",
    "- 0.8*10^(-10)"
   ]
  },
  {
   "cell_type": "markdown",
   "metadata": {},
   "source": [
    "Rounding Errors when converting to double are at worst 1/2 * eMach, where eMach is 2^-52 for double precision. \n",
    "The absolute rounding error for a, in this case, will be 1/2 * eMach * |a|."
   ]
  },
  {
   "cell_type": "code",
   "execution_count": 42,
   "metadata": {},
   "outputs": [
    {
     "data": {
      "text/plain": [
       "2.220446049250313e-16"
      ]
     },
     "execution_count": 42,
     "metadata": {},
     "output_type": "execute_result"
    }
   ],
   "source": [
    "EMACH = 2**-52\n",
    "EMACH"
   ]
  },
  {
   "cell_type": "code",
   "execution_count": 43,
   "metadata": {},
   "outputs": [],
   "source": [
    "def absolute_rounding_error(a):\n",
    "    return 1/2 * EMACH * abs(a)"
   ]
  },
  {
   "cell_type": "code",
   "execution_count": 44,
   "metadata": {},
   "outputs": [
    {
     "name": "stdout",
     "output_type": "stream",
     "text": [
      "The absolute rounding error of 3.1415 is 3.4877656318599295e-16\n",
      "The absolute rounding error of 6.022140857e+23 is 66859194.369772725\n",
      "The absolute rounding error of 8e-11 is 8.881784197001252e-27\n"
     ]
    }
   ],
   "source": [
    "print(f\"The absolute rounding error of {3.1415} is {absolute_rounding_error(3.1415)}\")\n",
    "print(f\"The absolute rounding error of {6.022140857e23} is {absolute_rounding_error(6.022140857e23)}\")\n",
    "print(f\"The absolute rounding error of {0.8e-10} is {absolute_rounding_error(0.8e-10)}\")"
   ]
  },
  {
   "cell_type": "markdown",
   "metadata": {},
   "source": [
    "Mathematically, the equation would be expressed as |fl(a) - a| = 1/2 * eMach * |a|.\n",
    "Here, eMach/2 is 2.2204 * 10^-16 / 2 = 1.1102 * 10^-16.\n",
    " \n",
    "* 3.1415 * 1.1102 * 10^-16 = 3.4877 * 10^-16\n",
    "* 6.022140857 * 10^23 * 1.1102 * 10^-16 = 6.688 * 10^7\n",
    "* 0.8 * 10^-10 * 1.1102 * 10^-16 = 8.8818 * 10^-27"
   ]
  },
  {
   "cell_type": "markdown",
   "metadata": {},
   "source": [
    "We can also calculate the absolute truncation error, which omits the 1/2 from the formula."
   ]
  },
  {
   "cell_type": "code",
   "execution_count": 45,
   "metadata": {},
   "outputs": [],
   "source": [
    "def absolute_truncation_error(a):\n",
    "    return EMACH * abs(a)"
   ]
  },
  {
   "cell_type": "code",
   "execution_count": 46,
   "metadata": {},
   "outputs": [
    {
     "name": "stdout",
     "output_type": "stream",
     "text": [
      "The absolute truncation error of 3.1415 is 6.975531263719859e-16\n",
      "The absolute truncation error of 6.022140857e+23 is 133718388.73954545\n",
      "The absolute truncation error of 8e-11 is 1.7763568394002504e-26\n"
     ]
    }
   ],
   "source": [
    "print(f\"The absolute truncation error of {3.1415} is {absolute_truncation_error(3.1415)}\")\n",
    "print(f\"The absolute truncation error of {6.022140857e23} is {absolute_truncation_error(6.022140857e23)}\")\n",
    "print(f\"The absolute truncation error of {0.8e-10} is {absolute_truncation_error(0.8e-10)}\")"
   ]
  },
  {
   "cell_type": "markdown",
   "metadata": {},
   "source": [
    "Mathematically, the equation would be expressed as |fl(a) - a| = eMach * |a|.\n",
    "Here, eMach is 2.2204 * 10^-16.\n",
    " \n",
    "* 3.1415 * 2.2204 * 10^-16 = 6.975 * 10^-16\n",
    "* 6.022140857 * 10^23 * 2.2204 * 10^-16 = 1.33719 * 10^8\n",
    "* 0.8 * 10^-10 * 2.2204 * 10^-16 = 1.776 * 10^-26"
   ]
  }
 ],
 "metadata": {
  "kernelspec": {
   "display_name": "Python 3",
   "language": "python",
   "name": "python3"
  },
  "language_info": {
   "codemirror_mode": {
    "name": "ipython",
    "version": 3
   },
   "file_extension": ".py",
   "mimetype": "text/x-python",
   "name": "python",
   "nbconvert_exporter": "python",
   "pygments_lexer": "ipython3",
   "version": "3.10.4"
  },
  "vscode": {
   "interpreter": {
    "hash": "916dbcbb3f70747c44a77c7bcd40155683ae19c65e1c03b4aa3499c5328201f1"
   }
  }
 },
 "nbformat": 4,
 "nbformat_minor": 2
}
