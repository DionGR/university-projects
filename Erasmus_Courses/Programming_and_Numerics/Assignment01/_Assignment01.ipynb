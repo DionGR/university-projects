{
 "cells": [
  {
   "attachments": {},
   "cell_type": "markdown",
   "metadata": {},
   "source": [
    "# Assignment 1\n",
    "\n",
    "## Learning Objectives:\n",
    "\n",
    "* Able to use regular Python calculation operators: addition +, subtraction -, multiplication \\* , division /, integer division '//, modulo % and exponentiation **\n",
    "* Understand the difference between the four basic data types: integer (int), float, text strings (str), and truth values (boolean)\n",
    "* Understand how the calculation operators work for the different data types\n",
    "* Be able to use scientific notation for particularly small and especially large floating numbers\n",
    "* Understand that code must be error-free to run, and be able to correct simple syntax errors\n",
    "* Understand why and how we use variables in programming, and that variable assignment is not the same as mathematical equality\n",
    "* Be able to print to screen and input data from user via keyboard with standard print () and input () functions\n",
    "* Be able to easily convert between data types with standard functions like int () and float ()\n",
    "\n",
    "## Starting Out with Python:\n",
    "\n",
    "* Kap. 2: Input, Processing, and Output\n",
    "\n",
    "\n",
    " \n",
    "\n",
    "## Approval:\n",
    "* You have to do the mandatory exercies\n",
    "* Additionally, you have to do three exercises of your own choice from the table of regular programming exercies. Some of has been translated to english (marked \"ENG\")\n",
    "* Finally, deliver .zip-file at Blackboard\n",
    "\n",
    "Tasks that are a little extra difficult are marked with a star. Tasks that go beyond what has been lectured are marked with two stars.\n",
    "\n",
    "Good luck!\n",
    "\n",
    "\n",
    "Task | Theme | Difficulty | TDT4127\n",
    "--- | --- | --- | ---\n",
    "[Intro to Jupyter (ENG)](Introduction%20to%20Jupyter%20(ENG).ipynb) | Jupyter notebooks | - | ---\n",
    "[Numerics Theory (ENG)](Numerics%20Theory.ipynb) | Theory | - | mandatory\n",
    "[Numerical differentiation(ENG)](Numerical%20derivatives.ipynb) | functions | - | mandatory\n",
    "[Jeg elsker ITGK!](Jeg%20elsker%20ITGK!.ipynb) , [I love IT(ENG)](Jeg%20elsker%20ITGK(ENG).ipynb) | Output | - | ---\n",
    "[Kalkulasjoner](Kalkulasjoner.ipynb)|Matteoperasjoner| - | ---\n",
    "[Input og variable](Input%20og%20variable.ipynb) , [Input and variables(ENG)](Input%20og%20variable(ENG).ipynb)|Input/output og variabler| - | ---\n",
    "[Tallkonvertering](Tallkonvertering.ipynb)|Konvertering| - | ---\n",
    "[Peppes pizza](Peppes%20Pizza.ipynb)|Matteoperasjoner| - | ---\n",
    "[Peppes pizza(ENG)](Peppes%20Pizza(ENG).ipynb)|Math operations| - | ---\n",
    "[Geometri](Geometri.ipynb)|Debugging | - | ---\n",
    "[Vitenskapelig notasjon](Vitenskapelig%20notasjon.ipynb)|konvertering|![img](Resources/Images/star_yellow.svg) | ---\n",
    "[Tetraeder](Tetraeder.ipynb)|innebygde funksjoner|![img](Resources/Images/star_yellow.svg) | ---\n",
    "[Tetrahedron(ENG)](Tetrahedron(ENG).ipynb)|buildt-in functions|![img](Resources/Images/star_yellow.svg) | ---\n",
    "[Bakekurs](Bakekurs.ipynb)|Formatering|![img](Resources/Images/star_yellow.svg) | ---\n",
    "[Baking Course(ENG)](BakingCourse(ENG).ipynb)|Formatting|![img](Resources/Images/star_yellow.svg) | ---\n",
    "[James Bond and Operation round](James%20Bond%20and%20Operation%20round().ipynb)|Strenger, avrunding, heltallsdivisjon, modulo|![img](Resources/Images/star_yellow.svg) ![img](Resources/Images/star_yellow.svg) | ---"
   ]
  }
 ],
 "metadata": {
  "kernelspec": {
   "display_name": "Python 3",
   "language": "python",
   "name": "python3"
  },
  "language_info": {
   "codemirror_mode": {
    "name": "ipython",
    "version": 3
   },
   "file_extension": ".py",
   "mimetype": "text/x-python",
   "name": "python",
   "nbconvert_exporter": "python",
   "pygments_lexer": "ipython3",
   "version": "3.10.6 (main, Nov 14 2022, 16:10:14) [GCC 11.3.0]"
  },
  "toc": {
   "base_numbering": 1,
   "nav_menu": {},
   "number_sections": false,
   "sideBar": true,
   "skip_h1_title": false,
   "title_cell": "Table of Contents",
   "title_sidebar": "Contents",
   "toc_cell": false,
   "toc_position": {},
   "toc_section_display": true,
   "toc_window_display": false
  },
  "vscode": {
   "interpreter": {
    "hash": "916dbcbb3f70747c44a77c7bcd40155683ae19c65e1c03b4aa3499c5328201f1"
   }
  }
 },
 "nbformat": 4,
 "nbformat_minor": 2
}
