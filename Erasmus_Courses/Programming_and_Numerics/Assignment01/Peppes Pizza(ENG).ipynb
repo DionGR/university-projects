{
 "cells": [
  {
   "cell_type": "markdown",
   "metadata": {},
   "source": [
    "> Dionysios Rigatos <br />\n",
    "> dionysir@stud.ntnu.no <br />"
   ]
  },
  {
   "cell_type": "markdown",
   "metadata": {
    "deletable": false,
    "editable": false,
    "run_control": {
     "frozen": true
    }
   },
   "source": [
    "\n",
    "# Peppes Pizza (ENG)\n",
    "\n",
    "\n",
    "\n",
    "**Learning goals**\n",
    "- Performing simple calculations in Python\n",
    "- Writing a simple program in Python\n",
    "\n",
    "**Starting Out with Python:**\n",
    "\n",
    "* ch. 2\n",
    "\n",
    "\n",
    "\n",
    "You have recently eaten dinner at Peppes Pizza with a couple of your friends, and you receive the following receipt:\n",
    "```python\n",
    "Pizza: 750kr\n",
    "Student discount: 20%\n",
    "Tip: 8%\n",
    "```"
   ]
  },
  {
   "cell_type": "markdown",
   "metadata": {
    "deletable": false,
    "editable": false,
    "run_control": {
     "frozen": true
    }
   },
   "source": [
    "## a)"
   ]
  },
  {
   "cell_type": "markdown",
   "metadata": {
    "deletable": false,
    "editable": false,
    "run_control": {
     "frozen": true
    }
   },
   "source": [
    "Write a program which stores the values from the receipt as variables. The variables should be `pizza`, `discount` and `tip`. \n",
    "\n",
    "***Write the code in the block below***"
   ]
  },
  {
   "cell_type": "code",
   "execution_count": 1,
   "metadata": {},
   "outputs": [],
   "source": [
    "pizza = 750\n",
    "student_discount = 0.2\n",
    "tip = 0.08"
   ]
  },
  {
   "cell_type": "markdown",
   "metadata": {
    "deletable": false,
    "editable": false,
    "heading_collapsed": true,
    "run_control": {
     "frozen": true
    }
   },
   "source": [
    "#### Similar Example"
   ]
  },
  {
   "cell_type": "markdown",
   "metadata": {
    "hidden": true
   },
   "source": [
    "Bob Bernt was at the cinema during the weekend and received the following receipt:\n",
    "\n",
    "**Receipt from Prinsen Cinema:**\n",
    "  \n",
    "```python\n",
    "Movie ticket: 125kr\n",
    "Popcorn: 70kr\n",
    "Soda: 25kr\n",
    "Discount = 10%\n",
    "```\n",
    "\n",
    "In the following program, the values from the receipt have been stored in the values `ticket`, `popcorn` and `soda`.\n",
    "\n",
    "**Code:**\n",
    "\n",
    "  \n",
    "```python\n",
    "ticket = 125\n",
    "popcorn = 70\n",
    "soda = 25\n",
    "discount = 0.10\n",
    "```"
   ]
  },
  {
   "cell_type": "markdown",
   "metadata": {
    "deletable": false,
    "editable": false,
    "run_control": {
     "frozen": true
    }
   },
   "source": [
    "## b)"
   ]
  },
  {
   "cell_type": "markdown",
   "metadata": {
    "deletable": false,
    "editable": false,
    "run_control": {
     "frozen": true
    }
   },
   "source": [
    " Create the variable `total`, which should be equal to the total price for the dinner."
   ]
  },
  {
   "cell_type": "markdown",
   "metadata": {
    "deletable": false,
    "editable": false,
    "run_control": {
     "frozen": true
    }
   },
   "source": [
    "#### Similar Example"
   ]
  },
  {
   "cell_type": "markdown",
   "metadata": {
    "deletable": false,
    "editable": false,
    "run_control": {
     "frozen": true
    }
   },
   "source": [
    "Based on the receipt from Prinsen Cinema, which Bob Bernt received under Example of a similar case in Task A. Computing the total sum can be done as follows:\n",
    "\n",
    "  \n",
    "```python\n",
    "total = (ticket + soda + popcorn) * (1 - discount)\n",
    "```"
   ]
  },
  {
   "cell_type": "code",
   "execution_count": 2,
   "metadata": {},
   "outputs": [
    {
     "name": "stdout",
     "output_type": "stream",
     "text": [
      "Total is 648.00kr\n"
     ]
    }
   ],
   "source": [
    "total = pizza * (1 - student_discount) * (1 + tip)\n",
    "print(f'Total is {total:.2f}kr')"
   ]
  },
  {
   "cell_type": "markdown",
   "metadata": {
    "deletable": false,
    "editable": false,
    "run_control": {
     "frozen": true
    }
   },
   "source": [
    "## c) "
   ]
  },
  {
   "cell_type": "markdown",
   "metadata": {
    "deletable": false,
    "editable": false,
    "run_control": {
     "frozen": true
    }
   },
   "source": [
    "Expand the program such that the user can enter how many people participated at the dinner, and output how much each person has to pay.\n",
    "\n",
    "**Eksempel på kjøring:**\n",
    "\n",
    "  \n",
    "```python\n",
    "Total price: 648.0\n",
    "How many people participated at the dinner? 6\n",
    "Since you were 6 persons, so each person has to pay 108.0 kroner.\n",
    "```\n",
    "\n",
    "***Write the code in the block below***"
   ]
  },
  {
   "cell_type": "code",
   "execution_count": 3,
   "metadata": {},
   "outputs": [
    {
     "name": "stdout",
     "output_type": "stream",
     "text": [
      "Since you were 6 persons, so seach person has to pay 108.0 kroner.\n"
     ]
    }
   ],
   "source": [
    "total_inp = float(input('Total price: '))\n",
    "participants_inp = int(input('How many people participater at the dinner? '))\n",
    "\n",
    "print(f\"Since you were {participants_inp} persons, so seach person has to pay {total_inp / participants_inp} kroner.\")"
   ]
  },
  {
   "cell_type": "markdown",
   "metadata": {
    "deletable": false,
    "editable": false,
    "heading_collapsed": true,
    "run_control": {
     "frozen": true
    }
   },
   "source": [
    "### Hint"
   ]
  },
  {
   "cell_type": "markdown",
   "metadata": {
    "hidden": true
   },
   "source": [
    "To use input in computations, the user input must be converted to an int."
   ]
  }
 ],
 "metadata": {
  "kernelspec": {
   "display_name": "Python 3",
   "language": "python",
   "name": "python3"
  },
  "language_info": {
   "codemirror_mode": {
    "name": "ipython",
    "version": 3
   },
   "file_extension": ".py",
   "mimetype": "text/x-python",
   "name": "python",
   "nbconvert_exporter": "python",
   "pygments_lexer": "ipython3",
   "version": "3.10.4"
  },
  "toc": {
   "base_numbering": 1,
   "nav_menu": {},
   "number_sections": false,
   "sideBar": true,
   "skip_h1_title": false,
   "title_cell": "Table of Contents",
   "title_sidebar": "Contents",
   "toc_cell": false,
   "toc_position": {},
   "toc_section_display": true,
   "toc_window_display": false
  }
 },
 "nbformat": 4,
 "nbformat_minor": 2
}
