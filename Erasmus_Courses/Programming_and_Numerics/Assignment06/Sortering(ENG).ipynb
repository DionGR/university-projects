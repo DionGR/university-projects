{
 "cells": [
  {
   "cell_type": "markdown",
   "metadata": {
    "deletable": false,
    "editable": false,
    "run_control": {
     "frozen": true
    }
   },
   "source": [
    "[Back to assignment 7](_Oving7.ipynb)\n",
    "\n",
    "# Sorting\n",
    "\n",
    "**Learning goals**\n",
    "\n",
    "* Lists\n",
    "* Sorting Algorithms\n",
    "\n",
    "**Starting Out with Python:**\n",
    "\n",
    "* Ch. 7: Lists and Tuples\n",
    "\n",
    "Sorting numbers is an important task in the computer world. There exists a lot of algorithms of varying complexity to do this effectively (with few calculations).\n",
    "\n",
    "In this task we will implement two basic sorting algorithms: [Bubble Sort](https://en.wikipedia.org/wiki/Bubble_sort) and [Selection Sort](https://en.wikipedia.org/wiki/Selection_sort). "
   ]
  },
  {
   "cell_type": "markdown",
   "metadata": {
    "deletable": false,
    "editable": false,
    "run_control": {
     "frozen": true
    }
   },
   "source": [
    "### a)"
   ]
  },
  {
   "cell_type": "markdown",
   "metadata": {
    "deletable": false,
    "editable": false,
    "run_control": {
     "frozen": true
    }
   },
   "source": [
    "Write the function `bubble_sort(list)`, explained below as pseudo code\n",
    "\n",
    "* while the list is not sorted:\n",
    " * iterate through the list\n",
    "   * If the element at index `i` is greater than the element at index `i+1`:\n",
    "     * Swap the placement of the two elements\n",
    "     \n",
    "The function should return the sorted list.\n",
    "\n",
    "**Example run:**\n",
    "```python\n",
    "my_list = [9,1,34,7,2,3,45,6,78,56,36,65,33,21,23,34,45,6]\n",
    "print(bubble_sort(my_list))\n",
    "# Output is:\n",
    "# [1, 2, 3, 6, 6, 7, 9, 21, 23, 33, 34, 34, 36, 45, 45, 56, 65, 78]\n",
    "```\n",
    "\n",
    "***Write code below*** "
   ]
  },
  {
   "cell_type": "code",
   "execution_count": null,
   "metadata": {},
   "outputs": [],
   "source": []
  },
  {
   "cell_type": "markdown",
   "metadata": {
    "deletable": false,
    "editable": false,
    "run_control": {
     "frozen": true
    }
   },
   "source": [
    "**Test your code below**"
   ]
  },
  {
   "cell_type": "code",
   "execution_count": null,
   "metadata": {},
   "outputs": [],
   "source": [
    "liste = [9,1,34,7,2,3,45,6,78,56,36,65,33,21,23,34,45,6]\n",
    "print(bubble_sort(liste))"
   ]
  },
  {
   "cell_type": "markdown",
   "metadata": {
    "deletable": false,
    "editable": false,
    "run_control": {
     "frozen": true
    }
   },
   "source": [
    "### b)"
   ]
  },
  {
   "cell_type": "markdown",
   "metadata": {
    "deletable": false,
    "editable": false,
    "run_control": {
     "frozen": true
    }
   },
   "source": [
    "Write the function `selection_sort(list)`, explained below:\n",
    "\n",
    "* Create a new list \n",
    "* Iterate through the unsorted list\n",
    " * Find the greatest number in the unsorted list\n",
    "   * Add to the front of the new list.\n",
    "   * remove the element from the unsorted list\n",
    "   \n",
    "The function should return the sorted list.\n",
    "\n",
    "**Eksempel på kjøring:**\n",
    "```python\n",
    "liste = [9,1,34,7,2,3,45,6,78,56,36,65,33,21,23,34,45,6]\n",
    "print(selection_sort(liste))\n",
    "# Output is:\n",
    "# [1, 2, 3, 6, 6, 7, 9, 21, 23, 33, 34, 34, 36, 45, 45, 56, 65, 78]\n",
    "```\n",
    "\n",
    "**Write code below:**"
   ]
  },
  {
   "cell_type": "code",
   "execution_count": null,
   "metadata": {},
   "outputs": [],
   "source": []
  },
  {
   "cell_type": "markdown",
   "metadata": {
    "deletable": false,
    "editable": false,
    "run_control": {
     "frozen": true
    }
   },
   "source": [
    "**Test your code below**"
   ]
  },
  {
   "cell_type": "code",
   "execution_count": null,
   "metadata": {},
   "outputs": [],
   "source": [
    "liste = [9,1,34,7,2,3,45,6,78,56,36,65,33,21,23,34,45,6]\n",
    "print(selection_sort(liste))"
   ]
  },
  {
   "cell_type": "markdown",
   "metadata": {
    "deletable": false,
    "editable": false,
    "run_control": {
     "frozen": true
    }
   },
   "source": [
    "### c) (Voluntary)"
   ]
  },
  {
   "cell_type": "markdown",
   "metadata": {
    "deletable": false,
    "editable": false,
    "run_control": {
     "frozen": true
    }
   },
   "source": [
    "Which of the two algorithms are \"best\"/fastest to sort?"
   ]
  },
  {
   "cell_type": "markdown",
   "metadata": {},
   "source": [
    "**Your Answer:** <Double click to answer\\>"
   ]
  }
 ],
 "metadata": {
  "kernelspec": {
   "display_name": "Python 3",
   "language": "python",
   "name": "python3"
  },
  "language_info": {
   "codemirror_mode": {
    "name": "ipython",
    "version": 3
   },
   "file_extension": ".py",
   "mimetype": "text/x-python",
   "name": "python",
   "nbconvert_exporter": "python",
   "pygments_lexer": "ipython3",
   "version": "3.7.1"
  },
  "toc": {
   "base_numbering": 1,
   "nav_menu": {},
   "number_sections": false,
   "sideBar": true,
   "skip_h1_title": false,
   "title_cell": "Table of Contents",
   "title_sidebar": "Contents",
   "toc_cell": false,
   "toc_position": {},
   "toc_section_display": true,
   "toc_window_display": false
  }
 },
 "nbformat": 4,
 "nbformat_minor": 2
}
