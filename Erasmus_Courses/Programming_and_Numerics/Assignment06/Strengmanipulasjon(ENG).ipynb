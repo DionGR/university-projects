{
 "cells": [
  {
   "cell_type": "markdown",
   "metadata": {},
   "source": [
    "> Dionysios Rigatos <br />\n",
    "> dionysir@stud.ntnu.no <br />"
   ]
  },
  {
   "cell_type": "markdown",
   "metadata": {},
   "source": [
    "[Back to assignment 7](_Oving7.ipynb)\n",
    "\n",
    "# String Manipulation\n",
    "\n",
    "**Learning goals**\n",
    "\n",
    "* Strings\n",
    "* Functions\n",
    "* Lists\n",
    "* Loops\n",
    "\n",
    "**Starting Out with Python:**\n",
    "\n",
    "* Ch. 8.3"
   ]
  },
  {
   "cell_type": "markdown",
   "metadata": {
    "deletable": false,
    "editable": false,
    "run_control": {
     "frozen": true
    }
   },
   "source": [
    "### a)"
   ]
  },
  {
   "cell_type": "markdown",
   "metadata": {
    "deletable": false,
    "editable": false,
    "run_control": {
     "frozen": true
    }
   },
   "source": [
    "Write the function `find_substring_indexes(str1, str2)` that takes two strings as arguments (str1 og str2).\n",
    "The function should find the indices of all the substrings of `str1` in `str2`. The first index of each occurence of `str1` should be returned as a list.\n",
    "\n",
    "The function should not be case-sensitive. For example: `str2 = \"Is this the real life? Is this just fantasy?\"` will contain four substrings of `str1 = \"iS\"`: \n",
    "\n",
    "\"**Is** th**is** the real life? **Is** th**is** just fantasy?\"\n",
    "\n",
    "**Example run**\n",
    "```python\n",
    "str1 = \"iS\", str2 = \"Is this the real life? Is this just fantasy?\"\n",
    "output -> [0, 5, 23, 28]\n",
    "  \n",
    "str1 = \"oo\", str2 = \"Never let you go let me go. Never let me go ooo\"      #note that 'ooo' counts as two substrings of 'oo' !\n",
    "output -> [44, 45]\n",
    "```\n",
    "\n",
    "***Write the function below and test that it works correctly***"
   ]
  },
  {
   "cell_type": "code",
   "execution_count": 52,
   "metadata": {},
   "outputs": [],
   "source": [
    "def find_substring_indexes(str1, str2):\n",
    "    answer = []\n",
    "    \n",
    "    str1 = str1.lower()\n",
    "    str2 = str2.lower()\n",
    "    \n",
    "    for i in range(len(str2)):\n",
    "        if str2[i : i + len(str1)] == str1:\n",
    "            answer.append(i)\n",
    "            \n",
    "    return answer "
   ]
  },
  {
   "cell_type": "code",
   "execution_count": 53,
   "metadata": {},
   "outputs": [
    {
     "data": {
      "text/plain": [
       "[0, 5, 23, 28]"
      ]
     },
     "execution_count": 53,
     "metadata": {},
     "output_type": "execute_result"
    }
   ],
   "source": [
    "str1 = \"iS\"\n",
    "str2 = \"Is this the real life? Is this just fantasy?\"\n",
    "find_substring_indexes(str1, str2)"
   ]
  },
  {
   "cell_type": "code",
   "execution_count": 54,
   "metadata": {},
   "outputs": [
    {
     "data": {
      "text/plain": [
       "[44, 45]"
      ]
     },
     "execution_count": 54,
     "metadata": {},
     "output_type": "execute_result"
    }
   ],
   "source": [
    "str1 = \"oo\"\n",
    "str2 = \"Never let you go let me go. Never let me go ooo\" \n",
    "find_substring_indexes(str1, str2)"
   ]
  },
  {
   "cell_type": "markdown",
   "metadata": {
    "deletable": false,
    "editable": false,
    "run_control": {
     "frozen": true
    }
   },
   "source": [
    "### b)"
   ]
  },
  {
   "cell_type": "markdown",
   "metadata": {
    "deletable": false,
    "editable": false,
    "run_control": {
     "frozen": true
    }
   },
   "source": [
    "Now, create a function that takes three strings as arguments ( `str1, str2, str3` ). The function should find all substrings of `str1` in `str2`, and return a string where these substrings in `str2`is changed to `str3`. (Do **not** use buildt-in functions. You should use the function you wrote in *a)*). \n",
    "\n",
    "\n",
    "**Example run:**\n",
    "```python\n",
    "str1 = \"iS\", str2 = \"Is this the real life? Is this just fantasy?\", str3 = \"cool\"\n",
    "output -> cool thcool the real life? cool thcool just fantasy?\n",
    "  \n",
    "str1 = \"oo\", str2 = \"Never let you goooo let me goo. Never let me goo oooo\", str3 = \"cool\"\n",
    "output -> Never let you gcoolcoolcool let me gcool. Never let me gcool coolcoolcool\n",
    "```\n",
    "\n",
    "***Write the function below and test that it works correctly:***"
   ]
  },
  {
   "cell_type": "code",
   "execution_count": 60,
   "metadata": {},
   "outputs": [],
   "source": [
    "def replacer(str1, str2, str3):\n",
    "    idxs = find_substring_indexes(str1, str2)\n",
    "    \n",
    "    init = 0\n",
    "    \n",
    "    for i in range(len(idxs)):\n",
    "        str2 = str2[:idxs[i] + init] + str3 + str2[idxs[i] + len(str1) + init:]\n",
    "        init += len(str3) - len(str1)\n",
    "        \n",
    "    return str2"
   ]
  },
  {
   "cell_type": "code",
   "execution_count": 61,
   "metadata": {},
   "outputs": [
    {
     "data": {
      "text/plain": [
       "'cool thcool the real life? cool thcool just fantasy?'"
      ]
     },
     "execution_count": 61,
     "metadata": {},
     "output_type": "execute_result"
    }
   ],
   "source": [
    "str1 = \"iS\"\n",
    "str2 = \"Is this the real life? Is this just fantasy?\"\n",
    "str3 = \"cool\"\n",
    "replacer(str1, str2, str3)"
   ]
  },
  {
   "cell_type": "code",
   "execution_count": 62,
   "metadata": {},
   "outputs": [
    {
     "data": {
      "text/plain": [
       "'Never let you gcoocoocool let me gcool. Never let me gcool coocoocool'"
      ]
     },
     "execution_count": 62,
     "metadata": {},
     "output_type": "execute_result"
    }
   ],
   "source": [
    "str1 = \"oo\"\n",
    "str2 = \"Never let you goooo let me goo. Never let me goo oooo\"\n",
    "str3 = \"cool\"\n",
    "replacer(str1, str2, str3)"
   ]
  }
 ],
 "metadata": {
  "kernelspec": {
   "display_name": "Python 3",
   "language": "python",
   "name": "python3"
  },
  "language_info": {
   "codemirror_mode": {
    "name": "ipython",
    "version": 3
   },
   "file_extension": ".py",
   "mimetype": "text/x-python",
   "name": "python",
   "nbconvert_exporter": "python",
   "pygments_lexer": "ipython3",
   "version": "3.11.8"
  },
  "toc": {
   "base_numbering": 1,
   "nav_menu": {},
   "number_sections": false,
   "sideBar": true,
   "skip_h1_title": false,
   "title_cell": "Table of Contents",
   "title_sidebar": "Contents",
   "toc_cell": false,
   "toc_position": {},
   "toc_section_display": true,
   "toc_window_display": false
  }
 },
 "nbformat": 4,
 "nbformat_minor": 2
}
