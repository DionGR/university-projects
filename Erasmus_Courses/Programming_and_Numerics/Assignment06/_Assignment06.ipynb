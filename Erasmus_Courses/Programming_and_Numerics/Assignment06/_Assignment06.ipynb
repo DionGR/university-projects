{
 "cells": [
  {
   "attachments": {},
   "cell_type": "markdown",
   "metadata": {},
   "source": [
    "## **Assignment 6**\n",
    "\n",
    "**Learning goals**  \n",
    "\n",
    "* Lists\n",
    "* Strings\n",
    "* Gaussian Elimination\n",
    "\n",
    "**Starting Out with Python:**\n",
    "\n",
    "* Ch. 7: Lists and Tuples\n",
    "* Ch. 8: More About Strings\n",
    "\n",
    "\n",
    "\n",
    "**Godkjenning:**\n",
    "\n",
    "See blackboard for delivery deadline.\n",
    "\n",
    "To get this assignment approved you need to do the mandatory task for TDT4127 (Gaussian Elimination), and at least three other tasks in addition to the mandatory.\n",
    "\n",
    "Tasks that are a little extra difficult are marked with a star. Tasks that go beyond what has been lectured are marked with two stars. Tasks translated to english are marked with (ENG).\n",
    "\n",
    "\n",
    "Task | Theme | Difficulty | TDT4127 \n",
    "--- | --- | --- | ---\n",
    "[Aksessering av karakterer i streng](Aksessering.ipynb) , [Character Accessing in Strings(ENG)](Aksessering(ENG).ipynb) |Strings| - |\n",
    "[Strenger og konkatinering](Strenger%20og%20konkatinering.ipynb)|Strings| - |\n",
    "[Slicing av strenger](Slicing.ipynb) , [String Slicing(ENG)](Slicing(ENG).ipynb)|Strings|- |\n",
    "[Tekstbehandling](Tekstbehandling.ipynb)|Strings|- |\n",
    "[Strenghåndtering](Strenghandtering.ipynb) , [String Managment(ENG)](Strenghandtering(ENG).ipynb)|Strings, Loops|- |\n",
    "[Innebygde funksjoner og lister](Innebygde%20funksjoner.ipynb) , [Buildt-in functions and lists(ENG)](Innebygde%20funksjoner(ENG).ipynb)|Lists|- |\n",
    "[Fjesboka](Fjesboka.ipynb)|Lists, Strings|- |\n",
    "[Akkorder og toner](Akkorder%20og%20toner.ipynb)|Lists| - |\n",
    "[Ideel gasslov](Ideel%20gasslov.ipynb)|Lists, Loops, Strings| - |\n",
    "[Sammenhengende tallrekke](Sammenhengende%20tallrekke.ipynb)|Lister, løkker| - |\n",
    "[Gaussian Elimination(ENG)](Gaussian_elimination.ipynb)|2D-lists, Numerical Methods,| ![img](./../Resources/Images/star_yellow.svg)| Mandatory\n",
    "[Sortering](Sortering.ipynb) , [Sorting Numbers(ENG)](Sortering(ENG).ipynb)|Lists, Algorithms|![img](./../Resources/Images/star_yellow.svg)| \n",
    "[Strengmanipulasjon](Strengmanipulasjon.ipynb) , [String Manipulation(ENG)](Strengmanipulasjon(ENG).ipynb)|Strings, Lists| ![img](./../Resources/Images/star_yellow.svg)|\n",
    "[Kryptering](Kryptering.ipynb)|Lists, Security| ![img](./../Resources/Images/star_yellow.svg)|\n",
    "[Litt sjakk](Litt%20sjakk.ipynb)|2D-lists| ![img](./../Resources/Images/star_yellow.svg)![img](./../Resources/Images/star_yellow.svg)|\n"
   ]
  }
 ],
 "metadata": {
  "kernelspec": {
   "display_name": "Python 3",
   "language": "python",
   "name": "python3"
  },
  "language_info": {
   "codemirror_mode": {
    "name": "ipython",
    "version": 3
   },
   "file_extension": ".py",
   "mimetype": "text/x-python",
   "name": "python",
   "nbconvert_exporter": "python",
   "pygments_lexer": "ipython3",
   "version": "3.10.6 (main, Nov 14 2022, 16:10:14) [GCC 11.3.0]"
  },
  "toc": {
   "base_numbering": 1,
   "nav_menu": {},
   "number_sections": false,
   "sideBar": true,
   "skip_h1_title": false,
   "title_cell": "Table of Contents",
   "title_sidebar": "Contents",
   "toc_cell": false,
   "toc_position": {},
   "toc_section_display": true,
   "toc_window_display": false
  },
  "vscode": {
   "interpreter": {
    "hash": "916dbcbb3f70747c44a77c7bcd40155683ae19c65e1c03b4aa3499c5328201f1"
   }
  }
 },
 "nbformat": 4,
 "nbformat_minor": 2
}
