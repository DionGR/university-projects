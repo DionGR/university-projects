{
 "cells": [
  {
   "cell_type": "markdown",
   "metadata": {
    "deletable": false,
    "editable": false,
    "run_control": {
     "frozen": true
    }
   },
   "source": [
    "<nav class=\"navbar navbar-default\">\n",
    "  <div class=\"container-fluid\">\n",
    "    <div class=\"navbar-header\">\n",
    "      <a class=\"navbar-brand\" href=\"_Oving9.ipynb\">Øving 9</a>\n",
    "    </div>\n",
    "    <ul class=\"nav navbar-nav\">\n",
    "    <li ><a href=\"Generelt%20om%20dictionary.ipynb\">Generelt om dictionary</a></li>\n",
    "    <li ><a href=\"Innebygde%20funksjoner%20i%20dictionaries.ipynb\">Innebygde funksjoner</a></li>\n",
    "    <li ><a href=\"Generelt%20om%20sets.ipynb\">Generelt om sets</a></li>\n",
    "    <li ><a href=\"Generelt%20om%20filbehandling.ipynb\">Generelt om filbehandling</a></li>\n",
    "    <li ><a href=\"Osteviruset.ipynb\">Osteviruset</a></li>\n",
    "    <li ><a href=\"Bursdagsdatabasen.ipynb\">Bursdagsdatabasen</a></li>\n",
    "    <li ><a href=\"Tallak%20teller%20antall%20tall.ipynb\">Tallak teller antall tall</a></li>\n",
    "    <li ><a href=\"Opptaksgrenser.ipynb\">Opptaksgrenser</a></li>\n",
    "        <li ><a href=\"Soke%20i%20tekst.ipynb\">Søke i tekst</a></li>\n",
    "    <li class=\"active\"><a href=\"Tre%20paa%20rad.ipynb\">Tre på rad</a></li>\n",
    "    </ul>\n",
    "  </div>\n",
    "</nav>\n",
    "\n",
    "# Tre på rad\n",
    "\n",
    "**Læringsmål:**\n",
    "\n",
    "* Lister\n",
    "* Funksjoner \n",
    "* Betingelser\n",
    "* Strenger\n",
    " \n",
    "I denne oppgaven skal du implementere det populære spillet 3 på rad. Spillet er for to spillere; x og o, som plasserer brikker . En spiller vinner om den klarer å få 3 på rad, enten horisontalt, vertikalt eller diagonalt.\n",
    "\n",
    "\n",
    "**a)** Lag en funksjon som skriver ut brettet, det kan f.eks. se slikt ut om du vil:\n",
    "\n",
    "```python\n",
    "    1   2   3\n",
    "  -------------\n",
    "1 |   |   |   |\n",
    "  -------------\n",
    "2 |   |   |   |\n",
    "  -------------\n",
    "3 |   |   |   |\n",
    "  -------------\n",
    "    ```"
   ]
  },
  {
   "cell_type": "code",
   "execution_count": null,
   "metadata": {},
   "outputs": [],
   "source": []
  },
  {
   "cell_type": "markdown",
   "metadata": {
    "deletable": false,
    "editable": false,
    "run_control": {
     "frozen": true
    }
   },
   "source": [
    "**b)** Lag en funksjon som sjekker om en spiller har vunnet"
   ]
  },
  {
   "cell_type": "code",
   "execution_count": null,
   "metadata": {},
   "outputs": [],
   "source": []
  },
  {
   "cell_type": "markdown",
   "metadata": {
    "deletable": false,
    "editable": false,
    "run_control": {
     "frozen": true
    }
   },
   "source": [
    "**c)** Lag en funksjon som tar inn navnene til de to brukerne."
   ]
  },
  {
   "cell_type": "code",
   "execution_count": null,
   "metadata": {},
   "outputs": [],
   "source": []
  },
  {
   "cell_type": "markdown",
   "metadata": {
    "deletable": false,
    "editable": false,
    "run_control": {
     "frozen": true
    }
   },
   "source": [
    "**d)** Lag en funksjon som sjekker om et trekk er lovlig, altså at det ikke finnes andre brikker der."
   ]
  },
  {
   "cell_type": "code",
   "execution_count": null,
   "metadata": {},
   "outputs": [],
   "source": []
  },
  {
   "cell_type": "markdown",
   "metadata": {
    "deletable": false,
    "editable": false,
    "run_control": {
     "frozen": true
    }
   },
   "source": [
    "**e)** Lag en funksjon som sjekker at input fra brukeren er riktig, altså at man ikke skriver inn rare tegn, eller skriver inn koordinater utenfor spillebrettet."
   ]
  },
  {
   "cell_type": "code",
   "execution_count": null,
   "metadata": {},
   "outputs": [],
   "source": []
  },
  {
   "cell_type": "markdown",
   "metadata": {
    "deletable": false,
    "editable": false,
    "run_control": {
     "frozen": true
    }
   },
   "source": [
    "**f)** Sett dette sammen til et fullverdig 3 på rad spill!"
   ]
  },
  {
   "cell_type": "code",
   "execution_count": null,
   "metadata": {},
   "outputs": [],
   "source": []
  }
 ],
 "metadata": {
  "kernelspec": {
   "display_name": "Python 3",
   "language": "python",
   "name": "python3"
  },
  "language_info": {
   "codemirror_mode": {
    "name": "ipython",
    "version": 3
   },
   "file_extension": ".py",
   "mimetype": "text/x-python",
   "name": "python",
   "nbconvert_exporter": "python",
   "pygments_lexer": "ipython3",
   "version": "3.7.1"
  },
  "toc": {
   "base_numbering": 1,
   "nav_menu": {},
   "number_sections": false,
   "sideBar": true,
   "skip_h1_title": false,
   "title_cell": "Table of Contents",
   "title_sidebar": "Contents",
   "toc_cell": false,
   "toc_position": {},
   "toc_section_display": true,
   "toc_window_display": false
  }
 },
 "nbformat": 4,
 "nbformat_minor": 2
}
