{
 "cells": [
  {
   "cell_type": "markdown",
   "metadata": {
    "deletable": false,
    "editable": false,
    "run_control": {
     "frozen": true
    }
   },
   "source": [
    "# Overview of file management\n",
    "\n",
    "**Learning goals:**\n",
    "- File management\n",
    "- Conditions\n",
    "- Loops\n",
    "\n",
    "**Starting Out with Python:**\n",
    "- Kap. 6: Files and Exceptions\n",
    "\n",
    "In this assignment, we will write to a file and read from a file."
   ]
  },
  {
   "cell_type": "markdown",
   "metadata": {
    "deletable": false,
    "editable": false,
    "run_control": {
     "frozen": true
    }
   },
   "source": [
    "## Overview of files\n",
    "It is recommended to read the following before moving on."
   ]
  },
  {
   "cell_type": "markdown",
   "metadata": {
    "deletable": false,
    "editable": false,
    "run_control": {
     "frozen": true
    }
   },
   "source": [
    "It is often useful to be able to store data in a file, or read data from a file when writing a program in Python. The most used functions are used to open, edit and close external files.\n",
    "\n",
    "When you open files, you must specify how you are going to use the file. As such, it is important to open the file in the correct way. This is accomplished by using the argument in the `open()`-function. A few examples are:\n",
    "\n",
    "- **'r'** - reading from the file (default)\n",
    "- **'w'** - writing to the file\n",
    "- **'a'** - **a**ppend data to the existing file.\n",
    "\n",
    "In this assignment, we will become familiar with how this works:\n",
    "\n",
    "- To open a file in Python, we can write: `f = open('filename', mode)`. Mode is either `'r'`, `'w'` or `'a'` depending on how the file is used.\n",
    "- To read data from a file, we can use: `contents = f.read()`\n",
    "- To write data to a file we can write. `f.write(data)`\n",
    "\n",
    "Files are closed using: `f.close()`"
   ]
  },
  {
   "cell_type": "markdown",
   "metadata": {
    "deletable": false,
    "editable": false,
    "run_control": {
     "frozen": true
    }
   },
   "source": [
    "### Reading from a file"
   ]
  },
  {
   "cell_type": "markdown",
   "metadata": {
    "deletable": false,
    "editable": false,
    "run_control": {
     "frozen": true
    }
   },
   "source": [
    "The example below demonstrates reading from a file. **Run the code below and test it**"
   ]
  },
  {
   "cell_type": "code",
   "execution_count": null,
   "metadata": {},
   "outputs": [],
   "source": [
    "# READING A FILE\n",
    "f = open('example_file1.txt','r') #r specifies that you are going to read from the file.\n",
    "contents = f.read()\n",
    "print(contents)\n",
    "f.close()"
   ]
  },
  {
   "cell_type": "markdown",
   "metadata": {
    "deletable": false,
    "editable": false,
    "run_control": {
     "frozen": true
    }
   },
   "source": [
    "When reading from a file, such as demonstrated above, one must save the contents in a variable (here we use `contents`). **Remember to always close the file!**\n",
    "\n",
    "The file that was being read from, can be found here: [example_file1.txt](../../../../edit/nbgitpuller_test/Ovinger/Oving9/example_file1.txt). Try to change the file, save it using `file -> save` in the menu at the top, then re-run the code block above. The output should now be the new contents of the file!"
   ]
  },
  {
   "cell_type": "markdown",
   "metadata": {
    "deletable": false,
    "editable": false,
    "run_control": {
     "frozen": true
    }
   },
   "source": [
    "### Writing to a file"
   ]
  },
  {
   "cell_type": "markdown",
   "metadata": {
    "deletable": false,
    "editable": false,
    "run_control": {
     "frozen": true
    }
   },
   "source": [
    "In order to write to a file, one may do as demonstrated below. **Run the code below and test!**"
   ]
  },
  {
   "cell_type": "code",
   "execution_count": null,
   "metadata": {},
   "outputs": [],
   "source": [
    "f = open('example_file1.txt','w')  #w specifies that you are going to write to the file.\n",
    "f.write('test')\n",
    "f.close()"
   ]
  },
  {
   "cell_type": "markdown",
   "metadata": {
    "deletable": false,
    "editable": false,
    "run_control": {
     "frozen": true
    }
   },
   "source": [
    "After running the code above, you will see that the contents in [example_file1.txt](../../../../edit/nbgitpuller_test/Ovinger/Oving9/example_file1.txt) has changed. If you want, you may try to replace `'w'` by `'a'`, and see what changes."
   ]
  },
  {
   "cell_type": "markdown",
   "metadata": {
    "deletable": false,
    "editable": false,
    "run_control": {
     "frozen": true
    }
   },
   "source": [
    "## a)"
   ]
  },
  {
   "cell_type": "markdown",
   "metadata": {
    "deletable": false,
    "editable": false,
    "run_control": {
     "frozen": true
    }
   },
   "source": [
    "Create a function `write_to_file(data)` which takes in a string `data` and writes it to a file **my_file.txt**\n",
    "\n",
    "***Write your code in the code block below***"
   ]
  },
  {
   "cell_type": "code",
   "execution_count": null,
   "metadata": {},
   "outputs": [],
   "source": []
  },
  {
   "cell_type": "markdown",
   "metadata": {
    "deletable": false,
    "editable": false,
    "run_control": {
     "frozen": true
    }
   },
   "source": [
    "If you are wondering whether you did it right, you can call the  function and check the contents of the file here: [my_file.txt](../../../../edit/nbgitpuller_test/Ovinger/Oving9/my_file.txt)"
   ]
  },
  {
   "cell_type": "markdown",
   "metadata": {
    "deletable": false,
    "editable": false,
    "run_control": {
     "frozen": true
    }
   },
   "source": [
    "#### Hint"
   ]
  },
  {
   "cell_type": "markdown",
   "metadata": {
    "deletable": false,
    "editable": false,
    "run_control": {
     "frozen": true
    }
   },
   "source": [
    "Here you are going to write to a file, therefore use the following\n",
    "\n",
    "```python\n",
    "f = open('my_file.txt', 'w')\n",
    "```"
   ]
  },
  {
   "cell_type": "markdown",
   "metadata": {
    "deletable": false,
    "editable": false,
    "run_control": {
     "frozen": true
    }
   },
   "source": [
    "## b)"
   ]
  },
  {
   "cell_type": "markdown",
   "metadata": {
    "deletable": false,
    "editable": false,
    "run_control": {
     "frozen": true
    }
   },
   "source": [
    "Create a function `read_from_file(filename)` which takes in the string `filename`, containing the file name, and prints out the contents of the file.\n",
    "\n",
    "***Write the code in the code block below***"
   ]
  },
  {
   "cell_type": "code",
   "execution_count": null,
   "metadata": {},
   "outputs": [],
   "source": []
  },
  {
   "cell_type": "markdown",
   "metadata": {
    "deletable": false,
    "editable": false,
    "run_control": {
     "frozen": true
    }
   },
   "source": [
    "You can test the function by calling it with `'my_file.txt'` as argument."
   ]
  },
  {
   "cell_type": "markdown",
   "metadata": {},
   "source": [
    "#### Hint"
   ]
  },
  {
   "cell_type": "markdown",
   "metadata": {
    "deletable": false,
    "editable": false,
    "run_control": {
     "frozen": true
    }
   },
   "source": [
    "Here you are going to read from a file, therefore use the following\n",
    "\n",
    "```python\n",
    "f = open('my_file.txt', 'r')\n",
    "```"
   ]
  },
  {
   "cell_type": "markdown",
   "metadata": {
    "deletable": false,
    "editable": false,
    "run_control": {
     "frozen": true
    }
   },
   "source": [
    "# c)"
   ]
  },
  {
   "cell_type": "markdown",
   "metadata": {
    "deletable": false,
    "editable": false,
    "run_control": {
     "frozen": true
    }
   },
   "source": [
    "Create a function `main()` where the user gets to choose between writing to- or reading from a file. The function shall  continue running as long as the user does not respond with `'done'`. (See example run)\n",
    "\n",
    "- If the user chooses **write**, you will use **a)** to write data to **my_file.txt**\n",
    "- If the user chooses **read**, you will print out the contents (if any) of **my_file.txt** using **b)**\n",
    "\n",
    "**Example run**\n",
    "```\n",
    "Do you want to read or write? write\n",
    "What do you want to write to file? hello allan\n",
    "hello allan was written to file.\n",
    "Do you want to read or write? read\n",
    "hello allan\n",
    "Do you want to read or write? done\n",
    "You are done.\n",
    "```\n",
    "\n",
    "***Write your code in the code block below***"
   ]
  },
  {
   "cell_type": "code",
   "execution_count": null,
   "metadata": {},
   "outputs": [],
   "source": []
  },
  {
   "cell_type": "markdown",
   "metadata": {},
   "source": [
    "You can always check the contents of [my_file.txt](my_file.txt)"
   ]
  }
 ],
 "metadata": {
  "kernelspec": {
   "display_name": "Python 3",
   "language": "python",
   "name": "python3"
  },
  "language_info": {
   "codemirror_mode": {
    "name": "ipython",
    "version": 3
   },
   "file_extension": ".py",
   "mimetype": "text/x-python",
   "name": "python",
   "nbconvert_exporter": "python",
   "pygments_lexer": "ipython3",
   "version": "3.7.1"
  },
  "toc": {
   "base_numbering": 1,
   "nav_menu": {},
   "number_sections": false,
   "sideBar": true,
   "skip_h1_title": false,
   "title_cell": "Table of Contents",
   "title_sidebar": "Contents",
   "toc_cell": false,
   "toc_position": {},
   "toc_section_display": true,
   "toc_window_display": false
  }
 },
 "nbformat": 4,
 "nbformat_minor": 2
}
