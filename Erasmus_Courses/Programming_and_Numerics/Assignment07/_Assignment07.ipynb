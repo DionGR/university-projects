{
 "cells": [
  {
   "attachments": {},
   "cell_type": "markdown",
   "metadata": {
    "deletable": false,
    "editable": false,
    "run_control": {
     "frozen": true
    }
   },
   "source": [
    "# Assignment 7\n",
    "\n",
    "**Learning goals:**\n",
    "\n",
    "- Dictionary\n",
    "- Sets\n",
    "- Read from file\n",
    "- Write to file\n",
    "- Lists\n",
    "\n",
    "**Starting Out with Python:**\n",
    "- Ch 6: Files and Exceptions\n",
    "- Ch. 9: Dictionaries and Sets\n",
    "\n",
    "\n",
    "**Approval**\n",
    "\n",
    "\n",
    "See blackboard for delivery deadline.\n",
    "\n",
    "To get this assignment approved you need to do the two mandatory tasks for TDT4127, and at least two other tasks in addition to the mandatory.\n",
    "\n",
    "Tasks that are a little extra difficult are marked with a star. Tasks that go beyond what has been lectured are marked with two stars. Tasks translated to english are marked with (ENG).\n",
    "\n",
    "Task | Theme | Difficulty | TDT4127 \n",
    "--- | --- | --- | ---\n",
    "[Generelt om dictionary](Generelt%20om%20dictionary.ipynb), [Intro to dictionary(ENG)](Generelt%20om%20dictionary(ENG).ipynb)|Dictionaries| - |\n",
    "[Innebygde funksjoner](Innebygde%20funksjoner%20i%20dictionaries.ipynb)|Dictionaries| - |\n",
    "[Generelt om sets](Generelt%20om%20sets.ipynb) , [Intro to sets(ENG)](Generelt%20om%20sets(ENG).ipynb)|Sets| - |\n",
    "[Generelt om filbehandling](Generelt%20om%20filbehandling.ipynb), [Intro to file managment(ENG)](Generelt%20om%20filbehandling(ENG).ipynb)|Filhåndtering| - |\n",
    "[Osteviruset](Osteviruset.ipynb)|Dictionaries| - |\n",
    "[Bursdagsdatabasen](Bursdagsdatabasen.ipynb)|Dictionaries, Exceptions| - |\n",
    "[Tallak teller antall tall](Tallak%20teller%20antall%20tall.ipynb)|Filhåndtering, Dictionaries| - |\n",
    "[Opptaksgrenser](Opptaksgrenser.ipynb)|Filhåndtering, Dictionaries|![img](./../Resources/Images/star_yellow.svg)\n",
    "[Søke i tekst](Soke%20i%20tekst.ipynb),[Text searching(ENG)](Soke%20i%20tekst(ENG).ipynb)|Filhåndtering, Dictionaries|![img](./../Resources/Images/star_yellow.svg)\n",
    "[Tre på rad](Tre%20paa%20rad.ipynb), [Three in a row(ENG)](Tre%20paa%20rad(ENG).ipynb)|Repetisjon: Spill|![img](./../Resources/Images/star_yellow.svg)\n",
    "[Plotting Temperatures(ENG)](Plotting%20temperatures.ipynb)| Plotting | - | Mandatory\n",
    "[Integration(ENG)](IntegrationAssignment1.ipynb)| Numerical integration | ![img](./../Resources/Images/star_yellow.svg)|Mandatory "
   ]
  }
 ],
 "metadata": {
  "kernelspec": {
   "display_name": "Python 3",
   "language": "python",
   "name": "python3"
  },
  "language_info": {
   "codemirror_mode": {
    "name": "ipython",
    "version": 3
   },
   "file_extension": ".py",
   "mimetype": "text/x-python",
   "name": "python",
   "nbconvert_exporter": "python",
   "pygments_lexer": "ipython3",
   "version": "3.7.1"
  },
  "toc": {
   "base_numbering": 1,
   "nav_menu": {},
   "number_sections": false,
   "sideBar": true,
   "skip_h1_title": false,
   "title_cell": "Table of Contents",
   "title_sidebar": "Contents",
   "toc_cell": false,
   "toc_position": {},
   "toc_section_display": true,
   "toc_window_display": false
  }
 },
 "nbformat": 4,
 "nbformat_minor": 2
}
