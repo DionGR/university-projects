{
 "cells": [
  {
   "cell_type": "markdown",
   "metadata": {
    "deletable": false,
    "editable": false,
    "run_control": {
     "frozen": true
    }
   },
   "source": [
    "[Back to assignment 9](_Oving9.ipynb)\n",
    "\n",
    "## Text search\n",
    "\n",
    "**Learning goals**\n",
    "\n",
    "* Reading from file\n",
    "* Text managment\n",
    "* Dictionary\n",
    "\n",
    "**Starting Out with Python:**\n",
    "\n",
    "* Ch. 6: Files and Exceptions\n",
    "* Ch. 9: Dictionaries and Sets\n",
    " \n",
    "In this task you are going to get to know dictionaries and reading from files. Please feel free to use buildt-in functions, everything is permitted."
   ]
  },
  {
   "cell_type": "markdown",
   "metadata": {
    "deletable": false,
    "editable": false,
    "run_control": {
     "frozen": true
    }
   },
   "source": [
    "### a)"
   ]
  },
  {
   "cell_type": "markdown",
   "metadata": {
    "deletable": false,
    "editable": false,
    "run_control": {
     "frozen": true
    }
   },
   "source": [
    "Create a function **`read_from_file(filename)`** which takes a string (**filename**) as argument and returns the contents of the file. If the argument is 'Alice_in_wonderland.txt' the result should be:\n",
    "\n",
    "**Running of the code**\n",
    "\n",
    "```\n",
    "Alice's Adventures in Wonderland\n",
    "\n",
    "                ALICE'S ADVENTURES IN WONDERLAND\n",
    "\n",
    "                          Lewis Carroll\n",
    "\n",
    "               THE MILLENNIUM FULCRUM EDITION 3.0\n",
    "\n",
    "\n",
    "\n",
    "\n",
    "                            CHAPTER I\n",
    "\n",
    "                      Down the Rabbit-Hole\n",
    "\n",
    ".\n",
    ".\n",
    ".\n",
    "\n",
    "```\n",
    "***Write your code in the block below.***"
   ]
  },
  {
   "cell_type": "code",
   "execution_count": null,
   "metadata": {},
   "outputs": [],
   "source": []
  },
  {
   "cell_type": "markdown",
   "metadata": {
    "deletable": false,
    "editable": false,
    "run_control": {
     "frozen": true
    }
   },
   "source": [
    "### b)"
   ]
  },
  {
   "cell_type": "markdown",
   "metadata": {
    "deletable": false,
    "editable": false,
    "run_control": {
     "frozen": true
    }
   },
   "source": [
    "Create a function **`remove_symbols(text)`** which removes all special characters from the text(string) **text**, and makes all the letters lower case.\n",
    "Items to be remove are numbers, commas, punctuation and other characters that are not regular letters. Let the spaces remain, so that you can separate the words.\n",
    "\n",
    "Running the function with argument 'Alice_in_wonderland.txt' should produce the following:\n",
    "\n",
    "**Running of code:**\n",
    "```alices adventures in wonderland                alices adventures in wonderland                          lewis carroll ...```\n",
    "\n",
    "***Write your code in the block below.***"
   ]
  },
  {
   "cell_type": "code",
   "execution_count": null,
   "metadata": {},
   "outputs": [],
   "source": []
  },
  {
   "cell_type": "markdown",
   "metadata": {
    "deletable": false,
    "editable": false,
    "heading_collapsed": true,
    "run_control": {
     "frozen": true
    }
   },
   "source": [
    "#### Hint"
   ]
  },
  {
   "cell_type": "markdown",
   "metadata": {
    "deletable": false,
    "editable": false,
    "hidden": true,
    "run_control": {
     "frozen": true
    }
   },
   "source": [
    "use the buildt-in functions *.join()*, *.isalpha()* og *.lower()*. \n",
    "\n",
    "lower() makes all the characters in a string lower case."
   ]
  },
  {
   "cell_type": "code",
   "execution_count": null,
   "metadata": {
    "hidden": true
   },
   "outputs": [],
   "source": [
    "streng = 'Hei pÅ deg'\n",
    "streng = ord.lower()\n",
    "print(streng)"
   ]
  },
  {
   "cell_type": "markdown",
   "metadata": {
    "deletable": false,
    "editable": false,
    "hidden": true,
    "run_control": {
     "frozen": true
    }
   },
   "source": [
    "isalpha() checks if the string only contains letters."
   ]
  },
  {
   "cell_type": "code",
   "execution_count": null,
   "metadata": {
    "hidden": true
   },
   "outputs": [],
   "source": [
    "streng = 'Hei'\n",
    "print(streng.isalpha())     \n",
    "streng = 'Hei på deg'\n",
    "print(streng.isalpha()) \n",
    "streng = \"Hei!!!!\"\n",
    "print(streng.isalpha())"
   ]
  },
  {
   "cell_type": "markdown",
   "metadata": {
    "deletable": false,
    "editable": false,
    "hidden": true,
    "run_control": {
     "frozen": true
    }
   },
   "source": [
    "join() returns a string of which the string elements in a list is joined. "
   ]
  },
  {
   "cell_type": "code",
   "execution_count": null,
   "metadata": {
    "hidden": true
   },
   "outputs": [],
   "source": [
    "s = '-'\n",
    "seq = ('a', 'b', 'c')\n",
    "print(s.join(seq))"
   ]
  },
  {
   "cell_type": "markdown",
   "metadata": {
    "deletable": false,
    "editable": false,
    "run_control": {
     "frozen": true
    }
   },
   "source": [
    "### c)"
   ]
  },
  {
   "cell_type": "markdown",
   "metadata": {
    "deletable": false,
    "editable": false,
    "run_control": {
     "frozen": true
    }
   },
   "source": [
    "Create a function **`count_words(filename)`** which takes a string (**filename**), counts the number of occurences of all words in the file, and returns a dictionary with the result.\n",
    "\n",
    "***Write your code in the block below.***"
   ]
  },
  {
   "cell_type": "code",
   "execution_count": null,
   "metadata": {},
   "outputs": [],
   "source": []
  },
  {
   "cell_type": "markdown",
   "metadata": {
    "deletable": false,
    "editable": false,
    "heading_collapsed": true,
    "run_control": {
     "frozen": true
    }
   },
   "source": [
    "#### Hint"
   ]
  },
  {
   "cell_type": "markdown",
   "metadata": {
    "deletable": false,
    "editable": false,
    "hidden": true,
    "run_control": {
     "frozen": true
    }
   },
   "source": [
    "Use a dictionary with **words** as key and **number of occurences** as value."
   ]
  },
  {
   "cell_type": "markdown",
   "metadata": {
    "deletable": false,
    "editable": false,
    "run_control": {
     "frozen": true
    }
   },
   "source": [
    "### d)"
   ]
  },
  {
   "cell_type": "markdown",
   "metadata": {
    "deletable": false,
    "editable": false,
    "run_control": {
     "frozen": true
    }
   },
   "source": [
    "Check if your function from task c) is working by running it with `Alice_in_wonderland.txt` as argument "
   ]
  },
  {
   "cell_type": "code",
   "execution_count": null,
   "metadata": {},
   "outputs": [],
   "source": [
    "alice_dict = countWords('Alice_in_wonderland.txt')\n",
    "for word, value in alice_dict.items():  # this is how you print each key-value-pair in a dictionary.\n",
    "    print(word, value)                  # this is how you print each key-value-pair in a dictionary."
   ]
  }
 ],
 "metadata": {
  "kernelspec": {
   "display_name": "Python 3",
   "language": "python",
   "name": "python3"
  },
  "language_info": {
   "codemirror_mode": {
    "name": "ipython",
    "version": 3
   },
   "file_extension": ".py",
   "mimetype": "text/x-python",
   "name": "python",
   "nbconvert_exporter": "python",
   "pygments_lexer": "ipython3",
   "version": "3.7.1"
  }
 },
 "nbformat": 4,
 "nbformat_minor": 2
}
