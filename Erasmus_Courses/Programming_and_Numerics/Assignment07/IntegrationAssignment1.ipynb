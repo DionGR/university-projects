{
 "cells": [
  {
   "cell_type": "markdown",
   "metadata": {},
   "source": [
    "> Dionysios Rigatos <br />\n",
    "> dionysir@stud.ntnu.no <br />"
   ]
  },
  {
   "cell_type": "markdown",
   "metadata": {
    "deletable": false,
    "editable": false
   },
   "source": [
    "# Numerical integration \n",
    "\n",
    "# 1) \n",
    "\n",
    "In this exercise we will approximate integrals in 1D using numerical methods.\n",
    "\n",
    "Given a function $f(x)$ on an inteval $[a,b]$, one can approximate its integral $\\int_a^bf(x)\\mathrm{d}x$ by using, for example, the rectangle rule/midpoint rule:\n",
    "$$I=\\int_a^bf(x)\\mathrm{d}x \\approx (b-a) f\\left(\\frac{a+b}{2}\\right),$$\n",
    "or the trapezoidal rule:\n",
    "$$I=\\int_a^bf(x)\\mathrm{d}x \\approx(b-a)\\left(\\frac{f(a)+f(b)}{2}\\right).$$\n",
    "\n"
   ]
  },
  {
   "cell_type": "markdown",
   "metadata": {
    "deletable": false,
    "editable": false
   },
   "source": [
    "## a)\n",
    "\n",
    "Write function that accepts another function $f(x)$ and two interval boundaries $a$ and $b$ and returns an approximation to the integral $I$ using:\n",
    "\n",
    "***i)*** the rectangle rule; and,\n",
    "\n",
    "***ii)*** the trapezoidal rule.\n",
    "\n",
    "**Hint:** Your solution should look something like this:\n",
    "\n",
    "```python\n",
    "def integrate_midpoint(f,a,b):\n",
    "    ...\n",
    "    return I \n",
    "```\n",
    "\n",
    "```python\n",
    "def integrate_trapezoid(f,a,b):\n",
    "    ...\n",
    "    return I\n",
    "```\n",
    "***Write your code in the block below***"
   ]
  },
  {
   "cell_type": "code",
   "execution_count": 1,
   "metadata": {},
   "outputs": [],
   "source": [
    "def integrate_midpoint(f, a, b):\n",
    "    h = b - a\n",
    "    m = (a+b)/2\n",
    "    return h * f(m)\n",
    "\n",
    "def integrate_trapezoid(f, a, b):\n",
    "    h = b - a \n",
    "    t = (f(a) + f(b))/2\n",
    "    return h * t"
   ]
  },
  {
   "cell_type": "markdown",
   "metadata": {
    "deletable": false,
    "editable": false
   },
   "source": [
    "## b)\n",
    "To test our functions `integrate_midpoint` and `integrate_trapezoid`, we can use the following simple function\n",
    "$$f(x)=x^n,$$ \n",
    "which has the indefinite integral\n",
    "$$F(x) = \\int x^n \\mathrm{d}x = \\frac{x^{n+1}}{n+1}$$\n",
    "and the definite integral on the interval $[a,b]$ given by\n",
    "$$I_{exact} = \\int^b_a x^n \\mathrm{d}x =  F(b)-F(a) $$\n",
    "\n"
   ]
  },
  {
   "cell_type": "markdown",
   "metadata": {
    "deletable": false,
    "editable": false
   },
   "source": [
    "### i) \n",
    "For $n=0,1,2,3,4$ and on the interval $[0,1]$, compute the error of the numerical approximations for the two functions you created in Q1a). (***Hint:*** The error is given by the difference from the numerical solution and the exact solution $\\mathrm{error} = I_{numerical} - I_{exact}$,where $I_{numerical}$ is calculated by the trapezoidal rule or midpoint rule above. Also use a `for` loop)\n",
    "\n",
    "***Write your code in the block below***"
   ]
  },
  {
   "cell_type": "code",
   "execution_count": 2,
   "metadata": {},
   "outputs": [
    {
     "name": "stdout",
     "output_type": "stream",
     "text": [
      "For N = 0, we have a Midpoint error of: 0.0\n",
      "For N = 0, we have a Trapezoid error of: 0.0\n",
      "----------\n",
      "For N = 1, we have a Midpoint error of: 0.0\n",
      "For N = 1, we have a Trapezoid error of: 0.0\n",
      "----------\n",
      "For N = 2, we have a Midpoint error of: 0.08333333333333331\n",
      "For N = 2, we have a Trapezoid error of: -0.16666666666666669\n",
      "----------\n",
      "For N = 3, we have a Midpoint error of: 0.125\n",
      "For N = 3, we have a Trapezoid error of: -0.25\n",
      "----------\n"
     ]
    }
   ],
   "source": [
    "a = 0\n",
    "b = 1\n",
    "n = 4\n",
    "\n",
    "\n",
    "for n in range(n):\n",
    "    f = lambda x: x**n \n",
    "    I_indef = lambda x: (x**(n+1))/(n+1)\n",
    "    \n",
    "    I_exact =  I_indef(b) - I_indef(a)\n",
    "    I_midpoint = integrate_midpoint(f, a, b)\n",
    "    I_trapezoid = integrate_trapezoid(f, a, b)\n",
    "    \n",
    "    error_midpoint = I_exact - I_midpoint\n",
    "    error_trapezoid = I_exact - I_trapezoid\n",
    "    \n",
    "    print(f\"For N = {n}, we have a Midpoint error of: {error_midpoint}\")\n",
    "    print(f\"For N = {n}, we have a Trapezoid error of: {error_trapezoid}\")\n",
    "    print(\"-\"*10)"
   ]
  },
  {
   "cell_type": "markdown",
   "metadata": {
    "deletable": false,
    "editable": false,
    "run_control": {
     "frozen": true
    }
   },
   "source": [
    "### ii) \n",
    "What do you notice about the errors for $n=0$ and $1$? Can you explain your observation?"
   ]
  },
  {
   "cell_type": "markdown",
   "metadata": {},
   "source": [
    "We notice that the errors are equal to 0 for $n=0$ and $1$. This is because the trapezoidal rule and the midpoint rule are exact for linear functions."
   ]
  },
  {
   "cell_type": "markdown",
   "metadata": {
    "deletable": false,
    "editable": false
   },
   "source": [
    "# 2)\n",
    "\n",
    "Now we can subdivide the interval $[a,b]$ into $n$ sub-intervals of length $\\Delta x = \\frac{b-a}{n}$ and use a composite integration rule. For example, if we let $x_k = a + k \\Delta x$ then the composite trapezoidal rule is calculated by summing smaller trapezoids with width $\\Delta x$. This is given by the formula\n",
    "$$\\int_a^bf(x)\\mathrm{d}x \\approx \\Delta x \\sum_{k=0}^{n}\\left(\\frac{f(x_k)+f(x_{k+1})}{2}\\right) .$$\n",
    "\n"
   ]
  },
  {
   "cell_type": "markdown",
   "metadata": {},
   "source": [
    "## a) \n",
    "Write a function that accept $f(x)$, two interval boundaries $a$ and $b$, and an integer $n$ and computes an approximation to $I=\\int^b_af(x)\\mathrm{d}x$ using the composite trapezoidal rule with $n$ sub-intervals. The function should look like this\n",
    "```python\n",
    "def integrate_composite_trapezoidal(f,a,b,n):\n",
    "    ...\n",
    "    return I\n",
    "```\n",
    "***Hint:*** you can use your function `integrate_composite_trapezoidal` from before! Also recall that sums are best implemented using a `for` loop. \n",
    "\n",
    "***Write your code in the block below***"
   ]
  },
  {
   "cell_type": "code",
   "execution_count": 3,
   "metadata": {},
   "outputs": [],
   "source": [
    "def integrate_composite_trapezoidal(f, a, b, n):\n",
    "    I = 0\n",
    "    dx = (b-a)/n\n",
    "    \n",
    "    for i in range(n):\n",
    "        I += integrate_trapezoid(f, a + i*dx, a + (i+1)*dx)\n",
    "        \n",
    "    return I"
   ]
  },
  {
   "cell_type": "code",
   "execution_count": 4,
   "metadata": {},
   "outputs": [
    {
     "name": "stdout",
     "output_type": "stream",
     "text": [
      "For N = 0, we have a Composite Trapezoid error of: 0.0\n",
      "----------\n",
      "For N = 1, we have a Composite Trapezoid error of: 0.0\n",
      "----------\n",
      "For N = 2, we have a Composite Trapezoid error of: -0.002604166666666685\n",
      "----------\n",
      "For N = 3, we have a Composite Trapezoid error of: -0.00390625\n",
      "----------\n"
     ]
    }
   ],
   "source": [
    "a = 0\n",
    "b = 1\n",
    "n = 4\n",
    "\n",
    "for n in range(n):\n",
    "    f = lambda x: x**n \n",
    "    I_indef = lambda x: (x**(n+1))/(n+1)\n",
    "    \n",
    "    I_exact =  I_indef(b) - I_indef(a)\n",
    "    I_trapezoid = integrate_composite_trapezoidal(f, a, b, 8)\n",
    "    \n",
    "    error_trapezoid = I_exact - I_trapezoid\n",
    "    \n",
    "    print(f\"For N = {n}, we have a Composite Trapezoid error of: {error_trapezoid}\")\n",
    "    print(\"-\"*10)"
   ]
  },
  {
   "cell_type": "markdown",
   "metadata": {},
   "source": [
    "We notice that the error is significantly reduced when using the composite trapezoidal rule compared to the trapezoidal rule. This is because the composite trapezoidal rule uses multiple trapezoids to approximate the integral, which results in a more accurate approximation."
   ]
  },
  {
   "cell_type": "markdown",
   "metadata": {
    "deletable": false,
    "editable": false
   },
   "source": [
    "## b)\n",
    "The trapezoidal rule is approximating the function with a straight line (a degree 1 polynomial) and then finding the area underneath the line (which is equivalent to finding the area of a trapezoid). We can make a more accurate numerical method by approximating the function with a parabola (a degree 2 polynomial) and compute the area underneath the parabola. This gives us the Simpson rule, or composite Simpson rule if we divide the interval up, which is what we will do. The *composite* Simpson rule is given by the following formula\n",
    "$$\\qquad\\qquad\\quad\\qquad\\qquad\\int_a^bf(x)\\mathrm{d}x \\approx \\frac{\\Delta x}{3} \\left(f(x_0) + 4f(x_1)+ 2f(x_2)+ 4f(x_3)+ 2f(x_4)+...+ 4f(x_{n-1}) +f(x_n)\\right)\\\\\n",
    "\\approx \\frac{\\Delta x}{3} \\left(f(x_0) + \\sum_{k=1}^{n-1} c_k f(x_k) +f(x_n)\\right)$$\n",
    "where $c_k = 2$ if $k$ is even and $c_k = 4$ if $k$ is odd. Now write a function, similar to the previous question, that accept $f(x)$, two interval boundaries $a$ and $b$, and an integer $n$ and computes an approximation to $I=\\int^b_af(x)\\mathrm{d}x$ using the composite *Simpson* rule with $n$ sub-intervals,\n",
    "```python\n",
    "def integrate_composite_simpson(f,a,b,n):\n",
    "    ...\n",
    "    return I\n",
    "```\n",
    "\n",
    "***Write your code in the block below***"
   ]
  },
  {
   "cell_type": "code",
   "execution_count": 5,
   "metadata": {},
   "outputs": [],
   "source": [
    "def integrate_composite_simpson(f, a, b, n):\n",
    "    dx = (b-a)/n\n",
    "    \n",
    "    I = f(a)\n",
    "    \n",
    "    for i in range(1, n):\n",
    "        \n",
    "        if i%2 == 0:\n",
    "            I += 2*f(a + i*dx)\n",
    "        else:\n",
    "            I += 4*f(a + i*dx)\n",
    "            \n",
    "    I += f(b)\n",
    "    I *= dx/3\n",
    "    \n",
    "    return I"
   ]
  },
  {
   "cell_type": "markdown",
   "metadata": {
    "deletable": false,
    "editable": false
   },
   "source": [
    "## c)\n",
    "### i)\n",
    "Using the simple function $f(x) = 5x^4 - 3x^2 + \\exp(x)$, which has the indefinite integral $F(x) = \\int f(x)\\mathrm{d}x = x^5 - x^3 + \\exp(x)$, calculate the error of integral using the composite trapezoidal and Simpson functions that you created above. Try the functions on the interval $[0,1]$ with $n=10$ subintervals. The error for this integral on this interval for the composite trapezoidal rule is about `0.0130816` and the Simpson rule is about `6.762013-05`\n",
    "\n",
    "\n",
    "***Write your code in the block below***"
   ]
  },
  {
   "cell_type": "code",
   "execution_count": 6,
   "metadata": {},
   "outputs": [],
   "source": [
    "import numpy as np"
   ]
  },
  {
   "cell_type": "code",
   "execution_count": 7,
   "metadata": {},
   "outputs": [
    {
     "name": "stdout",
     "output_type": "stream",
     "text": [
      "For the Composite Trapezoid rule, we have an error of: 0.013081662930269466\n",
      "For the Composite Simpson rule, we have an error of: 6.762013244498988e-05\n",
      "----------\n"
     ]
    }
   ],
   "source": [
    "a = 0\n",
    "b = 1\n",
    "n = 10\n",
    "\n",
    "f = lambda x: 5*x**4 - 3*x**2 + np.exp(x)\n",
    "I_indef = lambda x: x**5 - x**3 + np.exp(x)\n",
    "\n",
    "I_exact = I_indef(b) - I_indef(a)\n",
    "I_trapezoid = integrate_composite_trapezoidal(f, a, b, n)\n",
    "I_simpson = integrate_composite_simpson(f, a, b, n)\n",
    "\n",
    "error_trapezoid = np.abs(I_exact - I_trapezoid)\n",
    "error_simpson = np.abs(I_exact - I_simpson)\n",
    "\n",
    "print(f\"For the Composite Trapezoid rule, we have an error of: {error_trapezoid}\")\n",
    "print(f\"For the Composite Simpson rule, we have an error of: {error_simpson}\")\n",
    "\n",
    "print(\"-\"*10)"
   ]
  },
  {
   "cell_type": "markdown",
   "metadata": {
    "deletable": false,
    "editable": false,
    "run_control": {
     "frozen": true
    }
   },
   "source": [
    "### ii) \n",
    "What do you expect is the error of the Simpson rule when used to integrate the function $f(x) = -4 x^2 + 2x +17$ ? "
   ]
  },
  {
   "cell_type": "markdown",
   "metadata": {},
   "source": [
    "For this function, we expect the error to be 0. This is because the Simpson rule is exact for polynomials of degree 3 or less, and the function $f(x) = -4 x^2 + 2x +17$ is a polynomial of degree 2. Therefore, the Simpson rule should give an exact result for this function."
   ]
  }
 ],
 "metadata": {
  "kernelspec": {
   "display_name": "Python 3",
   "language": "python",
   "name": "python3"
  },
  "language_info": {
   "codemirror_mode": {
    "name": "ipython",
    "version": 3
   },
   "file_extension": ".py",
   "mimetype": "text/x-python",
   "name": "python",
   "nbconvert_exporter": "python",
   "pygments_lexer": "ipython3",
   "version": "3.11.8"
  }
 },
 "nbformat": 4,
 "nbformat_minor": 2
}
