{
 "cells": [
  {
   "cell_type": "markdown",
   "metadata": {},
   "source": [
    "> Dionysios Rigatos <br />\n",
    "> dionysir@stud.ntnu.no <br />"
   ]
  },
  {
   "cell_type": "markdown",
   "metadata": {
    "deletable": false,
    "editable": false,
    "run_control": {
     "frozen": true
    }
   },
   "source": [
    "[Back to Assignment 9](_Oving9.ipynb)\n",
    "# Overview of dictionaries\n",
    "\n",
    "**Learning goals:**\n",
    "- Dictionary\n",
    "\n",
    "**Starting Out with Python:**\n",
    "- Chapt. 9: Dictionaries"
   ]
  },
  {
   "cell_type": "markdown",
   "metadata": {
    "deletable": false,
    "editable": false,
    "run_control": {
     "frozen": true
    }
   },
   "source": [
    "## Overview of dictionaries"
   ]
  },
  {
   "cell_type": "markdown",
   "metadata": {
    "deletable": false,
    "editable": false,
    "run_control": {
     "frozen": true
    }
   },
   "source": [
    "A dictionary is an object that stores a collection of data, and might seem quite similar to a list. The difference between a dictionary and a list is that each element consists of two parts: A key and along with a value. The key points to the value, and when accessing the dictionary, one uses the key to get the value of the associated element.\n",
    "\n",
    "- key: Keys can be floats, integers, strings or tuples. Keys have to be unique.\n",
    "- values: The contents the key points to. This can be a list, string, integer, float, etc.\n",
    "\n",
    "For instance, one may think of a translation dictionary, for instance English to Norwegian. Each English word is listed in alphabetical order, and for each English word there is a series of Norwegian translations.\n",
    "\n",
    "![img](./../../Resources/Images/dictionary_eksempel.png)\n",
    "\n",
    "In the image above, \"Learning\" is the key, while the value could be a list of Norwegian translations, value = \\[bli opplært, innlæring, lærdom, etc. \\]. In order to fetch this value (the list of Norwegian translations), the key (Learning) is used to look it up.\n",
    "\n",
    "A dictionary can be created in two ways:\n",
    "- dictionary = dict()\n",
    "- dictionary = {}, (note that lists use brackets, while dictionaries use braces.)\n",
    "\n",
    "An example usage of dictionaries is given below."
   ]
  },
  {
   "cell_type": "code",
   "execution_count": 1,
   "metadata": {},
   "outputs": [
    {
     "name": "stdout",
     "output_type": "stream",
     "text": [
      "74839220\n",
      "65748329\n"
     ]
    }
   ],
   "source": [
    "telephone_numbers = {'arne': 99748391, 'knut': 74839220, 'siri': [92835674, 65748329]}  # Creates a dictionary containing three entries.\n",
    "print(telephone_numbers['knut'])  # Prints out the phone number associated to knut.\n",
    "print(telephone_numbers['siri'][1])  # Prints out the second phone number in the list associated to siri. "
   ]
  },
  {
   "cell_type": "markdown",
   "metadata": {
    "deletable": false,
    "editable": false,
    "run_control": {
     "frozen": true
    }
   },
   "source": [
    "Here 'arne' is the first key, and 99748391 is the associated value. 'knut' is the second key and 'siri' is the last key.\n",
    "\n",
    "In order to add a new key-value-pair to the dictionary, one can do the following:"
   ]
  },
  {
   "cell_type": "code",
   "execution_count": 2,
   "metadata": {},
   "outputs": [
    {
     "name": "stdout",
     "output_type": "stream",
     "text": [
      "{'arne': 99748391, 'knut': 74839220, 'siri': [92835674, 65748329], 'stian': 82935829}\n"
     ]
    }
   ],
   "source": [
    "telephone_numbers['stian'] = 82935829  # Adds Stian to the dictionary.\n",
    "print (telephone_numbers)  # Prints out the entire telephone dictionary."
   ]
  },
  {
   "cell_type": "markdown",
   "metadata": {
    "deletable": false,
    "editable": false,
    "run_control": {
     "frozen": true
    }
   },
   "source": [
    "In order to get a value, you need to look it up using the key. If you for instance want to know the number belonging to arne, you need to write the following:"
   ]
  },
  {
   "cell_type": "code",
   "execution_count": 3,
   "metadata": {},
   "outputs": [
    {
     "data": {
      "text/plain": [
       "99748391"
      ]
     },
     "execution_count": 3,
     "metadata": {},
     "output_type": "execute_result"
    }
   ],
   "source": [
    "telephone_numbers['arne']"
   ]
  },
  {
   "cell_type": "markdown",
   "metadata": {
    "deletable": false,
    "editable": false,
    "run_control": {
     "frozen": true
    }
   },
   "source": [
    "# a)"
   ]
  },
  {
   "cell_type": "markdown",
   "metadata": {
    "deletable": false,
    "editable": false,
    "run_control": {
     "frozen": true
    }
   },
   "source": [
    "***Create an empty dictionary my_family in the code block below.***"
   ]
  },
  {
   "cell_type": "code",
   "execution_count": 4,
   "metadata": {},
   "outputs": [],
   "source": [
    "my_family = {}"
   ]
  },
  {
   "cell_type": "markdown",
   "metadata": {
    "deletable": false,
    "editable": false,
    "run_control": {
     "frozen": true
    }
   },
   "source": [
    "# b)"
   ]
  },
  {
   "cell_type": "markdown",
   "metadata": {
    "deletable": false,
    "editable": false,
    "run_control": {
     "frozen": true
    }
   },
   "source": [
    "Create a function `add_family_member(role, name)` which takes two strings as arguments, `role` (key) and `name` (value), and adds the family member to the dictionary `my_family`\n",
    "\n",
    "***Write your code in the code block below.***"
   ]
  },
  {
   "cell_type": "code",
   "execution_count": 5,
   "metadata": {},
   "outputs": [],
   "source": [
    "def add_family_member(role, name):\n",
    "    my_family[role] = name"
   ]
  },
  {
   "cell_type": "markdown",
   "metadata": {
    "deletable": false,
    "editable": false,
    "run_control": {
     "frozen": true
    }
   },
   "source": [
    "In order to test your code, you can run the code block below."
   ]
  },
  {
   "cell_type": "code",
   "execution_count": 6,
   "metadata": {},
   "outputs": [
    {
     "name": "stdout",
     "output_type": "stream",
     "text": [
      "{'bror': 'Arne'}\n",
      "{'bror': 'Arne', 'far': 'Bob Bernt'}\n"
     ]
    }
   ],
   "source": [
    "add_family_member('bror', 'Arne')\n",
    "print (my_family)\n",
    "add_family_member('far', 'Bob Bernt')\n",
    "print (my_family)"
   ]
  },
  {
   "cell_type": "markdown",
   "metadata": {
    "deletable": false,
    "editable": false,
    "run_control": {
     "frozen": true
    }
   },
   "source": [
    "If you did everything correctly, the output of the block will be:\n",
    "```\n",
    "{'bror': 'Arne'}\n",
    "{'bror': 'Arne', 'far': 'Bob Bernt'}\n",
    "```"
   ]
  },
  {
   "cell_type": "markdown",
   "metadata": {
    "deletable": false,
    "editable": false,
    "run_control": {
     "frozen": true
    }
   },
   "source": [
    "# c)"
   ]
  },
  {
   "cell_type": "markdown",
   "metadata": {
    "deletable": false,
    "editable": false,
    "run_control": {
     "frozen": true
    }
   },
   "source": [
    "If you wish to add more family members with the same role, (e.g. two brothers), you need to create a list containing all brothers.\n",
    "\n",
    "\n",
    "Once you have done that, you can use the regular list-methods such as .append() and .pop() in order to add or remove elements from the list.\n",
    "\n",
    "*Now you are going to extend the functionality from b) so that you can add several family members with the same role.*\n",
    "\n",
    "**Hint:** \n",
    "- You need a list with names for each role.\n",
    "\n",
    "- In order to check if a role exists, you can use \"if key in dict\". You can also solve this with exception handling.\n",
    "\n",
    "***Copy your code from task b) to the code block below and extend the program to support multiple family members with the same role***"
   ]
  },
  {
   "cell_type": "code",
   "execution_count": 7,
   "metadata": {},
   "outputs": [],
   "source": [
    "def add_family_member(role, name):\n",
    "    if role in my_family:\n",
    "        my_family[role].append(name)\n",
    "    else:\n",
    "        my_family[role] = [name]"
   ]
  },
  {
   "cell_type": "markdown",
   "metadata": {
    "deletable": false,
    "editable": false,
    "run_control": {
     "frozen": true
    }
   },
   "source": [
    "In order to test your code, you can run the code block below."
   ]
  },
  {
   "cell_type": "code",
   "execution_count": 8,
   "metadata": {},
   "outputs": [
    {
     "name": "stdout",
     "output_type": "stream",
     "text": [
      "{'bror': ['Arne', 'Geir'], 'mor': ['Anne']}\n"
     ]
    }
   ],
   "source": [
    "my_family={}\n",
    "add_family_member('bror', 'Arne')\n",
    "add_family_member('mor', 'Anne')\n",
    "add_family_member('bror', 'Geir')\n",
    "print (my_family)"
   ]
  },
  {
   "cell_type": "markdown",
   "metadata": {
    "deletable": false,
    "editable": false,
    "run_control": {
     "frozen": true
    }
   },
   "source": [
    "If you did everything correctly, the output of the block will be:\n",
    "```python\n",
    "{'mor': ['Anne'], 'bror': ['Arne', 'Geir']}\n",
    "```"
   ]
  },
  {
   "cell_type": "markdown",
   "metadata": {
    "deletable": false,
    "editable": false,
    "run_control": {
     "frozen": true
    }
   },
   "source": [
    "# d) (optional)"
   ]
  },
  {
   "cell_type": "markdown",
   "metadata": {
    "deletable": false,
    "editable": false,
    "run_control": {
     "frozen": true
    }
   },
   "source": [
    "*(You do not need to do this one in order to get approved)* ***Print out the finished dictionary in a nice format using the code block below***"
   ]
  },
  {
   "cell_type": "code",
   "execution_count": 9,
   "metadata": {},
   "outputs": [
    {
     "name": "stdout",
     "output_type": "stream",
     "text": [
      "bror: ['Arne', 'Geir']\n",
      "mor: ['Anne']\n"
     ]
    }
   ],
   "source": [
    "for role in my_family:\n",
    "    print(f\"{role}: {my_family[role]}\")"
   ]
  },
  {
   "cell_type": "markdown",
   "metadata": {
    "deletable": false,
    "editable": false,
    "heading_collapsed": true,
    "run_control": {
     "frozen": true
    }
   },
   "source": [
    "#### Hint"
   ]
  },
  {
   "cell_type": "markdown",
   "metadata": {
    "deletable": false,
    "editable": false,
    "hidden": true,
    "run_control": {
     "frozen": true
    }
   },
   "source": [
    "You may use a for-loop with the syntax for key, value in my_family.items(): to iterate through the dictionary."
   ]
  },
  {
   "cell_type": "code",
   "execution_count": null,
   "metadata": {
    "hidden": true
   },
   "outputs": [],
   "source": []
  }
 ],
 "metadata": {
  "kernelspec": {
   "display_name": "Python 3",
   "language": "python",
   "name": "python3"
  },
  "language_info": {
   "codemirror_mode": {
    "name": "ipython",
    "version": 3
   },
   "file_extension": ".py",
   "mimetype": "text/x-python",
   "name": "python",
   "nbconvert_exporter": "python",
   "pygments_lexer": "ipython3",
   "version": "3.11.8"
  },
  "toc": {
   "base_numbering": 1,
   "nav_menu": {},
   "number_sections": false,
   "sideBar": true,
   "skip_h1_title": false,
   "title_cell": "Table of Contents",
   "title_sidebar": "Contents",
   "toc_cell": false,
   "toc_position": {},
   "toc_section_display": true,
   "toc_window_display": false
  }
 },
 "nbformat": 4,
 "nbformat_minor": 2
}
