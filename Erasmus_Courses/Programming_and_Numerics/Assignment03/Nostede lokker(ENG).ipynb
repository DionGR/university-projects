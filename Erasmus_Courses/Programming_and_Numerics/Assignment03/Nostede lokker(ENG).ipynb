{
 "cells": [
  {
   "cell_type": "markdown",
   "metadata": {
    "deletable": false,
    "editable": false,
    "run_control": {
     "frozen": true
    }
   },
   "source": [
    "# Introduction to nested loops\n",
    "\n",
    "**Learning goals:**\n",
    "\n",
    "* Nested loops\n",
    "\n",
    "**Starting out with python:**\n",
    "\n",
    "* Chapt. 4.7\n",
    "\n",
    "In this task you are going to learn how we can use a loop within another loop."
   ]
  },
  {
   "cell_type": "markdown",
   "metadata": {
    "deletable": false,
    "editable": false,
    "heading_collapsed": true,
    "run_control": {
     "frozen": true
    }
   },
   "source": [
    "### Introduction to nested loops"
   ]
  },
  {
   "cell_type": "markdown",
   "metadata": {
    "deletable": false,
    "editable": false,
    "hidden": true,
    "run_control": {
     "frozen": true
    }
   },
   "source": [
    "Nested loops refers to having loops within other loops. An example of a nested loop is a double loop, which means that there is a loop within another loop. Double loops are used a lot in programming, typically when you are solving problems which are in some way two dimensional, for instance associated with matrices or two dimensional tables of numbers. Two dimensional here can mean purely visual (for instance drawing something to the screen and updating the color of each point in a grid of pixels), but does not have to have any visual meaning. Two dimensional can refer to dimensions of information in a more abstract way. For instance, the two dimensions could represent numbers and values in a deck of cards, then we can generate an entire deck of cards using a double loop as follows:"
   ]
  },
  {
   "cell_type": "code",
   "execution_count": null,
   "metadata": {
    "ExecuteTime": {
     "end_time": "2019-07-02T13:13:16.212772Z",
     "start_time": "2019-07-02T13:13:16.199788Z"
    },
    "hidden": true
   },
   "outputs": [],
   "source": [
    "for suit in ['♠', '♣', '♥', '♦']:\n",
    "    for rank in ['A', '2', '3', '4', '5', '6', '7', '8',\n",
    "                  '9', '10', 'J', 'Q', 'K']:\n",
    "        print(suit+rank, end=\" \")\n",
    "    print()"
   ]
  },
  {
   "cell_type": "markdown",
   "metadata": {
    "deletable": false,
    "editable": false,
    "hidden": true,
    "run_control": {
     "frozen": true
    }
   },
   "source": [
    "The inner loop loops 13 times every time it runs because there are 13 elements in the sequence that is given to the for loop. It prints the 13 cards with a suit; end = \" \" in the print statements cause the following print statement to appear on the same line.\n",
    "\n",
    "The print at the bottom belongs to the outer loop (note the indentation), it makes sure that we switch to the next line for each sequence of 13 cards.\n",
    "\n",
    "The outer loop runs 4 times, one for each suit type."
   ]
  },
  {
   "cell_type": "markdown",
   "metadata": {
    "deletable": false,
    "editable": false,
    "run_control": {
     "frozen": true
    }
   },
   "source": [
    "## a)"
   ]
  },
  {
   "cell_type": "markdown",
   "metadata": {
    "deletable": false,
    "editable": false,
    "run_control": {
     "frozen": true
    }
   },
   "source": [
    "**Nested loop example**"
   ]
  },
  {
   "cell_type": "code",
   "execution_count": null,
   "metadata": {},
   "outputs": [],
   "source": [
    "for x in range(5):\n",
    "    for y in range(3):\n",
    "        print(\"I love ITGK! \", end=\" \")\n",
    "    print()"
   ]
  },
  {
   "cell_type": "markdown",
   "metadata": {
    "deletable": false,
    "editable": false,
    "run_control": {
     "frozen": true
    }
   },
   "source": [
    "The code above will print \"I love ITGK!\" three times next to each other on the same line, for five lines downwards.\n",
    "\n",
    "Copy the code in the example \"I love ITGK!\" above and run the program. This output can be accomplished without the use of double loops; the output itself might be perceived as having a two-dimensionality, but the underlying information is not two dimensional, but rather constant (the same print \"I love ITGK!\" in all cases). As such the same result can be accomplished with a single loop, or even no loops, as follows:"
   ]
  },
  {
   "cell_type": "code",
   "execution_count": null,
   "metadata": {
    "ExecuteTime": {
     "end_time": "2019-07-02T13:15:07.223226Z",
     "start_time": "2019-07-02T13:15:07.215744Z"
    }
   },
   "outputs": [],
   "source": [
    "# Solution with single loop:\n",
    "for x in range(5):\n",
    "    print(\"I love ITGK!  I love ITGK!  I love ITGK!\")\n",
    "\n",
    "# Solution without loops; '\\n' is new the character for newline\n",
    "print(((\"I love ITGK!  \" * 3) + \"\\n\") * 5)"
   ]
  },
  {
   "cell_type": "markdown",
   "metadata": {
    "deletable": false,
    "editable": false,
    "run_control": {
     "frozen": true
    }
   },
   "source": [
    "If we on the other hand change the specifications of the program, such that it is about several students rather than \"I\" and several courses rather than just \"ITGK\", we have a genuine two dimensional problem (one dimension is students, the other is courses) where a double loop would be the easiest solution. **Your task: change the course in such a way that results in the output shown below**. From the previous task, \"I\" is going to changed to \"Stud <number>\", and ITGK is changed to \"Course <number>\". The user should input the amount of students AND courses (4 and 3 are examples here)\n",
    "\n",
    "```\n",
    "How many students? 4\n",
    "How many courses? 3\n",
    "Stud 1 loves Course 1 ; Stud 1 loves Course 2 ; Stud 1 loves Course 3 ;\n",
    "Stud 2 loves Course 1 ; Stud 2 loves Course 2 ; Stud 2 loves Course 3 ;\n",
    "Stud 3 loves Course 1 ; Stud 3 loves Course 2 ; Stud 3 loves Course 3 ;\n",
    "Stud 4 loves Course 1 ; Stud 4 loves Course 2 ; Stud 4 loves Course 3 ;\n",
    "```\n",
    "\n",
    "**EXTRA CHALLENGE** (not necessary to get (a) approved): In order to make the program a little less dry and abstract, you can try to modify it so that it prints out the first name of the person instead of \"Stud x\", and names of actual courses instead of Course y - refer to the example of the card deck in the text \"Introduction to nested loops\" at the top of this task. In order to make it a little less predictable, you can even use the function `random()` in order to generate a random number for each iteration of the loop, and use an if statement to choose verbs based on the value of this. For instance, \"loves\" if the number was > 0.9, and less strong verbs for lesser values."
   ]
  },
  {
   "cell_type": "markdown",
   "metadata": {
    "deletable": false,
    "editable": false,
    "run_control": {
     "frozen": true
    }
   },
   "source": [
    "## b)"
   ]
  },
  {
   "cell_type": "markdown",
   "metadata": {
    "deletable": false,
    "editable": false,
    "run_control": {
     "frozen": true
    }
   },
   "source": [
    "Use a double loop to write out a list of all the possible clock values (only considering hours and minutes) (0:0 --> 23:59) as shown below\n",
    "\n",
    "Example run of code:\n",
    "\n",
    "```python\n",
    "0:0\n",
    "0:1\n",
    "0:2\n",
    ".\n",
    ".       # All time steps between written out here\n",
    ".\n",
    "23:58\n",
    "23:59```\n",
    "\n",
    "***Write your code here:***"
   ]
  },
  {
   "cell_type": "code",
   "execution_count": null,
   "metadata": {
    "ExecuteTime": {
     "end_time": "2019-07-02T13:21:25.863928Z",
     "start_time": "2019-07-02T13:21:25.855403Z"
    }
   },
   "outputs": [],
   "source": []
  },
  {
   "cell_type": "markdown",
   "metadata": {
    "deletable": false,
    "editable": false,
    "run_control": {
     "frozen": true
    }
   },
   "source": [
    "## c)"
   ]
  },
  {
   "cell_type": "markdown",
   "metadata": {
    "deletable": false,
    "editable": false,
    "run_control": {
     "frozen": true
    }
   },
   "source": [
    "Use double loops in order to write out all the numbers of the times table (up to $10 \\cdot 10$). In other words, make create two for loops that iterate up to 11 and multiply the variable $x$ from one of the loops with the variable $y$ from the other loop, and print it out in the inner loop. You do not have to consider the formatting of the output.\n",
    "\n",
    "Example run:\n",
    "\n",
    "```python\n",
    "1\n",
    "2\n",
    "3\n",
    "4\n",
    "5\n",
    ".\n",
    ".\n",
    ".\n",
    "60\n",
    "70\n",
    "80\n",
    "90\n",
    "100\n",
    "```\n",
    "***Write your code here:***"
   ]
  },
  {
   "cell_type": "code",
   "execution_count": null,
   "metadata": {
    "ExecuteTime": {
     "end_time": "2019-07-02T13:22:00.046861Z",
     "start_time": "2019-07-02T13:22:00.042947Z"
    }
   },
   "outputs": [],
   "source": []
  },
  {
   "cell_type": "markdown",
   "metadata": {
    "deletable": false,
    "editable": false,
    "run_control": {
     "frozen": true
    }
   },
   "source": [
    "**Bonus**: Attempt to add an empty print() after the inner loop in c) (that is on the same indentation as the inner for loop, but below the print function that writes out the number. Can you see that it looks more like a times table now?"
   ]
  },
  {
   "cell_type": "code",
   "execution_count": null,
   "metadata": {},
   "outputs": [],
   "source": []
  }
 ],
 "metadata": {
  "kernelspec": {
   "display_name": "Python 3",
   "language": "python",
   "name": "python3"
  },
  "language_info": {
   "codemirror_mode": {
    "name": "ipython",
    "version": 3
   },
   "file_extension": ".py",
   "mimetype": "text/x-python",
   "name": "python",
   "nbconvert_exporter": "python",
   "pygments_lexer": "ipython3",
   "version": "3.7.1"
  },
  "toc": {
   "base_numbering": 1,
   "nav_menu": {},
   "number_sections": false,
   "sideBar": true,
   "skip_h1_title": false,
   "title_cell": "Table of Contents",
   "title_sidebar": "Contents",
   "toc_cell": false,
   "toc_position": {},
   "toc_section_display": true,
   "toc_window_display": false
  }
 },
 "nbformat": 4,
 "nbformat_minor": 2
}
