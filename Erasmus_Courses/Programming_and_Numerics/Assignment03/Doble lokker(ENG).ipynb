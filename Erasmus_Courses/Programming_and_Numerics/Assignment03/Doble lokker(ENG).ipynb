{
 "cells": [
  {
   "cell_type": "markdown",
   "metadata": {
    "deletable": false,
    "editable": false,
    "run_control": {
     "frozen": true
    }
   },
   "source": [
    "# Double loops\n",
    "\n",
    "**Learning goals:**\n",
    "\n",
    "* Nested loops\n",
    "\n",
    "**Starting Out with Python:**\n",
    "\n",
    "* Chapt. 4.7"
   ]
  },
  {
   "cell_type": "markdown",
   "metadata": {
    "deletable": false,
    "editable": false,
    "run_control": {
     "frozen": true
    }
   },
   "source": [
    "## a)\n",
    "Write a program that uses a double for loop and writes out the following:\n",
    "\n",
    "```python\n",
    "1\n",
    "1 2\n",
    "1 2 3\n",
    "1 2 3 4\n",
    "1 2 3 4 5\n",
    "```\n",
    "\n",
    "***Write your code here:***"
   ]
  },
  {
   "cell_type": "code",
   "execution_count": 6,
   "metadata": {
    "ExecuteTime": {
     "end_time": "2019-07-03T06:31:27.370599Z",
     "start_time": "2019-07-03T06:31:27.365228Z"
    }
   },
   "outputs": [
    {
     "name": "stdout",
     "output_type": "stream",
     "text": [
      "1 \n",
      "1 2 \n",
      "1 2 3 \n",
      "1 2 3 4 \n",
      "1 2 3 4 5 \n"
     ]
    }
   ],
   "source": [
    "for i in range(1, 6):\n",
    "    tree = \"\"\n",
    "    for j in range(1, i + 1):\n",
    "        tree += f\"{j} \"\n",
    "    print(tree)"
   ]
  },
  {
   "cell_type": "markdown",
   "metadata": {
    "deletable": false,
    "editable": false,
    "run_control": {
     "frozen": true
    }
   },
   "source": [
    "## b)\n",
    "Write a program that uses a double for loop and writes out the following:\n",
    "\n",
    "```python\n",
    "X X\n",
    "X  X\n",
    "X   X\n",
    "X    X\n",
    "X     X\n",
    "```\n",
    "\n",
    "***Write your code here:***"
   ]
  },
  {
   "cell_type": "code",
   "execution_count": 9,
   "metadata": {
    "ExecuteTime": {
     "end_time": "2019-07-03T06:36:27.852028Z",
     "start_time": "2019-07-03T06:36:27.844946Z"
    }
   },
   "outputs": [
    {
     "name": "stdout",
     "output_type": "stream",
     "text": [
      "X X\n",
      "X  X\n",
      "X   X\n",
      "X    X\n",
      "X     X\n",
      "X      X\n"
     ]
    }
   ],
   "source": [
    "for i in range(1, 7):\n",
    "    tree = \"X \"\n",
    "    for j in range(1, i):\n",
    "        tree += \" \"\n",
    "    tree += \"X\"\n",
    "    print(tree)"
   ]
  },
  {
   "cell_type": "markdown",
   "metadata": {
    "deletable": false,
    "editable": false,
    "run_control": {
     "frozen": true
    }
   },
   "source": [
    "## c)\n",
    "Write a program that lets the user input a nonnegative integer. The program will then print out the prime factorization of the number, or that it is already a prime. Example runs:\n",
    "\n",
    "```python\n",
    "Input a nonnegative integer: 2\n",
    "2 is prime\n",
    ">>>\n",
    "Input a nonnegative integer: 38\n",
    "38 = 2*19\n",
    ">>>\n",
    "Input a nonnegative integer: 1000\n",
    "1000 = 2*2*2*5*5*5\n",
    ">>>\n",
    "Input a nonnegative integer: 73727\n",
    "73727 is prime\n",
    ">>>\n",
    "Input a nonnegative integer: 123456789\n",
    "123456789 = 3*3*3607*3803\n",
    ">>>\n",
    "```\n",
    "This is a problem pointing in the direction of a double loop because the same number can be a factor multiple times, as in for instance `1000 = 2*2*2*5*5*5`. The outer loop needs to keep trying new factors, while the inner loop needs to try the same factor, in case it occurs several times in the number.\n",
    "\n",
    "***Input your code here:***"
   ]
  },
  {
   "cell_type": "code",
   "execution_count": 10,
   "metadata": {
    "ExecuteTime": {
     "end_time": "2019-07-03T06:38:34.639856Z",
     "start_time": "2019-07-03T06:38:34.633773Z"
    }
   },
   "outputs": [],
   "source": []
  },
  {
   "cell_type": "code",
   "execution_count": 11,
   "metadata": {},
   "outputs": [
    {
     "data": {
      "text/plain": [
       "[2]"
      ]
     },
     "execution_count": 11,
     "metadata": {},
     "output_type": "execute_result"
    }
   ],
   "source": [
    "n = int(input(\"Input a nonnegative integer: \"))\n",
    "\n",
    "prime_factorization(n)"
   ]
  },
  {
   "cell_type": "markdown",
   "metadata": {
    "deletable": false,
    "editable": false,
    "run_control": {
     "frozen": true
    }
   },
   "source": [
    "## d)\n",
    "You are going to help Miss Bernsen create a simple program where the students can practice the samll times table. The student should face different multiplication problems, and will get 3 attempts for each problem. Make use of randint(0, 9) in order to get random numbers for each problem. The program should continue until the student says otherwise.\n",
    "\n",
    "Example run:\n",
    "\n",
    "```python\n",
    "What is 2*0? 0\n",
    "Congratulations, that is correct!\n",
    "Do you want more questions? Write 1 for yes and 0 for no: 1\n",
    ">>>\n",
    ">>> \n",
    "What is 8*6? 42\n",
    "That is not correct, unfortunately. You have 2 remaining attempts.\n",
    "What is 8*6? 48\n",
    "Congratulations, that is correct!\n",
    "Do you want more questions? Write 1 for yes and 0 for no: 1\n",
    ">>>\n",
    "What is 8*9? 73\n",
    "That is not correct, unfortunately. You have 2 remaining attempts.\n",
    "What is 8*9? 74\n",
    "That is not correct, unfortunately. You have 1 remaining attempts.\n",
    "What is 8*9? 78\n",
    "That is not correct, unfortunately. You have 0 remaining attempts.\n",
    "Unfortunately, you were unable to solve the problem, but hang on and you will get a new one :)\n",
    "Do you want more problems? Write 1 for yes and 0 for no: 1\n",
    ">>>\n",
    "What is 9*1? 9\n",
    "Congratulations, that is correct!\n",
    "Do you want more problems? Write 1 for yes and 0 for no: 1\n",
    ">>>\n",
    "```\n",
    "\n",
    "**Write your code here:**"
   ]
  },
  {
   "cell_type": "code",
   "execution_count": 4,
   "metadata": {
    "ExecuteTime": {
     "end_time": "2019-07-03T06:40:51.257308Z",
     "start_time": "2019-07-03T06:40:51.248787Z"
    }
   },
   "outputs": [],
   "source": []
  },
  {
   "cell_type": "markdown",
   "metadata": {
    "deletable": false,
    "editable": false,
    "run_control": {
     "frozen": true
    }
   },
   "source": [
    "## e) (optional)\n",
    "\n",
    "You are going to modify your program from d) such that the student starts by getting easier multiplication problems by the use of randint(0, 5) (from the random library). If the student is able to solve 5 consecutive problems (with at most 3 attempts for each), the difficulty should increase by using randint(0, 10), and so on. In other words, the interval should increase by 5 each time the student gets 5 consecutive problems correct.\n",
    "\n",
    "Example run:\n",
    "\n",
    "```python\n",
    "What is 1*2? 2                                                    #1 correct answer\n",
    "Congratulations, that is correct!\n",
    "Do you want more problems? Write 1 for yes and 0 for no: 1\n",
    "```\n",
    "```python\n",
    "What is 1*5? 5                                                    #2 correct answers\n",
    "Congratulations, that is correct!\n",
    "Do you want more problems? Write 1 for yes and 0 for no: 1\n",
    " ```\n",
    " ```python\n",
    "What is 3*5? 15                                                   #3 correct answers\n",
    "Congratulations, that is correct!\n",
    "Do you want more problems? Write 1 for yes and 0 for no: 1\n",
    " ```\n",
    " ```python\n",
    "What is 2*1? 2                                                    #4 correct answers\n",
    "Congratulations, that is correct!\n",
    "Do you want more problems? Write 1 for yes and 0 for no: 1\n",
    " ```\n",
    " ```python\n",
    "What is 2*0? 2\n",
    "That is not correct, unfortunately. You have 2 remaining attempts.\n",
    "What is 2*0? 0                                                    #5 correct answers\n",
    "Congratulations, that is correct!\n",
    "Do you want more problems? Write 1 for yes and 0 for no: 1\n",
    " ```\n",
    " ```python\n",
    "What is 0*10? 0                                              #The interval has increased and 1 correct answer\n",
    "Congratulations, that is correct!\n",
    "Do you want more problems? Write 1 for yes and 0 for no: 1\n",
    ".\n",
    ".\n",
    ".\n",
    "What is 15*29? 435                                                 \n",
    "Congratulations, that is correct!\n",
    "Do you want more problems? Write 1 for yes and 0 for no: 0\n",
    "```"
   ]
  },
  {
   "cell_type": "code",
   "execution_count": null,
   "metadata": {},
   "outputs": [],
   "source": []
  }
 ],
 "metadata": {
  "kernelspec": {
   "display_name": "Python 3",
   "language": "python",
   "name": "python3"
  },
  "language_info": {
   "codemirror_mode": {
    "name": "ipython",
    "version": 3
   },
   "file_extension": ".py",
   "mimetype": "text/x-python",
   "name": "python",
   "nbconvert_exporter": "python",
   "pygments_lexer": "ipython3",
   "version": "3.10.4"
  },
  "toc": {
   "base_numbering": 1,
   "nav_menu": {},
   "number_sections": false,
   "sideBar": true,
   "skip_h1_title": false,
   "title_cell": "Table of Contents",
   "title_sidebar": "Contents",
   "toc_cell": false,
   "toc_position": {},
   "toc_section_display": true,
   "toc_window_display": false
  }
 },
 "nbformat": 4,
 "nbformat_minor": 2
}
