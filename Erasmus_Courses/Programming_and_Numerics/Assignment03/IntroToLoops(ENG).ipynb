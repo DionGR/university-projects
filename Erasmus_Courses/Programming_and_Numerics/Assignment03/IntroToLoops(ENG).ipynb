{
 "cells": [
  {
   "cell_type": "markdown",
   "metadata": {
    "deletable": false,
    "editable": false,
    "run_control": {
     "frozen": true
    }
   },
   "source": [
    "[Back to Assignment 3](_Oving3.ipynb)\n",
    "\n",
    "# Introduction to loops\n",
    "\n",
    "**Learning objectives:**\n",
    "\n",
    "* Loops\n",
    "* Choosing the appropriate loop type (FOR and WHILE)\n",
    "\n",
    "**Starting Out with Python:**\n",
    "\n",
    "* Ch. 4.1-4.3\n",
    "\n",
    "In this exercise you will learn how loops function, why we use them, as well as how they function in Python."
   ]
  },
  {
   "cell_type": "markdown",
   "metadata": {
    "deletable": false,
    "editable": false,
    "heading_collapsed": true,
    "run_control": {
     "frozen": true
    }
   },
   "source": [
    "### Introduction to loops"
   ]
  },
  {
   "cell_type": "markdown",
   "metadata": {
    "deletable": false,
    "editable": false,
    "hidden": true,
    "run_control": {
     "frozen": true
    }
   },
   "source": [
    "Loops allow us to write code that can be run several times, without having to repeat the same lines of code.\n",
    "In the example below, we have written the same line three times in a row:"
   ]
  },
  {
   "cell_type": "code",
   "execution_count": null,
   "metadata": {
    "hidden": true
   },
   "outputs": [],
   "source": [
    "print(\"Hipp\")\n",
    "print(\"Hipp\")\n",
    "print(\"Hipp\")\n",
    "print(\"Hurra!\")"
   ]
  },
  {
   "cell_type": "markdown",
   "metadata": {
    "deletable": false,
    "editable": false,
    "hidden": true,
    "run_control": {
     "frozen": true
    }
   },
   "source": [
    "We can write the same output using a FOR-loop:"
   ]
  },
  {
   "cell_type": "code",
   "execution_count": null,
   "metadata": {
    "hidden": true
   },
   "outputs": [],
   "source": [
    "for i in range(3):\n",
    "    print(\"Hipp!\")\n",
    "print(\"Hurra!\")"
   ]
  },
  {
   "cell_type": "markdown",
   "metadata": {
    "deletable": false,
    "editable": false,
    "hidden": true,
    "run_control": {
     "frozen": true
    }
   },
   "source": [
    "for < variable > in range(3): ensures that the following code line that is indented is run three times, saving us the hassle of writing the same exact line of code three times in a row. Consider if we were to output the same a million times in a row, instead of just three. The benefit of using a loop should be obvious. \n",
    "\n",
    "The code line `print(\"Hurra!\")` which is not indented, is not a part of loop, and will thus be executed just once, after the loop.\n",
    "\n",
    "\n",
    "There are two types of loops in Python - FOR and WHILE. Instead of a FOR-loop, we could have used a WHILE-loop instead. We could then write the code as:"
   ]
  },
  {
   "cell_type": "code",
   "execution_count": null,
   "metadata": {
    "hidden": true
   },
   "outputs": [],
   "source": [
    "i = 0\n",
    "while i < 3:\n",
    "    print(\"Hipp\")\n",
    "    i = i + 1  #  # or instead: i += 1\n",
    "print(\"Hurra!\")"
   ]
  },
  {
   "cell_type": "markdown",
   "metadata": {
    "deletable": false,
    "editable": false,
    "hidden": true,
    "run_control": {
     "frozen": true
    }
   },
   "source": [
    "WHILE is a bit more cumbersome in this situation, we have to explicitly increase the counter i with one for each iteration, which is rather defined implicitly for the previous example code with FOR. \n",
    "\n",
    "The WHILE-loop will continue to run as long as the condition (i < 3) is true, it will therefore run while i is 0, 1, 2, but stops when i is increased to 3. As with the FOR-loop, this ensures that \"Hipp\" is written thrice.\n"
   ]
  },
  {
   "cell_type": "markdown",
   "metadata": {
    "deletable": false,
    "editable": false,
    "run_control": {
     "frozen": true
    }
   },
   "source": [
    "## a)"
   ]
  },
  {
   "cell_type": "markdown",
   "metadata": {
    "deletable": false,
    "editable": false,
    "run_control": {
     "frozen": true
    }
   },
   "source": [
    " The code below shows a FOR-loop that is run three times. For each iteration the user is asked to describe themselves with an adjective, upon which the machine gives an appropriate response.\n",
    "\n",
    "(The trick here is to add \"er\" behind the adjective)\n",
    "\n",
    "Run the code to see how it functions.\n",
    "\n",
    "***Now change the code such that the program first asks the user how many iterations they wish to run, the program should then run the above code that many times..***\n",
    "\n",
    "Example run:\n",
    "\n",
    "```\n",
    "How many iterations? 2\n",
    "Describe yourself with an adjective: nice\n",
    "Bah, you nice!? I am nicer!\n",
    "Describe yourself with an adjective: strong\n",
    "Bah, you strong!? I am stronger!\n",
    "Goodbye!\n",
    "```"
   ]
  },
  {
   "cell_type": "code",
   "execution_count": null,
   "metadata": {
    "ExecuteTime": {
     "end_time": "2019-07-02T12:12:32.923751Z",
     "start_time": "2019-07-02T12:12:22.141490Z"
    }
   },
   "outputs": [],
   "source": [
    "# Change the code below\n",
    "\n",
    "for i in range(3):\n",
    "    adj = input(\"Describe yourself with an adjective: \")\n",
    "    print(\"Bah, you\", adj + \"!? I am \", adj + \"er!\")\n",
    "print(\"Goodbye!\")"
   ]
  },
  {
   "cell_type": "markdown",
   "metadata": {
    "heading_collapsed": true
   },
   "source": [
    "#### Hint"
   ]
  },
  {
   "cell_type": "markdown",
   "metadata": {
    "deletable": false,
    "editable": false,
    "hidden": true,
    "run_control": {
     "frozen": true
    }
   },
   "source": [
    "Instead of the number 3 in the code, this should be replaced with a variable that takes in an input from the user (use the input()-function)."
   ]
  },
  {
   "cell_type": "markdown",
   "metadata": {
    "deletable": false,
    "editable": false,
    "run_control": {
     "frozen": true
    }
   },
   "source": [
    "## b)"
   ]
  },
  {
   "cell_type": "markdown",
   "metadata": {
    "deletable": false,
    "editable": false,
    "run_control": {
     "frozen": true
    }
   },
   "source": [
    "The code below shows a WHILE-loop that is equivalent to the code from (a), with 3 iterations. Copy the code into your editor and run it to see how it functions.\n",
    "**Now change the code such that it has not only 3 iterations, but lets the user choose the amount of iterations. The code will run for as long as the user inputs answers, and exits when the user presses Enter without inputting an answer. The input()-function will thus return an empty string, \"**.\n",
    "\n",
    "Example run\n",
    "\n",
    "```\n",
    "Press enter without inputting an answer to exit.\n",
    "Describe yourself with an adjective: nice\n",
    "Bah, you nice!? I am nicer!\n",
    "Describe yourself with an adjective: strong\n",
    "Bah, you strong!? I am stronger!\n",
    "Describe yourself with an adjective: great\n",
    "Bah, you great!? I am greater!\n",
    "Describe yourself with an adjective:\n",
    "Goodbye!\n",
    "```\n",
    "\n",
    "The fourth time the answer was asked, the user just pressed Enter without inputting an answer. The program, resultingly, exited."
   ]
  },
  {
   "cell_type": "code",
   "execution_count": null,
   "metadata": {},
   "outputs": [],
   "source": [
    "i = 0\n",
    "while i < 3:\n",
    "    adj = input(\"Describe yourself with an adjective: \")\n",
    "    print(\"Bah, you\", adj + \"!? I am \", adj + \"er!\")\n",
    "    i += 1  # increases i with 1\n",
    "print(\"Goodbye!\")"
   ]
  },
  {
   "cell_type": "markdown",
   "metadata": {
    "deletable": false,
    "editable": false,
    "run_control": {
     "frozen": true
    }
   },
   "source": [
    "## c)"
   ]
  },
  {
   "cell_type": "markdown",
   "metadata": {},
   "source": [
    "Use the code with the WHILE-loop with 3 iterations from (b). Now change the code as follows:\n",
    "\n",
    "The user starts with 42 alphabetic characters available to them. For each iteration the program should decrease this number by the amount of characters in the adjective inputted.\n",
    "\n",
    "the loop should run as long as this number is above zero. \n",
    "\n",
    "**Example run:**\n",
    "\n",
    "```\n",
    "You have 42 letters remaining.\n",
    "Describe yourself with an adjective: nice\n",
    "Bah, you nice!? I am nicer!\n",
    "You have 38 letters remaining.\n",
    "Describe yourself with an adjective: strong\n",
    "Bah, you strong!? I am stronger!\n",
    "You have 32 letters remaining.\n",
    "Describe yourself with an adjective: understanding\n",
    "Bah, you understanding!? I am understandinger!\n",
    "You have 19 letters remaining.\n",
    "Describe yourself with an adjective: smashing\n",
    "Bah, you smashing!? I am smashinger!\n",
    "You have 9 letters remaining.\n",
    "Describe yourself with an adjective: trivial\n",
    "Bah, you trivial!? I am trivialer!\n",
    "You have 1 letters remaining.\n",
    "Describe yourself with an adjective: E\n",
    "Bah, you E!? I am Eer!\n",
    "You have 0 letters remaining.\n",
    "Goodbye!\n",
    ">>>\n",
    "```"
   ]
  },
  {
   "cell_type": "markdown",
   "metadata": {
    "deletable": false,
    "editable": false,
    "run_control": {
     "frozen": true
    }
   },
   "source": [
    " ## d)"
   ]
  },
  {
   "cell_type": "markdown",
   "metadata": {
    "deletable": false,
    "editable": false,
    "run_control": {
     "frozen": true
    }
   },
   "source": [
    "In the code below, the first two FOR-loops are complete, but the following three is not. Change range(0) i these loops such that it runs the number of iterations corresponding to the above print()-statement."
   ]
  },
  {
   "cell_type": "code",
   "execution_count": null,
   "metadata": {},
   "outputs": [],
   "source": [
    "print(\"Odd numbers from 1 to 20:\")\n",
    "for number in range(1, 20, 2):\n",
    "    print(number, end = \" \")\n",
    "print()\n",
    "  \n",
    "print(\"Every third number from 12 to 25:\")\n",
    "for number in range(12, 25, 3):\n",
    "    print(number, end = \" \")\n",
    "print()\n",
    "  \n",
    "print(\"Every fifth number from 20 to 81:\")\n",
    "for number in range(0):\n",
    "    print(number, end = \" \")\n",
    "print()\n",
    "  \n",
    "print(\"The number sequence 48, 56, 64, 72, 80\")\n",
    "for number in range(0):\n",
    "    print(number, end = \" \")\n",
    "print()\n",
    "  \n",
    "print(\"Count backwards from 100 to 80, with an interval of -3, eg. 100, 97, ...:\")\n",
    "for number in range(0):\n",
    "    print(number, end = \" \")\n",
    "print()"
   ]
  },
  {
   "cell_type": "markdown",
   "metadata": {},
   "source": [
    "## e)\n",
    "Make a program that prints the numbers 1 to 5 with a FOR-loop"
   ]
  },
  {
   "cell_type": "code",
   "execution_count": null,
   "metadata": {},
   "outputs": [],
   "source": []
  },
  {
   "cell_type": "markdown",
   "metadata": {},
   "source": [
    "## f) \n",
    "Make a program that prints the numbers starting from 15 to 1 with a FOR-loop"
   ]
  },
  {
   "cell_type": "code",
   "execution_count": null,
   "metadata": {},
   "outputs": [],
   "source": []
  }
 ],
 "metadata": {
  "kernelspec": {
   "display_name": "Python 3",
   "language": "python",
   "name": "python3"
  },
  "language_info": {
   "codemirror_mode": {
    "name": "ipython",
    "version": 3
   },
   "file_extension": ".py",
   "mimetype": "text/x-python",
   "name": "python",
   "nbconvert_exporter": "python",
   "pygments_lexer": "ipython3",
   "version": "3.7.1"
  },
  "toc": {
   "base_numbering": 1,
   "nav_menu": {},
   "number_sections": false,
   "sideBar": true,
   "skip_h1_title": false,
   "title_cell": "Table of Contents",
   "title_sidebar": "Contents",
   "toc_cell": false,
   "toc_position": {},
   "toc_section_display": true,
   "toc_window_display": false
  }
 },
 "nbformat": 4,
 "nbformat_minor": 2
}
