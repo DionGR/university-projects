{
 "cells": [
  {
   "cell_type": "markdown",
   "metadata": {},
   "source": [
    "# Newton's method (Solutions)\n",
    "In this exercise you will use Newton's method for finding roots of the scalar function $f(x)$ to within a certain level of prescision (i.e., some small number $\\texttt{tol}$). Recall that with Newton's method, you make a guess for the root $x_0$, and then you draw a tangent line of $f(x)$ line at $x=x_0$. You then use the root of the tangent line as an $\\it{improved}$ guess of the root, which we will call $x_1$. We then draw another tangent line, now at the point $x_1$ and keep going $n$ times until your guess $x_{n}$ satifies some sort of stopping criteria. \n",
    "\n",
    "Newton's method reads $$x_{k+1}=x_{k}-\\frac{f(x_{k})}{f'(x_{k})},$$ which is the solution to the root of the tangent line of $f(x)$ at $x=x_k$. Note that this is best implemented using a while loop. \n",
    "\n",
    "**Stopping criteria**: Your stopping criteria should be something like $\\texttt{abs}(f(x_n))<\\texttt{tol}$ and/or $\\texttt{abs}(x_n-x_{n+1})<\\texttt{tol}$. In addition, it is sometimes wise to add another stopping criteria in case the algorithm $\\it does~not$ converge, for example \n",
    "\n",
    "    k=1\n",
    "    while <<stopping_criteria>> and k<100:\n",
    "        <<Newton iteration>>\n",
    "        k = k+1\n",
    "        \n",
    "this will stop the loop if it hasn't converged in 100 iterations.\n",
    "\n"
   ]
  },
  {
   "cell_type": "markdown",
   "metadata": {},
   "source": [
    "## a) "
   ]
  },
  {
   "cell_type": "markdown",
   "metadata": {},
   "source": [
    "Use Newton's method to calculate the roots of the test function $f(x)=\\cos(x)$, which has known roots at $x = \\frac{n \\pi}{2}$, for some integer $m$. \n",
    "\n",
    "Use a tolerance of $\\texttt{tol} = 10^{-10}$, and an initial guess of $x_0 = 0.5$.\n",
    "\n",
    "Your algorithm should converge to the root $x = \\frac{\\pi}{2}$. "
   ]
  },
  {
   "cell_type": "markdown",
   "metadata": {},
   "source": [
    "**Solution:**"
   ]
  },
  {
   "cell_type": "code",
   "execution_count": 1,
   "metadata": {},
   "outputs": [
    {
     "name": "stdout",
     "output_type": "stream",
     "text": [
      "n = 1 -- x_n = 2.330487721712452 -- f(x_n) = -0.6886977242318095 \n",
      "n = 2 -- x_n = 1.3806234748302173 -- f(x_n) = 0.18902863351567445 \n",
      "n = 3 -- x_n = 1.5731225635727122 -- f(x_n) = -0.0023262346797918885 \n",
      "n = 4 -- x_n = 1.570796322598839 -- f(x_n) = 4.1960575626922446e-09 \n",
      "n = 5 -- x_n = 1.5707963267948966 -- f(x_n) = 6.123233995736766e-17 \n",
      "Newton's method converged in 5 iterations\n"
     ]
    }
   ],
   "source": [
    "from math import *\n",
    "x = 0.5              # Initial guess, user-specified\n",
    "tol = 1e-10          # Tolerance, user-specified\n",
    "k = 0                # Variable to keep track of the number of iterations\n",
    "\n",
    "# while stopping_criteria is not stisfied and k is less than 20 itertions\n",
    "while abs(cos(x)) > tol and k < 20:\n",
    "    k = k + 1 \n",
    "    x = x - cos(x)/(-sin(x)) # Newton iteration \n",
    "    print(f\"n = {k} -- x_n = {x} -- f(x_n) = {cos(x)} \")\n",
    "    \n",
    "print(f\"Newton's method converged in {k} iterations\")"
   ]
  },
  {
   "cell_type": "markdown",
   "metadata": {},
   "source": [
    "### i) ###\n",
    "For the stopping criteria $\\texttt{abs}(f(x_n))<\\texttt{tol}$, how many iterations does it take for Newton's method to converge to the root? \n",
    "\n",
    "**Solution:**\n",
    "\n",
    "5"
   ]
  },
  {
   "cell_type": "markdown",
   "metadata": {},
   "source": [
    "### ii) ### \n",
    "What happens when you use the initial guess of $x_0 = 0$? Can you explain your observation? (Note: if you have written your code correctly, something $\\it should$ go wrong.)\n",
    "\n",
    "**Solution:**"
   ]
  },
  {
   "cell_type": "markdown",
   "metadata": {},
   "source": [
    "At $x = 0$, we have $f'(0) = -\\sin(0) = 0$, which means that in the first Newton iteration $$x_{1} = x_0 + \\frac{f(x_0)}{f'(x_0)} = 0 + \\frac{\\cos(0)}{-\\sin(0)} = \\frac\n",
    "{1}{0},$$  i.e. we are dividing by zero which we can't do. This is equivalent to finding a root of a tangent line that is parallel to the horizontal axis (i.e. it will never intercept... well technically parallel lines intercept at infinity but this not relevant for numerics!)\n",
    "\n",
    "Below is the same code as above but with our intial guess at zero $x_0 = 0$. Note that we get a \"ZeroDivisionError\" message. "
   ]
  },
  {
   "cell_type": "code",
   "execution_count": 2,
   "metadata": {},
   "outputs": [
    {
     "ename": "ZeroDivisionError",
     "evalue": "float division by zero",
     "output_type": "error",
     "traceback": [
      "\u001b[1;31m---------------------------------------------------------------------------\u001b[0m",
      "\u001b[1;31mZeroDivisionError\u001b[0m                         Traceback (most recent call last)",
      "\u001b[1;32mC:\\Users\\Public\\Documents\\Wondershare\\CreatorTemp/ipykernel_8500/2017729128.py\u001b[0m in \u001b[0;36m<module>\u001b[1;34m\u001b[0m\n\u001b[0;32m      6\u001b[0m \u001b[1;32mwhile\u001b[0m \u001b[0mabs\u001b[0m\u001b[1;33m(\u001b[0m\u001b[0mcos\u001b[0m\u001b[1;33m(\u001b[0m\u001b[0mx\u001b[0m\u001b[1;33m)\u001b[0m\u001b[1;33m)\u001b[0m \u001b[1;33m>\u001b[0m \u001b[0mtol\u001b[0m \u001b[1;32mand\u001b[0m \u001b[0mk\u001b[0m \u001b[1;33m<\u001b[0m \u001b[1;36m20\u001b[0m\u001b[1;33m:\u001b[0m\u001b[1;33m\u001b[0m\u001b[1;33m\u001b[0m\u001b[0m\n\u001b[0;32m      7\u001b[0m     \u001b[0mk\u001b[0m \u001b[1;33m=\u001b[0m \u001b[0mk\u001b[0m \u001b[1;33m+\u001b[0m \u001b[1;36m1\u001b[0m\u001b[1;33m\u001b[0m\u001b[1;33m\u001b[0m\u001b[0m\n\u001b[1;32m----> 8\u001b[1;33m     \u001b[0mx\u001b[0m \u001b[1;33m=\u001b[0m \u001b[0mx\u001b[0m \u001b[1;33m-\u001b[0m \u001b[0mcos\u001b[0m\u001b[1;33m(\u001b[0m\u001b[0mx\u001b[0m\u001b[1;33m)\u001b[0m\u001b[1;33m/\u001b[0m\u001b[1;33m(\u001b[0m\u001b[1;33m-\u001b[0m\u001b[0msin\u001b[0m\u001b[1;33m(\u001b[0m\u001b[0mx\u001b[0m\u001b[1;33m)\u001b[0m\u001b[1;33m)\u001b[0m \u001b[1;31m# Newton iteration\u001b[0m\u001b[1;33m\u001b[0m\u001b[1;33m\u001b[0m\u001b[0m\n\u001b[0m\u001b[0;32m      9\u001b[0m     \u001b[0mprint\u001b[0m\u001b[1;33m(\u001b[0m\u001b[1;34mf\"n = {k} -- x_n = {x} -- f(x_n) = {cos(x)}\"\u001b[0m\u001b[1;33m)\u001b[0m\u001b[1;33m\u001b[0m\u001b[1;33m\u001b[0m\u001b[0m\n\u001b[0;32m     10\u001b[0m \u001b[1;33m\u001b[0m\u001b[0m\n",
      "\u001b[1;31mZeroDivisionError\u001b[0m: float division by zero"
     ]
    }
   ],
   "source": [
    "from math import *\n",
    "x = 0       # Initial guess        \n",
    "tol = 1e-10 # Tolerance (user-specified)\n",
    "k = 0       # Variable to keep track of the number of iteration\n",
    "\n",
    "while abs(cos(x)) > tol and k < 20:\n",
    "    k = k + 1 \n",
    "    x = x - cos(x)/(-sin(x)) # Newton iteration \n",
    "    print(f\"n = {k} -- x_n = {x} -- f(x_n) = {cos(x)}\")\n",
    "\n"
   ]
  },
  {
   "cell_type": "markdown",
   "metadata": {},
   "source": [
    "### iii)"
   ]
  },
  {
   "cell_type": "markdown",
   "metadata": {},
   "source": [
    "What happens when you use a tolerance of $\\texttt{tol} = 10^{-18}$ and $x_0=0.5$? Does the algorithm converge? Can you explain your observation?\n",
    "\n",
    "**Solution:**\n",
    "\n",
    "The iterations fail to converge. Setting $\\texttt{tol}=10^{-18}$ is a bad idea because this is below machine precision, which means round-off errors are greater than the accuracy that you are asking of your solution. \n",
    "\n",
    "This is illustrated by the below code, where we observe that the Newton iterations converge to a certain root but is unable to get lower than $f(x_n) = 6.12323\\times 10^{-17}$ as round-off errors dominate at this scale of precision. "
   ]
  },
  {
   "cell_type": "code",
   "execution_count": 3,
   "metadata": {},
   "outputs": [
    {
     "name": "stdout",
     "output_type": "stream",
     "text": [
      "n = 1 -- x_n = 2.330487721712452 -- f(x_n) = -0.6886977242318095\n",
      "n = 2 -- x_n = 1.3806234748302173 -- f(x_n) = 0.18902863351567445\n",
      "n = 3 -- x_n = 1.5731225635727122 -- f(x_n) = -0.0023262346797918885\n",
      "n = 4 -- x_n = 1.570796322598839 -- f(x_n) = 4.1960575626922446e-09\n",
      "n = 5 -- x_n = 1.5707963267948966 -- f(x_n) = 6.123233995736766e-17\n",
      "n = 6 -- x_n = 1.5707963267948966 -- f(x_n) = 6.123233995736766e-17\n",
      "n = 7 -- x_n = 1.5707963267948966 -- f(x_n) = 6.123233995736766e-17\n",
      "n = 8 -- x_n = 1.5707963267948966 -- f(x_n) = 6.123233995736766e-17\n",
      "n = 9 -- x_n = 1.5707963267948966 -- f(x_n) = 6.123233995736766e-17\n",
      "n = 10 -- x_n = 1.5707963267948966 -- f(x_n) = 6.123233995736766e-17\n",
      "n = 11 -- x_n = 1.5707963267948966 -- f(x_n) = 6.123233995736766e-17\n",
      "n = 12 -- x_n = 1.5707963267948966 -- f(x_n) = 6.123233995736766e-17\n",
      "n = 13 -- x_n = 1.5707963267948966 -- f(x_n) = 6.123233995736766e-17\n",
      "n = 14 -- x_n = 1.5707963267948966 -- f(x_n) = 6.123233995736766e-17\n",
      "n = 15 -- x_n = 1.5707963267948966 -- f(x_n) = 6.123233995736766e-17\n",
      "n = 16 -- x_n = 1.5707963267948966 -- f(x_n) = 6.123233995736766e-17\n",
      "n = 17 -- x_n = 1.5707963267948966 -- f(x_n) = 6.123233995736766e-17\n",
      "n = 18 -- x_n = 1.5707963267948966 -- f(x_n) = 6.123233995736766e-17\n",
      "n = 19 -- x_n = 1.5707963267948966 -- f(x_n) = 6.123233995736766e-17\n",
      "n = 20 -- x_n = 1.5707963267948966 -- f(x_n) = 6.123233995736766e-17\n"
     ]
    }
   ],
   "source": [
    "from math import *\n",
    "x = 0.5    # Initial guess        \n",
    "tol = 1e-18 # Tolerance (user-specified)\n",
    "k = 0       # Variable to keep track of the number of iteration\n",
    "\n",
    "while abs(cos(x)) > tol and k < 20:\n",
    "    k = k + 1 \n",
    "    x = x - cos(x)/(-sin(x)) # Newton iteration \n",
    "    print(f\"n = {k} -- x_n = {x} -- f(x_n) = {cos(x)}\")"
   ]
  },
  {
   "cell_type": "markdown",
   "metadata": {},
   "source": [
    "## b)"
   ]
  },
  {
   "cell_type": "markdown",
   "metadata": {},
   "source": [
    "Now we will try and find a solution to the following function $$x{{\\rm e}^{- \\left( \\sin \\left( x/2 \\right)  \\right) ^{2}}}=3/2. $$ To do this we will look for a root of the function $$ f(x) = x{{\\rm e}^{- \\left( \\sin \\left( x/2 \\right)  \\right) ^{2}}}-3/2.$$\n",
    "which has the derivative $$f'(x) = {{\\rm e}^{- \\left( \\sin \\left( x/2 \\right)  \\right) ^{2}}}-x\\sin\n",
    " \\left( x/2 \\right) \\cos \\left( x/2 \\right) {{\\rm e}^{- \\left( \\sin\n",
    " \\left( x/2 \\right)  \\right) ^{2}}}.\n",
    "$$ The values of $f(x)$ and $f'(x)$ for $x = 2$ have been written in Python for you below so you don't make a mistake copying the formula into you code. "
   ]
  },
  {
   "cell_type": "code",
   "execution_count": 4,
   "metadata": {},
   "outputs": [
    {
     "name": "stdout",
     "output_type": "stream",
     "text": [
      "The value of the derivative at x = 2 is f'(2) = 0.04467938942574401\n"
     ]
    }
   ],
   "source": [
    "from math import *\n",
    "\n",
    "x = 2 # Initial guess\n",
    "\n",
    "# Define function\n",
    "f = x * exp(-sin( (1/2) * x)**2) - 3/2 \n",
    "# Define the derivative of the function (wrt x)\n",
    "df = exp(-sin((1/2)*x)**2)-x*sin((1/2)*x)*cos((1/2)*x)*exp(-sin((1/2)*x)**2)\n",
    "\n",
    "print(f\"The value of the derivative at x = 2 is f'(2) = {df}\")"
   ]
  },
  {
   "cell_type": "markdown",
   "metadata": {},
   "source": [
    "Notice that the value for the derivative at $x=2$ is very close to zero and is therefore not a good starting point. "
   ]
  },
  {
   "cell_type": "markdown",
   "metadata": {},
   "source": [
    "### i) ### \n",
    " There is a root in the interval $[0,10]$. What is the value of this root? Express your answer to 10 decimal places.  \n",
    "\n",
    "**Note:** As suggested above, the Newton method might not converge for certain initial values, therefore you need to test a few initial starting points until the algorithm converges. \n",
    "\n",
    "**Hint:** The below code can be used to print values to many decimal places. To get 10 decimal places of accuracy, you should keep iterating your code until the first 10 decimal places of ${x_n}$ don't change between iterations"
   ]
  },
  {
   "cell_type": "code",
   "execution_count": 5,
   "metadata": {},
   "outputs": [
    {
     "name": "stdout",
     "output_type": "stream",
     "text": [
      "n = 1 -- x_n = 0.14285714285714285 -- f(x_n) = -1.357868631509032\n"
     ]
    }
   ],
   "source": [
    "n = 1\n",
    "x = 1/7\n",
    "f = x*exp(-sin((1/2)*x)**2)-3/2\n",
    "\n",
    "print(f\"n = {n} -- x_n = {x} -- f(x_n) = {f}\")\n",
    "# this prints the integer n, the float x to 10 decimal places\n",
    "# ... and the float f to 5 decimal places (in exponential format). This \n",
    "# ... is best placed inside your loop to see what is happening at each iteration "
   ]
  },
  {
   "cell_type": "markdown",
   "metadata": {},
   "source": [
    "**Solution:**"
   ]
  },
  {
   "cell_type": "code",
   "execution_count": 7,
   "metadata": {},
   "outputs": [
    {
     "name": "stdout",
     "output_type": "stream",
     "text": [
      "n = 1 -- x_n = 4.1599416780402585 -- f(x_n) = 1.9947750322731128\n",
      "n = 2 -- x_n = 3.8189040617888232 -- f(x_n) = 0.44082866940157994\n",
      "n = 3 -- x_n = 3.7426244239019977 -- f(x_n) = 0.06883491194650082\n",
      "n = 4 -- x_n = 3.7390898757335913 -- f(x_n) = 0.0029213575892721444\n",
      "n = 5 -- x_n = 3.739082543636181 -- f(x_n) = 6.035062285913995e-06\n",
      "n = 6 -- x_n = 3.7390825436046855 -- f(x_n) = 2.592392966960233e-11\n",
      "n = 7 -- x_n = 3.7390825436046855 -- f(x_n) = 0.0\n",
      "--- Convergance! ---\n",
      "A root of f(x) is x = 3.7390825436 to 10 decimal places\n"
     ]
    }
   ],
   "source": [
    "from math import *\n",
    "\n",
    "x = 5           # note that if you use starting points less than about 2 or higher than about 7 the method will not converge\n",
    "tol = 1e-12     # User-specified tolerance    \n",
    "k = 0           # Variable to keep track of the number of iterations\n",
    "\n",
    "\n",
    "f = x*exp(-sin((1/2)*x)**2)-3/2\n",
    "\n",
    "while abs(f) > tol and k < 100:\n",
    "    k = k + 1\n",
    "    f = x * exp(-sin((1/2)*x)**2)-3/2 \n",
    "    df = exp(-sin((1/2)*x)**2)-x*sin((1/2)*x)*cos((1/2)*x)*exp(-sin((1/2)*x)**2)\n",
    "    x = x - f / df\n",
    "    print(f\"n = {k} -- x_n = {x} -- f(x_n) = {f}\")\n",
    "    \n",
    "print(\"--- Convergance! ---\")\n",
    "print(f\"A root of f(x) is x = {round(x,10)} to 10 decimal places\")\n"
   ]
  },
  {
   "cell_type": "markdown",
   "metadata": {},
   "source": [
    "### ii) (Optional bonus question for an extra reward*!) ###"
   ]
  },
  {
   "cell_type": "markdown",
   "metadata": {},
   "source": [
    "As you may have noticed, Newton's method sometimes doesn't converge unless we are close enough to the solution. One very common method to cirmumvent this issue is to do a few bisection method iterations first, and when you are \"close enough\" to the solution you can bring it home with Newton iterations. \n",
    "\n",
    "Implement a root finding algorithm that:\n",
    "\n",
    "   (1) uses the bisection method until you are within $|f(c)|<\\texttt{tol1}$, then\n",
    "    \n",
    "   (2) uses Newton's method until  $|f(x_n)|<\\texttt{tol2}$, \n",
    "    \n",
    "where you can choose the values of $\\texttt{tol1}$ and $\\texttt{tol2}$ as long as $\\texttt{tol1}>\\texttt{tol2}$.\n",
    "\n",
    " \\* The reward is the satisfaction of completing the hardest part of the assignment"
   ]
  },
  {
   "cell_type": "code",
   "execution_count": 11,
   "metadata": {},
   "outputs": [
    {
     "name": "stdout",
     "output_type": "stream",
     "text": [
      "n = 1 -- x_n = 5.0 -- f(x_n) = 1.9947750323\n",
      "n = 2 -- x_n = 2.5 -- f(x_n) = -0.4841568837\n",
      "n = 3 -- x_n = 3.75 -- f(x_n) = 0.0090437338\n",
      "----------------------------------------------------------------------------\n",
      "Finished bisecting! Now do Newton iterations with starting value x = 3.75\n",
      "----------------------------------------------------------------------------\n",
      "n = 4 -- x_n = 3.7391518653696187 -- f(x_n) = 0.009043733757714723\n",
      "n = 5 -- x_n = 3.7390825464198874 -- f(x_n) = 5.706069388033974e-05\n",
      "n = 6 -- x_n = 3.7390825436046855 -- f(x_n) = 2.3171775609398537e-09\n",
      "n = 7 -- x_n = 3.7390825436046855 -- f(x_n) = 0.0\n",
      "----------------------------------------------------------------------------\n",
      "Newtons method converged! With the root x = 3.7390825436\n",
      "----------------------------------------------------------------------------\n"
     ]
    }
   ],
   "source": [
    "from math import *\n",
    "\n",
    "tol1 = 1e-2    # Tolerance for the Bisection search\n",
    "tol2 = 1e-12   # Tolerance for the Newtons method\n",
    "k = 0          # Variable to keep track of the number of iterations\n",
    "\n",
    "# Do bisections until we are have staisfied tol1\n",
    "\n",
    "a  = 0         # Lower bound\n",
    "b  = 10        # Upper bound\n",
    "c  = (a+b)/2   # Bisection \n",
    "fc = c * exp(-sin((1/2)*c)**2)-3/2 # f(c)\n",
    "\n",
    "while abs(fc) > tol1 and k < 20:\n",
    "    k  = k + 1\n",
    "    c  = (a+b)/2                                # bisect interval \n",
    "    fa = a*exp(-sin((1/2)*a)**2)-3/2  # f(a)\n",
    "    fb = b*exp(-sin((1/2)*b)**2)-3/2  # f(b)\n",
    "    fc = c*exp(-sin((1/2)*c)**2)-3/2  # f(c)\n",
    "\n",
    "    if fa*fc<0:                                 # if f(a) and f(c) have opposite signs then b = c\n",
    "        b = c\n",
    "\n",
    "    elif fb*fc<0:                               # if f(a) and f(c) have opposite signs then a = c\n",
    "        a = c\n",
    "    print(f\"n = {k} -- x_n = {c} -- f(x_n) = {round(fc,10)}\")\n",
    "print(\"----------------------------------------------------------------------------\")    \n",
    "print(f\"Finished bisecting! Now do Newton iterations with starting value x = {round(c,3)}\")\n",
    "print(\"----------------------------------------------------------------------------\")\n",
    "# use the final value for c to initialize the Newton iterations\n",
    "x = c\n",
    "f = x*exp(-sin((1/2)*x)**2)-3/2\n",
    "\n",
    "while abs(f) > tol and k < 100:\n",
    "    k = k + 1\n",
    "    f = x*exp(-sin((1/2)*x)**2)-3/2 \n",
    "    df = exp(-sin((1/2)*x)**2)-x*sin((1/2)*x)*cos((1/2)*x)*exp(-sin((1/2)*x)**2)\n",
    "    x = x - f/df\n",
    "    print(f\"n = {k} -- x_n = {x} -- f(x_n) = {f}\") \n",
    "\n",
    "\n",
    "print(\"----------------------------------------------------------------------------\")    \n",
    "print(f\"Newtons method converged! With the root x = {round(x,10)}\")\n",
    "print(\"----------------------------------------------------------------------------\")"
   ]
  }
 ],
 "metadata": {
  "kernelspec": {
   "display_name": "Python 3",
   "language": "python",
   "name": "python3"
  },
  "language_info": {
   "codemirror_mode": {
    "name": "ipython",
    "version": 3
   },
   "file_extension": ".py",
   "mimetype": "text/x-python",
   "name": "python",
   "nbconvert_exporter": "python",
   "pygments_lexer": "ipython3",
   "version": "3.9.7"
  }
 },
 "nbformat": 4,
 "nbformat_minor": 2
}
