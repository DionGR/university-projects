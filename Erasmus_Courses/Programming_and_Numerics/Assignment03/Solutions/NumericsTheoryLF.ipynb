{
 "cells": [
  {
   "cell_type": "markdown",
   "metadata": {},
   "source": [
    "# Numerics Theory Solutions\n",
    "\n",
    "a) Exchange the derivative in Newton's method for a difference approximation.\n",
    "\n",
    "b) No - convergence is reliant on the function and the starting point.\n",
    "\n",
    "c) The secant method works without access to derivatives, so the secant method.\n",
    "\n",
    "d) The bisection method is in general safest to use.\n",
    "\n",
    "e) The bisection method is by far the slowest of the three."
   ]
  },
  {
   "cell_type": "code",
   "execution_count": null,
   "metadata": {},
   "outputs": [],
   "source": []
  }
 ],
 "metadata": {
  "kernelspec": {
   "display_name": "Python 3",
   "language": "python",
   "name": "python3"
  },
  "language_info": {
   "codemirror_mode": {
    "name": "ipython",
    "version": 3
   },
   "file_extension": ".py",
   "mimetype": "text/x-python",
   "name": "python",
   "nbconvert_exporter": "python",
   "pygments_lexer": "ipython3",
   "version": "3.7.1"
  }
 },
 "nbformat": 4,
 "nbformat_minor": 2
}
