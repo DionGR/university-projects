{
 "cells": [
  {
   "attachments": {},
   "cell_type": "markdown",
   "metadata": {
    "deletable": false,
    "editable": false,
    "run_control": {
     "frozen": true
    }
   },
   "source": [
    "# Assignment 3\n",
    "\n",
    "**Learning Goals:**\n",
    "\n",
    "* Loops\n",
    "* Conditions\n",
    "* Strings\n",
    "* Newton's Method\n",
    "\n",
    "\n",
    "**Starting Out with Python:**\n",
    "\n",
    "* Ch. 4: Repetition Structures\n",
    "\n",
    "\n",
    "Lecture notes\n",
    "Additional theory in drop-down menus in the exercise pages\n",
    " \n",
    "\n",
    "## Approval:\n",
    "* Mandatory exercies\n",
    "* Three exercises of your own choice from the table of regular programming exercies. Some of has been translated to english (marked \"ENG\")\n",
    "* If you do the optional extra task at the end of *Newton's Method*, you only need to do two other tasks.\n",
    "* Finally, deliver .zip-file at Blackboard containing .py or .ipynb files.\n",
    "\n",
    "Tasks that are a little extra difficult are marked with a star. Tasks that go beyond what has been lectured are marked with two stars. Tasks translated to english is marked with (ENG). Good luck!\n",
    "\n",
    "\n",
    "\n",
    "Task | Theme | Difficulty | TDT4127 \n",
    "--- | --- | --- | ---\n",
    "[Numerics Theory (ENG)](numericsTheory.ipynb) | Equation solving | - | Mandatory\n",
    "[Newton's Method (ENG)](Newton's%20method.ipynb) | Numerical methods |![img](./../Resources/Images/star_yellow.svg)| Mandatory\n",
    "[Introduksjon til Loops](Intro%20til%20lokker.ipynb),  [Introduction to Loops(ENG)](IntroToLoops(ENG).ipynb) |Loops | - | -\n",
    "[Mer om Loops](Mer%20om%20lokker.ipynb)|Loops| - | -\n",
    "[Intro til Nested Loops](Nostede%20lokker.ipynb) , [Intro to nested loops(ENG)](Nostede%20lokker(ENG).ipynb)|Nested Loops| - | -\n",
    "[Kodeforståelse](Kodeforstaelse.ipynb) , [Code Comprehension(ENG)](Codecomprehension.ipynb)|Code comprehension| - | -\n",
    "[Gjett tallet](Gjett%20tallet.ipynb) , [Guess the Number(ENG)](GuessTheNumber(ENG).ipynb)|Loops and Booleans| - | -\n",
    "[Tekstbasert Spill 2](Tekstbasert%20spill%202.ipynb)|Loops and Booleans|![img](./../Resources/Images/star_yellow.svg)| - \n",
    "[Geometrisk rekke](Geometrisk%20rekke.ipynb)|Loops and Booleans|![img](./../Resources/Images/star_yellow.svg)| -\n",
    "[Fibonacci](Fibonacci.ipynb) , [Fibonacci(ENG)](Fibonacci(ENG).ipynb) |Loops|![img](./../Resources/Images/star_yellow.svg)| -\n",
    "[Alternerende sum](Alternerende%20sum.ipynb) , [Alternating sum(ENG)](Alternerende%20sum(ENG).ipynb)|Loops|![img](./../Resources/Images/star_yellow.svg)| -\n",
    "[Hangman](Hangman.ipynb)|Loops|![img](./../Resources/Images/star_yellow.svg)| -\n",
    "[Doble Loops](Doble%20lokker.ipynb), [Double loops(ENG)](Doble%20lokker(ENG).ipynb)|Nested Loops| ![img](./../Resources/Images/star_yellow.svg)| -\n"
   ]
  }
 ],
 "metadata": {
  "kernelspec": {
   "display_name": "Python 3",
   "language": "python",
   "name": "python3"
  },
  "language_info": {
   "codemirror_mode": {
    "name": "ipython",
    "version": 3
   },
   "file_extension": ".py",
   "mimetype": "text/x-python",
   "name": "python",
   "nbconvert_exporter": "python",
   "pygments_lexer": "ipython3",
   "version": "3.10.6 (main, Nov 14 2022, 16:10:14) [GCC 11.3.0]"
  },
  "toc": {
   "base_numbering": 1,
   "nav_menu": {},
   "number_sections": false,
   "sideBar": true,
   "skip_h1_title": false,
   "title_cell": "Table of Contents",
   "title_sidebar": "Contents",
   "toc_cell": false,
   "toc_position": {},
   "toc_section_display": true,
   "toc_window_display": false
  },
  "vscode": {
   "interpreter": {
    "hash": "916dbcbb3f70747c44a77c7bcd40155683ae19c65e1c03b4aa3499c5328201f1"
   }
  }
 },
 "nbformat": 4,
 "nbformat_minor": 2
}
