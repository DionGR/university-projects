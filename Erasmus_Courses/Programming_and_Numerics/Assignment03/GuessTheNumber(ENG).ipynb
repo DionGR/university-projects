{
 "cells": [
  {
   "cell_type": "markdown",
   "metadata": {
    "deletable": false,
    "editable": false,
    "run_control": {
     "frozen": true
    }
   },
   "source": [
    "[Back to Assignment 3](_Oving3.ipynb)\n",
    "\n",
    "# Guess the Number\n",
    "\n",
    "**Learning goals**\n",
    "\n",
    "* Loops\n",
    "* Conditions\n",
    "* Built-in functions\n",
    "\n",
    "**Starting Out with Python:**\n",
    "\n",
    "* Ch. 4.2-4.3\n",
    "\n",
    "In this task, you will create a program that generates a random integer at a given interval, and then lets the user guess what that number is. This should be done using loops.\n",
    "\n",
    "You will need to utilize the *random* library in python. In order to make it avalable in your program you need to start your code with ***import random***.\n",
    "\n",
    "Example use of random.randint() (using the function randint() from the *random* library):\n",
    "\n",
    "```python\n",
    "randomNumber = random.randint(1,50)    # returns a random number between 1 and 50. (including 1 and 50)\n",
    "number = random.randint(a,b)           # returns a random number between a and b. \n",
    "```\n",
    "\n"
   ]
  },
  {
   "cell_type": "markdown",
   "metadata": {},
   "source": [
    "**a)** Ask the user to pick a lower and an upper limit for numbers to guess on. Save the two numbers in two different variables.\n",
    "\n",
    "***Write code in block below:***"
   ]
  },
  {
   "cell_type": "code",
   "execution_count": null,
   "metadata": {
    "ExecuteTime": {
     "end_time": "2019-07-02T14:02:57.358551Z",
     "start_time": "2019-07-02T14:02:57.352636Z"
    }
   },
   "outputs": [],
   "source": []
  },
  {
   "cell_type": "markdown",
   "metadata": {
    "deletable": false,
    "editable": false,
    "run_control": {
     "frozen": true
    }
   },
   "source": [
    "**b)**  Create a variable RandomNum that generates a random integer in the chosen interval, between the upper and lower bound. (continue in the code block from a))"
   ]
  },
  {
   "cell_type": "markdown",
   "metadata": {
    "deletable": false,
    "editable": false,
    "run_control": {
     "frozen": true
    }
   },
   "source": [
    "**c)** Write a WHILE-loop that runs for as long as the user guesses the wrong number. The user should get feedback for each guess on whether they guessed to low, to high or if they, in fact, guessed correctly.\n",
    "\n",
    "Example run:\n",
    "```python\n",
    "Give a lower bound for the random number: 1\n",
    "Give an upper bound for the random number: 100\n",
    "Make a guess 50\n",
    "The correct number is lower\n",
    "Make a guess 25\n",
    "The correct Number is higher\n",
    "Make a guess 37\n",
    "The correct number is lower\n",
    "Make a guess 32\n",
    "You guessed correct!```"
   ]
  }
 ],
 "metadata": {
  "kernelspec": {
   "display_name": "Python 3",
   "language": "python",
   "name": "python3"
  },
  "language_info": {
   "codemirror_mode": {
    "name": "ipython",
    "version": 3
   },
   "file_extension": ".py",
   "mimetype": "text/x-python",
   "name": "python",
   "nbconvert_exporter": "python",
   "pygments_lexer": "ipython3",
   "version": "3.7.1"
  },
  "toc": {
   "base_numbering": 1,
   "nav_menu": {},
   "number_sections": false,
   "sideBar": true,
   "skip_h1_title": false,
   "title_cell": "Table of Contents",
   "title_sidebar": "Contents",
   "toc_cell": false,
   "toc_position": {},
   "toc_section_display": true,
   "toc_window_display": false
  }
 },
 "nbformat": 4,
 "nbformat_minor": 2
}
