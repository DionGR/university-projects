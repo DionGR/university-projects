{
 "cells": [
  {
   "cell_type": "markdown",
   "metadata": {},
   "source": [
    "> Dionysios Rigatos <br />\n",
    "> dionysir@stud.ntnu.no <br />"
   ]
  },
  {
   "cell_type": "markdown",
   "metadata": {
    "deletable": false,
    "editable": false,
    "run_control": {
     "frozen": true
    }
   },
   "source": [
    "[Back to Assignment 3](_Oving3.ipynb)\n",
    "\n",
    "# Newton's method\n",
    "In this exercise you will use Newton's method for finding roots of the scalar function $f(x)$ to within a certain level of prescision (i.e., some small number $\\texttt{tol}$). Recall that with Newton's method, you make a guess for the root $x_0$, and then you draw a tangent line of $f(x)$ line at $x=x_0$. You then use the root of the tangent line as an $\\it{improved}$ guess of the root, which we will call $x_1$. We then draw another tangent line, now at the point $x_1$ and keep going $n$ times until your guess $x_{n}$ satifies some sort of stopping criteria. \n",
    "\n",
    "Newton's method reads $$x_{k+1}=x_{k}-\\frac{f(x_{k})}{f'(x_{k})},$$ which is the solution to the root of the tangent line of $f(x)$ at $x=x_k$. Note that this is best implemented using a while loop. \n",
    "\n",
    "**Stopping criteria**: Your stopping criteria should be something like $\\texttt{abs}(f(x_n))<\\texttt{tol}$ and/or $\\texttt{abs}(x_n-x_{n+1})<\\texttt{tol}$. In addition, it is sometimes wise to add another stopping criteria in case the algorithm $\\it does~not$ converge, for example \n",
    "\n",
    "    k=1\n",
    "    while <<stopping_criteria>> and k<100:\n",
    "        <<Newton iteration>>\n",
    "        k = k+1\n",
    "        \n",
    "this will stop the loop if it hasn't converged in 100 iterations.\n",
    "\n"
   ]
  },
  {
   "cell_type": "code",
   "execution_count": 30,
   "metadata": {},
   "outputs": [],
   "source": [
    "import math"
   ]
  },
  {
   "cell_type": "markdown",
   "metadata": {
    "deletable": false,
    "editable": false,
    "run_control": {
     "frozen": true
    }
   },
   "source": [
    "## a) "
   ]
  },
  {
   "cell_type": "markdown",
   "metadata": {
    "deletable": false,
    "editable": false,
    "run_control": {
     "frozen": true
    }
   },
   "source": [
    "Use Newton's method to calculate the roots of the test function $f(x)=\\cos(x)$, which has known roots at $x = \\frac{n \\pi}{2}$, for some integer $m$. \n",
    "\n",
    "Use a tolerance of $\\texttt{tol} = 10^{-10}$, and an initial guess of $x_0 = 0.5$.\n",
    "\n",
    "Your algorithm should converge to the root $x = \\frac{\\pi}{2}$. "
   ]
  },
  {
   "cell_type": "code",
   "execution_count": 31,
   "metadata": {},
   "outputs": [],
   "source": [
    "def newton(f, df, x0, tol, max_iter):\n",
    "    x = x0 \n",
    "    no_iter = 0\n",
    "    while abs(f(x)) >= tol and no_iter < max_iter:\n",
    "        try:\n",
    "            x = x - f(x)/df(x)\n",
    "        except ZeroDivisionError:\n",
    "            print(\"Error! - derivative zero for x = \", x)\n",
    "            return 0, 0\n",
    "        no_iter += 1\n",
    "        \n",
    "    print(f\"Root: {x}, iters: {no_iter}, f(x): {f(x)}\")\n",
    "    \n",
    "    return x, no_iter"
   ]
  },
  {
   "cell_type": "code",
   "execution_count": 32,
   "metadata": {},
   "outputs": [],
   "source": [
    "tol = 1e-10\n",
    "f = lambda x: math.cos(x)\n",
    "df = lambda x: -math.sin(x)\n",
    "x_0 = 0.5 "
   ]
  },
  {
   "cell_type": "code",
   "execution_count": 33,
   "metadata": {},
   "outputs": [
    {
     "name": "stdout",
     "output_type": "stream",
     "text": [
      "Root: 1.5707963267948966, iters: 5, f(x): 6.123233995736766e-17\n"
     ]
    }
   ],
   "source": [
    "root, iters = newton(f, df, x_0, tol, 100)\n",
    "\n",
    "assert abs(root - math.pi/2) < tol"
   ]
  },
  {
   "cell_type": "markdown",
   "metadata": {},
   "source": [
    "### i) ###\n",
    "For the stopping criteria $\\texttt{abs}(f(x_n))<\\texttt{tol}$, how many iterations does it take for Newton's method to converge to the root? \n",
    "\n"
   ]
  },
  {
   "cell_type": "markdown",
   "metadata": {},
   "source": [
    "**Answer:** It took 5 iterations for convergence to occur."
   ]
  },
  {
   "cell_type": "markdown",
   "metadata": {
    "deletable": false,
    "editable": false,
    "run_control": {
     "frozen": true
    }
   },
   "source": [
    "### ii) ### \n",
    "What happens when you use the initial guess of $x_0 = 0$? Can you explain your observation? (Note: if you have written your code correctly, something $\\it should$ go wrong.)"
   ]
  },
  {
   "cell_type": "code",
   "execution_count": 34,
   "metadata": {},
   "outputs": [
    {
     "name": "stdout",
     "output_type": "stream",
     "text": [
      "Error! - derivative zero for x =  0\n"
     ]
    }
   ],
   "source": [
    "root, iters = newton(f, df, 0, tol, 100)"
   ]
  },
  {
   "cell_type": "markdown",
   "metadata": {},
   "source": [
    "**Answer:** We can see that there is a division by zero error, which is due to the fact that the derivative of $\\cos(x)$ is $-\\sin(x)$, and $\\sin(0)=0$. This means that the algorithm will try to divide by zero, which is not possible."
   ]
  },
  {
   "cell_type": "markdown",
   "metadata": {
    "deletable": false,
    "editable": false,
    "run_control": {
     "frozen": true
    }
   },
   "source": [
    "### iii)"
   ]
  },
  {
   "cell_type": "markdown",
   "metadata": {
    "deletable": false,
    "editable": false,
    "run_control": {
     "frozen": true
    }
   },
   "source": [
    "What happens when you use a tolerance of $\\texttt{tol} = 10^{-18}$ and $x_0=0.5$? Does the algorithm converge? Can you explain your observation?"
   ]
  },
  {
   "cell_type": "code",
   "execution_count": 35,
   "metadata": {},
   "outputs": [
    {
     "name": "stdout",
     "output_type": "stream",
     "text": [
      "Root: 1.5707963267948966, iters: 100, f(x): 6.123233995736766e-17\n",
      "Root: 1.5707963267948966, iters: 200, f(x): 6.123233995736766e-17\n"
     ]
    }
   ],
   "source": [
    "root, iters = newton(f, df, 0.5, 10e-18, 100)\n",
    "root, iters = newton(f, df, 0.5, 10e-18, 200)"
   ]
  },
  {
   "cell_type": "markdown",
   "metadata": {},
   "source": [
    "**Answer:** We can see that irregardless of maximum_iterations, the algorithm yields the same result - however it does not seem to be stopping. This is due to the fact that the algorithm is not able to reach the desired tolerance, and therefore keeps iterating."
   ]
  },
  {
   "cell_type": "markdown",
   "metadata": {},
   "source": [
    "## b)"
   ]
  },
  {
   "cell_type": "markdown",
   "metadata": {
    "deletable": false,
    "editable": false,
    "run_control": {
     "frozen": true
    }
   },
   "source": [
    "Now we will try and find a solution to the following function $$x{{\\rm e}^{- \\left( \\sin \\left( x/2 \\right)  \\right) ^{2}}}=3/2. $$ To do this we will look for a root of the function $$ f(x) = x{{\\rm e}^{- \\left( \\sin \\left( x/2 \\right)  \\right) ^{2}}}-3/2.$$\n",
    "which has the derivative $$f'(x) = {{\\rm e}^{- \\left( \\sin \\left( x/2 \\right)  \\right) ^{2}}}-x\\sin\n",
    " \\left( x/2 \\right) \\cos \\left( x/2 \\right) {{\\rm e}^{- \\left( \\sin\n",
    " \\left( x/2 \\right)  \\right) ^{2}}}.\n",
    "$$ The values of $f(x)$ and $f'(x)$ for $x = 2$ have been written in Python for you below so you don't make a mistake copying the formula into you code. "
   ]
  },
  {
   "cell_type": "code",
   "execution_count": 36,
   "metadata": {
    "deletable": false,
    "editable": false,
    "run_control": {
     "frozen": true
    }
   },
   "outputs": [
    {
     "name": "stdout",
     "output_type": "stream",
     "text": [
      "The value of the derivative at x = 2 is f'(2) = 0.04467938942574401\n"
     ]
    }
   ],
   "source": [
    "import math \n",
    "x = 2\n",
    "f = x*math.exp(-math.sin((1/2)*x)**2)-3/2\n",
    "dfdx = math.exp(-math.sin((1/2)*x)**2)-x*math.sin((1/2)*x)*math.cos((1/2)*x)*math.exp(-math.sin((1/2)*x)**2)\n",
    "print(\"The value of the derivative at x = 2 is f'(2) =\", dfdx)"
   ]
  },
  {
   "cell_type": "markdown",
   "metadata": {
    "deletable": false,
    "editable": false,
    "run_control": {
     "frozen": true
    }
   },
   "source": [
    "Notice that the value for the derivative at $x=2$ is very close to zero and is therefore not a good starting point. "
   ]
  },
  {
   "cell_type": "markdown",
   "metadata": {
    "deletable": false,
    "editable": false,
    "run_control": {
     "frozen": true
    }
   },
   "source": [
    "### i) ### \n",
    " There is a root in the interval $[0,10]$. What is the value of this root? Express your answer to 10 decimal places.  \n",
    "\n",
    "**Note:** As suggested above, the Newton method might not converge for certain initial values, therefore you need to test a few initial starting points until the algorithm converges. \n"
   ]
  },
  {
   "cell_type": "code",
   "execution_count": 37,
   "metadata": {},
   "outputs": [
    {
     "name": "stdout",
     "output_type": "stream",
     "text": [
      "Initial guess: 1\n",
      "Root: -284.311276902312, iters: 100, f(x): -174.19012530603518\n",
      "Initial guess: 2\n",
      "Root: 3.7390825436046895, iters: 56, f(x): 3.1086244689504383e-15\n",
      "Initial guess: 3\n",
      "Root: 3.7390825436046855, iters: 6, f(x): 0.0\n",
      "Initial guess: 4\n",
      "Root: 3.739082543604722, iters: 4, f(x): 2.9976021664879227e-14\n",
      "Initial guess: 5\n",
      "Root: 3.7390825436046855, iters: 6, f(x): 0.0\n",
      "Initial guess: 6\n",
      "Root: 3.739082543604686, iters: 5, f(x): 2.220446049250313e-16\n",
      "Initial guess: 7\n",
      "Root: 3.739082543604686, iters: 14, f(x): 2.220446049250313e-16\n",
      "Initial guess: 8\n",
      "Root: 3.7390825436046855, iters: 37, f(x): 0.0\n",
      "Initial guess: 9\n",
      "Root: 97.59354950197604, iters: 100, f(x): 34.777486059833045\n",
      "Initial guess: 10\n",
      "Root: -128.53220293123985, iters: 100, f(x): -49.66868987061512\n"
     ]
    }
   ],
   "source": [
    "f = lambda x: x*math.exp(-math.sin((1/2)*x)**2)-3/2\n",
    "df = lambda x: math.exp(-math.sin((1/2)*x)**2)-x*math.sin((1/2)*x)*math.cos((1/2)*x)*math.exp(-math.sin((1/2)*x)**2)\n",
    "\n",
    "for x0 in range(1, 11):\n",
    "    print(f\"Initial guess: {x0}\")\n",
    "    root, iters = newton(f, df, x0, 1e-11, 100)"
   ]
  },
  {
   "cell_type": "markdown",
   "metadata": {},
   "source": [
    "We can see that the algorithm converges for most of the initial guesses, with x=4 being the fastest with our tolerance.\n",
    "\n",
    "NOTE: I was unsure how the hint was relevant, maybe I missed something in this task..."
   ]
  },
  {
   "cell_type": "markdown",
   "metadata": {
    "deletable": false,
    "editable": false,
    "heading_collapsed": true,
    "run_control": {
     "frozen": true
    }
   },
   "source": [
    "#### **Hint:**"
   ]
  },
  {
   "cell_type": "markdown",
   "metadata": {
    "deletable": false,
    "editable": false,
    "hidden": true,
    "run_control": {
     "frozen": true
    }
   },
   "source": [
    "\n",
    "The below code can be used to print values to many decimal places. To get 10 decimal places of accuracy, you should keep iterating your code until the first 10 decimal places of ${x_n}$ don't change between iterations"
   ]
  },
  {
   "cell_type": "code",
   "execution_count": 38,
   "metadata": {
    "deletable": false,
    "editable": false,
    "hidden": true,
    "run_control": {
     "frozen": true
    }
   },
   "outputs": [
    {
     "name": "stdout",
     "output_type": "stream",
     "text": [
      "n = 1 : x_n = 0.1428571429, f(x_n) = -1.35787e+00\n"
     ]
    }
   ],
   "source": [
    "n = 1\n",
    "x = 1/7\n",
    "f = x*math.exp(-math.sin((1/2)*x)**2)-3/2\n",
    "\n",
    "print(\"n = %-2d: x_n = %.10f, f(x_n) = %.5e\" % (n,x,f)) \n",
    "# this prints the integer n, the float x to 10 decimal places\n",
    "# ... and the float f to 5 decimal places (in exponential format). This \n",
    "# ... is best placed inside your loop to see what is happening at each iteration \n"
   ]
  },
  {
   "cell_type": "markdown",
   "metadata": {
    "deletable": false,
    "editable": false,
    "run_control": {
     "frozen": true
    }
   },
   "source": [
    "### ii) (Optional bonus question for an extra reward*!) ###"
   ]
  },
  {
   "cell_type": "markdown",
   "metadata": {
    "deletable": false,
    "editable": false,
    "run_control": {
     "frozen": true
    }
   },
   "source": [
    "As you may have noticed, Newton's method sometimes doesn't converge unless we are close enough to the solution. One very common method to cirmumvent this issue is to do a few bisection method iterations first, and when you are \"close enough\" to the solution you can bring it home with Newton iterations. \n",
    "\n",
    "Implement a root finding algorithm that:\n",
    "\n",
    "   (1) uses the bisection method until you are within $|f(c)|<\\texttt{tol1}$, then\n",
    "    \n",
    "   (2) uses Newton's method until  $|f(x_n)|<\\texttt{tol2}$, \n",
    "    \n",
    "where you can choose the values of $\\texttt{tol1}$ and $\\texttt{tol2}$ as long as $\\texttt{tol1}>\\texttt{tol2}$."
   ]
  },
  {
   "cell_type": "markdown",
   "metadata": {
    "deletable": false,
    "editable": false,
    "run_control": {
     "frozen": true
    }
   },
   "source": [
    " \\* The reward is the satisfaction of completing the hardest part of the assignment (+ read the assignment approval description for assignment 3)"
   ]
  },
  {
   "cell_type": "markdown",
   "metadata": {},
   "source": [
    "Reinstating a modified bisection from Assignment02..."
   ]
  },
  {
   "cell_type": "code",
   "execution_count": 39,
   "metadata": {},
   "outputs": [],
   "source": [
    "def bisection(function, a, b, max_iterations=10e5, tolerance=1e-6):\n",
    "    f_a = function(a)\n",
    "    f_b = function(b)\n",
    "    f_c = tolerance + 1\n",
    "\n",
    "    if f_a * f_b >= 0:\n",
    "        print(\"Invalid starting interval.\")\n",
    "        return None\n",
    "    \n",
    "    iterations = 0\n",
    "    \n",
    "    while abs(f_c) > tolerance and iterations < max_iterations:\n",
    "        \n",
    "        c = (a+b)/2\n",
    "        f_c = function(c)\n",
    "        \n",
    "        if f_c * f_a < 0:\n",
    "            b = c\n",
    "        else:\n",
    "            a = c\n",
    "            \n",
    "        iterations += 1\n",
    "\n",
    "    return a, b"
   ]
  },
  {
   "cell_type": "code",
   "execution_count": 40,
   "metadata": {},
   "outputs": [],
   "source": [
    "def bisection_newton(f, df, a, b, tol_bisection, tol_newton, max_iterations):\n",
    "    \n",
    "    assert tol_bisection > tol_newton \n",
    "    \n",
    "    print(f\"Bisection initializing with interval [{a}, {b}].\")\n",
    "    a, b = bisection(f, a, b, max_iterations, tol_bisection)\n",
    "    x = (a+b)/2\n",
    "    print(f\"Bisection finished with interval [{a}, {b}].\")\n",
    "    \n",
    "    print(\"-\"*10)\n",
    "    \n",
    "    print(f\"Newton initializing with x0 = {x}.\")\n",
    "    root, iters = newton(f, df, x, tol_newton, max_iterations)\n",
    "    print(f\"Newton finished. Root: {root}, iters: {iters}.\")\n",
    "    \n",
    "    return root, iters"
   ]
  },
  {
   "cell_type": "code",
   "execution_count": 41,
   "metadata": {},
   "outputs": [
    {
     "name": "stdout",
     "output_type": "stream",
     "text": [
      "Bisection initializing with interval [0, 10].\n",
      "Bisection finished with interval [3.7390804290771484, 3.7390828132629395].\n",
      "----------\n",
      "Newton initializing with x0 = 3.739081621170044.\n",
      "Root: 3.7390825436046855, iters: 2, f(x): 0.0\n",
      "Newton finished. Root: 3.7390825436046855, iters: 2.\n"
     ]
    }
   ],
   "source": [
    "tol_bisection = 1e-6\n",
    "tol_newton = 1e-15\n",
    "max_iterations = 100\n",
    "\n",
    "a = 0\n",
    "b = 10\n",
    "\n",
    "f = lambda x: x*math.exp(-math.sin((1/2)*x)**2)-3/2\n",
    "df = lambda x: math.exp(-math.sin((1/2)*x)**2)-x*math.sin((1/2)*x)*math.cos((1/2)*x)*math.exp(-math.sin((1/2)*x)**2)\n",
    "\n",
    "\n",
    "root, iters = bisection_newton(f, df, a, b, tol_bisection, tol_newton, max_iterations)"
   ]
  }
 ],
 "metadata": {
  "kernelspec": {
   "display_name": "Python 3",
   "language": "python",
   "name": "python3"
  },
  "language_info": {
   "codemirror_mode": {
    "name": "ipython",
    "version": 3
   },
   "file_extension": ".py",
   "mimetype": "text/x-python",
   "name": "python",
   "nbconvert_exporter": "python",
   "pygments_lexer": "ipython3",
   "version": "3.10.4"
  }
 },
 "nbformat": 4,
 "nbformat_minor": 2
}
