{
 "cells": [
  {
   "cell_type": "markdown",
   "metadata": {},
   "source": [
    "> Dionysios Rigatos <br />\n",
    "> dionysir@stud.ntnu.no <br />"
   ]
  },
  {
   "cell_type": "markdown",
   "metadata": {
    "deletable": false,
    "editable": false,
    "run_control": {
     "frozen": true
    }
   },
   "source": [
    "# Alternating sum\n",
    "\n",
    "**Learning goals:**\n",
    "\n",
    "* Loops\n",
    "\n",
    "**Starting Out with Python:**\n",
    "\n",
    "* Chapt. 4.2-4.3\n",
    "\n",
    "In this assignment you are going evaluate the sum of numbers, based on user input."
   ]
  },
  {
   "cell_type": "markdown",
   "metadata": {
    "deletable": false,
    "editable": false,
    "run_control": {
     "frozen": true
    }
   },
   "source": [
    "## a)\n",
    "Write a program that reads in an integer $n$ from the user and evaluates the series below.\n",
    "\n",
    "**$1^{2}-2^{2}+3^{2}-4^{2}+5^{2}-\\cdot \\cdot \\cdot \\pm n^{2}$**\n",
    "\n",
    "Notice that all the even numbers have a negative sign and all the odd numbers have a positive sign. Also recall that the name of your variable ***cannot*** be **sum**, as this is the name of a function in python. Also remember that range() is inclusive for the starting number but exclusive for the end number.\n",
    "\n",
    "Example run:\n",
    "```python\n",
    "n = 7\n",
    "The sum of the series is 28\n",
    "```\n",
    "\n",
    "***Write your code here***"
   ]
  },
  {
   "cell_type": "code",
   "execution_count": 18,
   "metadata": {
    "ExecuteTime": {
     "end_time": "2019-07-03T06:12:01.940513Z",
     "start_time": "2019-07-03T06:12:01.928036Z"
    }
   },
   "outputs": [],
   "source": [
    "def series(n):\n",
    "    res = 0\n",
    "    for i in range(1, n+1):\n",
    "        if i % 2 == 0:\n",
    "            res -= i**2\n",
    "        else:\n",
    "            res += i**2\n",
    "    print(f\"The sum of the series is {res}\")\n",
    "    return res"
   ]
  },
  {
   "cell_type": "code",
   "execution_count": 19,
   "metadata": {},
   "outputs": [
    {
     "name": "stdout",
     "output_type": "stream",
     "text": [
      "The sum of the series is 28\n"
     ]
    },
    {
     "data": {
      "text/plain": [
       "28"
      ]
     },
     "execution_count": 19,
     "metadata": {},
     "output_type": "execute_result"
    }
   ],
   "source": [
    "n = int(input(\"Enter a number: \"))\n",
    "\n",
    "series(n)"
   ]
  },
  {
   "cell_type": "markdown",
   "metadata": {
    "deletable": false,
    "editable": false,
    "run_control": {
     "frozen": true
    }
   },
   "source": [
    "## b)\n",
    "Write a new program such that it ends the iteration **before** the sum of the numbers is greater than the nonnegative integer $k$. That is the sum at the last term should be printed before it surpasses the number $k$.\n",
    "\n",
    "Keep track of how many terms from the series which have been included in the sum and print this out with the result.\n",
    "\n",
    "Example run:\n",
    "\n",
    "```python\n",
    "k = 6\n",
    "The sum of the numbers before the sum surpassed k is -10. Number of iterations: 4\n",
    "```\n",
    "```python\n",
    "k = 12\n",
    "The sum of the numbers before the sum surpassed k is -10. Number of iterations: 4\n",
    "```\n",
    "```python\n",
    "k = 15\n",
    "The sum of the numbers before the sum surpassed k is -21. Number of iterations: 6\n",
    "```\n",
    "\n",
    "***Write your code here:***"
   ]
  },
  {
   "cell_type": "code",
   "execution_count": 20,
   "metadata": {},
   "outputs": [],
   "source": [
    "def series_surpass(k):\n",
    "    res = 0 \n",
    "    iters = 0\n",
    "    \n",
    "    while True:\n",
    "        iters += 1\n",
    "        \n",
    "        if iters % 2 == 0:\n",
    "            nextnum = -iters**2\n",
    "        else :\n",
    "            nextnum = iters**2 \n",
    "            \n",
    "        if res + nextnum > k:\n",
    "            print(f\"The sum of the numbers before the sum surpassed k is {res}. Number of iterations is {iters-1}\")\n",
    "            return \n",
    "        else:\n",
    "            res += nextnum\n"
   ]
  },
  {
   "cell_type": "code",
   "execution_count": 21,
   "metadata": {},
   "outputs": [
    {
     "name": "stdout",
     "output_type": "stream",
     "text": [
      "The sum of the numbers before the sum surpassed k is -105. Number of iterations is 14\n"
     ]
    }
   ],
   "source": [
    "k = int(input(\"Enter a number: \"))\n",
    "series_surpass(k)"
   ]
  },
  {
   "cell_type": "code",
   "execution_count": 22,
   "metadata": {},
   "outputs": [
    {
     "name": "stdout",
     "output_type": "stream",
     "text": [
      "The sum of the numbers before the sum surpassed k is -10. Number of iterations is 4\n"
     ]
    }
   ],
   "source": [
    "k = 6\n",
    "series_surpass(k)"
   ]
  },
  {
   "cell_type": "code",
   "execution_count": 23,
   "metadata": {},
   "outputs": [
    {
     "name": "stdout",
     "output_type": "stream",
     "text": [
      "The sum of the numbers before the sum surpassed k is -10. Number of iterations is 4\n"
     ]
    }
   ],
   "source": [
    "k = 12 \n",
    "series_surpass(k)"
   ]
  },
  {
   "cell_type": "code",
   "execution_count": 24,
   "metadata": {},
   "outputs": [
    {
     "name": "stdout",
     "output_type": "stream",
     "text": [
      "The sum of the numbers before the sum surpassed k is -21. Number of iterations is 6\n"
     ]
    }
   ],
   "source": [
    "k = 15\n",
    "series_surpass(k)"
   ]
  }
 ],
 "metadata": {
  "kernelspec": {
   "display_name": "Python 3",
   "language": "python",
   "name": "python3"
  },
  "language_info": {
   "codemirror_mode": {
    "name": "ipython",
    "version": 3
   },
   "file_extension": ".py",
   "mimetype": "text/x-python",
   "name": "python",
   "nbconvert_exporter": "python",
   "pygments_lexer": "ipython3",
   "version": "3.10.4"
  },
  "toc": {
   "base_numbering": 1,
   "nav_menu": {},
   "number_sections": false,
   "sideBar": true,
   "skip_h1_title": false,
   "title_cell": "Table of Contents",
   "title_sidebar": "Contents",
   "toc_cell": false,
   "toc_position": {},
   "toc_section_display": true,
   "toc_window_display": false
  }
 },
 "nbformat": 4,
 "nbformat_minor": 2
}
