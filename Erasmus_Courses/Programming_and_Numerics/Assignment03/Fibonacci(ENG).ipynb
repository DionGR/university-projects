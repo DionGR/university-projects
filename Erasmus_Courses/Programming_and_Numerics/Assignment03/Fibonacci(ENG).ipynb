{
 "cells": [
  {
   "cell_type": "markdown",
   "metadata": {},
   "source": [
    "> Dionysios Rigatos <br />\n",
    "> dionysir@stud.ntnu.no <br />"
   ]
  },
  {
   "cell_type": "markdown",
   "metadata": {
    "deletable": false,
    "editable": false,
    "run_control": {
     "frozen": true
    }
   },
   "source": [
    "[Back to Assignment 3](_Oving3.ipynb)\n",
    "\n",
    "# Fibonacci\n",
    "\n",
    "**Learning goals:**\n",
    "\n",
    "* Loops\n",
    "\n",
    "**Starting Out with Python:**\n",
    "\n",
    "* Kap. 4.3\n",
    "\n",
    "<br><br>\n",
    "In this task you are going to use loops to calculate Fibonacci numbers.\n",
    "\n",
    "Fibonacci numbers are defined as follows: \n",
    "\n",
    "* **f(0) = 0**\n",
    "* **f(1) = 1**\n",
    "* **f(k) = f(k−1) + f(k−2)**\n",
    "\n",
    "This means that the two first numbers in the series are 0 and 1. After this, the next number is the sum of the two previous numbers. The beginning of the series looks like this: 0 1 1 2 3 5 8 13 ..."
   ]
  },
  {
   "cell_type": "markdown",
   "metadata": {
    "deletable": false,
    "editable": false,
    "run_control": {
     "frozen": true
    }
   },
   "source": [
    "**a)** Create a program that calculates and returns the k-th fibonacci number f(k) by iterations. If you have done it correctly, the 10th fibonaccinumber f(10) = 55. **Remember that the first number in the sequence is 0**.\n",
    "\n",
    "***Write your code below:***"
   ]
  },
  {
   "cell_type": "code",
   "execution_count": 32,
   "metadata": {
    "ExecuteTime": {
     "end_time": "2019-07-03T05:55:08.163277Z",
     "start_time": "2019-07-03T05:55:08.156436Z"
    }
   },
   "outputs": [],
   "source": [
    "def fib(k):\n",
    "    if k == 0:\n",
    "        return 0\n",
    "    elif k == 1:\n",
    "        return 1\n",
    "    else:\n",
    "        return fib(k-1) + fib(k-2)"
   ]
  },
  {
   "cell_type": "code",
   "execution_count": 33,
   "metadata": {},
   "outputs": [
    {
     "data": {
      "text/plain": [
       "55"
      ]
     },
     "execution_count": 33,
     "metadata": {},
     "output_type": "execute_result"
    }
   ],
   "source": [
    "k = 10\n",
    "\n",
    "fib(k)"
   ]
  },
  {
   "cell_type": "markdown",
   "metadata": {
    "deletable": false,
    "editable": false,
    "run_control": {
     "frozen": true
    }
   },
   "source": [
    "**b)** Rewrite the program in a) such that it also calculates the sum of all fibonacci numbers up to f(k). If you have done this correctly the sum of fibonacci numbers up to the 10th should be 143."
   ]
  },
  {
   "cell_type": "code",
   "execution_count": 34,
   "metadata": {},
   "outputs": [],
   "source": [
    "fib_vals = {0: 0, 1: 1}\n",
    "\n",
    "def fib_cool(k):\n",
    "    if k not in fib_vals.keys():\n",
    "        fib_vals[k] = fib_cool(k-1) + fib_cool(k-2)\n",
    "    return fib_vals[k]\n",
    "\n",
    "def fib_summer(fib_dict):\n",
    "    return sum(fib_dict.values())"
   ]
  },
  {
   "cell_type": "code",
   "execution_count": 35,
   "metadata": {},
   "outputs": [
    {
     "data": {
      "text/plain": [
       "143"
      ]
     },
     "execution_count": 35,
     "metadata": {},
     "output_type": "execute_result"
    }
   ],
   "source": [
    "fib_cool(k)\n",
    "\n",
    "fib_summer(fib_vals)"
   ]
  },
  {
   "cell_type": "markdown",
   "metadata": {},
   "source": [
    "**c)** (**Voluntary**, harder task) Modify the program to return a list of all the fibonacci numbers from 0 to f(k). Print the list. "
   ]
  },
  {
   "cell_type": "code",
   "execution_count": 36,
   "metadata": {},
   "outputs": [
    {
     "name": "stdout",
     "output_type": "stream",
     "text": [
      "0: 0\n",
      "1: 1\n",
      "2: 1\n",
      "3: 2\n",
      "4: 3\n",
      "5: 5\n",
      "6: 8\n",
      "7: 13\n",
      "8: 21\n",
      "9: 34\n",
      "10: 55\n"
     ]
    }
   ],
   "source": [
    "for k, v in fib_vals.items():\n",
    "    print(f\"{k}: {v}\")"
   ]
  }
 ],
 "metadata": {
  "kernelspec": {
   "display_name": "Python 3",
   "language": "python",
   "name": "python3"
  },
  "language_info": {
   "codemirror_mode": {
    "name": "ipython",
    "version": 3
   },
   "file_extension": ".py",
   "mimetype": "text/x-python",
   "name": "python",
   "nbconvert_exporter": "python",
   "pygments_lexer": "ipython3",
   "version": "3.10.4"
  },
  "toc": {
   "base_numbering": 1,
   "nav_menu": {},
   "number_sections": false,
   "sideBar": true,
   "skip_h1_title": false,
   "title_cell": "Table of Contents",
   "title_sidebar": "Contents",
   "toc_cell": false,
   "toc_position": {},
   "toc_section_display": true,
   "toc_window_display": false
  }
 },
 "nbformat": 4,
 "nbformat_minor": 2
}
