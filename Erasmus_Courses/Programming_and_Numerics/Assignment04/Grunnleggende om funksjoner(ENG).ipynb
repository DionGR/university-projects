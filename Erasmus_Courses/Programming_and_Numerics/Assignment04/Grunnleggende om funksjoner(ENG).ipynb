{
 "cells": [
  {
   "cell_type": "markdown",
   "metadata": {},
   "source": [
    "[Back to Assignment 5](_Oving5.ipynb)\n",
    "\n",
    "# The Basics of Functions\n",
    "\n",
    "**Læringsmål:**\n",
    "- Functions\n",
    "\n",
    "**Starting Out with Python:**\n",
    "- Ch. 5.1-5.2\n",
    "- Ch. 5.4\n",
    "- Ch. 5.8"
   ]
  },
  {
   "cell_type": "markdown",
   "metadata": {
    "heading_collapsed": true
   },
   "source": [
    "## Intro – Part 1: Simple functions without parameters and return values\n",
    "This isn't part of the assignment, but can be usefull to read before you proceed."
   ]
  },
  {
   "cell_type": "markdown",
   "metadata": {
    "hidden": true
   },
   "source": [
    "The program below is supposed to print a lot of data (only fragments shown here)\n",
    "\n",
    "Between each bulk of data we want something to separate it, with a blank line, horizontal line and another blank line.\n",
    "\n",
    "This makes all the lines marked with `##` identical. This is not a good solution."
   ]
  },
  {
   "cell_type": "code",
   "execution_count": 1,
   "metadata": {
    "hidden": true
   },
   "outputs": [
    {
     "name": "stdout",
     "output_type": "stream",
     "text": [
      "Example where we should have used a functio\n",
      "\n",
      "---------------------\n",
      "\n",
      "Data from source 1: 23.4 21.2 21.9\n",
      "etc., ...\n",
      "\n",
      "---------------------\n",
      "\n",
      "Data from source 2: ...\n",
      "\n",
      "---------------------\n",
      "\n",
      "Data from source 3: ...\n",
      "\n",
      "---------------------\n",
      "\n"
     ]
    }
   ],
   "source": [
    "# Example without a function\n",
    "print(\"Example where we should have used a functio\")\n",
    "print()                                 ##\n",
    "print(\"---------------------\")          ##\n",
    "print()                                 ##\n",
    "print(\"Data from source 1:\", 23.4, 21.2, 21.9)\n",
    "print(\"etc., ...\")\n",
    "print()                                 ##\n",
    "print(\"---------------------\")          ##\n",
    "print()                                 ##\n",
    "print(\"Data from source 2: ...\")\n",
    "print()                                 ##\n",
    "print(\"---------------------\")          ##\n",
    "print()                                 ##\n",
    "print(\"Data from source 3: ...\")\n",
    "print()                                 ##\n",
    "print(\"---------------------\")          ##\n",
    "print()                                 ##"
   ]
  },
  {
   "cell_type": "markdown",
   "metadata": {
    "hidden": true
   },
   "source": [
    "Below is a better solution:\n",
    "\n",
    "- The part of the code that is needed several times in the program is defined as a function `split()`\n",
    "- We only need `split()` the places in the code where we want the three prints done (the separation)."
   ]
  },
  {
   "cell_type": "code",
   "execution_count": 3,
   "metadata": {
    "ExecuteTime": {
     "end_time": "2019-07-02T14:08:32.800529Z",
     "start_time": "2019-07-02T14:08:32.779553Z"
    },
    "hidden": true
   },
   "outputs": [
    {
     "name": "stdout",
     "output_type": "stream",
     "text": [
      "The same example with a function\n",
      "\n",
      "---------------------\n",
      "\n",
      "Data from source 1: 23.4 21.2 21.9\n",
      "etc., ...\n",
      "\n",
      "---------------------\n",
      "\n",
      "Data from source 2: 18.4 19.1 18.7\n",
      "\n",
      "---------------------\n",
      "\n",
      "Data from source 3: 19.9 19.1 18.2\n",
      "\n",
      "---------------------\n",
      "\n"
     ]
    }
   ],
   "source": [
    "# Example with function\n",
    "def split():\n",
    "    print()\n",
    "    print(\"---------------------\")\n",
    "    print()\n",
    "\n",
    "\n",
    "print(\"The same example with a function\")\n",
    "split()\n",
    "print(\"Data from source 1:\", 23.4, 21.2, 21.9)\n",
    "print(\"etc., ...\")\n",
    "split()\n",
    "print(\"Data from source 2:\", 18.4, 19.1, 18.7)\n",
    "split()\n",
    "print(\"Data from source 3:\", 19.9, 19.1, 18.2)\n",
    "split()"
   ]
  },
  {
   "cell_type": "markdown",
   "metadata": {
    "deletable": false,
    "editable": false,
    "run_control": {
     "frozen": true
    }
   },
   "source": [
    "## a)"
   ]
  },
  {
   "cell_type": "markdown",
   "metadata": {},
   "source": [
    "The code below has four identical fragments marked with `##`.\n",
    "\n",
    "***Change the code by:***\n",
    "\n",
    "- Define a function`siksak()` which executes the 4 lines marked with `##`\n",
    "- Replace the 4 lines with your new function `siksak()`\n",
    "\n",
    "The printout after your change should be exactly the same as before the program was changed. If you are in doubt about what to do here, read the tutorial above which shows a similar example."
   ]
  },
  {
   "cell_type": "code",
   "execution_count": null,
   "metadata": {},
   "outputs": [],
   "source": [
    "print(\"Data from query\")\n",
    "print()                                         ##\n",
    "print(\"**  **  **  **  **  **  **  **  **\")     ##\n",
    "print(\"  **  **  **  **  **  **  **  **\")       ##\n",
    "print()                                         ##\n",
    "print(\"Part 1: ... lots of data...\")\n",
    "print()                                         ##\n",
    "print(\"**  **  **  **  **  **  **  **  **\")     ##\n",
    "print(\"  **  **  **  **  **  **  **  **\")       ##\n",
    "print()                                         ##\n",
    "print(\"Part 2: ... more data ...\")\n",
    "print()                                         ##\n",
    "print(\"**  **  **  **  **  **  **  **  **\")     ##\n",
    "print(\"  **  **  **  **  **  **  **  **\")       ##\n",
    "print()                                         ##\n",
    "print(\"Part 3: ... even more data ...\")\n",
    "print()                                         ##\n",
    "print(\"**  **  **  **  **  **  **  **  **\")     ##\n",
    "print(\"  **  **  **  **  **  **  **  **\")       ##\n",
    "print()                                         ##\n",
    "print(\"Part 4: ...data data data data ...\")"
   ]
  },
  {
   "cell_type": "markdown",
   "metadata": {
    "deletable": false,
    "editable": false,
    "heading_collapsed": true,
    "run_control": {
     "frozen": true
    }
   },
   "source": [
    "## Intro – Part 2: Function with parameters, but without return value.\n",
    "\n",
    "Not part of assignment, but can be helpful."
   ]
  },
  {
   "cell_type": "markdown",
   "metadata": {
    "deletable": false,
    "editable": false,
    "hidden": true,
    "run_control": {
     "frozen": true
    }
   },
   "source": [
    "Intro - Part 1 and Task (a) illustrated the main point of functions: That we have the same code multiple places in a program, which can then be defined once and for all and then called by name, then we do not have to repeat code lines, and the program becomes clearer and easier to read.\n",
    "\n",
    "Without parameters, functions still have limited impact. A function without parameters does exactly the same thing every time we call it. But often the need to do almost the same, but not completely. A square root function needs e.g. being able to calculate the root of different numbers - a function that can only calculate the root of 2 is not very useful. Below is an example similar to the example from Task (a). We have a printout that includes headings in hashtag boxes. But the code is only almost identical, since the headline text changes from time to time. If we create a function that always writes INTRODUCTION, it cannot be used for the next headings."
   ]
  },
  {
   "cell_type": "code",
   "execution_count": null,
   "metadata": {
    "hidden": true
   },
   "outputs": [],
   "source": [
    "# Example without function\n",
    "print()\n",
    "print(\"################\")\n",
    "print(\"# INTRODUCTION #\")\n",
    "print(\"################\")\n",
    "print()\n",
    "print(\"here is a couple of introductory sentences..\")\n",
    "print()\n",
    "print(\"##########################\")\n",
    "print(\"# DATA FROM EXPERIMENT 1 #\")\n",
    "print(\"##########################\")\n",
    "print()\n",
    "print(\"data:\", 123, 345, 432, 356)\n",
    "print()\n",
    "print(\"##########################\")\n",
    "print(\"# DATA FROM EXPERIMENT 2 #\")\n",
    "print(\"##########################\")\n",
    "print()\n",
    "print(\"Etc...\") "
   ]
  },
  {
   "cell_type": "markdown",
   "metadata": {
    "deletable": false,
    "editable": false,
    "hidden": true,
    "run_control": {
     "frozen": true
    }
   },
   "source": [
    "The solution is to introduce a **parameter** to the function, which provides the function with flexibility to change its behaviour each time it is called:"
   ]
  },
  {
   "cell_type": "code",
   "execution_count": null,
   "metadata": {
    "hidden": true
   },
   "outputs": [],
   "source": [
    "# Same example with function\n",
    "def box_heading(text):\n",
    "    bredde = len(text) + 4\n",
    "    print()\n",
    "    print(\"#\" * width )\n",
    "    print(\"# \" + text + \" #\")\n",
    "    print(\"#\" * width )\n",
    "    print()\n",
    "     \n",
    "box_heading(\"INTRODUCTION\")\n",
    "print(\"here is a couple of introductory sentences.\")\n",
    "box_heading(\"DATA FROM EXPERIMENT 1\")\n",
    "print(\"Div. data:\", 123, 345, 432, 356)\n",
    "box_heading(\"DATA FROM EXPERIMENT 2\")\n",
    "print(\"Etc...\")"
   ]
  },
  {
   "cell_type": "markdown",
   "metadata": {
    "deletable": false,
    "editable": false,
    "run_control": {
     "frozen": true
    }
   },
   "source": [
    "## Intro - Part 3: Functions with parameters *and* return value:\n",
    "\n",
    "Not part of assignment, but can be helpful."
   ]
  },
  {
   "cell_type": "markdown",
   "metadata": {},
   "source": [
    "I (a) og (b) har vi sett på funksjoner uten returverdi. Dette kan være greit for funksjoner som spesifikt skal skrive eller tegne på skjermen.\n",
    "\n",
    "Men for funksjoner som skal beregne en verdi (og svært mange funksjoner skal nettopp det), trenger vi å få ut et resultat av beregningen. Til dette brukes **returverdi**.\n",
    "\n",
    "Det trenger ikke å være en matematisk beregning. For å vise noe annet, gis under et eksempel relatert til språk, nemlig en funksjon for å gradbøye adjektiv.\n",
    "\n",
    "Ideen med funksjonen **komparativ()** er at den får inn et adjektiv i vanlig positiv form, og da kan bøye til komparativ, f.eks. snill -> snillere, interessant -> mer interessant.\n",
    "\n",
    "For at ikke koden skal bli for lang, er eksemplet grovt forenklet - mange adjektiver vil bli bøyd feil.\n",
    "\n",
    "Å gi returverdi fra en funksjon, oppnås med ordet **return** (linje 7). Verdien av det som står etter return (her: variabelen svar, som vil være en streng, f.eks. \"snillere\") vil bli returnert fra funksjonen.\n",
    "\n",
    "Med \"snillere\" som returverdi vil da komparativ(adj) i linje 11 printe \"Hah! Jeg er mye snillere !\"\n",
    "\n",
    "Lenger nede i programmet, linje 16, vil bøyningen  (f.eks. \"snillere\") bli satt inn i variabelen fasit, som deretter brukes i en if-test."
   ]
  },
  {
   "cell_type": "code",
   "execution_count": null,
   "metadata": {
    "ExecuteTime": {
     "end_time": "2019-07-02T14:35:04.925444Z",
     "start_time": "2019-07-02T14:34:33.712771Z"
    }
   },
   "outputs": [],
   "source": [
    "def comparative(adj):\n",
    "    # Grossly simplified\n",
    "    if len(adj) >= 8: # not excact\n",
    "        svar = \"mer \" + adj\n",
    "    else:\n",
    "        svar = adj + \"ere\"\n",
    "    return svar\n",
    " \n",
    "### TILLEGG 1, ny funksjon, kommer her:\n",
    " \n",
    "#DEL AV KODEN HVOR SYSTEMET DISSER BRUKEREN\n",
    "adj = input(\"Beskriv deg selv med et adjektiv: \")\n",
    "print(\"Hah! Jeg er mye\", komparativ(adj) + \"!\")\n",
    " \n",
    "### TILLEGG 2 kommer her ...\n",
    " \n",
    "# DEL AV KODEN HVOR BRUKEREN TRENER PÅ Å GRADBØYE\n",
    "adj = input(\"Skriv inn et adjektiv: \")\n",
    "svar = input(\"Hva er komparativ for \" + adj + \"? \")\n",
    "fasit = komparativ(adj)\n",
    "if svar == fasit:\n",
    "    print(\"Korrekt!\")\n",
    "else:\n",
    "    print(\"Feil, det var\", fasit)\n",
    " \n",
    "### TILLEGG 3 kommer her..."
   ]
  },
  {
   "cell_type": "markdown",
   "metadata": {
    "deletable": false,
    "editable": false,
    "run_control": {
     "frozen": true
    }
   },
   "source": [
    "Men hva oppnår vi med returverdi her? Hvorfor ikke like godt bruke print() i slutten av funksjonen, heller enn å returnere en verdi som printes senere??\n",
    "\n",
    "**Med returverdi oppnår vi at funksjonen blir mer generelt anvendelig.** Funksjonen lar seg bruke for to ulike behov i dette lille programmet:\n",
    "\n",
    "- BRUK 1, linje 11, her er det programmet som autogenererer komparativ form og printer ut på skjermen\n",
    "- BRUK 2, linje 16, her er det brukeren som prøver å svare hva komparativ er, programmet tester med en if-setning om det var korrekt\n",
    "\n",
    "**Hadde vi derimot printet i slutten av funksjonen, ville anvendeligheten har vært mindre.**\n",
    "\n",
    "- Printe \"Hah! Jeg er ...\" i slutten av funksjonen? Da passer den bare for BRUK 1\n",
    "- Gjøre en if-test i  slutten av funksjonen og printe Korrekt / Feil? Da passer den bare for BRUK 2\n",
    "- Gjøre bare print(svar) i slutten av funksjonen i stedet for return svar? Da passer den verken for BRUK 1 eller BRUK 2\n",
    "\n",
    "På samme måte ville input i starten av funksjonen (i stedet for parameteren adj) ødelegge den generelle anvendeligheten.\n",
    "\n",
    "- input(\"Beskriv deg selv...\") i funksjonen - og den passer kun for BRUK 1\n",
    "- input(\"Skriv inn...\") osv. i funksjonen - og den passer kun for BRUK 2\n",
    "\n",
    "For å lage generelt anvendelige funksjoner er det vanligvis lurt å unngå input og print i funksjonen - annet enn for funksjoner som spesifikt har som mål akkurat å kommunisere med brukeren."
   ]
  },
  {
   "cell_type": "markdown",
   "metadata": {
    "deletable": false,
    "editable": false,
    "run_control": {
     "frozen": true
    }
   },
   "source": [
    "# b)"
   ]
  },
  {
   "cell_type": "markdown",
   "metadata": {
    "deletable": false,
    "editable": false,
    "run_control": {
     "frozen": true
    }
   },
   "source": [
    "Ta utgangspunkt i koden nedenfor, som også er forklart i Tutorial like over. Kjør koden og sjekk at den virker. Ikke la deg bekymre deg om at en del adjektiver bøyes feilaktig."
   ]
  },
  {
   "cell_type": "code",
   "execution_count": null,
   "metadata": {},
   "outputs": [],
   "source": [
    "def komparativ(adj):\n",
    "    # GROVT FORENKLET FOR Å KUNNE FOKUSERE PÅ HOVEDPOENGET\n",
    "    if len(adj) >= 8: # unøyaktig\n",
    "        svar = \"mer \" + adj\n",
    "    else:\n",
    "        svar = adj + \"ere\"\n",
    "    return svar\n",
    "  \n",
    "### TILLEGG 1, ny funksjon, kommer her:\n",
    " \n",
    "#DEL AV KODEN HVOR SYSTEMET DISSER BRUKEREN\n",
    "adj = input(\"Beskriv deg selv med et adjektiv: \")\n",
    "print(\"Hah! Jeg er mye\", komparativ(adj), \"!\")\n",
    "  \n",
    "### TILLEGG 2 kommer her ...\n",
    " \n",
    "# DEL AV KODEN HVOR BRUKEREN TRENER PÅ Å GRADBØYE\n",
    "adj = input(\"Skriv inn et adjektiv: \")\n",
    "svar = input(\"Hva er komparativ for\" + adj + \"? \")\n",
    "fasit = komparativ(adj)\n",
    "if svar == fasit:\n",
    "    print(\"Korrekt!\")\n",
    "else:\n",
    "    print(\"Feil, det var\", fasit)\n",
    "  \n",
    "### TILLEGG 3 kommer her..."
   ]
  },
  {
   "cell_type": "markdown",
   "metadata": {
    "deletable": false,
    "editable": false,
    "run_control": {
     "frozen": true
    }
   },
   "source": [
    "***Din oppgave: Lag en tilsvarende funksjon superlativ(adj)*** som tar inn som parameter et adjektiv i vanlig positiv form, bøyer det til superlativ (f.eks. snill -> snillest, interessant -> mest interessant), og returnerer superlativformen.\n",
    "\n",
    "Bortsett fra forskjellen i bøyning vil denne funksjonen være svært lik komparativ() som står der nå.\n",
    "\n",
    "- Den nye funksjonen skal skrives der kommentaren ### TILLEGG 1 nå står i koden\n",
    "- Der det står ### TILLEGG 2, legg til en print-setning med et kall til superlativ(). Hvis brukeren skrev adjektivet \"snill\", skal utskriften bli \"Jeg er faktisk snillest i hele verden.\"\n",
    "- Der det står ### TILLEGG 3, legg til en programdel som spør brukeren \"Hva er superlativ for ...\" (det adjektivet som ble skrevet inn...) og sjekker dette mot fasit på samme måte som koden nå gjør for komparativ.\n",
    "\n",
    "Frivillig ekstraoppgave (ikke nødvendig for å få (c) godkjent, men anbefalt å prøve): Etter dette vil du kanskje se at de to kodefragmentene som sjekker svar mot fasit er ganske like. Klarer du å lage en funksjon for dette, og så kalle denne to ganger, i stedet for å gjenta ganske lik kode to ganger i programmet?"
   ]
  },
  {
   "cell_type": "markdown",
   "metadata": {
    "deletable": false,
    "editable": false,
    "run_control": {
     "frozen": true
    }
   },
   "source": [
    "## Innføring - Del 4: Main-funksjonen\n",
    "\n",
    "Dette er ikke en del av oppgaven, men kan være lurt å lese før du går videre"
   ]
  },
  {
   "cell_type": "markdown",
   "metadata": {
    "deletable": false,
    "editable": false,
    "run_control": {
     "frozen": true
    }
   },
   "source": [
    "Det er vanlig for et program å ha en main-funksjon som blir kalt når programmet starter. Det er denne funksjonen som kaller programmets andre funksjoner når de trengs.\n",
    "\n",
    "Et eksempel på et program med en main-funksjon er vist under. Her er det oppdelt slik at funksjonen kvadrattall gjør en beregning, mens main() står for kommunikasjon med brukeren.\n",
    "\n",
    "I større programmer kunne det også ha vært egne funksjoner for å kommunisere med brukeren, slik at main() bare hadde gjort den overordende styringen både av beregning og brukerkommunikasjon ved å kalle andre funksjoner.\n",
    "\n",
    "Når kode som vi ellers ville hatt i skriptet puttes i en main()-funksjon, blir skriptet kun 1 linje som kaller main-funksjonen, som vist nederst her. Kjør koden selv og se om du skjønner hvordan den funker:"
   ]
  },
  {
   "cell_type": "code",
   "execution_count": null,
   "metadata": {
    "ExecuteTime": {
     "end_time": "2019-07-03T06:12:11.307021Z",
     "start_time": "2019-07-03T06:09:51.377086Z"
    }
   },
   "outputs": [],
   "source": [
    "def kvadrattall(x):\n",
    "    # INN: x, som er ment å være et heltall\n",
    "    # PROSESS: sjekker om x er et kvadrattall\n",
    "    #(dvs. om det fins et heltall y <= x slik at y * y == x)\n",
    "    # UT: hvis ja, returneres y. Ellers returneres False\n",
    "    for y in range(1, x + 1):\n",
    "        if y * y == x:\n",
    "            return y\n",
    "    return False\n",
    "    # vi kommer til siste return bare hvis vi ikke fant kvadrattall\n",
    "    # siden vi ellers vil ha avsluttet funksjonen med return y\n",
    " \n",
    "def main():\n",
    "    tall = int(input(\"Gi et heltall >0, eller 0 for å slutte: \"))\n",
    "    while tall > 0:\n",
    "        rot = kvadrattall(tall)\n",
    "        if rot:\n",
    "            print(tall, \"=\", rot, \"*\", rot, \"; m.a.o. et kvadrattall\")\n",
    "        else:\n",
    "            print(tall, \"er ikke et kvadrattall.\")\n",
    "        tall = int(input(\"Gi et heltall >0, eller 0 for å slutte: \"))\n",
    " \n",
    "# SKRIPT \n",
    "main()"
   ]
  },
  {
   "cell_type": "markdown",
   "metadata": {
    "deletable": false,
    "editable": false,
    "run_control": {
     "frozen": true
    }
   },
   "source": [
    "Et annet poeng som denne koden illustrerer, er at **return** ikke er begrenset til å stå i siste setning i en funksjon.\n",
    "\n",
    "Her har vi dessuten en return som står inni en if-setning. Grunnen er at hvis vi finner svaret, er det ikke vits å fortsette flere runder med løkka; return vil gjøre at vi avslutter funksjonen."
   ]
  },
  {
   "cell_type": "markdown",
   "metadata": {},
   "source": [
    "## c)"
   ]
  },
  {
   "cell_type": "markdown",
   "metadata": {
    "deletable": false,
    "editable": false,
    "run_control": {
     "frozen": true
    }
   },
   "source": [
    "***Kopier koden du lagde for adjektiv i oppgave (b) inn under. Endre den ved å lage en main-funksjon for det som nå er skriptet, slik at skriptet bare blir et kall til main().***"
   ]
  },
  {
   "cell_type": "code",
   "execution_count": null,
   "metadata": {},
   "outputs": [],
   "source": []
  },
  {
   "cell_type": "markdown",
   "metadata": {
    "deletable": false,
    "editable": false,
    "run_control": {
     "frozen": true
    }
   },
   "source": [
    "Kjøring av koden skal gi samme resultat som tidligere."
   ]
  },
  {
   "cell_type": "markdown",
   "metadata": {
    "deletable": false,
    "editable": false,
    "heading_collapsed": true,
    "run_control": {
     "frozen": true
    }
   },
   "source": [
    "#### Framgangsmåte"
   ]
  },
  {
   "cell_type": "markdown",
   "metadata": {
    "deletable": false,
    "editable": false,
    "hidden": true,
    "run_control": {
     "frozen": true
    }
   },
   "source": [
    "1. Definer funksjonen og kall den main. Funksjonen skal IKKE ta inn noen argumenter.\n",
    "2. Flytt kodelinjene som nå står i skriptet (dvs., som foreløpig ikke er del av noen funksjon) inn i main-funksjonen. Pass på riktig innrykk!\n",
    "3. Legg til helt nederst i koden, ute på ytterste marg, et kall til main()."
   ]
  }
 ],
 "metadata": {
  "kernelspec": {
   "display_name": "Python 3",
   "language": "python",
   "name": "python3"
  },
  "language_info": {
   "codemirror_mode": {
    "name": "ipython",
    "version": 3
   },
   "file_extension": ".py",
   "mimetype": "text/x-python",
   "name": "python",
   "nbconvert_exporter": "python",
   "pygments_lexer": "ipython3",
   "version": "3.7.1"
  },
  "toc": {
   "base_numbering": 1,
   "nav_menu": {},
   "number_sections": false,
   "sideBar": true,
   "skip_h1_title": false,
   "title_cell": "Table of Contents",
   "title_sidebar": "Contents",
   "toc_cell": false,
   "toc_position": {},
   "toc_section_display": true,
   "toc_window_display": false
  }
 },
 "nbformat": 4,
 "nbformat_minor": 2
}
