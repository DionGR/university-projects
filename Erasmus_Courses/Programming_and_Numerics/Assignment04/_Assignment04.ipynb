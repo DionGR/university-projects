{
 "cells": [
  {
   "attachments": {},
   "cell_type": "markdown",
   "metadata": {},
   "source": [
    "# Assignment 4\n",
    "\n",
    "**Læringsmål:**\n",
    "- Functions\n",
    "- Loops\n",
    "- Conditionals\n",
    "\n",
    "**Starting Out with Python:**\n",
    "- Kap. 5: Functions\n",
    "\n",
    "For the numerics part, the syllabus contains alot of usefull information. See: Blackboard -> Sources and syllabus -> Last year's compendium\n",
    "\n",
    "**Approval:**\n",
    "- See blackboard for delivery deadline.\n",
    "- To get this assignment apporved you need to do the two mandatory tasks for TDT4127, and two other tasks, 4 in total. We suggest you start with some basic tasks before trying the numerics tasks, as they require some knowledge of functions. \n",
    "- Tasks that are a little extra difficult are marked with a star. Tasks that go beyond what has been lectured are marked with two stars. Tasks translated to english are marked with (ENG).\n",
    "- **Tasks you have done must be uploaded as a zipped .py or .ipynb file to Blackboard.** Good luck!\n",
    "\n",
    "Task | Theme | Difficulty | TDT4127 \n",
    "--- | --- | --- | ---\n",
    "[Grunnleggende om funksjoner](Grunnleggende%20om%20funksjoner.ipynb) , [Basics of Functions(ENG)](Basics_of_functions.ipynb)|Functions| - | \n",
    "[Varierte funksjoner](Varierte%20funksjoner.ipynb) , [Various functions(ENG)](Varierte%20funksjoner(ENG).ipynb)|Functions|- | \n",
    "[Lokale variabler](Lokale%20variabler.ipynb) , [Local variables(ENG)](Lokale%20variabler(ENG).ipynb)|Functions|- | \n",
    "[Globale variabler](Globale%20variabler.ipynb) , [Global variables(ENG)](Globale%20variabler(ENG).ipynb)|Functions|- | \n",
    "[Euklids algoritme](Euklids%20algoritme.ipynb) , [Euklid's algorithm(ENG)](Euklids%20algoritme(ENG).ipynb) |Functions, Algorithms|- | \n",
    "[Primtall](Primtall.ipynb) , [Prime Numbers(ENG)](Primtall(ENG).ipynb)|Functions, Loops|- | \n",
    "[Multiplikasjon](Multiplikasjon.ipynb)|Functions, Loops|- | \n",
    "[Ordinary Differential Equations(ENG)](ODEassignment1.ipynb) | Numerical methods, Functions | ![img](./../Resources/Images/star_yellow.svg) | Mandatory\n",
    "[Sekantmetoden](Sekantmetoden.ipynb) , [The Secant Method(ENG)](Sekantmetoden(ENG).ipynb)|Funksjoner, Løkker|![img](./../Resources/Images/star_yellow.svg)| Mandatory\n",
    "[Den store spørreundersøkelsen](Den%20store%20sporreundersokelsen.ipynb)|Functions, Loops|![img](./../Resources/Images/star_yellow.svg)\n",
    "[Arbeidsdager](Arbeidsdager.ipynb)|Functions, Loops|![img](./../Resources/Images/star_yellow.svg)|\n",
    "[Not quite Blackjack](Not%20quite%20Blackjack.ipynb)|Functions, Loops, Conditionals|![img](./../Resources/Images/star_yellow.svg)|\n",
    "[Funksjoner og Jupyter widgets](Funksjoner%20og%20Jupyter%20widgets.ipynb)|Functions, Jupyter widgets|![img](./../Resources/Images/star_yellow.svg)![img](./../Resources/Images/star_yellow.svg)|"
   ]
  }
 ],
 "metadata": {
  "kernelspec": {
   "display_name": "Python 3",
   "language": "python",
   "name": "python3"
  },
  "language_info": {
   "codemirror_mode": {
    "name": "ipython",
    "version": 3
   },
   "file_extension": ".py",
   "mimetype": "text/x-python",
   "name": "python",
   "nbconvert_exporter": "python",
   "pygments_lexer": "ipython3",
   "version": "3.10.6 (main, Nov 14 2022, 16:10:14) [GCC 11.3.0]"
  },
  "toc": {
   "base_numbering": 1,
   "nav_menu": {},
   "number_sections": false,
   "sideBar": true,
   "skip_h1_title": false,
   "title_cell": "Table of Contents",
   "title_sidebar": "Contents",
   "toc_cell": false,
   "toc_position": {
    "height": "calc(100% - 180px)",
    "left": "10px",
    "top": "150px",
    "width": "231px"
   },
   "toc_section_display": true,
   "toc_window_display": false
  },
  "vscode": {
   "interpreter": {
    "hash": "916dbcbb3f70747c44a77c7bcd40155683ae19c65e1c03b4aa3499c5328201f1"
   }
  }
 },
 "nbformat": 4,
 "nbformat_minor": 2
}
