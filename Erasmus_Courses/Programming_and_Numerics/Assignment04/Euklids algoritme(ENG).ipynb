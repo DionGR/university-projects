{
 "cells": [
  {
   "cell_type": "markdown",
   "metadata": {
    "deletable": false,
    "editable": false,
    "run_control": {
     "frozen": true
    }
   },
   "source": [
    "[Back to Assignment 5](_Oving5.ipynb)\n",
    "\n",
    "# Euklid's Algorithm\n",
    "\n",
    "**Learning goals:**\n",
    "- Functions\n",
    "- Algorithms\n",
    "- Loops\n",
    "\n",
    "**Starting Out with Python:**\n",
    "- Ch. 5.2-5.5\n",
    "\n",
    "A common problem in mathematics is to find the largest common divisor of two numbers. In this assignment, create a function that finds this number, and then use the function to shorten fractions.\n",
    "\n",
    "For example, the largest number dividing both 20 and 30 would be 10, so the fraction 20/30 can be shortened to 2/3 by dividing by 10 into both counts and denominators.\n",
    "\n",
    "This problem can be solved using Euclid's algorithm. Pseudocode for Euclid's algorithm is as follows:\n",
    "\n",
    "\n",
    "```\n",
    "Given inputs a and b, both integers\n",
    "repeat as long as b is not 0:\n",
    "    save the value of b in a variable called old_b\n",
    "    save the value of the remainder of (a divided by b) in b\n",
    "    save the value of old_b in a\n",
    "a is the result of the algorithm, return it.\n",
    "\n",
    "```"
   ]
  },
  {
   "cell_type": "markdown",
   "metadata": {
    "deletable": false,
    "editable": false,
    "run_control": {
     "frozen": true
    }
   },
   "source": [
    "## a)"
   ]
  },
  {
   "cell_type": "markdown",
   "metadata": {
    "deletable": false,
    "editable": false,
    "run_control": {
     "frozen": true
    }
   },
   "source": [
    "\n",
    "\n",
    "Create a function `gcd` (Greatest Common Divisor) that takes two numbers as arguments, performs Eklids algorthm and returns the greatest common divisor. Example: `gcd(30,10)` should return `10`\n",
    "\n",
    "***Write the function `gcd` in the code block below and test it to make sure it works correctly***"
   ]
  },
  {
   "cell_type": "code",
   "execution_count": null,
   "metadata": {
    "ExecuteTime": {
     "end_time": "2019-07-03T08:46:31.734000Z",
     "start_time": "2019-07-03T08:46:31.723874Z"
    }
   },
   "outputs": [],
   "source": []
  },
  {
   "cell_type": "markdown",
   "metadata": {
    "deletable": false,
    "editable": false,
    "run_control": {
     "frozen": true
    }
   },
   "source": [
    "## b)\n",
    "\n",
    "Now you are going to use the gcd-function to shorten fractions\n",
    "\n",
    "Create a function named `reduce_fraction` that takes two positive integers `a` and `b` and uses the gdc-function you wrote in the previous task to find the greatest common divisor `d`.\n",
    "\n",
    "The function is going to return `a/d` and `b/d`.\n",
    "\n",
    "\n",
    "***Write the function `reduce_fraction` in the code block below***"
   ]
  },
  {
   "cell_type": "code",
   "execution_count": null,
   "metadata": {
    "ExecuteTime": {
     "end_time": "2019-07-03T08:46:33.807693Z",
     "start_time": "2019-07-03T08:46:33.802439Z"
    }
   },
   "outputs": [],
   "source": []
  },
  {
   "cell_type": "markdown",
   "metadata": {
    "deletable": false,
    "editable": false,
    "run_control": {
     "frozen": true
    }
   },
   "source": [
    "Below you'll find test-code to check that your function works correctlu (remember to press `ctrl + enter` in the codeblock with your function before you run the test-code."
   ]
  },
  {
   "cell_type": "code",
   "execution_count": null,
   "metadata": {
    "ExecuteTime": {
     "end_time": "2019-07-03T08:46:35.969408Z",
     "start_time": "2019-07-03T08:46:35.960742Z"
    }
   },
   "outputs": [],
   "source": [
    "# TEST code FOR reduce_fraction\n",
    "print (\"%d/%d\" % reduce_fraction (5, 10))\n",
    "print (\"%d/%d\" % reduce_fraction (4, 2))\n",
    "print (\"%d/%d\" % reduce_fraction (42 , 13))"
   ]
  },
  {
   "cell_type": "markdown",
   "metadata": {
    "deletable": false,
    "editable": false,
    "run_control": {
     "frozen": true
    }
   },
   "source": [
    "If your version of `reduce_fraction` works correctly, you will get the following output from the test-code:\n",
    "\n",
    "```\n",
    "1/2\n",
    "2/1\n",
    "42/13\n",
    "```"
   ]
  },
  {
   "cell_type": "markdown",
   "metadata": {
    "deletable": false,
    "editable": false,
    "heading_collapsed": true,
    "run_control": {
     "frozen": true
    }
   },
   "source": [
    "#### Hint"
   ]
  },
  {
   "cell_type": "markdown",
   "metadata": {
    "deletable": false,
    "editable": false,
    "hidden": true,
    "run_control": {
     "frozen": true
    }
   },
   "source": [
    "- To return two variables from a function you separate the variables you want to return with a comma: `return var_a, var_b`\n",
    "\n",
    "- It is possible to assign values to two variables in the same line of code: `a, b = fuction_that_returns_two_values()`.\n",
    " -  What we are saying is that writing `a , b = c , d` or two lines with `a = c` and `b = d` will be indifferent to the values assigned to `a` and `b`. "
   ]
  }
 ],
 "metadata": {
  "kernelspec": {
   "display_name": "Python 3",
   "language": "python",
   "name": "python3"
  },
  "language_info": {
   "codemirror_mode": {
    "name": "ipython",
    "version": 3
   },
   "file_extension": ".py",
   "mimetype": "text/x-python",
   "name": "python",
   "nbconvert_exporter": "python",
   "pygments_lexer": "ipython3",
   "version": "3.7.1"
  },
  "toc": {
   "base_numbering": 1,
   "nav_menu": {},
   "number_sections": false,
   "sideBar": true,
   "skip_h1_title": false,
   "title_cell": "Table of Contents",
   "title_sidebar": "Contents",
   "toc_cell": false,
   "toc_position": {},
   "toc_section_display": true,
   "toc_window_display": false
  }
 },
 "nbformat": 4,
 "nbformat_minor": 2
}
