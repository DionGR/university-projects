{
 "cells": [
  {
   "cell_type": "markdown",
   "metadata": {},
   "source": [
    "> Dionysios Rigatos <br />\n",
    "> dionysir@stud.ntnu.no <br />"
   ]
  },
  {
   "cell_type": "markdown",
   "metadata": {
    "deletable": false,
    "editable": false,
    "run_control": {
     "frozen": true
    }
   },
   "source": [
    "[Back to Assignment 5](_Oving5.ipynb)\n",
    "\n",
    "# The Basics of Functions\n",
    "\n",
    "**Læringsmål:**\n",
    "- Functions\n",
    "\n",
    "**Starting Out with Python:**\n",
    "- Ch. 5.1-5.2\n",
    "- Ch. 5.4\n",
    "- Ch. 5.8"
   ]
  },
  {
   "cell_type": "markdown",
   "metadata": {
    "deletable": false,
    "editable": false,
    "heading_collapsed": true,
    "run_control": {
     "frozen": true
    }
   },
   "source": [
    "### The Basics of Functions"
   ]
  },
  {
   "cell_type": "markdown",
   "metadata": {
    "deletable": false,
    "editable": false,
    "hidden": true,
    "run_control": {
     "frozen": true
    }
   },
   "source": [
    "Functions are used in Python to split code into smaller blocks. A function often contains code which executes a specific task, and it is good practice to group the majority of your code in functions. This makes your code more understandable, and you avoid writing the same code multiple times. You can also reuse functions written in other .py-files, and use the functions of this files through modules.\n",
    "\n",
    "Functions are written in the general form shown below. You can change function_name and argument1 and argument2, so that they fit your needs. You can of course have more arguments, or even no arguments. Functions usually returns a value in the \"return\"-expression, but this is not mandatory if you wish to print text or edit \"global variables\". In Python, the indentations define what belongs to which part of the program. Functions are defined with the key word \"def\", and everything that follows the indentation of the next lines belong to the function.\n",
    "\n",
    "General form of a function:\n",
    "```python\n",
    "def function_name(argument1,argument2):\n",
    "    #The code written here is a part of the function \"function_name\" (remember correct indentation!)\n",
    "    sum = argument1 + argument2     #Adds two numbers\n",
    "    return sum                      #Returns the answer\n",
    " \n",
    "answer = function_name(1,2)         #The result of the function is stored in the variable \"answer\"\n",
    "print(answer)                       #The answer is printed to the user\n",
    "```"
   ]
  },
  {
   "cell_type": "markdown",
   "metadata": {
    "deletable": false,
    "editable": false,
    "run_control": {
     "frozen": true
    }
   },
   "source": [
    "## a)"
   ]
  },
  {
   "cell_type": "markdown",
   "metadata": {
    "deletable": false,
    "editable": false,
    "run_control": {
     "frozen": true
    }
   },
   "source": [
    "In this subtask you shall write a function which takes in two integers x and y, and returns their product."
   ]
  },
  {
   "cell_type": "markdown",
   "metadata": {
    "deletable": false,
    "editable": false,
    "heading_collapsed": true,
    "run_control": {
     "frozen": true
    }
   },
   "source": [
    "#### Procedure:"
   ]
  },
  {
   "cell_type": "markdown",
   "metadata": {
    "deletable": false,
    "editable": false,
    "hidden": true,
    "run_control": {
     "frozen": true
    }
   },
   "source": [
    "- Write def followed by a function-name and (x,y).\n",
    " - Example.: def multiply(x, y):\n",
    " - (Remember colon after (x,y)!)\n",
    "- Create a variable and assign it to x*y. Example: value = x*y.\n",
    "- Return the variable \"value\" by writing: return value.\n",
    "- The function is now complete. To print the result, write:\n",
    " - print(multiply(5,5))\n",
    " - This must be written outside the function."
   ]
  },
  {
   "cell_type": "code",
   "execution_count": 1,
   "metadata": {},
   "outputs": [
    {
     "name": "stdout",
     "output_type": "stream",
     "text": [
      "35\n"
     ]
    }
   ],
   "source": [
    "def multiply(x, y):\n",
    "    return x * y\n",
    "\n",
    "x = 5\n",
    "y = 7\n",
    "\n",
    "print(multiply(x, y))"
   ]
  },
  {
   "cell_type": "markdown",
   "metadata": {
    "deletable": false,
    "editable": false,
    "run_control": {
     "frozen": true
    }
   },
   "source": [
    "## b)"
   ]
  },
  {
   "cell_type": "markdown",
   "metadata": {
    "deletable": false,
    "editable": false,
    "run_control": {
     "frozen": true
    }
   },
   "source": [
    "In this subtask, you will make a function that receives a number, and prints that it is a nice number.\n",
    "\n",
    "Example:\n",
    "```\n",
    "#The argument is 53\n",
    "53 is a nice number\n",
    "```"
   ]
  },
  {
   "cell_type": "code",
   "execution_count": 6,
   "metadata": {},
   "outputs": [
    {
     "name": "stdout",
     "output_type": "stream",
     "text": [
      "53 is a nice number\n"
     ]
    }
   ],
   "source": [
    "def nice(x: int) -> str:\n",
    "    print(f\"{x} is a nice number\")\n",
    "\n",
    "nice(53)"
   ]
  },
  {
   "cell_type": "markdown",
   "metadata": {
    "deletable": false,
    "editable": false,
    "run_control": {
     "frozen": true
    }
   },
   "source": [
    "#### Procedure:"
   ]
  },
  {
   "cell_type": "markdown",
   "metadata": {
    "deletable": false,
    "editable": false,
    "run_control": {
     "frozen": true
    }
   },
   "source": [
    "- Define the function, give it a name, and let it receive one argument. (Se the example of the general form of a function under \"Basics of functions\").\n",
    "- Use print(...) to write to screen.\n",
    "- This variable doesn't return anything, and is therefore complete the way it is written now. To check that it work, write:\n",
    " - function_name(53)\n",
    "- When you execute this code, you will get the same output as in \"Example of function execution\"."
   ]
  },
  {
   "cell_type": "markdown",
   "metadata": {
    "deletable": false,
    "editable": false,
    "heading_collapsed": true,
    "run_control": {
     "frozen": true
    }
   },
   "source": [
    "## The Main() Function"
   ]
  },
  {
   "cell_type": "markdown",
   "metadata": {
    "deletable": false,
    "editable": false,
    "hidden": true,
    "run_control": {
     "frozen": true
    }
   },
   "source": [
    "It is normal for a program to have a main-function that is executed when the program starts. This is the function that calls the other functions of the program when needed/specified. An example of a program with a main-function is shown below:"
   ]
  },
  {
   "cell_type": "code",
   "execution_count": 4,
   "metadata": {
    "deletable": false,
    "editable": false,
    "hidden": true,
    "run_control": {
     "frozen": true
    }
   },
   "outputs": [
    {
     "name": "stdout",
     "output_type": "stream",
     "text": [
      "I can add 5 with 5\n",
      "5+5 = 10\n"
     ]
    }
   ],
   "source": [
    "def main():\n",
    "    print(\"I can add 5 with 5\")\n",
    "    num = add(5,5)\n",
    "    print(\"5+5 =\",num)\n",
    "  \n",
    "def add(x,y):\n",
    "    return x+y\n",
    "  \n",
    "main()"
   ]
  },
  {
   "cell_type": "markdown",
   "metadata": {
    "deletable": false,
    "editable": false,
    "run_control": {
     "frozen": true
    }
   },
   "source": [
    "## c)"
   ]
  },
  {
   "cell_type": "markdown",
   "metadata": {
    "deletable": false,
    "editable": false,
    "run_control": {
     "frozen": true
    }
   },
   "source": [
    "In this subtask you will make a main()-function which uses the functions you wrote in subtasks a) and b). The main-function shall receive two numbers form the user, and use the function in a) with these as arguments. Further on, function b) will be called on the value returned by function a)\n",
    "\n",
    "Example run:\n",
    "```\n",
    "Give me a number: 5\n",
    "Give me another number: 4\n",
    "20 is a nice number\n",
    "```"
   ]
  },
  {
   "cell_type": "markdown",
   "metadata": {
    "deletable": false,
    "editable": false,
    "heading_collapsed": true,
    "run_control": {
     "frozen": true
    }
   },
   "source": [
    "#### procedure:"
   ]
  },
  {
   "cell_type": "markdown",
   "metadata": {
    "deletable": false,
    "editable": false,
    "hidden": true,
    "run_control": {
     "frozen": true
    }
   },
   "source": [
    "- Define the function and call it \"main\". The function must NOT receive any arguments.\n",
    "- Make two int-variables which both receives input from a user:\n",
    " - vari1 = int(input(…))\n",
    " - vari2 = int(input(…))\n",
    "- Make a variable which is assigned the return value of function a):\n",
    " - variable = function_name_a(vari1,vari2)\n",
    "- Call the function from b) with the variable you used made in point 3 as argument:\n",
    " - function_name_b(variable)\n",
    "- Now the main-function is finished. To run the program you just write main() outside the function-block. (Se the last line in \"The main-function\")"
   ]
  },
  {
   "cell_type": "code",
   "execution_count": 7,
   "metadata": {},
   "outputs": [
    {
     "name": "stdout",
     "output_type": "stream",
     "text": [
      "20 is a nice number\n"
     ]
    }
   ],
   "source": [
    "def main():\n",
    "    x = int(input(\"Give me a number: \"))\n",
    "    y = int(input(\"Give me another number: \"))\n",
    "    \n",
    "    product = multiply(x, y)\n",
    "    \n",
    "    nice(product)\n",
    "    \n",
    "main()"
   ]
  }
 ],
 "metadata": {
  "kernelspec": {
   "display_name": "Python 3",
   "language": "python",
   "name": "python3"
  },
  "language_info": {
   "codemirror_mode": {
    "name": "ipython",
    "version": 3
   },
   "file_extension": ".py",
   "mimetype": "text/x-python",
   "name": "python",
   "nbconvert_exporter": "python",
   "pygments_lexer": "ipython3",
   "version": "3.10.4"
  }
 },
 "nbformat": 4,
 "nbformat_minor": 2
}
