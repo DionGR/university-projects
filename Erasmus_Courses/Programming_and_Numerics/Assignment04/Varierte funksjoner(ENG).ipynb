{
 "cells": [
  {
   "cell_type": "markdown",
   "metadata": {
    "deletable": false,
    "editable": false,
    "run_control": {
     "frozen": true
    }
   },
   "source": [
    "# Various functions\n",
    "\n",
    "**Learning goals:**\n",
    "- Code comprehension\n",
    "- Functions\n",
    "\n",
    "**Starting Out with Python:**\n",
    "- Chapt. 5.1, 5.2, 5.5, 5.8\n",
    "\n",
    "The task *basics of functions* is mostly about refactoring existing code. In this task, you are going attempt to write functions entirely from scratch."
   ]
  },
  {
   "cell_type": "markdown",
   "metadata": {
    "deletable": false,
    "editable": false,
    "run_control": {
     "frozen": true
    }
   },
   "source": [
    "## a)"
   ]
  },
  {
   "cell_type": "markdown",
   "metadata": {
    "deletable": false,
    "editable": false,
    "run_control": {
     "frozen": true
    }
   },
   "source": [
    "The absolute value is a function with a lot of useful applications, among which statistical analysis (e.g. calculating the standard deviation)\n",
    "\n",
    "\n",
    "Python already has the function `abs()`. However, as this is an easy function to create, we pretend it does not exists, so that there is a need to write it.\n",
    "\n",
    "\n",
    "Name your function `absol()` so that the name does not collide with the existing `abs()` function. The specification of `absol(x)` is as follows\n",
    "\n",
    "- if $x \\geq 0$, the absolute value of $x$ is equal to $x$.\n",
    "- if $x < 0$, the absolute value of $x$ is equal to $-x$ (a negative number negated is positive, the absolute value should always be positive).\n",
    "\n",
    "***Write your code in the field below***"
   ]
  },
  {
   "cell_type": "code",
   "execution_count": null,
   "metadata": {},
   "outputs": [],
   "source": []
  },
  {
   "cell_type": "markdown",
   "metadata": {
    "deletable": false,
    "editable": false,
    "run_control": {
     "frozen": true
    }
   },
   "source": [
    "Below we have written a test script so that you can test your function after you have written it."
   ]
  },
  {
   "cell_type": "code",
   "execution_count": null,
   "metadata": {},
   "outputs": [],
   "source": [
    "# script for testing the function\n",
    "print(\"The absolute value of 5 is\", absol(5))\n",
    "print(\"The absolute value of -3 is\", absol(-3))\n",
    "print(\"The absolute value of 0 is\", absol(0))"
   ]
  },
  {
   "cell_type": "markdown",
   "metadata": {
    "deletable": false,
    "editable": false,
    "run_control": {
     "frozen": true
    }
   },
   "source": [
    "Executing the given test script, should yield the results:\n",
    "\n",
    "```python\n",
    "The absolute value of 5 is 5\n",
    "The absolute value of -3 is 3\n",
    "The absolute value of 0 is 0\n",
    "```\n",
    "\n",
    "Run the code block above and check whether your code yields the same results."
   ]
  },
  {
   "cell_type": "markdown",
   "metadata": {
    "deletable": false,
    "editable": false,
    "run_control": {
     "frozen": true
    }
   },
   "source": [
    "## b)"
   ]
  },
  {
   "cell_type": "markdown",
   "metadata": {
    "deletable": false,
    "editable": false,
    "run_control": {
     "frozen": true
    }
   },
   "source": [
    "Write a function that received a speed in knots as input, and returns the speed in km/t using the following information\n",
    "\n",
    "- 1 knot is 0.514444444 m/s\n",
    "- 1 m/s is 3.6 km/h\n",
    "\n",
    "***Name the function `knop2km_h` and write it below***"
   ]
  },
  {
   "cell_type": "code",
   "execution_count": null,
   "metadata": {},
   "outputs": [],
   "source": []
  },
  {
   "cell_type": "markdown",
   "metadata": {
    "deletable": false,
    "editable": false,
    "run_control": {
     "frozen": true
    }
   },
   "source": [
    "Below you can find a script to test your function:"
   ]
  },
  {
   "cell_type": "code",
   "execution_count": null,
   "metadata": {},
   "outputs": [],
   "source": [
    "# Test script for knop2km_t\n",
    "knots = float(input(\"Input speed in knots: \"))\n",
    "km_h = knop2km_h(knots)\n",
    "print(\"That is \", round(km_h, 2), \"km/h\")"
   ]
  },
  {
   "cell_type": "markdown",
   "metadata": {
    "deletable": false,
    "editable": false,
    "run_control": {
     "frozen": true
    }
   },
   "source": [
    "If your function works as intended, the script should output the following:\n",
    "```python\n",
    "Input speed in knots: 15.2\n",
    "That is 28.15 km/h.\n",
    "```"
   ]
  },
  {
   "cell_type": "markdown",
   "metadata": {
    "deletable": false,
    "editable": false,
    "run_control": {
     "frozen": true
    }
   },
   "source": [
    "## c)"
   ]
  },
  {
   "cell_type": "markdown",
   "metadata": {
    "deletable": false,
    "editable": false,
    "run_control": {
     "frozen": true
    }
   },
   "source": [
    " In England and the U.S, it has been normal to state a person's height in feet and inches -- so-called **imperial** units.\n",
    "\n",
    "Make a function called `imp2cm()` which takes in two parameters - the amount of feet and the amount inches, and returns the equivalent number of centimeters (cm)\n",
    "\n",
    "For this task, you can use the following information:\n",
    "\n",
    "one foot equals 12 inches\n",
    "one inch equals 2.54 cm\n",
    "\n",
    "The function should return the amount of cm rounded to the nearest integer.\n",
    "\n",
    "***Write your function below***"
   ]
  },
  {
   "cell_type": "code",
   "execution_count": null,
   "metadata": {},
   "outputs": [],
   "source": []
  },
  {
   "cell_type": "markdown",
   "metadata": {
    "deletable": false,
    "editable": false,
    "run_control": {
     "frozen": true
    }
   },
   "source": [
    "Run the script below to test the function:"
   ]
  },
  {
   "cell_type": "code",
   "execution_count": null,
   "metadata": {},
   "outputs": [],
   "source": [
    "# Test script for the function imp2cm\n",
    "feet = int(input(\"Input number of feet: \"))\n",
    "inches = int(input(\"Input number of inches: \"))\n",
    "cm = imp2cm(feet, inches)\n",
    "print(\"That is equal to\", cm, \"cm\")"
   ]
  },
  {
   "cell_type": "markdown",
   "metadata": {
    "deletable": false,
    "editable": false,
    "run_control": {
     "frozen": true
    }
   },
   "source": [
    "Example execution of the test script if your function works as intended:\n",
    "```python\n",
    "Input number of feet: 5\n",
    "Input number of inches: 9\n",
    "That is equal to 175 cm\n",
    "```"
   ]
  },
  {
   "cell_type": "markdown",
   "metadata": {
    "deletable": false,
    "editable": false,
    "run_control": {
     "frozen": true
    }
   },
   "source": [
    "## d)"
   ]
  },
  {
   "cell_type": "markdown",
   "metadata": {
    "deletable": false,
    "editable": false,
    "run_control": {
     "frozen": true
    }
   },
   "source": [
    "When printing to paper, the colors are stated in CMYK, which is 4 floating point numbers between 0-1 indicating how much cyan (C), yellow (Y), magenta (M) and black (K) printer ink.\n",
    "\n",
    "When colors are shown on the screen, they are represented as RGB, that is three integers 0-255 which correspond to the light of the respective color's intensity (R - Red, G - Green, and B - Blue)\n",
    "\n",
    "\"Nina\" has been working as a designer for material of a brochure on paper, and knows of many nice colors which she knows the CMYK-values for.\n",
    "\n",
    "The customers have been transition to digital information material, therefore she now wants a program to convert CMYK to RGB.\n",
    "\n",
    "Given values for C, M, Y,K as floating point numbers between 0 and 1, the formulae for converting from CMYK to RGB is as follows:\n",
    "\n",
    "- $R = 255 \\cdot (1-C) \\cdot (1-K)$\n",
    "- $G = 255 \\cdot (1-M) \\cdot (1-K)$\n",
    "- $B = 255 \\cdot (1-Y) \\cdot (1-K)$\n",
    "\n",
    "Most of the program has been completed by another programmer, except the function **cmyk2rgb()** for the actual conversion.\n",
    "\n",
    "***Input the missing code in the code block below, then run your code to check if it works.***"
   ]
  },
  {
   "cell_type": "code",
   "execution_count": null,
   "metadata": {},
   "outputs": [],
   "source": [
    "# write the function cmyk2rgb() here at the top \n",
    "  \n",
    "print(\"Input color in CMYK and have it converted to RGB.\")\n",
    "C = float(input(\"C: \"))\n",
    "M = float(input(\"M: \"))\n",
    "Y = float(input(\"Y: \"))\n",
    "K = float(input(\"K: \"))\n",
    "R, G, B = cmyk2rgb(C, M, Y, K)\n",
    "print(\"Som RGB:\", R, G, B)"
   ]
  },
  {
   "cell_type": "markdown",
   "metadata": {
    "deletable": false,
    "editable": false,
    "heading_collapsed": true,
    "run_control": {
     "frozen": true
    }
   },
   "source": [
    "#### Hint"
   ]
  },
  {
   "cell_type": "markdown",
   "metadata": {
    "deletable": false,
    "editable": false,
    "hidden": true,
    "run_control": {
     "frozen": true
    }
   },
   "source": [
    "**Hint 1:** You must name your function exactly `cmyk2rgb` for it to work with the code that has already been given, as this is the name used in the call before the final print.\n",
    "\n",
    "\n",
    "The function must have the correct number of parameters, matching the arguments of the function call `cmyk2rgb(C, M, Y, K)` - that is 4 parameters.\n",
    "\n",
    "\n",
    "**Hint 2:** In the line of code in which the function is called, it is expected to return **3 values**, as seen in the line `R, G, B = cmyk2rgb(C, M, Y, K)`\n",
    "\n",
    "Therefore, your function must return 3 values, not just 1 as seen previously.\n",
    "\n",
    "This, however, is not difficult to achieve -- returning multiple values from a function can be done by listing multiple return values separated by comma.\n",
    "\n",
    "For instance, `return x, y, z` will return the values of the 3 variables x, y, z from a function (you can give YOUR variables some more intelligent names, however)\n",
    "\n",
    "**Hint 3:** C, M, Y, K represent floating point numbers between 0 and 1. The results of the calculations given above, will also give a floating point as a result. However, you need integers in the range 0-255 as values for R, G, B. As such, remember to use round() or int() for on the final answer of the formulae before returning the values from the function."
   ]
  }
 ],
 "metadata": {
  "kernelspec": {
   "display_name": "Python 3",
   "language": "python",
   "name": "python3"
  },
  "language_info": {
   "codemirror_mode": {
    "name": "ipython",
    "version": 3
   },
   "file_extension": ".py",
   "mimetype": "text/x-python",
   "name": "python",
   "nbconvert_exporter": "python",
   "pygments_lexer": "ipython3",
   "version": "3.7.1"
  },
  "toc": {
   "base_numbering": 1,
   "nav_menu": {},
   "number_sections": false,
   "sideBar": true,
   "skip_h1_title": false,
   "title_cell": "Table of Contents",
   "title_sidebar": "Contents",
   "toc_cell": false,
   "toc_position": {},
   "toc_section_display": true,
   "toc_window_display": false
  }
 },
 "nbformat": 4,
 "nbformat_minor": 2
}
