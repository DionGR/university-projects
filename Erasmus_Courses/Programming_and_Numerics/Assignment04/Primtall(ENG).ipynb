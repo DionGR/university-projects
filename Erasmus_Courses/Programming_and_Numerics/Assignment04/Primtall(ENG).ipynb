{
 "cells": [
  {
   "cell_type": "markdown",
   "metadata": {},
   "source": [
    "> Dionysios Rigatos <br />\n",
    "> dionysir@stud.ntnu.no <br />"
   ]
  },
  {
   "cell_type": "markdown",
   "metadata": {
    "deletable": false,
    "editable": false,
    "run_control": {
     "frozen": true
    }
   },
   "source": [
    "[Back to Assignment 5](_Oving5.ipynb)\n",
    "\n",
    "# Prime Numbers\n",
    "\n",
    "**Learning goals:**\n",
    "- Loops\n",
    "\n",
    "**Starting Out with Python:**\n",
    "- Ch. 4.2-4.3"
   ]
  },
  {
   "cell_type": "markdown",
   "metadata": {
    "deletable": false,
    "editable": false,
    "run_control": {
     "frozen": true
    }
   },
   "source": [
    "## a)"
   ]
  },
  {
   "cell_type": "markdown",
   "metadata": {
    "deletable": false,
    "editable": false,
    "run_control": {
     "frozen": true
    }
   },
   "source": [
    "Write the function `divisable(a, b)` which returns `True` if `a` is divisable with `b`, and `False` otherwise.\n",
    "\n",
    "***Write the code in the block below***"
   ]
  },
  {
   "cell_type": "code",
   "execution_count": 7,
   "metadata": {},
   "outputs": [],
   "source": [
    "def divisable(a, b):\n",
    "    return a % b == 0"
   ]
  },
  {
   "cell_type": "markdown",
   "metadata": {
    "deletable": false,
    "editable": false,
    "run_control": {
     "frozen": true
    }
   },
   "source": [
    "Check whether your function works correctly using the test code below. Output from test code should be:\n",
    "```\n",
    "True\n",
    "False\n",
    "```\n",
    "\n",
    "(Remember to press `ctrl + enter` in the codeblock with your function before running the test code)"
   ]
  },
  {
   "cell_type": "code",
   "execution_count": 8,
   "metadata": {
    "ExecuteTime": {
     "end_time": "2019-07-03T09:00:50.589088Z",
     "start_time": "2019-07-03T09:00:50.258480Z"
    }
   },
   "outputs": [
    {
     "name": "stdout",
     "output_type": "stream",
     "text": [
      "False\n",
      "True\n"
     ]
    }
   ],
   "source": [
    "# TEST CODE FOR divisable\n",
    "print(divisable(10,3))\n",
    "print(divisable(10,5))"
   ]
  },
  {
   "cell_type": "markdown",
   "metadata": {
    "deletable": false,
    "editable": false,
    "heading_collapsed": true,
    "run_control": {
     "frozen": true
    }
   },
   "source": [
    "#### Hint"
   ]
  },
  {
   "cell_type": "markdown",
   "metadata": {
    "deletable": false,
    "editable": false,
    "hidden": true,
    "run_control": {
     "frozen": true
    }
   },
   "source": [
    "The modulo-operator (% in python) is used in informatics and matemathics to find the remainder of an original integer after dividing with another integer.\n",
    "\n",
    "Example of modulo operator: 5%2 = 1"
   ]
  },
  {
   "cell_type": "markdown",
   "metadata": {
    "deletable": false,
    "editable": false,
    "run_control": {
     "frozen": true
    }
   },
   "source": [
    "## b)"
   ]
  },
  {
   "cell_type": "markdown",
   "metadata": {
    "deletable": false,
    "editable": false,
    "run_control": {
     "frozen": true
    }
   },
   "source": [
    "Write the function `isPrime` which takes a number `a` as input parameter. The function should have a for-loop that iterates from *b = 2,3,...,a-1* and use the function from the previous task (`divisable(a, b)`), to check whether `a` is divisable with `b`. If they are divisable, you stop the loop and return `False`, otherwise return `True`. \n",
    "\n",
    "***Write the code in the block below***"
   ]
  },
  {
   "cell_type": "code",
   "execution_count": 9,
   "metadata": {},
   "outputs": [],
   "source": [
    "def isPrime(a):\n",
    "    for i in range(2, a):\n",
    "        if divisable(a, i):\n",
    "            return False\n",
    "    return True"
   ]
  },
  {
   "cell_type": "markdown",
   "metadata": {
    "deletable": false,
    "editable": false,
    "run_control": {
     "frozen": true
    }
   },
   "source": [
    "Check whether your function works correctly using the test code below. Output from test code should be:\n",
    "```\n",
    "True\n",
    "False\n",
    "```\n",
    "Feel free to try it with other values as well!"
   ]
  },
  {
   "cell_type": "code",
   "execution_count": 10,
   "metadata": {},
   "outputs": [
    {
     "name": "stdout",
     "output_type": "stream",
     "text": [
      "True\n",
      "False\n"
     ]
    }
   ],
   "source": [
    "# TESTKODE FOR isPrime\n",
    "print(isPrime(11))\n",
    "print(isPrime(15))"
   ]
  },
  {
   "cell_type": "markdown",
   "metadata": {
    "deletable": false,
    "editable": false,
    "run_control": {
     "frozen": true
    }
   },
   "source": [
    "## c)"
   ]
  },
  {
   "cell_type": "markdown",
   "metadata": {
    "deletable": false,
    "editable": false,
    "run_control": {
     "frozen": true
    }
   },
   "source": [
    "Now the algorithm is going to be made faster by implementing the two small changes described below. Name the new function `isPrime2` and use the code you wrote in b) as a starting point.\n",
    "\n",
    "- Only iterate through odd numbers. Note that you still need to check for divisability with the number 2 once (this is equivalent with checking all even numbers).\n",
    "- Instead of iterating to  $i=a−1$, you should stop when $i>round(\\sqrt{a}+0.5)$\n",
    "\n",
    "***Write the code in the block below, and check that it works correctly***"
   ]
  },
  {
   "cell_type": "code",
   "execution_count": 15,
   "metadata": {},
   "outputs": [],
   "source": [
    "def isPrime2(a):\n",
    "    i = 2   \n",
    "    while i <= round(a**0.5 + 0.5):\n",
    "        if divisable(a, i):\n",
    "            return False\n",
    "        if i == 2:\n",
    "            i = 3\n",
    "        else:\n",
    "            i += 2\n",
    "    return True"
   ]
  },
  {
   "cell_type": "code",
   "execution_count": 16,
   "metadata": {},
   "outputs": [
    {
     "name": "stdout",
     "output_type": "stream",
     "text": [
      "True\n",
      "False\n"
     ]
    }
   ],
   "source": [
    "print(isPrime2(11))\n",
    "print(isPrime2(15))"
   ]
  }
 ],
 "metadata": {
  "kernelspec": {
   "display_name": "Python 3",
   "language": "python",
   "name": "python3"
  },
  "language_info": {
   "codemirror_mode": {
    "name": "ipython",
    "version": 3
   },
   "file_extension": ".py",
   "mimetype": "text/x-python",
   "name": "python",
   "nbconvert_exporter": "python",
   "pygments_lexer": "ipython3",
   "version": "3.10.4"
  },
  "toc": {
   "base_numbering": 1,
   "nav_menu": {},
   "number_sections": false,
   "sideBar": true,
   "skip_h1_title": false,
   "title_cell": "Table of Contents",
   "title_sidebar": "Contents",
   "toc_cell": false,
   "toc_position": {},
   "toc_section_display": true,
   "toc_window_display": false
  }
 },
 "nbformat": 4,
 "nbformat_minor": 2
}
