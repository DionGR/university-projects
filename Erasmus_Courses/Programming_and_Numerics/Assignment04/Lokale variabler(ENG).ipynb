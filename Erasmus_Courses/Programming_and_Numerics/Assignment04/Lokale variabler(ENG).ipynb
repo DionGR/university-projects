{
 "cells": [
  {
   "cell_type": "markdown",
   "metadata": {
    "deletable": false,
    "editable": false,
    "run_control": {
     "frozen": true
    }
   },
   "source": [
    "# Local  variables\n",
    "\n",
    "**Learning goals:**\n",
    "- Code comprehension\n",
    "- Functions\n",
    "\n",
    "**Starting Out with Python:**\n",
    "- Chapt. 5.4"
   ]
  },
  {
   "cell_type": "markdown",
   "metadata": {
    "deletable": false,
    "editable": false,
    "heading_collapsed": true,
    "run_control": {
     "frozen": true
    }
   },
   "source": [
    "## Overview of local variables\n",
    "This is not a part of the assignment. We do, however, recommend reading through before moving on."
   ]
  },
  {
   "cell_type": "markdown",
   "metadata": {
    "deletable": false,
    "editable": false,
    "hidden": true,
    "run_control": {
     "frozen": true
    }
   },
   "source": [
    "A local variable is a variable that has been created inside the code block of a function, and it cannot be used by a call outside the function. The code below demonstrates an example of this. Attempt to run the code and see what happens. What do you think is the problem?"
   ]
  },
  {
   "cell_type": "code",
   "execution_count": null,
   "metadata": {
    "ExecuteTime": {
     "end_time": "2019-07-03T07:05:49.515891Z",
     "start_time": "2019-07-03T07:05:47.759406Z"
    },
    "hidden": true
   },
   "outputs": [],
   "source": [
    "def getName():\n",
    "    name = input(\"What is your name? \")  \n",
    "\n",
    "getName()\n",
    "print(\"Hi,\",name)"
   ]
  },
  {
   "cell_type": "markdown",
   "metadata": {
    "deletable": false,
    "editable": false,
    "hidden": true,
    "run_control": {
     "frozen": true
    }
   },
   "source": [
    "Here `name` is a local variable inside the function `getName()`. Therefore the code in line 5 cannot access the variable `name` (which it tries), and the program crashes. Here we get the error message \"NameError name 'name' is not defined\", which simply means that the program has no knowledge of a variable or a function called 'name'.\n",
    "\n",
    "In order to get the code to work as we would like, we can return the name variable and assign this to its own variable - which can be called name or something else - that line 5 has access to. The code can then look like the one below. Feel free to test the code and make sure that it works."
   ]
  },
  {
   "cell_type": "code",
   "execution_count": null,
   "metadata": {
    "hidden": true
   },
   "outputs": [],
   "source": [
    "def getName():\n",
    "    name = input(\"What is your name? \")\n",
    "    return name\n",
    "  \n",
    "name = getName()\n",
    "print(\"Hi,\",name)"
   ]
  },
  {
   "cell_type": "markdown",
   "metadata": {
    "deletable": false,
    "editable": false,
    "hidden": true,
    "run_control": {
     "frozen": true
    }
   },
   "source": [
    "Functions can also contain parameters which also work like local variables. For instance"
   ]
  },
  {
   "cell_type": "code",
   "execution_count": null,
   "metadata": {
    "hidden": true
   },
   "outputs": [],
   "source": [
    "def printName(name):\n",
    "    print(\"Hei \", name)\n",
    "  \n",
    " \n",
    "printName(\"Ola\")"
   ]
  },
  {
   "cell_type": "markdown",
   "metadata": {
    "deletable": false,
    "editable": false,
    "hidden": true,
    "run_control": {
     "frozen": true
    }
   },
   "source": [
    "Here \"Ola\" will be assigned to the **name**-variable which is accessible only within the function in **THAT** function call."
   ]
  },
  {
   "cell_type": "markdown",
   "metadata": {
    "deletable": false,
    "editable": false,
    "run_control": {
     "frozen": true
    }
   },
   "source": [
    "## a)"
   ]
  },
  {
   "cell_type": "markdown",
   "metadata": {
    "deletable": false,
    "editable": false,
    "run_control": {
     "frozen": true
    }
   },
   "source": [
    "All code snippets below contain a mistake, but one of them will run without crashing; which one and why?\n",
    "\n",
    "**Try to find the mistake in each code snippet.**"
   ]
  },
  {
   "cell_type": "code",
   "execution_count": null,
   "metadata": {},
   "outputs": [],
   "source": [
    "#Code snippet 1\n",
    "def cupcakes():\n",
    "    cupcakes = 24\n",
    "    print(\"I have made\",cupcakes,\"cupcakes\")\n",
    "\n",
    "def cakes():\n",
    "    print(\"But I have only baked\",cake,\"cake\")\n",
    "    cake = 1\n",
    "\n",
    "cupcakes()\n",
    "cakes()"
   ]
  },
  {
   "cell_type": "code",
   "execution_count": null,
   "metadata": {},
   "outputs": [],
   "source": [
    "#Code snippet 2\n",
    "def cupcakes():\n",
    "    cupcake = 1\n",
    "    print(\"I have made\",cupcake,\"cupcake\")\n",
    "\n",
    "def cakes():\n",
    "    print(\"And I have made\",cupcake,\"cake\")\n",
    "\n",
    "cupcakes()\n",
    "cakes()"
   ]
  },
  {
   "cell_type": "code",
   "execution_count": null,
   "metadata": {
    "ExecuteTime": {
     "end_time": "2019-07-03T07:12:49.707507Z",
     "start_time": "2019-07-03T07:12:49.696917Z"
    }
   },
   "outputs": [],
   "source": [
    "#Code snippet 3:\n",
    "def cupcakes():\n",
    "    cupcakes = 24\n",
    "    print(\"I have made\",cupcakes,\"cupcakes\")\n",
    "\n",
    "def cakes():\n",
    "    print(\"But I have only baked\",cake,\"cake\")\n",
    "\n",
    "cupcakes()"
   ]
  },
  {
   "cell_type": "markdown",
   "metadata": {},
   "source": [
    "***Double click on the test below and write your answer in the box that appears***"
   ]
  },
  {
   "cell_type": "markdown",
   "metadata": {},
   "source": [
    "Answer: < double click here >"
   ]
  },
  {
   "cell_type": "markdown",
   "metadata": {
    "deletable": false,
    "editable": false,
    "heading_collapsed": true,
    "run_control": {
     "frozen": true
    }
   },
   "source": [
    "#### Hint"
   ]
  },
  {
   "cell_type": "markdown",
   "metadata": {
    "deletable": false,
    "editable": false,
    "hidden": true,
    "run_control": {
     "frozen": true
    }
   },
   "source": [
    "The mistake in each code is located in the cakes()-function. Consider the placement of the variable used in the cakes-function.\n",
    "\n",
    "In order to find out which code snippet will not crash by running it, think of function calls. Is there a case in which the code with errors is not executed."
   ]
  },
  {
   "cell_type": "markdown",
   "metadata": {
    "deletable": false,
    "editable": false,
    "run_control": {
     "frozen": true
    }
   },
   "source": [
    "## b)"
   ]
  },
  {
   "cell_type": "markdown",
   "metadata": {},
   "source": [
    "In this task, you are going to write two functions. The first one will take in two arguments `x` and `y`, create a variable `num = x//y`, and return the result so that the program can output \"Integer division of `x` with `y` yields `num`.\n",
    "\n",
    "The other function will take in one argument `x`, create a variable num = x\\*\\*2, and return the result so that the program can output \"The square of `x` is `num`.\n",
    "\n",
    "***Write your code in the code block below:***"
   ]
  },
  {
   "cell_type": "code",
   "execution_count": null,
   "metadata": {},
   "outputs": [],
   "source": []
  },
  {
   "cell_type": "markdown",
   "metadata": {
    "deletable": false,
    "editable": false,
    "run_control": {
     "frozen": true
    }
   },
   "source": [
    "Example run:\n",
    "```python\n",
    "Integer division of 23 with 4 yields 5\n",
    "The square of 3 is 9\n",
    "```"
   ]
  },
  {
   "cell_type": "markdown",
   "metadata": {
    "deletable": false,
    "editable": false,
    "run_control": {
     "frozen": true
    }
   },
   "source": [
    "## c)"
   ]
  },
  {
   "cell_type": "markdown",
   "metadata": {
    "deletable": false,
    "editable": false,
    "run_control": {
     "frozen": true
    }
   },
   "source": [
    "Both functions in b) have a variable named num. Can this cause any potential problems in the code? Why/Why not?\n",
    "\n",
    "***Double click on the text below and write your answer in the box that appears***"
   ]
  },
  {
   "cell_type": "markdown",
   "metadata": {},
   "source": [
    "Answer: < double click here >"
   ]
  }
 ],
 "metadata": {
  "kernelspec": {
   "display_name": "Python 3",
   "language": "python",
   "name": "python3"
  },
  "language_info": {
   "codemirror_mode": {
    "name": "ipython",
    "version": 3
   },
   "file_extension": ".py",
   "mimetype": "text/x-python",
   "name": "python",
   "nbconvert_exporter": "python",
   "pygments_lexer": "ipython3",
   "version": "3.7.1"
  },
  "toc": {
   "base_numbering": 1,
   "nav_menu": {},
   "number_sections": false,
   "sideBar": true,
   "skip_h1_title": false,
   "title_cell": "Table of Contents",
   "title_sidebar": "Contents",
   "toc_cell": false,
   "toc_position": {},
   "toc_section_display": true,
   "toc_window_display": false
  }
 },
 "nbformat": 4,
 "nbformat_minor": 2
}
