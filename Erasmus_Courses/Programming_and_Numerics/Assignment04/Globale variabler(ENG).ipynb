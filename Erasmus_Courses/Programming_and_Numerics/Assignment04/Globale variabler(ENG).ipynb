{
 "cells": [
  {
   "cell_type": "markdown",
   "metadata": {
    "Collapsed": "false",
    "deletable": false,
    "editable": false,
    "run_control": {
     "frozen": true
    }
   },
   "source": [
    "# Global variables\n",
    "\n",
    "**Learning goals:**\n",
    "- Functions\n",
    "\n",
    "**Starting Out with Python:**\n",
    "- Chapt. 5.6"
   ]
  },
  {
   "cell_type": "markdown",
   "metadata": {
    "Collapsed": "false",
    "deletable": false,
    "editable": false,
    "heading_collapsed": true,
    "run_control": {
     "frozen": true
    }
   },
   "source": [
    "## Overview of global variables\n",
    "\n",
    "It is recommended to read through this section before you move on."
   ]
  },
  {
   "cell_type": "markdown",
   "metadata": {
    "Collapsed": "false",
    "deletable": false,
    "editable": false,
    "hidden": true,
    "run_control": {
     "frozen": true
    }
   },
   "source": [
    "A global variable is a variable which can be accessed by all functions in a program, by creating it outside the function. Global variables can for instance be used to store data you need to remember throughout the execution of the entire program. Even though use of global variables can be practical, it is often better to use local variables in for instance a main-function, and then pass these variables to other functions when needed. The downside of having functions using global variables, is the loss of predictability. The functions will no longer behave as mathematical functions that always output the same given the same input, but could behave differently depending on the state of the global variables which the function uses. This means in practice that global variables are most often used to save constants; that is variables that can only be read, and not modified. Such variables are usually named in only upper case letters."
   ]
  },
  {
   "cell_type": "code",
   "execution_count": null,
   "metadata": {
    "Collapsed": "false",
    "hidden": true
   },
   "outputs": [],
   "source": [
    "# EXAMPLE OF GLOBAL VARIABLES USED TO STORE CONSTANTS\n",
    "# It is worth to note that this constant is also \n",
    "# defined in Pythons built in math library.\n",
    "PI = 3.1415926\n",
    "  \n",
    "# A function which finds the circumference of a circle of a given radius\n",
    "def omkrets(radius):\n",
    "    return 2 * PI * radius\n",
    "  \n",
    "# A function which find the area of a circle of a given radius\n",
    "def areal(radius):\n",
    "    return PI * radius ** 2"
   ]
  },
  {
   "cell_type": "markdown",
   "metadata": {
    "Collapsed": "false",
    "deletable": false,
    "editable": false,
    "hidden": true,
    "run_control": {
     "frozen": true
    }
   },
   "source": [
    "As mentioned, it is possible to change global variables. In order to do this, you must explicitly inform that you are going to use a global variable by using the modifier `global`. This is demonstrated in the example below, where the value is set in the call to the function a which remains the same, even if b also changes the variable with the same name and runs after function a runs. What is happening here, is that in b the number is stored in a local variable with the same name."
   ]
  },
  {
   "cell_type": "code",
   "execution_count": null,
   "metadata": {
    "Collapsed": "false",
    "hidden": true
   },
   "outputs": [],
   "source": [
    "# HOW TO CHANGE GLOBAL VARIABLES\n",
    "stored_number = 30\n",
    "  \n",
    "def a():\n",
    "    global stored_number\n",
    "    stored_number = 20 #CHANGES GLOBAL VARIABLE\n",
    "\n",
    "def b():\n",
    "    stored_number = 10 #ASSIGNS VALUE 10 TO LOCAL VARIABLE\n",
    "\n",
    "a()\n",
    "b()\n",
    "  \n",
    "print(stored_number) # => 20"
   ]
  },
  {
   "cell_type": "markdown",
   "metadata": {
    "Collapsed": "false",
    "deletable": false,
    "editable": false,
    "heading_collapsed": true,
    "run_control": {
     "frozen": true
    }
   },
   "source": [
    "## Functions with optional arguments\n",
    "It could be useful to read through this before you move on"
   ]
  },
  {
   "cell_type": "markdown",
   "metadata": {
    "Collapsed": "false",
    "deletable": false,
    "editable": false,
    "hidden": true,
    "run_control": {
     "frozen": true
    }
   },
   "source": [
    "In Python it is possible for a function argument to have a default value. If a function is called without a value specified for this argument, the argument will be assigned the default value -- the code can still run, even if the function is provided with fewer arguments than expected. You can define that a function has default values in the way as shown below."
   ]
  },
  {
   "cell_type": "code",
   "execution_count": null,
   "metadata": {
    "Collapsed": "false",
    "ExecuteTime": {
     "end_time": "2019-07-03T07:48:09.688244Z",
     "start_time": "2019-07-03T07:48:09.677730Z"
    },
    "hidden": true
   },
   "outputs": [],
   "source": [
    "# Prints the name of the user with a capital letter at the start of each word\n",
    "def pretty_print_name(name, message = 'Hi'):\n",
    "    print(message, name.title())\n",
    "    \n",
    "pretty_print_name('ola nOrDMaNN')\n",
    "pretty_print_name('OLA Nordmann', 'Hello')"
   ]
  },
  {
   "cell_type": "markdown",
   "metadata": {
    "Collapsed": "false",
    "deletable": false,
    "editable": false,
    "run_control": {
     "frozen": true
    }
   },
   "source": [
    "## a) Storing constants"
   ]
  },
  {
   "cell_type": "markdown",
   "metadata": {
    "Collapsed": "false",
    "deletable": false,
    "editable": false,
    "run_control": {
     "frozen": true
    }
   },
   "source": [
    "\n",
    "The gravitational acceleration $g$ on the surface of the earth is approximately $9.81 m/s^2$. For our purposes, this can be assumed to be constant. The time it takes for an object in free fall to fall $d$ meters is given by the formula\n",
    "\n",
    "\\begin{equation*}\n",
    "t = \\sqrt{\\frac{2d}{g}}\n",
    "\\end{equation*}\n",
    "where $g$ is the gravitational constant as given prior.\n",
    "\n",
    "In this sub task you are going to store the gravitational constant in a global variable with the name `GRAVITY` at the top of your program. Then you are going to create a function `get_fall_time`which takes in a given amount of meters, and uses the formula given over in order to calculate how long it takes for the object to fall the specified distance. Finally let your program ask the user for a fall instance in meters, and use the function you created in order to calculate how long it takes for it to fall the given distance. Print out the result.\n",
    "\n",
    "***Write your code in the code block below***"
   ]
  },
  {
   "cell_type": "code",
   "execution_count": null,
   "metadata": {
    "Collapsed": "false"
   },
   "outputs": [],
   "source": []
  },
  {
   "cell_type": "markdown",
   "metadata": {
    "Collapsed": "false",
    "deletable": false,
    "editable": false,
    "run_control": {
     "frozen": true
    }
   },
   "source": [
    "Example run:\n",
    "```python\n",
    "The number of meters the object should fall: 20\n",
    "It takes 2.019275109384609 seconds to fall 20 meters\n",
    "```"
   ]
  },
  {
   "cell_type": "markdown",
   "metadata": {
    "Collapsed": "false",
    "deletable": false,
    "editable": false,
    "run_control": {
     "frozen": true
    }
   },
   "source": [
    "## b) Updating a global variable\n",
    "\n",
    "In this task, we want to have functionality that can change the value of the gravitational acceleration, as it is not constant over the entire surface of the earth. Furthermore, it will be different, for instance, on the moon. One way of solving this would be by introducing a new function that lets the user overwrite the value of the global variable, as shown in the following example.\n",
    "```python\n",
    "def set_gravity(gravity):\n",
    "  global GRAVITY\n",
    "  GRAVITY = gravity\n",
    " \n",
    "set_gravity(9.67)\n",
    " \n",
    "print(get_fall_time(20)) # => 1.4381419703158196\n",
    "```\n",
    "Do you think this is a good solution to the problem? ***Explain!***\n",
    "\n",
    "***Double click on the text below and write your answer in the field which appears***"
   ]
  },
  {
   "cell_type": "markdown",
   "metadata": {
    "Collapsed": "false"
   },
   "source": [
    "**Answer** : < double click here >"
   ]
  },
  {
   "cell_type": "markdown",
   "metadata": {
    "Collapsed": "false",
    "deletable": false,
    "editable": false,
    "run_control": {
     "frozen": true
    }
   },
   "source": [
    "In addition you are going to rewrite your function from a so that it takes in an extra parameter which lets you specify the value of the gravitational acceleration. The parameter could have the constant GRAVITY as default value. Below it is demonstrated how the new function could be used:\n",
    "\n",
    ">```python\n",
    "print(get_fall_time(20)) # => 2.019275109384609\n",
    "print(get_fall_time(20, 1.62)) # => 4.969039949999533\n",
    "```\n",
    "\n",
    "***Copy and paste your code from a) below and modify it according to the description above***"
   ]
  },
  {
   "cell_type": "code",
   "execution_count": null,
   "metadata": {
    "Collapsed": "false"
   },
   "outputs": [],
   "source": []
  },
  {
   "cell_type": "markdown",
   "metadata": {
    "Collapsed": "false",
    "deletable": false,
    "editable": false,
    "run_control": {
     "frozen": true
    }
   },
   "source": [
    "You can test your function with the following code, which should yield the same result as the demonstration above (remember to run the function in the code block above before you run the block below so that the function is updated)"
   ]
  },
  {
   "cell_type": "code",
   "execution_count": null,
   "metadata": {
    "Collapsed": "false"
   },
   "outputs": [],
   "source": [
    "print(get_fall_time(20))\n",
    "print(get_fall_time(20, 1.62))"
   ]
  }
 ],
 "metadata": {
  "kernelspec": {
   "display_name": "Python 3",
   "language": "python",
   "name": "python3"
  },
  "language_info": {
   "codemirror_mode": {
    "name": "ipython",
    "version": 3
   },
   "file_extension": ".py",
   "mimetype": "text/x-python",
   "name": "python",
   "nbconvert_exporter": "python",
   "pygments_lexer": "ipython3",
   "version": "3.7.1"
  },
  "toc": {
   "base_numbering": 1,
   "nav_menu": {},
   "number_sections": false,
   "sideBar": true,
   "skip_h1_title": false,
   "title_cell": "Table of Contents",
   "title_sidebar": "Contents",
   "toc_cell": false,
   "toc_position": {},
   "toc_section_display": true,
   "toc_window_display": true
  }
 },
 "nbformat": 4,
 "nbformat_minor": 4
}
