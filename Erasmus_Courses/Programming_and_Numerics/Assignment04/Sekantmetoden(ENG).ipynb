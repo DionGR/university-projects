{
 "cells": [
  {
   "cell_type": "markdown",
   "metadata": {},
   "source": [
    "> Dionysios Rigatos <br />\n",
    "> dionysir@stud.ntnu.no <br />"
   ]
  },
  {
   "cell_type": "markdown",
   "metadata": {},
   "source": [
    "[Back to Assignment 5](_Oving5.ipynb)\n",
    "\n",
    "# The Secant Method\n",
    "\n",
    "**Læringsmål:**\n",
    "- functions\n",
    "- loops\n",
    "\n",
    "**Starting Out with Python:**\n",
    "- ch. 4.2-4.3\n",
    "- ch. 5.5\n",
    "- ch. 5.8-5.9\n",
    "\n",
    "In this task we will implement the Secant method in Python\n",
    "\n",
    "The Secant method can be used to find the roots of a mathematical function. The roots of a mathematical function is where $f(x) = 0$, i.e. where the graph crosses the x-axis. \n",
    "\n",
    "The secant method is defined by the recurrence relation:\n",
    "\n",
    "$x_{k+1}=x_k-f(x_k)\\frac{x_k-x_{k-1}}{f(x_k)-f(x_{k-1})}$"
   ]
  },
  {
   "cell_type": "markdown",
   "metadata": {
    "deletable": false,
    "editable": false,
    "run_control": {
     "frozen": true
    }
   },
   "source": [
    "## a)"
   ]
  },
  {
   "cell_type": "markdown",
   "metadata": {
    "deletable": false,
    "editable": false,
    "run_control": {
     "frozen": true
    }
   },
   "source": [
    "Write a function `f` with argument `x` that returns the value of the following equation:\n",
    "\n",
    "$f(x)=(x-12)e^{x/2}-8(x+2)^{2}$.\n",
    "\n",
    "Write another function `g` with argument `x` that reuturns the value of:\n",
    "\n",
    "$g(x)=-x-2x^{2}-5x^{3}+6x^{4}$.\n",
    "\n",
    "***Write the code in the block below***"
   ]
  },
  {
   "cell_type": "code",
   "execution_count": 26,
   "metadata": {},
   "outputs": [],
   "source": [
    "import math\n",
    "\n",
    "def f(x):\n",
    "    return (x-12)*math.e**(x/2) - 8*(x+2)**2\n",
    "\n",
    "def g(x):\n",
    "    return -x - 2*x**2 - 5 * x**3 + 6*x**4"
   ]
  },
  {
   "cell_type": "code",
   "execution_count": 27,
   "metadata": {},
   "outputs": [
    {
     "name": "stdout",
     "output_type": "stream",
     "text": [
      "-44.0\n",
      "-2\n"
     ]
    }
   ],
   "source": [
    "print(f(0))\n",
    "print(g(1))"
   ]
  },
  {
   "cell_type": "markdown",
   "metadata": {
    "deletable": false,
    "editable": false,
    "run_control": {
     "frozen": true
    }
   },
   "source": [
    "You should test your code by trying the functions with different values. E.g. check that `f(0)` returns`-44` and `g(1)` returns `-2`."
   ]
  },
  {
   "cell_type": "markdown",
   "metadata": {
    "deletable": false,
    "editable": false,
    "run_control": {
     "frozen": true
    }
   },
   "source": [
    "## b)"
   ]
  },
  {
   "cell_type": "markdown",
   "metadata": {
    "deletable": false,
    "editable": false,
    "run_control": {
     "frozen": true
    }
   },
   "source": [
    "The Secant method is an approximation of Newton's method:\n",
    "\n",
    "$x_{k+1}=x_{k}-\\frac{f(x_{k})}{f'(x_{k})}$ where\n",
    "\n",
    "$f'(x_k) \\approx \\frac{f(x_{k})- f(x_{k-1})}{x_{k}-x_{k-1}}$\n",
    "\n",
    "Write a function `differentiate(x_k, x_k1, func)` which uses the formula for the approximated (**f'(x)**) given in the task description to differentiate. The function should take three arguments: `x_k`, `x_k1` and `func`, and return the derivative value (a float):\n",
    "\n",
    "- `x_k`: the point at which we want to find the derivative\n",
    "- `x_k1`: an earlier point which we use to find a slope\n",
    "- `func`: the function we want to differentiate(in this task `func` will allways be either `f` or `g` from **a)**)\n",
    "\n",
    "***Write the code in the block below***"
   ]
  },
  {
   "cell_type": "code",
   "execution_count": 28,
   "metadata": {},
   "outputs": [],
   "source": [
    "def differentiate(x_k, x_k1, func):\n",
    "    return (func(x_k1) - func(x_k))/(x_k1 - x_k)"
   ]
  },
  {
   "cell_type": "markdown",
   "metadata": {
    "deletable": false,
    "editable": false,
    "run_control": {
     "frozen": true
    }
   },
   "source": [
    "Test it by running `differentiate(9,10,f)`. This should return: `-210.7749243035878`"
   ]
  },
  {
   "cell_type": "code",
   "execution_count": 29,
   "metadata": {},
   "outputs": [
    {
     "name": "stdout",
     "output_type": "stream",
     "text": [
      "-210.7749243035878\n"
     ]
    }
   ],
   "source": [
    "print(differentiate(9, 10, f))"
   ]
  },
  {
   "cell_type": "markdown",
   "metadata": {
    "deletable": false,
    "editable": false,
    "run_control": {
     "frozen": true
    }
   },
   "source": [
    "## c)"
   ]
  },
  {
   "cell_type": "markdown",
   "metadata": {
    "deletable": false,
    "editable": false,
    "hide_input": true,
    "run_control": {
     "frozen": true
    }
   },
   "source": [
    "Write a function `secant_method(x0, x1, func, tol)` which uses `differentiate(x_k, x_k1, func)` to implement the Secant method. The function should return (stop iterating) when the change in `x` is less than the tolerance limit `tol`.\n",
    "\n",
    "Test your function with the following values:\n",
    "```python\n",
    "secant_method(11,13,f,0.00001)\n",
    "secant_method(1,2,g,0.00001)\n",
    "secant_method(0,1,g,0.00001)\n",
    "```\n",
    "\n",
    "***Write the code in the block below***"
   ]
  },
  {
   "cell_type": "code",
   "execution_count": 30,
   "metadata": {},
   "outputs": [],
   "source": [
    "def secant_method(x0, x1, func, tol):\n",
    "    while abs(x1 - x0) > tol:\n",
    "        x2 = x1 - func(x1) * differentiate(x0, x1, func) ** -1\n",
    "        x0 = x1 \n",
    "        x1 = x2\n",
    "    print(f\"The function is close to a root when x = {round(x1, 2)}, with value f(x) = {func(x1)}\")"
   ]
  },
  {
   "cell_type": "code",
   "execution_count": 31,
   "metadata": {},
   "outputs": [
    {
     "name": "stdout",
     "output_type": "stream",
     "text": [
      "The function is close to a root when x = 13.92, with value f(x) = -1.587634187671938e-06\n",
      "The function is close to a root when x = 1.22, with value f(x) = -9.66315703010423e-08\n",
      "The function is close to a root when x = 0.0, with value f(x) = 0.0\n"
     ]
    }
   ],
   "source": [
    "secant_method(11, 13, f, 0.00001)\n",
    "secant_method(1, 2, g, 0.00001)\n",
    "secant_method(0, 1, g, 0.00001)"
   ]
  },
  {
   "cell_type": "markdown",
   "metadata": {
    "deletable": false,
    "editable": false,
    "run_control": {
     "frozen": true
    }
   },
   "source": [
    "**Example run:**\n",
    "```\n",
    "The function is close to a root when x = 13.92 , with value f(x) =  -1.59e-06\n",
    "The function is close to a root when x =  1.22 , with value f(x) =  -9.66e-08\n",
    "The function is close to a root when x =  0.0  , with value f(x) =  0.0\n",
    "```"
   ]
  },
  {
   "cell_type": "markdown",
   "metadata": {
    "deletable": false,
    "editable": false,
    "heading_collapsed": true,
    "run_control": {
     "frozen": true
    }
   },
   "source": [
    "#### Hint"
   ]
  },
  {
   "cell_type": "markdown",
   "metadata": {
    "deletable": false,
    "editable": false,
    "hidden": true,
    "run_control": {
     "frozen": true
    }
   },
   "source": [
    "As you can see, the secant method needs two previous points to find a new one. Be sure to replace the points as needed."
   ]
  }
 ],
 "metadata": {
  "kernelspec": {
   "display_name": "Python 3",
   "language": "python",
   "name": "python3"
  },
  "language_info": {
   "codemirror_mode": {
    "name": "ipython",
    "version": 3
   },
   "file_extension": ".py",
   "mimetype": "text/x-python",
   "name": "python",
   "nbconvert_exporter": "python",
   "pygments_lexer": "ipython3",
   "version": "3.10.4"
  },
  "toc": {
   "base_numbering": 1,
   "nav_menu": {},
   "number_sections": false,
   "sideBar": true,
   "skip_h1_title": false,
   "title_cell": "Table of Contents",
   "title_sidebar": "Contents",
   "toc_cell": false,
   "toc_position": {},
   "toc_section_display": true,
   "toc_window_display": false
  }
 },
 "nbformat": 4,
 "nbformat_minor": 2
}
