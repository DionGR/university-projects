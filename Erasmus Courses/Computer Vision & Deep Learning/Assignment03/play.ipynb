{
 "cells": [
  {
   "cell_type": "markdown",
   "metadata": {},
   "source": [
    "This is a simple example on how you can use a jupyter notebook to train your model :) "
   ]
  },
  {
   "cell_type": "code",
   "execution_count": 3,
   "metadata": {},
   "outputs": [],
   "source": [
    "import scipy.ndimage \n",
    "import numpy as np"
   ]
  },
  {
   "cell_type": "code",
   "execution_count": 5,
   "metadata": {},
   "outputs": [
    {
     "data": {
      "text/plain": [
       "array([[ 11,  -2,  -4,   1,  -7],\n",
       "       [ 24,  -8, -12,   5, -12],\n",
       "       [ 19, -10,  -4,   3, -15]])"
      ]
     },
     "execution_count": 5,
     "metadata": {},
     "output_type": "execute_result"
    }
   ],
   "source": [
    "X = np.array([[2,1, 2, 3, 1],[3, 9, 1, 1, 4],[4, 5, 0, 7, 0]])\n",
    "Y = np.array([[-1, 0, 1],\n",
    "              [-2, 0, 2],\n",
    "              [-1, 0, 1]])\n",
    "\n",
    "scipy.ndimage.convolve(X, Y, mode='constant')"
   ]
  }
 ],
 "metadata": {
  "kernelspec": {
   "display_name": "Python 3",
   "language": "python",
   "name": "python3"
  },
  "language_info": {
   "codemirror_mode": {
    "name": "ipython",
    "version": 3
   },
   "file_extension": ".py",
   "mimetype": "text/x-python",
   "name": "python",
   "nbconvert_exporter": "python",
   "pygments_lexer": "ipython3",
   "version": "3.10.12"
  }
 },
 "nbformat": 4,
 "nbformat_minor": 4
}
