{
 "cells": [
  {
   "cell_type": "code",
   "execution_count": null,
   "metadata": {},
   "outputs": [],
   "source": [
    "import sys, os\n",
    "sys.path.append(os.path.dirname(os.getcwd())) # Include ../SSD in path\n",
    "import tops\n",
    "import matplotlib.pyplot as plt\n",
    "import pathlib\n",
    "from ssd.utils import load_config"
   ]
  },
  {
   "cell_type": "code",
   "execution_count": null,
   "metadata": {},
   "outputs": [],
   "source": [
    "cfg = load_config(\"../configs/ssd300.py\")\n",
    "logs = tops.logger.read_logs(pathlib.Path(\"../outputs/ssd300\"))"
   ]
  },
  {
   "cell_type": "code",
   "execution_count": null,
   "metadata": {},
   "outputs": [],
   "source": [
    "# The log is formatted as a list of dictionaries\n",
    "print(logs[:10])"
   ]
  },
  {
   "cell_type": "code",
   "execution_count": null,
   "metadata": {},
   "outputs": [],
   "source": [
    "# We are saving logs to disk every 10th iteration, thus we need to filter out all entries without a loss\n",
    "loss_entries = [entry for entry in logs if \"loss/regression_loss\" in entry]"
   ]
  },
  {
   "cell_type": "code",
   "execution_count": null,
   "metadata": {},
   "outputs": [],
   "source": [
    "plt.plot([entry[\"global_step\"] for entry in loss_entries], [entry[\"loss/regression_loss\"] for entry in loss_entries])\n",
    "plt.ylabel(\"Regression loss\")\n",
    "plt.xlabel(\"Global step (number of batches trained on)\")"
   ]
  }
 ],
 "metadata": {
  "kernelspec": {
   "display_name": "Python 3 (ipykernel)",
   "language": "python",
   "name": "python3"
  },
  "language_info": {
   "codemirror_mode": {
    "name": "ipython",
    "version": 3
   },
   "file_extension": ".py",
   "mimetype": "text/x-python",
   "name": "python",
   "nbconvert_exporter": "python",
   "pygments_lexer": "ipython3",
   "version": "3.10.13"
  }
 },
 "nbformat": 4,
 "nbformat_minor": 4
}
